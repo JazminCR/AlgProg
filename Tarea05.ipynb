{
  "nbformat": 4,
  "nbformat_minor": 0,
  "metadata": {
    "colab": {
      "provenance": [],
      "include_colab_link": true
    },
    "kernelspec": {
      "name": "python3",
      "display_name": "Python 3"
    },
    "language_info": {
      "name": "python"
    }
  },
  "cells": [
    {
      "cell_type": "markdown",
      "metadata": {
        "id": "view-in-github",
        "colab_type": "text"
      },
      "source": [
        "<a href=\"https://colab.research.google.com/github/JazminCaruso/AyP-Python/blob/main/Jazm%C3%ADn_Caruso_Rojo_Tarea05.ipynb\" target=\"_parent\"><img src=\"https://colab.research.google.com/assets/colab-badge.svg\" alt=\"Open In Colab\"/></a>"
      ]
    },
    {
      "cell_type": "markdown",
      "metadata": {
        "id": "KUzZLe5yYuKV"
      },
      "source": [
        "### **TAREA 5**\n",
        "\n",
        "El propósito de esta tarea es ejercitar el uso del ciclo mientras. En  esta tarea vas a tener que definir dos funciones. La primera de ellas debe calcular la parte entera de la raíz cuadrada de un número dado. La segunda, el primer divisor no trivial de un número entero dado mayor que 1.\n",
        "\n",
        "**IMPORTANTE**\n",
        "- La tarea debe entregarse en este archivo, completando las celdas de código correspondientes.\n",
        "- El código que incorpores *debe* poder ejecutarse en *este* Colab, en caso contrario el ejercicio ***será inválido***. Por favor,  verificá que el código se ejecute sin errores (aún en el caso en que la solución no sea del todo correcta).\n",
        "- Al clicar \"Ejecutar celda\" (el triangulito blanco) en las celdas donde están los test deberían devolverse los resultados correctos.\n",
        "- En estos ejercicios **no está permitido** importar ninguna biblioteca.\n",
        "\n",
        "**IMPORTANTE 2**\n",
        "- Escribí las pre y post condiciones.\n",
        "- Incluí `assert` para comprobar el buen tipado del argumento y el cumplimiento de la precondición.\n",
        "- No olvides organizar tu programa incluyendo comentarios, espacios y sangrías de manera adecuada. \n",
        "- Seguí las convenciones respecto de nombres de variables, funciones y constantes.\n",
        "- Evitar la utilización de funciones sofisticadas de Python."
      ]
    },
    {
      "cell_type": "markdown",
      "metadata": {
        "id": "P3vbd5lEZLkp"
      },
      "source": [
        "**Ejercicio 1: raíz cuadrada entera**\n",
        "\n",
        "A los fines de este ejercicio, decimos que $r$ es la raíz cuadrada de un número entero o real $x \\geq 0$, si $r \\geq 0$ y $r^2 = x$. No siempre $r$ será un número entero, sabés que no existe un número racional $r$ tal que $r^2 = 2$.\n",
        "\n",
        "En este ejercicio debés definir una función que devuelva **la raíz cuadrada entera** de un número entero o real dado $x$, no negativo. Es decir, debe devolver un número entero $r$ tal que $r^2 \\leq x < (r+1)^2$. \n",
        "\n",
        "Definir la función\n",
        "\n",
        "        raiz_cuadrada_entera(x: (int, float)) -> int\n",
        "\n",
        "que recibe un entero o real no negativo `x` y devuelve el entero `r` tal que `r ** 2 <= x < (r+1) ** 2`. \n",
        "\n",
        "_Ejemplos._ \n",
        "\n",
        "- Si ejecuto `raiz_cuadrada(0)` la función devuelve `0`   \n",
        "- Si ejecuto `raiz_cuadrada(3.9)` la función devuelve `1`   \n",
        "- Si ejecuto `raiz_cuadrada(4)` la función devuelve `2` \n",
        "\n",
        "_Observación_ La función debe recibir un número entero o real, verificalo con la instrucción `assert`."
      ]
    },
    {
      "cell_type": "code",
      "metadata": {
        "id": "UoPlWxSEabwT"
      },
      "source": [
        "def raiz_cuadrada(x: (int, float)) -> int:\n",
        "  \n",
        "  # condiciones para que la función se ejecute correctamente\n",
        "    # pre: x >= 0\n",
        "    # post: devuelve r == int tal que r > 0 y r ** 2 <= x < (r+1) ** 2\n",
        "    assert x >= 0, 'Error en la invocación: el argumento dede ser entero o real, mayor o igual a cero'\n",
        "\n",
        "  # planteo y definición de la función\n",
        "    r = (int(x))\n",
        "    y = (r + 1) // 2\n",
        "    while y < r:\n",
        "        r = y\n",
        "        y = (r + x // r) // 2\n",
        "    return r\n",
        "    "
      ],
      "execution_count": null,
      "outputs": []
    },
    {
      "cell_type": "code",
      "metadata": {
        "id": "mWa2PhypccI9",
        "colab": {
          "base_uri": "https://localhost:8080/"
        },
        "outputId": "68a2ec6c-48f1-487e-d73d-844fbb4ded24"
      },
      "source": [
        "# Tests\n",
        "print(raiz_cuadrada(0)) # imprime 0\n",
        "print(raiz_cuadrada(0.99)) # imprime 0\n",
        "print(raiz_cuadrada(1.0)) # imprime 1\n",
        "print(raiz_cuadrada(7)) # imprime 2\n",
        "print(raiz_cuadrada(9999)) # imprime 99\n",
        "# print(raiz_cuadrada(-3)) # falla"
      ],
      "execution_count": null,
      "outputs": [
        {
          "output_type": "stream",
          "text": [
            "0\n",
            "0\n",
            "1\n",
            "2\n",
            "99\n"
          ],
          "name": "stdout"
        }
      ]
    },
    {
      "cell_type": "markdown",
      "metadata": {
        "id": "PyO0np2ge7Wy"
      },
      "source": [
        "**Ejercicio 2: Menor divisor**\n",
        "\n",
        "En este ejercicio debemos definir una función que devuelva el menor divisor mayor que 1 de un número entero mayor que 1 dado.  \n",
        "\n",
        "Definir la función\n",
        "\n",
        "        menor_divisor(n: int) -> int\n",
        "\n",
        "que recibe un número entero `n` mayor que 1 y devuelve el menor número entero mayor que 1 que divide a `n`.\n"
      ]
    },
    {
      "cell_type": "code",
      "metadata": {
        "id": "NkjcxNlklQFX"
      },
      "source": [
        "def menor_divisor(n: int) -> int:\n",
        "\n",
        "  # condiciones para que la función se ejecute correctamente\n",
        "    # pre: n == int and n > 1\n",
        "    # post: devuelve el menor número == int y > 1 que divide a n \n",
        "    assert type(n) == int and n > 1, 'Error en la invocación: el argumento dede ser entero mayor a uno'\n",
        "  \n",
        "  # planteo y definición de la función\n",
        "    divisor = 2\n",
        "    while n % divisor != 0:\n",
        "      divisor += 1\n",
        "    return divisor\n",
        "\n",
        "  "
      ],
      "execution_count": null,
      "outputs": []
    },
    {
      "cell_type": "code",
      "metadata": {
        "id": "2ta-xGf72s-5",
        "colab": {
          "base_uri": "https://localhost:8080/"
        },
        "outputId": "859fed9e-d8e9-49b5-a3fe-ef4f40c20b39"
      },
      "source": [
        "# Tests\n",
        "print(menor_divisor(2)) # 2\n",
        "print(menor_divisor(4)) # 2\n",
        "print(menor_divisor(2401)) # 7\n",
        "print(menor_divisor(5171)) # 5171\n",
        "print(menor_divisor(9409)) # 97 \n",
        "# print(menor_divisor(1)) # falla\n",
        "# print(menor_divisor(0)) # falla"
      ],
      "execution_count": null,
      "outputs": [
        {
          "output_type": "stream",
          "text": [
            "2\n",
            "2\n",
            "7\n",
            "5171\n",
            "97\n"
          ],
          "name": "stdout"
        }
      ]
    }
  ]
}