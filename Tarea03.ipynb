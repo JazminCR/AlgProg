{
  "nbformat": 4,
  "nbformat_minor": 0,
  "metadata": {
    "colab": {
      "provenance": [],
      "include_colab_link": true
    },
    "kernelspec": {
      "name": "python3",
      "display_name": "Python 3"
    },
    "language_info": {
      "name": "python"
    }
  },
  "cells": [
    {
      "cell_type": "markdown",
      "metadata": {
        "id": "view-in-github",
        "colab_type": "text"
      },
      "source": [
        "<a href=\"https://colab.research.google.com/github/JazminCaruso/AyP-Python/blob/main/Jazm%C3%ADn_Caruso_Rojo_Tarea03.ipynb\" target=\"_parent\"><img src=\"https://colab.research.google.com/assets/colab-badge.svg\" alt=\"Open In Colab\"/></a>"
      ]
    },
    {
      "cell_type": "markdown",
      "metadata": {
        "id": "NL-pEC3AgMDR"
      },
      "source": [
        "### **TAREA 3**\n",
        "\n",
        "En  esta tarea vas a tener que definir dos funciones. La primera de ellas calcula la suma de los primeros números impares. La segunda, verifica si una hora determinada del día tiene un formato válido.  \n",
        "\n",
        "**IMPORTANTE**\n",
        "- La tarea debe entregarse en este archivo, completando las celdas de código correspondientes.\n",
        "- El código que ustedes incorporen *debe* poder ejecutarse en *este* Colab, en caso contrario el ejercicio ***será inválido***. Por favor,  verifiquen que el código se ejecute sin errores (aunque quizás la solución no sea del todo correcta).\n",
        "- Al clicar \"Ejecutar celda\" (el triangulito blanco) en las celdas donde están los test deberían devolverse los resultados correctos.\n",
        "\n",
        "**IMPORTANTE 2**\n",
        "- No olvides organizar tu programa incluyendo comentarios, espacios y sangrías de manera adecuada. \n",
        "- Seguí las convenciones respecto de nombres de variables, funciones y constantes.\n",
        "- Evitar la utilización de funciones sofisticadas de Python. \n"
      ]
    },
    {
      "cell_type": "markdown",
      "metadata": {
        "id": "-2PAHM9rhQfh"
      },
      "source": [
        "**Ejercicio 1**\n",
        "\n",
        "Definir la función\n",
        "\n",
        "        suma_impares(n: int) -> int\n",
        "\n",
        "que devuelve la suma de los números impares entre $1$ y $n$.     \n",
        "\n",
        "\n",
        "_Ejemplos._ \n",
        "\n",
        "- Si ejecuto `suma_impares(1)` la función devuelve `1`   \n",
        "- Si ejecuto `suma_impares(5)` la función devuelve `9 == 1 + 3 + 5`   \n",
        "- Si ejecuto `suma_impares(10)` la función devuelve `25 == 1 + 3 + 5 + 7 + 9` \n"
      ]
    },
    {
      "cell_type": "code",
      "metadata": {
        "id": "7rSivtjAn_cJ"
      },
      "source": [
        "# Escriba el código más abajo\n",
        "\n",
        "def suma_impares(n: int) -> int:\n",
        "    sum = 0\n",
        "  # cantidad de números que tienen que ser tomados en cuenta\n",
        "    for i in range(n + 1):\n",
        "  # condición para que se sumen los impares\n",
        "        if i % 2 != 0:\n",
        "            sum = sum + i\n",
        "    return sum"
      ],
      "execution_count": null,
      "outputs": []
    },
    {
      "cell_type": "code",
      "metadata": {
        "id": "YGc2gT3Ooz5-",
        "colab": {
          "base_uri": "https://localhost:8080/"
        },
        "outputId": "7972bd8a-e4fa-4b92-fbef-b2425025a4fc"
      },
      "source": [
        "# Tests\n",
        "print(suma_impares(1)) # debe devolver 1\n",
        "print(suma_impares(5)) # debe devolver 9\n",
        "print(suma_impares(6)) # debe devolver 9\n",
        "print(suma_impares(10)) # debe devolver 25\n",
        "print(suma_impares(25)) # debe devolver 169\n",
        "print(suma_impares(100)) # debe devolver 2500"
      ],
      "execution_count": null,
      "outputs": [
        {
          "output_type": "stream",
          "text": [
            "1\n",
            "9\n",
            "9\n",
            "25\n",
            "169\n",
            "2500\n"
          ],
          "name": "stdout"
        }
      ]
    },
    {
      "cell_type": "markdown",
      "metadata": {
        "id": "mwvRmo8in1Ty"
      },
      "source": [
        "**Ejercicio 2**\n",
        "\n",
        "Definir la función\n",
        "\n",
        "        control_hora(hora, minuto, segundo: int) -> bool\n",
        "\n",
        "que recibe los tres enteros `hora`, `minuto`, `segundo` y  devuelve `True` sii estos tres números corresponden a una hora del día. Más explícitamente devuelve `True`, sii `hora` es un entero entre 0 y 23 y  `minuto` y `segundo` son enteros entre 0 y 59. En  caso contrario,  devuelve `False`.\n",
        "\n",
        "\n",
        "_Ejemplos._ \n",
        " - print(control_hora(11, 33, 12)) # True\n",
        " - print(control_hora(21, 0, 12)) # True\n",
        " - print(control_hora(0, 0, 12)) # True\n",
        " - print(control_hora(25, 7, 12)) # False\n",
        " - print(control_hora(22, 7, 60)) # False\n",
        " - print(control_hora(20, -7, 12)) # False\n",
        "\n",
        "_Observación._ Se considera que la función _siempre_ recibe tres números enteros. Es decir, no hay que verificar o preocuparse si `hora`, `minuto`, `segundo` son enteros:  se supone que siempre lo serán (cuando son usados en esta función).\n"
      ]
    },
    {
      "cell_type": "code",
      "metadata": {
        "id": "x71tM5xNpCeF"
      },
      "source": [
        "# Escriba el código más abajo\n",
        "\n",
        "def control_hora(hora, minuto, segundo: int) -> bool:\n",
        "  # defino posibles valores de hora, minutos y segundos\n",
        "    dev = 0 <= hora <24 and 0<= minuto <60 and 0<= segundo <60\n",
        "    return dev"
      ],
      "execution_count": null,
      "outputs": []
    },
    {
      "cell_type": "code",
      "metadata": {
        "id": "YN_q1tDlqLxq",
        "colab": {
          "base_uri": "https://localhost:8080/"
        },
        "outputId": "a5a0cfe8-7921-49fb-f7d4-e3d993f53c20"
      },
      "source": [
        "# Tests\n",
        "print(control_hora(11, 33, 12)) # True\n",
        "print(control_hora(11, 60, 12)) # False\n",
        "print(control_hora(21, 0, 12)) # True\n",
        "print(control_hora(0, 0, 12)) # True\n",
        "print(control_hora(25, 7, 12)) # False\n",
        "print(control_hora(20, -7, 12)) # False"
      ],
      "execution_count": null,
      "outputs": [
        {
          "output_type": "stream",
          "text": [
            "True\n",
            "False\n",
            "True\n",
            "True\n",
            "False\n",
            "False\n"
          ],
          "name": "stdout"
        }
      ]
    }
  ]
}