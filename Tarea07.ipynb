{
  "nbformat": 4,
  "nbformat_minor": 0,
  "metadata": {
    "colab": {
      "provenance": [],
      "include_colab_link": true
    },
    "kernelspec": {
      "name": "python3",
      "display_name": "Python 3"
    },
    "language_info": {
      "name": "python"
    }
  },
  "cells": [
    {
      "cell_type": "markdown",
      "metadata": {
        "id": "view-in-github",
        "colab_type": "text"
      },
      "source": [
        "<a href=\"https://colab.research.google.com/github/JazminCaruso/AyP-Python/blob/main/Jazm%C3%ADn_Caruso_Rojo_Tarea07.ipynb\" target=\"_parent\"><img src=\"https://colab.research.google.com/assets/colab-badge.svg\" alt=\"Open In Colab\"/></a>"
      ]
    },
    {
      "cell_type": "markdown",
      "metadata": {
        "id": "KUzZLe5yYuKV"
      },
      "source": [
        "### **TAREA 7**\n",
        "\n",
        "El propósito de esta tarea es ejercitar el uso del ciclo mientras, el uso de listas o arreglos y el problema de la ordenación. En  esta tarea vas a tener que definir dos funciones. La primera de ellas debe determinar si una lista de enteros está ordenada. La segunda función recibe dos listas o arreglos y debe determinar si una es permutación de la otra.\n",
        "\n",
        "**IMPORTANTE**\n",
        "- La tarea debe entregarse en este archivo, completando las celdas de código correspondientes.\n",
        "- El código que incorpores *debe* poder ejecutarse en *este* Colab, en caso contrario el ejercicio ***será inválido***. Por favor,  verificá que el código se ejecute sin errores (aún en el caso en que la solución no sea del todo correcta).\n",
        "- Al clicar \"Ejecutar celda\" (el triangulito blanco) en las celdas donde están los test deberían devolverse los resultados correctos.\n",
        "- En estos ejercicios **no está permitido** importar ninguna biblioteca.\n",
        "\n",
        "**IMPORTANTE 2**\n",
        "- Escribí las pre y post condiciones.\n",
        "- Incluí `assert` para comprobar el buen tipado del argumento y el cumplimiento de la precondición.\n",
        "- No olvides organizar tu programa incluyendo comentarios, espacios y sangrías de manera adecuada. \n",
        "- Seguí las convenciones respecto de nombres de variables, funciones y constantes.\n",
        "- Evitar la utilización de funciones sofisticadas de Python."
      ]
    },
    {
      "cell_type": "markdown",
      "metadata": {
        "id": "PyO0np2ge7Wy"
      },
      "source": [
        "**Ejercicio 1: determinar si una lista o arreglo está ordenada/o**\n",
        "\n",
        "En este ejercicio debemos definir una función que devuelva `True` sii la lista de enteros recibida está ordenada de menor a mayor.  \n",
        "\n",
        "Definir la función\n",
        "\n",
        "        esta_ordenada(lista: list[int]) -> bool\n",
        "\n",
        "que recibe una lista de enteros `[n_1, n_2, ..., n_k]` y debe devolver `True` si y sólo si `n_1 <= n_2 <= ... <= n_k`.\n",
        "\n",
        "Por  ejemplo: \n",
        "\n",
        "- `esta_ordenadada([])` devuelve `True`,\n",
        "- `esta_ordenadada([n])` devuelve `True` cualquiera sea el número entero `n`,\n",
        "- `esta_ordenada([-5, 0, 1, 1, 7])` devuelve `True`, y\n",
        "- `esta_ordenada([1, 2, 3, 4, 3, 5, 6, 7, 8, 9])` devuelve `False`.\n",
        "\n",
        "El ejercicio debe resolverse con un `while` y no está permitido usar ninguna función o método (salvo la función `len()`), solamente la posibilidad de acceder (`lista[_]`) elementos de la lista, y compararlos (<, <=, >, >=, ==, !=). \n",
        "\n",
        "No está permitido modificar las listas recibidas como parámetros, ni interrumpir la ejecución del ciclo con `return`, `break`, etc."
      ]
    },
    {
      "cell_type": "code",
      "metadata": {
        "id": "NkjcxNlklQFX"
      },
      "source": [
        "def esta_ordenada(lista: list) -> bool:\n",
        "\n",
        "  # condiciones para que la función se ejecute correctamente\n",
        "    # pre: recibe una lista de enteros (vacia, de un elemento, o varios)\n",
        "    # post: devuelve True si la lista está ordenada de menor a mayor\n",
        "    assert type(lista) == list and all(type(n) == int for n in lista), 'Error: el argumento dede ser una lista de enteros'\n",
        "\n",
        "  # definir si la lista está ordenada de menor a mayor\n",
        "    i = 1\n",
        "    # la función devuelve True si la lista es vacia o tiene un único elemento\n",
        "    orden = True\n",
        "    # comprobar el orden cuando la lista tiene más de un elemento \n",
        "    while i < len(lista) and orden:\n",
        "          orden = lista[i-1] <= lista[i]\n",
        "          i = i+1\n",
        "    return orden      \n",
        "    "
      ],
      "execution_count": null,
      "outputs": []
    },
    {
      "cell_type": "code",
      "metadata": {
        "id": "2ta-xGf72s-5",
        "colab": {
          "base_uri": "https://localhost:8080/"
        },
        "outputId": "89e58272-34e4-44b5-d3dc-a3b15eaef281"
      },
      "source": [
        "# Tests\n",
        "print(esta_ordenada([])) # True\n",
        "print(esta_ordenada([-17])) # True\n",
        "print(esta_ordenada([-5, 0, 1, 1, 7])) # True\n",
        "print(esta_ordenada([1, 2, 3, 4, 3, 5, 6, 7, 8, 9])) # False"
      ],
      "execution_count": null,
      "outputs": [
        {
          "output_type": "stream",
          "text": [
            "True\n",
            "True\n",
            "True\n",
            "False\n"
          ],
          "name": "stdout"
        }
      ]
    },
    {
      "cell_type": "markdown",
      "metadata": {
        "id": "MmX0zEcPHlg4"
      },
      "source": [
        "**Ejercicio 2: determinar si dos listas son permutación una de la otra**\n",
        "\n",
        "Dadas dos listas `lista1` y `lista2` decimos que una es permutación de la otra sii las listas tienen los mismos elementos (contando repeticiones) salvo, posiblemente, en otro orden. La relación \"es permutación de\" es una relación de equivalencia entre listas: es reflexiva, simétrica y transitiva.\n",
        "\n",
        "Los siguientes pares de listas están en la relación \"es permutación de\":\n",
        "\n",
        "*   `[1, 4, 5, 1]` y `[5, 4, 1, 1]`\n",
        "*   `[1, 2, 3, 4, 5]` y `[5, 4, 3, 2, 1]`\n",
        "\n",
        "Los siguientes pares de listas no están en la relación \"es permutación de\":\n",
        "\n",
        "*   `[1, 4, 5, 1]` y `[5, 4, 4, 1]`\n",
        "*   `[1, 4, 5, 1]` y `[1, 4, 5]`\n",
        "*   `[1, 2, 3, 4, 5]` y `[5, 4, 4, 2, 1]`\n",
        "\n",
        "En este ejercicio debemos definir la función\n",
        "\n",
        "        son_permutacion(lista1, lista2: list[int]) -> bool:\n",
        "\n",
        "que  recibe dos listas de enteros y devuelve True si y sólo si las listas están en la relación \"es permutación de\".\n",
        "\n",
        "El ejercicio debe resolverse con un `while` y no está permitido usar ninguna función o método de listas, salvo la función `len()` y el método `count()` de listas.\n",
        "\n",
        "No está permitido modificar las listas recibidas como parámetros, ni interrumpir la ejecución del ciclo con `return`, `break`, etc."
      ]
    },
    {
      "cell_type": "code",
      "metadata": {
        "id": "-oUMmUWfSx8N"
      },
      "source": [
        "def son_permutacion(lista1, lista2: list) -> bool:\n",
        "\n",
        "  # condiciones para que la función se ejecute correctamente\n",
        "    # pre: recibe dos listas de enteros\n",
        "    # post: devuelve True si las listas están en la relación \"es permutación de\"\n",
        "    assert type(lista1) == list and type(lista2) == list and all(type(n) == int for n in lista1) and all(type(n) == int for n in lista2), 'Error: argumento no esperado'\n",
        "\n",
        "  # determinar si las listas están en relación de permutación\n",
        "    a = True\n",
        "    b = 0 \n",
        "    if len(lista1) != len(lista2):\n",
        "        a = False\n",
        "    while b < len(lista1) and a:\n",
        "        elem = lista1[b]\n",
        "        if lista1.count(elem) != lista2.count(elem):\n",
        "           a = False\n",
        "        b = b + 1\n",
        "    return a"
      ],
      "execution_count": null,
      "outputs": []
    },
    {
      "cell_type": "code",
      "metadata": {
        "id": "jycFvgmGS-p0",
        "colab": {
          "base_uri": "https://localhost:8080/"
        },
        "outputId": "6bbaaf2c-526a-44a4-f2c1-7328e1b916e3"
      },
      "source": [
        "# Tests\n",
        "print(son_permutacion([], [])) # True\n",
        "print(son_permutacion([5], [5])) # True\n",
        "print(son_permutacion([4, 1, 2, 3, 4, 5, 3], [5, 1, 3, 3, 4, 4, 2])) # True\n",
        "print(son_permutacion([4, 1, 1, 2, 4, 5, 3], [5, 1, 3, 3, 4, 4, 2])) # False\n",
        "print(son_permutacion([5], [1])) # False\n",
        "print(son_permutacion([1, 1], [1])) # False"
      ],
      "execution_count": null,
      "outputs": [
        {
          "output_type": "stream",
          "text": [
            "True\n",
            "True\n",
            "True\n",
            "False\n",
            "False\n",
            "False\n"
          ],
          "name": "stdout"
        }
      ]
    }
  ]
}