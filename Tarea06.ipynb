{
  "nbformat": 4,
  "nbformat_minor": 0,
  "metadata": {
    "colab": {
      "provenance": [],
      "include_colab_link": true
    },
    "kernelspec": {
      "name": "python3",
      "display_name": "Python 3"
    },
    "language_info": {
      "name": "python"
    }
  },
  "cells": [
    {
      "cell_type": "markdown",
      "metadata": {
        "id": "view-in-github",
        "colab_type": "text"
      },
      "source": [
        "<a href=\"https://colab.research.google.com/github/JazminCaruso/AyP-Python/blob/main/Jazm%C3%ADn_Caruso_Rojo_Tarea06.ipynb\" target=\"_parent\"><img src=\"https://colab.research.google.com/assets/colab-badge.svg\" alt=\"Open In Colab\"/></a>"
      ]
    },
    {
      "cell_type": "markdown",
      "metadata": {
        "id": "KUzZLe5yYuKV"
      },
      "source": [
        "### **TAREA 6**\n",
        "\n",
        "El propósito de esta tarea es ejercitar el uso del ciclo mientras. En  esta tarea vas a tener que definir dos funciones. La primera de ellas debe devolver la lista de divisores positivos de un entero positivo. La segunda función calcula el máximo común divisor solo con el uso de sumas y restas (sin multiplicaciones ni divisiones).\n",
        "\n",
        "**IMPORTANTE**\n",
        "- La tarea debe entregarse en este archivo, completando las celdas de código correspondientes.\n",
        "- El código que incorpores *debe* poder ejecutarse en *este* Colab, en caso contrario el ejercicio ***será inválido***. Por favor,  verificá que el código se ejecute sin errores (aún en el caso en que la solución no sea del todo correcta).\n",
        "- Al clicar \"Ejecutar celda\" (el triangulito blanco) en las celdas donde están los test deberían devolverse los resultados correctos.\n",
        "- En estos ejercicios **no está permitido** importar ninguna biblioteca.\n",
        "\n",
        "**IMPORTANTE 2**\n",
        "- Escribí las pre y post condiciones.\n",
        "- Incluí `assert` para comprobar el buen tipado del argumento y el cumplimiento de la precondición.\n",
        "- No olvides organizar tu programa incluyendo comentarios, espacios y sangrías de manera adecuada. \n",
        "- Seguí las convenciones respecto de nombres de variables, funciones y constantes.\n",
        "- Evitar la utilización de funciones sofisticadas de Python."
      ]
    },
    {
      "cell_type": "markdown",
      "metadata": {
        "id": "PyO0np2ge7Wy"
      },
      "source": [
        "**Ejercicio 1: divisores de un número**\n",
        "\n",
        "En este ejercicio debemos definir una función que devuelva la lista de los divisores positivos de un entero positivo.  \n",
        "\n",
        "Definir la función\n",
        "\n",
        "        divisores(n: int) -> list\n",
        "\n",
        "que recibe un número entero `n` mayor igual que 1 y devuelve una lista con todos los enteros positivos que dividen a `n`.\n",
        "\n",
        "Por  ejemplo: \n",
        "\n",
        "- `divisores(6)` devuelve `[1, 2, 3, 6]`,\n",
        "- `divisores(21)` devuelve `[1, 3, 7, 21]`, y\n",
        "- `divisores(29)` devuelve `[1, 29]`.\n",
        "\n",
        "El ejercicio debe hacerse con un `while` y no está permitido usar métodos \"complicados\"  en listas: solo definir la lista vacía y usar `append()`. \n"
      ]
    },
    {
      "cell_type": "code",
      "metadata": {
        "id": "NkjcxNlklQFX"
      },
      "source": [
        "# Escribir el código más abajo\n",
        "\n",
        "def divisores(n: int) -> list:\n",
        "    # pre: no te olvides de escribir la precondición\n",
        "    # post: no te olvides de escribir la postcondición\n",
        "    # agregá un assert para comprobar el tipo de x y la precondición\n",
        "\n",
        "    pass # recordá borrar el pass cuando completes la definición de la función"
      ],
      "execution_count": null,
      "outputs": []
    },
    {
      "cell_type": "code",
      "metadata": {
        "id": "2ta-xGf72s-5"
      },
      "source": [
        "# Tests\n",
        "print(divisores(2)) # [1, 2]\n",
        "print(divisores(4)) # [1, 2, 4]\n",
        "print(divisores(2401)) # [1, 7, 49, 343, 2401]\n",
        "print(divisores(5171)) # [1, 5171]\n",
        "print(divisores(9409)) # [1, 97, 9409] \n",
        "# print(divisores(-10)) # falla\n",
        "# print(divisores(22.3)) # falla\n",
        "# print(divisores(10.0)) # falla"
      ],
      "execution_count": null,
      "outputs": []
    },
    {
      "cell_type": "markdown",
      "metadata": {
        "id": "MmX0zEcPHlg4"
      },
      "source": [
        "**Ejercicio 2: máximo común divisor con sumas y restas**\n",
        "\n",
        "Dados $a$, $b$ enteros no negativos, uno de ellos no nulo, denotemos $\\operatorname{mcd}(a,b)$ al máximo común divisor de $a$ y $b$.\n",
        "\n",
        "Una propiedad importante del $\\operatorname{mcd}$ es que se puede calcular a partir de propiedades muy sencillas: si $i$, $j$ son enteros no negativos, entonces\n",
        "\n",
        "1. $\\operatorname{mcd}(i, 0) = i$, \n",
        "2. $ \\operatorname{mcd}(0, j) = j$,\n",
        "2. si $i \\le j$, entonces $\\operatorname{mcd}(i,j) = \\operatorname{mcd}(i, j - i)$,\n",
        "3. si $i > j$, entonces $\\operatorname{mcd}(i,j) = \\operatorname{mcd}(i - j, j)$,\n",
        "\n",
        "\n",
        "Como fue dicho más arriba, esta propiedades nos permiten encontrar el $\\operatorname{mcd}$ solo con sumas y restas. \n",
        "\n",
        "*Ejemplo.*  Encontrar el $\\operatorname{mcd}$ entre $72$ y $174$.\n",
        "\n",
        "||||||||\n",
        "| :--- | :---- | :--- | :---- | :---- | :---- | :---- |\n",
        "|||||||\n",
        "| $(72, 174)$      | $\\stackrel{3.}{=}$       | $(72,174-72)$  |$=$|$(72,102)$|||\n",
        "||$\\stackrel{3.}{=}$|$(72,102 - 72)$|$=$|$(72,30)$|||\n",
        "||$\\stackrel{4.}{=}$|$(72 -30, 30)$|$=$|$(42,30)$|||\n",
        "||$\\stackrel{4.}{=}$|$(42 -30, 30)$|$=$|$(12,30)$|||\n",
        "||$\\stackrel{3.}{=}$|$(12, 30-12)$|$=$|$(12,18)$|||\n",
        "||$\\stackrel{3.}{=}$|$(12, 18-12)$|$=$|$(12,6)$|||\n",
        "||$\\stackrel{4.}{=}$|$(12-6,6)$|$=$|$(6,6)$|||\n",
        "||$\\stackrel{3.}{=}$|$(6, 6-6)$|$=$|$(6,0)$|||\n",
        "||$\\stackrel{1.}{=}$|$6.$|||||\n",
        "| | |  |  | |||\n",
        "\n",
        "Como se ve en el ejemplo, la pareja de números, inicialmente $(72, 174)$, en cada paso se va reduciendo. A veces se reduce uno, a veces se reduce el otro. En algún momento uno de los dos llega a 0. En ese momento el proceso finaliza: el que no es 0, es el resultado deseado.\n",
        "\n",
        "En este ejercicio debemos definir la función\n",
        "\n",
        "        maximo_comun_divisor(a, b: int) -> int:\n",
        "\n",
        "que  recibe `a` y `b` enteros no negativos, uno de ellos no nulo y devuelve  $\\operatorname{mcd}(a,b)$. Como fue dicho más arriba, solo se pueden usar sumas y restas (no  se puede usar multiplicación y división) y las propiedades del $\\operatorname{mcd}$  arriba mencionadas. El algoritmo usa un `while` y debe seguir los lineamientos generales del ejemplo. \n",
        "  \n"
      ]
    },
    {
      "cell_type": "code",
      "metadata": {
        "id": "-oUMmUWfSx8N"
      },
      "source": [
        "# Escribir el código más abajo\n",
        "\n",
        "maximo_comun_divisor(a, b: int) -> int:\n",
        "    # pre: no te olvides de escribir la precondición\n",
        "    # post: no te olvides de escribir la postcondición\n",
        "    # agregá un assert para comprobar el tipo de a, b y la precondición\n",
        "\n",
        "    i, j = a, b    # i y j toman los valores iniciales\n",
        "                   # a y b NO SE PUEDEN MODIFICAR\n",
        "\n",
        "    # inv: mcd(a,b) == mcd(i,j)\n",
        "    while False:   # reemplazar False por lo que corresponda\n",
        "        pass # recordá borrar el pass cuando completes el cuerpo del while\n",
        "\n",
        "    pass # recordá borrar el pass cuando completes la definición de la función"
      ],
      "execution_count": null,
      "outputs": []
    },
    {
      "cell_type": "code",
      "metadata": {
        "id": "jycFvgmGS-p0"
      },
      "source": [
        "# Tests\n",
        "print(maximo_comun_divisor(72, 174)) # 6\n",
        "print(maximo_comun_divisor(1, 123)) # 1\n",
        "print(maximo_comun_divisor(12, 9)) # 3\n",
        "print(maximo_comun_divisor(123, 531)) # 3\n",
        "print(maximo_comun_divisor(12264, 6615)) # 21\n",
        "\n",
        "\n"
      ],
      "execution_count": null,
      "outputs": []
    }
  ]
}