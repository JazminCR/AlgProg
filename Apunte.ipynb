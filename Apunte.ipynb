{
  "nbformat": 4,
  "nbformat_minor": 0,
  "metadata": {
    "colab": {
      "provenance": [],
      "authorship_tag": "ABX9TyPWK4UEyKO1IRP9YiZ67qv7",
      "include_colab_link": true
    },
    "kernelspec": {
      "display_name": "Python 3",
      "name": "python3"
    },
    "language_info": {
      "name": "python"
    }
  },
  "cells": [
    {
      "cell_type": "markdown",
      "metadata": {
        "id": "view-in-github",
        "colab_type": "text"
      },
      "source": [
        "<a href=\"https://colab.research.google.com/github/JazminCaruso/AyP-Python/blob/main/Apunte.ipynb\" target=\"_parent\"><img src=\"https://colab.research.google.com/assets/colab-badge.svg\" alt=\"Open In Colab\"/></a>"
      ]
    },
    {
      "cell_type": "markdown",
      "metadata": {
        "id": "rs1n81fV5d83"
      },
      "source": [
        "# **Lenguaje de programación: *Python*.**\n",
        "\n",
        "**Programación imperativa:** instrucciones en secuencia. Lee linea a linea.\n"
      ]
    },
    {
      "cell_type": "markdown",
      "metadata": {
        "id": "7AbEBdeTsdpG"
      },
      "source": [
        "## Instalar e importar biblioteca."
      ]
    },
    {
      "cell_type": "markdown",
      "metadata": {
        "id": "3y5fagbg6JKg"
      },
      "source": [
        "Instalamos la biblioteca **\"ColabTurtle\"**.\n"
      ]
    },
    {
      "cell_type": "code",
      "metadata": {
        "colab": {
          "base_uri": "https://localhost:8080/"
        },
        "id": "Pj-xeK1z6V-Y",
        "outputId": "c0ba0c0e-1d2d-4eb8-a75b-bd90b249f3a6"
      },
      "source": [
        "!pip3 install ColabTurtle"
      ],
      "execution_count": null,
      "outputs": [
        {
          "output_type": "stream",
          "text": [
            "Collecting ColabTurtle\n",
            "  Downloading https://files.pythonhosted.org/packages/08/6f/619066317c24cd988979ad1b8c7b324c09ee1c408bfd88926889d6a62d99/ColabTurtle-2.1.0.tar.gz\n",
            "Building wheels for collected packages: ColabTurtle\n",
            "  Building wheel for ColabTurtle (setup.py) ... \u001b[?25l\u001b[?25hdone\n",
            "  Created wheel for ColabTurtle: filename=ColabTurtle-2.1.0-cp37-none-any.whl size=7661 sha256=f51b916765c6407108b1289ab3866a5757a040cc50cbdbb14e530b538b7f35b2\n",
            "  Stored in directory: /root/.cache/pip/wheels/df/e9/3f/df3fccd8971c5473dc0c6450984cd057de8c9a1271069ebf18\n",
            "Successfully built ColabTurtle\n",
            "Installing collected packages: ColabTurtle\n",
            "Successfully installed ColabTurtle-2.1.0\n"
          ],
          "name": "stdout"
        }
      ]
    },
    {
      "cell_type": "markdown",
      "metadata": {
        "id": "4R99Z12T6noB"
      },
      "source": [
        "*Importamos todas las instrucciones de la biblioteca.*"
      ]
    },
    {
      "cell_type": "code",
      "metadata": {
        "id": "fZNNugK56s3z"
      },
      "source": [
        "# de .......... importar todo.\n",
        "from ColabTurtle.Turtle import * "
      ],
      "execution_count": null,
      "outputs": []
    },
    {
      "cell_type": "markdown",
      "metadata": {
        "id": "5FAhOv7d6_5Z"
      },
      "source": [
        "Al ejecutar el cuadro anterior ya se pueden utilizar las funciones definidas en ColabTurtle."
      ]
    },
    {
      "cell_type": "markdown",
      "metadata": {
        "id": "o9pkIm2xsOBW"
      },
      "source": [
        "## Escribir un programa."
      ]
    },
    {
      "cell_type": "markdown",
      "metadata": {
        "id": "krERjMbm7Tc8"
      },
      "source": [
        "**Instrucciones** que sabe ejecutar:\n",
        "*   Simples.\n",
        "*   Complejas / condicionales.\n",
        "\n",
        "\n"
      ]
    },
    {
      "cell_type": "markdown",
      "metadata": {
        "id": "JPUZLgOb89Qu"
      },
      "source": [
        "Utilizamos el siguiente código para *iniciar la pizarra:*"
      ]
    },
    {
      "cell_type": "code",
      "metadata": {
        "id": "5gEXhp1QUjSn"
      },
      "source": [
        "initializeTurtle()"
      ],
      "execution_count": null,
      "outputs": []
    },
    {
      "cell_type": "markdown",
      "metadata": {
        "id": "k2ZMlq3h9Nqh"
      },
      "source": [
        "**Funciones** que podemos utilizar:"
      ]
    },
    {
      "cell_type": "code",
      "metadata": {
        "id": "GOWlLXbd9UGI",
        "colab": {
          "base_uri": "https://localhost:8080/",
          "height": 135
        },
        "outputId": "789ec8e7-51c6-4841-d652-0602c6f294f4"
      },
      "source": [
        "bgcolor(\"color\")    # definir color del fondo.\n",
        "color(\"color\")      # definir color del lápiz.\n",
        "speed(1-13)         # velocidad del lápiz.\n",
        "width(width)        # definir grosor del lápiz.\n",
        "forward(units)      # avanzar x unidades.\n",
        "backward(units)     # hacia atras x unidades.\n",
        "right(degrees)      # girar a la derecha x grados.\n",
        "left(degrees)       # girar a la izquierda x grados.\n",
        "face(degrees)       # apuntar en cierta dirección.\n",
        "penup()             # levantar el lápiz.\n",
        "pendown()           # apoyar el lápiz.\n",
        "hideturtle()        # ocultar tortuga.\n",
        "showturtle()        # mostrar tortuga.\n",
        "\n",
        "https://docs.python.org/3/library/turtle.html  # más funciones."
      ],
      "execution_count": null,
      "outputs": [
        {
          "output_type": "error",
          "ename": "SyntaxError",
          "evalue": "ignored",
          "traceback": [
            "\u001b[0;36m  File \u001b[0;32m\"<ipython-input-4-ce3fb996c869>\"\u001b[0;36m, line \u001b[0;32m15\u001b[0m\n\u001b[0;31m    https://docs.python.org/3/library/turtle.html  # más funciones.\u001b[0m\n\u001b[0m           ^\u001b[0m\n\u001b[0;31mSyntaxError\u001b[0m\u001b[0;31m:\u001b[0m invalid syntax\n"
          ]
        }
      ]
    },
    {
      "cell_type": "markdown",
      "metadata": {
        "id": "-7wlypssQuMJ"
      },
      "source": [
        "**Constantes.**\n",
        "\n",
        "Por ejemplo, la constante `COLORES` que reúne los colores que disponemos para utilizar en los dibujos.\n",
        "\n",
        "*   Las constantes permiten darle nombre a un valor, que sabemos que no cambiará durante la ejecución del programa.\n",
        "*   Su definición permite identificar fácilmente su valor (sin necesidad de leer todo el programa buscándolo).\n",
        "*   Facilita *cambiarlo* entre una ejecución y otra para experimentar diferentes posibilidades, sin necesidad de revisar todo el código.\n",
        "*   Convención (Python): los nombres de las constantes van en mayúscula, puede ser una palabra, o más de una palabra separadas por guión bajo (por ejemplo: `COLORES_LAPIZ`)."
      ]
    },
    {
      "cell_type": "markdown",
      "metadata": {
        "id": "p-0exmpT_vk8"
      },
      "source": [
        "**Comentarios y espacios.**\n",
        "\n",
        "Importancia de introducirlos en el programa: ayudan a organizar el código y a que otra persona y nosotros mismos lo entendamos más fácilmente.\n",
        "\n",
        "Usarlos criteriosamente: señalar los fragmentos o unidades más significativas dentro de un programa. Evitar ambos extremos (programas vacíos de comentarios y el exceso de comentar cada detalle).\n",
        "\n",
        "Los comentarios son también útiles a la hora de depurar código, se puede anteponer un \"```#```\" al comienzo de cualquier línea de código cuya ejecución uno quiera evitar.\n",
        "\n",
        "Si se quiere evitar la ejecución de varias líneas de código, resulta más conveniente encerrarlas entre comillas ```."
      ]
    },
    {
      "cell_type": "code",
      "metadata": {
        "id": "EJpL7JM_BYBh"
      },
      "source": [
        "# Configuración pizarra inicial.\n",
        "initializeTurtle()\n",
        "bgcolor('white')\n",
        "color('black')\n",
        "# right(90)\n",
        "\n",
        "# Solución del ejercicio.\n",
        "forward(100)\n",
        "right(90)\n",
        "forward(50)\n",
        "'''left(90)\n",
        "forward(100)\n",
        "color(\"blue\")\n",
        "forward(150)'''\n",
        "\n",
        "(Las lineas que se ejecutarán son: 2, 3, 4, 8, 9 y 10)"
      ],
      "execution_count": null,
      "outputs": []
    },
    {
      "cell_type": "markdown",
      "metadata": {
        "id": "egMJx6t2HyU0"
      },
      "source": [
        "**Elección aleatoria de color.**\n"
      ]
    },
    {
      "cell_type": "code",
      "metadata": {
        "id": "cvwPAhV1Hx1T"
      },
      "source": [
        "from random import choice"
      ],
      "execution_count": null,
      "outputs": []
    },
    {
      "cell_type": "markdown",
      "metadata": {
        "id": "aMH2wA3tH_M_"
      },
      "source": [
        "nos permite elegir elementos al azar de una lista."
      ]
    },
    {
      "cell_type": "code",
      "metadata": {
        "id": "4fKFiKyaIEEK"
      },
      "source": [
        "# definir choice.\n",
        "choice(['yellow', 'orange', 'red', 'green', 'blue', 'purple', 'grey', 'black'])\n",
        "\n",
        "# instrucción para elegir color aleatorio:\n",
        "color(choice(['yellow', 'orange', 'red', 'green', 'blue', 'purple', 'grey', 'black']))"
      ],
      "execution_count": null,
      "outputs": []
    },
    {
      "cell_type": "markdown",
      "metadata": {
        "id": "GPXvWjTgsrX0"
      },
      "source": [
        "## Ciclos."
      ]
    },
    {
      "cell_type": "markdown",
      "metadata": {
        "id": "OI8U3OWDCNoH"
      },
      "source": [
        "**Ciclos:**\n",
        "posibilidad de repetir / iterar instrucciones.\n",
        "\n",
        "*   Repetir n veces.\n",
        "*   Para o for.\n",
        "*   Repetir hasta.\n",
        "*   Repetir mientras.\n",
        "\n",
        "(los dos últimos son ciclos de complejidad mayor y pueden dar lugar a programas cuya ejecución nunca termine).\n",
        "\n",
        "Se llama cuerpo a las instrucciones que se repiten. Dentro del cuerpo muy frecuentemente pueden distinguirse instrucciones que son para el procesamiento propiamente dicho, y otras instrucciones que son preparatorias del siguiente procesamiento. Se recomienda que esas dos porciones de código sean nítidamente identificables."
      ]
    },
    {
      "cell_type": "code",
      "metadata": {
        "id": "ditU5NczDw10"
      },
      "source": [
        "# Ciclo repetir n veces.\n",
        "for _ in range(n):\n",
        "    instrucción\n",
        "    instrucción"
      ],
      "execution_count": null,
      "outputs": []
    },
    {
      "cell_type": "code",
      "metadata": {
        "id": "ZkQqGOBLENTk",
        "colab": {
          "base_uri": "https://localhost:8080/",
          "height": 521
        },
        "outputId": "70867a05-31f8-48d9-f299-8c0687209062"
      },
      "source": [
        "initializeTurtle()\n",
        "\n",
        "# Ejemplo 1:\n",
        "for _ in range(3):    # (3) = [0,1,2]\n",
        "    forward(100)\n",
        "    left(120)\n",
        "    forward(100)\n",
        "    left(120)\n",
        "    forward(100)\n",
        "\n",
        "# dibuja 3 triángulos a partir de la posición en la que se encuentra."
      ],
      "execution_count": null,
      "outputs": [
        {
          "output_type": "display_data",
          "data": {
            "text/html": [
              "\n",
              "      <svg width=\"800\" height=\"500\">\n",
              "        <rect width=\"100%\" height=\"100%\" fill=\"black\"/>\n",
              "        <line x1=\"400\" y1=\"250\" x2=\"400.0\" y2=\"150.0\" stroke-linecap=\"round\" style=\"stroke:white;stroke-width:4\"/><line x1=\"400.0\" y1=\"150.0\" x2=\"313.397\" y2=\"200.0\" stroke-linecap=\"round\" style=\"stroke:white;stroke-width:4\"/><line x1=\"313.397\" y1=\"200.0\" x2=\"400.0\" y2=\"250.0\" stroke-linecap=\"round\" style=\"stroke:white;stroke-width:4\"/><line x1=\"400.0\" y1=\"250.0\" x2=\"486.603\" y2=\"300.0\" stroke-linecap=\"round\" style=\"stroke:white;stroke-width:4\"/><line x1=\"486.603\" y1=\"300.0\" x2=\"486.603\" y2=\"200.0\" stroke-linecap=\"round\" style=\"stroke:white;stroke-width:4\"/><line x1=\"486.603\" y1=\"200.0\" x2=\"400.0\" y2=\"250.0\" stroke-linecap=\"round\" style=\"stroke:white;stroke-width:4\"/><line x1=\"400.0\" y1=\"250.0\" x2=\"313.397\" y2=\"300.0\" stroke-linecap=\"round\" style=\"stroke:white;stroke-width:4\"/><line x1=\"313.397\" y1=\"300.0\" x2=\"400.0\" y2=\"350.0\" stroke-linecap=\"round\" style=\"stroke:white;stroke-width:4\"/><line x1=\"400.0\" y1=\"350.0\" x2=\"400.0\" y2=\"250.0\" stroke-linecap=\"round\" style=\"stroke:white;stroke-width:4\"/>\n",
              "        <g visibility=visible transform=\"rotate(360,400.0,250.0) translate(382.0, 232.0)\">\n",
              "<path style=\" stroke:none;fill-rule:evenodd;fill:white;fill-opacity:1;\" d=\"M 18.214844 0.632812 C 16.109375 1.800781 15.011719 4.074219 15.074219 7.132812 L 15.085938 7.652344 L 14.785156 7.496094 C 13.476562 6.824219 11.957031 6.671875 10.40625 7.066406 C 8.46875 7.550781 6.515625 9.15625 4.394531 11.992188 C 3.0625 13.777344 2.679688 14.636719 3.042969 15.027344 L 3.15625 15.152344 L 3.519531 15.152344 C 4.238281 15.152344 4.828125 14.886719 8.1875 13.039062 C 9.386719 12.378906 10.371094 11.839844 10.378906 11.839844 C 10.386719 11.839844 10.355469 11.929688 10.304688 12.035156 C 9.832031 13.09375 9.257812 14.820312 8.96875 16.078125 C 7.914062 20.652344 8.617188 24.53125 11.070312 27.660156 C 11.351562 28.015625 11.363281 27.914062 10.972656 28.382812 C 8.925781 30.84375 7.945312 33.28125 8.238281 35.1875 C 8.289062 35.527344 8.28125 35.523438 8.917969 35.523438 C 10.941406 35.523438 13.074219 34.207031 15.136719 31.6875 C 15.359375 31.417969 15.328125 31.425781 15.5625 31.574219 C 16.292969 32.042969 18.023438 32.964844 18.175781 32.964844 C 18.335938 32.964844 19.941406 32.210938 20.828125 31.71875 C 20.996094 31.625 21.136719 31.554688 21.136719 31.558594 C 21.203125 31.664062 21.898438 32.414062 22.222656 32.730469 C 23.835938 34.300781 25.5625 35.132812 27.582031 35.300781 C 27.90625 35.328125 27.9375 35.308594 28.007812 34.984375 C 28.382812 33.242188 27.625 30.925781 25.863281 28.425781 L 25.542969 27.96875 L 25.699219 27.785156 C 28.945312 23.960938 29.132812 18.699219 26.257812 11.96875 L 26.207031 11.84375 L 27.945312 12.703125 C 31.53125 14.476562 32.316406 14.800781 33.03125 14.800781 C 33.976562 14.800781 33.78125 13.9375 32.472656 12.292969 C 28.519531 7.355469 25.394531 5.925781 21.921875 7.472656 L 21.558594 7.636719 L 21.578125 7.542969 C 21.699219 6.992188 21.761719 5.742188 21.699219 5.164062 C 21.496094 3.296875 20.664062 1.964844 19.003906 0.855469 C 18.480469 0.503906 18.457031 0.5 18.214844 0.632812\"/>\n",
              "</g>\n",
              "      </svg>\n",
              "    "
            ],
            "text/plain": [
              "<IPython.core.display.HTML object>"
            ]
          },
          "metadata": {
            "tags": []
          }
        }
      ]
    },
    {
      "cell_type": "code",
      "metadata": {
        "id": "5Hgjkf0kF031",
        "colab": {
          "base_uri": "https://localhost:8080/",
          "height": 521
        },
        "outputId": "28fb1ab4-d8cb-4dca-b3bc-12d2181f827a"
      },
      "source": [
        "initializeTurtle()\n",
        "\n",
        "# Ejemplo 2:\n",
        "for _ in range(3):    # (3) = [0,1,2]\n",
        "    forward(100)\n",
        "    left(120)\n",
        "    forward(100)\n",
        "    left(120)\n",
        "    forward(100)\n",
        "    left(120)\n",
        "\n",
        " # dibuja 3 veces lo mismo sobre el mismo lugar."
      ],
      "execution_count": null,
      "outputs": [
        {
          "output_type": "display_data",
          "data": {
            "text/html": [
              "\n",
              "      <svg width=\"800\" height=\"500\">\n",
              "        <rect width=\"100%\" height=\"100%\" fill=\"black\"/>\n",
              "        <line x1=\"400\" y1=\"250\" x2=\"400.0\" y2=\"150.0\" stroke-linecap=\"round\" style=\"stroke:white;stroke-width:4\"/><line x1=\"400.0\" y1=\"150.0\" x2=\"313.397\" y2=\"200.0\" stroke-linecap=\"round\" style=\"stroke:white;stroke-width:4\"/><line x1=\"313.397\" y1=\"200.0\" x2=\"400.0\" y2=\"250.0\" stroke-linecap=\"round\" style=\"stroke:white;stroke-width:4\"/><line x1=\"400.0\" y1=\"250.0\" x2=\"400.0\" y2=\"150.0\" stroke-linecap=\"round\" style=\"stroke:white;stroke-width:4\"/><line x1=\"400.0\" y1=\"150.0\" x2=\"313.397\" y2=\"200.0\" stroke-linecap=\"round\" style=\"stroke:white;stroke-width:4\"/><line x1=\"313.397\" y1=\"200.0\" x2=\"400.0\" y2=\"250.0\" stroke-linecap=\"round\" style=\"stroke:white;stroke-width:4\"/><line x1=\"400.0\" y1=\"250.0\" x2=\"400.0\" y2=\"150.0\" stroke-linecap=\"round\" style=\"stroke:white;stroke-width:4\"/><line x1=\"400.0\" y1=\"150.0\" x2=\"313.397\" y2=\"200.0\" stroke-linecap=\"round\" style=\"stroke:white;stroke-width:4\"/><line x1=\"313.397\" y1=\"200.0\" x2=\"400.0\" y2=\"250.0\" stroke-linecap=\"round\" style=\"stroke:white;stroke-width:4\"/>\n",
              "        <g visibility=visible transform=\"rotate(360,400.0,250.0) translate(382.0, 232.0)\">\n",
              "<path style=\" stroke:none;fill-rule:evenodd;fill:white;fill-opacity:1;\" d=\"M 18.214844 0.632812 C 16.109375 1.800781 15.011719 4.074219 15.074219 7.132812 L 15.085938 7.652344 L 14.785156 7.496094 C 13.476562 6.824219 11.957031 6.671875 10.40625 7.066406 C 8.46875 7.550781 6.515625 9.15625 4.394531 11.992188 C 3.0625 13.777344 2.679688 14.636719 3.042969 15.027344 L 3.15625 15.152344 L 3.519531 15.152344 C 4.238281 15.152344 4.828125 14.886719 8.1875 13.039062 C 9.386719 12.378906 10.371094 11.839844 10.378906 11.839844 C 10.386719 11.839844 10.355469 11.929688 10.304688 12.035156 C 9.832031 13.09375 9.257812 14.820312 8.96875 16.078125 C 7.914062 20.652344 8.617188 24.53125 11.070312 27.660156 C 11.351562 28.015625 11.363281 27.914062 10.972656 28.382812 C 8.925781 30.84375 7.945312 33.28125 8.238281 35.1875 C 8.289062 35.527344 8.28125 35.523438 8.917969 35.523438 C 10.941406 35.523438 13.074219 34.207031 15.136719 31.6875 C 15.359375 31.417969 15.328125 31.425781 15.5625 31.574219 C 16.292969 32.042969 18.023438 32.964844 18.175781 32.964844 C 18.335938 32.964844 19.941406 32.210938 20.828125 31.71875 C 20.996094 31.625 21.136719 31.554688 21.136719 31.558594 C 21.203125 31.664062 21.898438 32.414062 22.222656 32.730469 C 23.835938 34.300781 25.5625 35.132812 27.582031 35.300781 C 27.90625 35.328125 27.9375 35.308594 28.007812 34.984375 C 28.382812 33.242188 27.625 30.925781 25.863281 28.425781 L 25.542969 27.96875 L 25.699219 27.785156 C 28.945312 23.960938 29.132812 18.699219 26.257812 11.96875 L 26.207031 11.84375 L 27.945312 12.703125 C 31.53125 14.476562 32.316406 14.800781 33.03125 14.800781 C 33.976562 14.800781 33.78125 13.9375 32.472656 12.292969 C 28.519531 7.355469 25.394531 5.925781 21.921875 7.472656 L 21.558594 7.636719 L 21.578125 7.542969 C 21.699219 6.992188 21.761719 5.742188 21.699219 5.164062 C 21.496094 3.296875 20.664062 1.964844 19.003906 0.855469 C 18.480469 0.503906 18.457031 0.5 18.214844 0.632812\"/>\n",
              "</g>\n",
              "      </svg>\n",
              "    "
            ],
            "text/plain": [
              "<IPython.core.display.HTML object>"
            ]
          },
          "metadata": {
            "tags": []
          }
        }
      ]
    },
    {
      "cell_type": "code",
      "metadata": {
        "id": "z8YxHjc5GdI-",
        "colab": {
          "base_uri": "https://localhost:8080/",
          "height": 521
        },
        "outputId": "fdf270a1-e6d6-487e-9aa3-95fbdf7534ed"
      },
      "source": [
        "initializeTurtle()\n",
        "\n",
        "# Ejemplo 3:\n",
        "for _ in range(1, 4):    # (1, 4) = [1,2,3]\n",
        "    forward(50*_)\n",
        "    left(120)\n",
        "    forward(50*_)\n",
        "    left(120)\n",
        "    forward(50*_)\n",
        "\n",
        "# dibuja 3 triángulos multiplicando el valor del lado por el rango."
      ],
      "execution_count": null,
      "outputs": [
        {
          "output_type": "display_data",
          "data": {
            "text/html": [
              "\n",
              "      <svg width=\"800\" height=\"500\">\n",
              "        <rect width=\"100%\" height=\"100%\" fill=\"black\"/>\n",
              "        <line x1=\"400\" y1=\"250\" x2=\"400.0\" y2=\"200.0\" stroke-linecap=\"round\" style=\"stroke:white;stroke-width:4\"/><line x1=\"400.0\" y1=\"200.0\" x2=\"356.699\" y2=\"225.0\" stroke-linecap=\"round\" style=\"stroke:white;stroke-width:4\"/><line x1=\"356.699\" y1=\"225.0\" x2=\"400.0\" y2=\"250.0\" stroke-linecap=\"round\" style=\"stroke:white;stroke-width:4\"/><line x1=\"400.0\" y1=\"250.0\" x2=\"486.603\" y2=\"300.0\" stroke-linecap=\"round\" style=\"stroke:white;stroke-width:4\"/><line x1=\"486.603\" y1=\"300.0\" x2=\"486.603\" y2=\"200.0\" stroke-linecap=\"round\" style=\"stroke:white;stroke-width:4\"/><line x1=\"486.603\" y1=\"200.0\" x2=\"400.0\" y2=\"250.0\" stroke-linecap=\"round\" style=\"stroke:white;stroke-width:4\"/><line x1=\"400.0\" y1=\"250.0\" x2=\"270.096\" y2=\"325.0\" stroke-linecap=\"round\" style=\"stroke:white;stroke-width:4\"/><line x1=\"270.096\" y1=\"325.0\" x2=\"400.0\" y2=\"400.0\" stroke-linecap=\"round\" style=\"stroke:white;stroke-width:4\"/><line x1=\"400.0\" y1=\"400.0\" x2=\"400.0\" y2=\"250.0\" stroke-linecap=\"round\" style=\"stroke:white;stroke-width:4\"/>\n",
              "        <g visibility=visible transform=\"rotate(360,400.0,250.0) translate(382.0, 232.0)\">\n",
              "<path style=\" stroke:none;fill-rule:evenodd;fill:white;fill-opacity:1;\" d=\"M 18.214844 0.632812 C 16.109375 1.800781 15.011719 4.074219 15.074219 7.132812 L 15.085938 7.652344 L 14.785156 7.496094 C 13.476562 6.824219 11.957031 6.671875 10.40625 7.066406 C 8.46875 7.550781 6.515625 9.15625 4.394531 11.992188 C 3.0625 13.777344 2.679688 14.636719 3.042969 15.027344 L 3.15625 15.152344 L 3.519531 15.152344 C 4.238281 15.152344 4.828125 14.886719 8.1875 13.039062 C 9.386719 12.378906 10.371094 11.839844 10.378906 11.839844 C 10.386719 11.839844 10.355469 11.929688 10.304688 12.035156 C 9.832031 13.09375 9.257812 14.820312 8.96875 16.078125 C 7.914062 20.652344 8.617188 24.53125 11.070312 27.660156 C 11.351562 28.015625 11.363281 27.914062 10.972656 28.382812 C 8.925781 30.84375 7.945312 33.28125 8.238281 35.1875 C 8.289062 35.527344 8.28125 35.523438 8.917969 35.523438 C 10.941406 35.523438 13.074219 34.207031 15.136719 31.6875 C 15.359375 31.417969 15.328125 31.425781 15.5625 31.574219 C 16.292969 32.042969 18.023438 32.964844 18.175781 32.964844 C 18.335938 32.964844 19.941406 32.210938 20.828125 31.71875 C 20.996094 31.625 21.136719 31.554688 21.136719 31.558594 C 21.203125 31.664062 21.898438 32.414062 22.222656 32.730469 C 23.835938 34.300781 25.5625 35.132812 27.582031 35.300781 C 27.90625 35.328125 27.9375 35.308594 28.007812 34.984375 C 28.382812 33.242188 27.625 30.925781 25.863281 28.425781 L 25.542969 27.96875 L 25.699219 27.785156 C 28.945312 23.960938 29.132812 18.699219 26.257812 11.96875 L 26.207031 11.84375 L 27.945312 12.703125 C 31.53125 14.476562 32.316406 14.800781 33.03125 14.800781 C 33.976562 14.800781 33.78125 13.9375 32.472656 12.292969 C 28.519531 7.355469 25.394531 5.925781 21.921875 7.472656 L 21.558594 7.636719 L 21.578125 7.542969 C 21.699219 6.992188 21.761719 5.742188 21.699219 5.164062 C 21.496094 3.296875 20.664062 1.964844 19.003906 0.855469 C 18.480469 0.503906 18.457031 0.5 18.214844 0.632812\"/>\n",
              "</g>\n",
              "      </svg>\n",
              "    "
            ],
            "text/plain": [
              "<IPython.core.display.HTML object>"
            ]
          },
          "metadata": {
            "tags": []
          }
        }
      ]
    },
    {
      "cell_type": "markdown",
      "metadata": {
        "id": "Uj1s0cY8JJsE"
      },
      "source": [
        "Para el ciclo for, se utilizan **variables**.\n",
        "\n",
        "*   Representan valores que pueden ser diferentes cada vez que se ejecuta la porción de código donde aparece.\n",
        "*   Permite nombrar un elemento, por ejemplo, llamarle `longitud` al valor, esto aporta legibilidad.\n",
        "*   Durante la ejecución del programa, se les destina un espacio en la memoria.\n",
        "*   Convención (Python): los nombres de las variables van en minúscula, puede ser una letra, una palabra, o más de una palabra separadas por guión bajo (por ejemplo: `longitud_lado`). Hay que evitar nombres extremadamente largos o extremadamente cortos o incomprensibles (mejor `longitud_lado` que `lgtdld`). Nunca llamar `l` o `O` a una variable. \n",
        "*   Es común usar nombres muy cortos (`i`, `j`, `x` ...) aunque siempre es recomendable usar nombres \"informativos\".\n",
        "*   No es recomendable que la variable que se usa como índice del `for` se utilice fuera del cuerpo del `for`, aunque Python lo permite.\n",
        "*   El nombre de la variable se puede cambiar, siempre que se cambie en la línea del `for` y en todos los lugares donde aparezca en el cuerpo del `for`.\n",
        "*   Cuando la variable no aparece en el cuerpo del `for` se trata de un `repetir n veces`, se recomienda reemplazar por guión bajo `_`."
      ]
    },
    {
      "cell_type": "code",
      "metadata": {
        "id": "DH3Wwn0jJaRq"
      },
      "source": [
        "initializeTurtle()\n",
        "\n",
        "# Ciclo for.\n",
        "for longitud in [25, 30, 35, 40, 45, 50, 55, 60]:\n",
        "    forward(longitud)\n",
        "    right(90)"
      ],
      "execution_count": null,
      "outputs": []
    },
    {
      "cell_type": "code",
      "metadata": {
        "id": "F9q0dlQZKF95"
      },
      "source": [
        "initializeTurtle()\n",
        "\n",
        "# Ciclo for.\n",
        "for longitud in range(25, 61, 5):\n",
        "    forward(longitud)\n",
        "    right(90)"
      ],
      "execution_count": null,
      "outputs": []
    },
    {
      "cell_type": "markdown",
      "metadata": {
        "id": "B8oT5uZIM-Xc"
      },
      "source": [
        "donde longitud es una variable, a la que llamamos *índice* del ciclo for, y las líneas 5 y 6 conforman el *cuerpo* del ciclo for."
      ]
    },
    {
      "cell_type": "markdown",
      "metadata": {
        "id": "5pU0nBwrKZh4"
      },
      "source": [
        "**Las dos formas de introducir el código son correctas.**\n",
        "\n",
        "La primera tiene a su favor:\n",
        "*   La posibilidad de introducir valores que no estén exactamente separados por la misma diferencia.\n",
        "*   Permite que los valores estén en cualquier orden.\n",
        "*   Hace rápidamente visible cuáles son los valores posibles.\n",
        "\n",
        "Pero si la diferencia es siempre la misma, la segunda tiene ciertas ventajas:\n",
        "*   Informa automáticamente ese hecho.\n",
        "*   Es fácil agregar y quitar valores.\n",
        "*   Es la notación que más se parece a los ciclos para de otros lenguajes de programación."
      ]
    },
    {
      "cell_type": "markdown",
      "metadata": {
        "id": "Ea40UbfNLaF1"
      },
      "source": [
        "**Función `range()`**\n",
        "\n",
        "Al evaluarse esta función se obtiene una secuencia de valores:\n",
        "\n",
        "* Al evaluarse `range(25, 61, 5)` se obtienen los valores: 25, 30, 35, 40, 45, 50, 55 y 60\n",
        "* Al evaluarse `range(10)` se obtienen los valores: 0, 1, 2, 3, 4, 5, 6, 7, 8 y 9.\n",
        "La función `range()` puede recibir hasta 3 argumentos:\n",
        "\n",
        "```\n",
        "range(inicio, fin, paso)\n",
        "```\n",
        "\n",
        "De los 3 parámetros, el único que es obligatorio es el parámetro *fin*. En caso de omitirse el valor de *inicio*, se asume que es 0, y en caso de omitirse el de *paso*, se asume que es 1. Cuando solamente se proporcionan 2 valores, se asume que son los de inicio y fin."
      ]
    },
    {
      "cell_type": "markdown",
      "metadata": {
        "id": "lS8Z4mLds5TA"
      },
      "source": [
        "## Def funciones."
      ]
    },
    {
      "cell_type": "markdown",
      "metadata": {
        "id": "mjmin6FWMWmi"
      },
      "source": [
        "**Definir funciones.**\n",
        "\n",
        "*   Todos los lenguajes de programación modernos permiten definir funciones.\n",
        "*   Esto contribuye a generalizar y dar nombres a porciones de código, facilitando su reutilización.\n",
        "*   Realizan abstracciones que aportan legibilidad.\n",
        "*   Se deben definir funciones cuando se identifican porciones de código que tienen sentido.\n",
        "*   Convención (Python): los nombres de las funciones van en minúscula, puede ser una palabra, o más de una palabra separadas por guión bajo (por ejemplo: `dibujar_cuadrado`).\n",
        "\n",
        "Las funciones pueden tener 0, 1, 2 o más parámetros."
      ]
    },
    {
      "cell_type": "code",
      "metadata": {
        "id": "Mn-OUa99nPsx"
      },
      "source": [
        "def pizarra_inicial():\n",
        "  initializeTurtle()\n",
        "  bgcolor(\"black\")\n",
        "  color(\"white\")\n",
        "  speed(7)"
      ],
      "execution_count": null,
      "outputs": []
    },
    {
      "cell_type": "code",
      "metadata": {
        "id": "OemX-86QPT1g"
      },
      "source": [
        "def dibujar_cuadrado(longitud_lado):\n",
        "    for _ in range(4):\n",
        "        forward(longitud_lado)\n",
        "        right(90)"
      ],
      "execution_count": null,
      "outputs": []
    },
    {
      "cell_type": "markdown",
      "metadata": {
        "id": "-Ksj2NxHPeHx"
      },
      "source": [
        "Cada vez que se utilice esta función en un programa, se dibujará un cuadrado con la longitud que se provea en el momento de utilizarse.\n",
        "\n",
        "Acá `longitud_lado` es una variable. Cuando escribimos la definición de la función `dibujar_cuadrado`, desconocemos el valor de la variable. Su valor recién se conocerá cuando se utilice la función.\n",
        "\n",
        "Esta variable se llama parámetro de la función `dibujar_cuadrado`."
      ]
    },
    {
      "cell_type": "code",
      "metadata": {
        "id": "2VQBZpCgP8Xo",
        "colab": {
          "base_uri": "https://localhost:8080/",
          "height": 521
        },
        "outputId": "d85cb613-c298-41ca-845d-32cb1b57b737"
      },
      "source": [
        "pizarra_inicial()\n",
        "dibujar_cuadrado(100)\n",
        "left(90)\n",
        "forward(100)\n",
        "dibujar_cuadrado(200)"
      ],
      "execution_count": null,
      "outputs": [
        {
          "output_type": "display_data",
          "data": {
            "text/html": [
              "\n",
              "      <svg width=\"800\" height=\"500\">\n",
              "        <rect width=\"100%\" height=\"100%\" fill=\"black\"/>\n",
              "        <line x1=\"400\" y1=\"250\" x2=\"400.0\" y2=\"150.0\" stroke-linecap=\"round\" style=\"stroke:white;stroke-width:4\"/><line x1=\"400.0\" y1=\"150.0\" x2=\"500.0\" y2=\"150.0\" stroke-linecap=\"round\" style=\"stroke:white;stroke-width:4\"/><line x1=\"500.0\" y1=\"150.0\" x2=\"500.0\" y2=\"250.0\" stroke-linecap=\"round\" style=\"stroke:white;stroke-width:4\"/><line x1=\"500.0\" y1=\"250.0\" x2=\"400.0\" y2=\"250.0\" stroke-linecap=\"round\" style=\"stroke:white;stroke-width:4\"/><line x1=\"400.0\" y1=\"250.0\" x2=\"300.0\" y2=\"250.0\" stroke-linecap=\"round\" style=\"stroke:white;stroke-width:4\"/><line x1=\"300.0\" y1=\"250.0\" x2=\"100.0\" y2=\"250.0\" stroke-linecap=\"round\" style=\"stroke:white;stroke-width:4\"/><line x1=\"100.0\" y1=\"250.0\" x2=\"100.0\" y2=\"50.0\" stroke-linecap=\"round\" style=\"stroke:white;stroke-width:4\"/><line x1=\"100.0\" y1=\"50.0\" x2=\"300.0\" y2=\"50.0\" stroke-linecap=\"round\" style=\"stroke:white;stroke-width:4\"/><line x1=\"300.0\" y1=\"50.0\" x2=\"300.0\" y2=\"250.0\" stroke-linecap=\"round\" style=\"stroke:white;stroke-width:4\"/>\n",
              "        <g visibility=visible transform=\"rotate(270,300.0,250.0) translate(282.0, 232.0)\">\n",
              "<path style=\" stroke:none;fill-rule:evenodd;fill:white;fill-opacity:1;\" d=\"M 18.214844 0.632812 C 16.109375 1.800781 15.011719 4.074219 15.074219 7.132812 L 15.085938 7.652344 L 14.785156 7.496094 C 13.476562 6.824219 11.957031 6.671875 10.40625 7.066406 C 8.46875 7.550781 6.515625 9.15625 4.394531 11.992188 C 3.0625 13.777344 2.679688 14.636719 3.042969 15.027344 L 3.15625 15.152344 L 3.519531 15.152344 C 4.238281 15.152344 4.828125 14.886719 8.1875 13.039062 C 9.386719 12.378906 10.371094 11.839844 10.378906 11.839844 C 10.386719 11.839844 10.355469 11.929688 10.304688 12.035156 C 9.832031 13.09375 9.257812 14.820312 8.96875 16.078125 C 7.914062 20.652344 8.617188 24.53125 11.070312 27.660156 C 11.351562 28.015625 11.363281 27.914062 10.972656 28.382812 C 8.925781 30.84375 7.945312 33.28125 8.238281 35.1875 C 8.289062 35.527344 8.28125 35.523438 8.917969 35.523438 C 10.941406 35.523438 13.074219 34.207031 15.136719 31.6875 C 15.359375 31.417969 15.328125 31.425781 15.5625 31.574219 C 16.292969 32.042969 18.023438 32.964844 18.175781 32.964844 C 18.335938 32.964844 19.941406 32.210938 20.828125 31.71875 C 20.996094 31.625 21.136719 31.554688 21.136719 31.558594 C 21.203125 31.664062 21.898438 32.414062 22.222656 32.730469 C 23.835938 34.300781 25.5625 35.132812 27.582031 35.300781 C 27.90625 35.328125 27.9375 35.308594 28.007812 34.984375 C 28.382812 33.242188 27.625 30.925781 25.863281 28.425781 L 25.542969 27.96875 L 25.699219 27.785156 C 28.945312 23.960938 29.132812 18.699219 26.257812 11.96875 L 26.207031 11.84375 L 27.945312 12.703125 C 31.53125 14.476562 32.316406 14.800781 33.03125 14.800781 C 33.976562 14.800781 33.78125 13.9375 32.472656 12.292969 C 28.519531 7.355469 25.394531 5.925781 21.921875 7.472656 L 21.558594 7.636719 L 21.578125 7.542969 C 21.699219 6.992188 21.761719 5.742188 21.699219 5.164062 C 21.496094 3.296875 20.664062 1.964844 19.003906 0.855469 C 18.480469 0.503906 18.457031 0.5 18.214844 0.632812\"/>\n",
              "</g>\n",
              "      </svg>\n",
              "    "
            ],
            "text/plain": [
              "<IPython.core.display.HTML object>"
            ]
          },
          "metadata": {
            "tags": []
          }
        }
      ]
    },
    {
      "cell_type": "markdown",
      "metadata": {
        "id": "RyPHwohMmHMk"
      },
      "source": [
        "*Importar nueva biblioteca.*"
      ]
    },
    {
      "cell_type": "code",
      "metadata": {
        "id": "lWeZjAZ6mD2d"
      },
      "source": [
        "from math import *"
      ],
      "execution_count": null,
      "outputs": []
    },
    {
      "cell_type": "code",
      "metadata": {
        "id": "SeO2Ojxago3T"
      },
      "source": [
        "def dibujar_circulo(circunferencia: (int,float)):\n",
        "    # dibuja un círculo cuya circunferencia mide el valor recibido como parámetro\n",
        "    for _ in range(circunferencia):\n",
        "        forward(1)\n",
        "        right(360/circunferencia)"
      ],
      "execution_count": null,
      "outputs": []
    },
    {
      "cell_type": "code",
      "metadata": {
        "id": "F72iUo8jjML7",
        "colab": {
          "base_uri": "https://localhost:8080/",
          "height": 521
        },
        "outputId": "68c69727-179b-46dc-9f5f-6a97a4014b7e"
      },
      "source": [
        "pizarra_inicial()\n",
        "speed(13)\n",
        "dibujar_circulo(700)"
      ],
      "execution_count": null,
      "outputs": [
        {
          "output_type": "display_data",
          "data": {
            "text/html": [
              "\n",
              "      <svg width=\"800\" height=\"500\">\n",
              "        <rect width=\"100%\" height=\"100%\" fill=\"black\"/>\n",
              "        <line x1=\"400\" y1=\"250\" x2=\"400.0\" y2=\"249.0\" stroke-linecap=\"round\" style=\"stroke:white;stroke-width:4\"/><line x1=\"400.0\" y1=\"249.0\" x2=\"400.009\" y2=\"248.0\" stroke-linecap=\"round\" style=\"stroke:white;stroke-width:4\"/><line x1=\"400.009\" y1=\"248.0\" x2=\"400.027\" y2=\"247.0\" stroke-linecap=\"round\" style=\"stroke:white;stroke-width:4\"/><line x1=\"400.027\" y1=\"247.0\" x2=\"400.054\" y2=\"246.0\" stroke-linecap=\"round\" style=\"stroke:white;stroke-width:4\"/><line x1=\"400.054\" y1=\"246.0\" x2=\"400.09\" y2=\"245.001\" stroke-linecap=\"round\" style=\"stroke:white;stroke-width:4\"/><line x1=\"400.09\" y1=\"245.001\" x2=\"400.135\" y2=\"244.002\" stroke-linecap=\"round\" style=\"stroke:white;stroke-width:4\"/><line x1=\"400.135\" y1=\"244.002\" x2=\"400.189\" y2=\"243.003\" stroke-linecap=\"round\" style=\"stroke:white;stroke-width:4\"/><line x1=\"400.189\" y1=\"243.003\" x2=\"400.252\" y2=\"242.005\" stroke-linecap=\"round\" style=\"stroke:white;stroke-width:4\"/><line x1=\"400.252\" y1=\"242.005\" x2=\"400.324\" y2=\"241.008\" stroke-linecap=\"round\" style=\"stroke:white;stroke-width:4\"/><line x1=\"400.324\" y1=\"241.008\" x2=\"400.405\" y2=\"240.011\" stroke-linecap=\"round\" style=\"stroke:white;stroke-width:4\"/><line x1=\"400.405\" y1=\"240.011\" x2=\"400.495\" y2=\"239.015\" stroke-linecap=\"round\" style=\"stroke:white;stroke-width:4\"/><line x1=\"400.495\" y1=\"239.015\" x2=\"400.594\" y2=\"238.02\" stroke-linecap=\"round\" style=\"stroke:white;stroke-width:4\"/><line x1=\"400.594\" y1=\"238.02\" x2=\"400.702\" y2=\"237.026\" stroke-linecap=\"round\" style=\"stroke:white;stroke-width:4\"/><line x1=\"400.702\" y1=\"237.026\" x2=\"400.818\" y2=\"236.033\" stroke-linecap=\"round\" style=\"stroke:white;stroke-width:4\"/><line x1=\"400.818\" y1=\"236.033\" x2=\"400.943\" y2=\"235.041\" stroke-linecap=\"round\" style=\"stroke:white;stroke-width:4\"/><line x1=\"400.943\" y1=\"235.041\" x2=\"401.077\" y2=\"234.05\" stroke-linecap=\"round\" style=\"stroke:white;stroke-width:4\"/><line x1=\"401.077\" y1=\"234.05\" x2=\"401.22\" y2=\"233.06\" stroke-linecap=\"round\" style=\"stroke:white;stroke-width:4\"/><line x1=\"401.22\" y1=\"233.06\" x2=\"401.372\" y2=\"232.072\" stroke-linecap=\"round\" style=\"stroke:white;stroke-width:4\"/><line x1=\"401.372\" y1=\"232.072\" x2=\"401.533\" y2=\"231.085\" stroke-linecap=\"round\" style=\"stroke:white;stroke-width:4\"/><line x1=\"401.533\" y1=\"231.085\" x2=\"401.703\" y2=\"230.1\" stroke-linecap=\"round\" style=\"stroke:white;stroke-width:4\"/><line x1=\"401.703\" y1=\"230.1\" x2=\"401.882\" y2=\"229.116\" stroke-linecap=\"round\" style=\"stroke:white;stroke-width:4\"/><line x1=\"401.882\" y1=\"229.116\" x2=\"402.069\" y2=\"228.134\" stroke-linecap=\"round\" style=\"stroke:white;stroke-width:4\"/><line x1=\"402.069\" y1=\"228.134\" x2=\"402.265\" y2=\"227.153\" stroke-linecap=\"round\" style=\"stroke:white;stroke-width:4\"/><line x1=\"402.265\" y1=\"227.153\" x2=\"402.47\" y2=\"226.174\" stroke-linecap=\"round\" style=\"stroke:white;stroke-width:4\"/><line x1=\"402.47\" y1=\"226.174\" x2=\"402.684\" y2=\"225.197\" stroke-linecap=\"round\" style=\"stroke:white;stroke-width:4\"/><line x1=\"402.684\" y1=\"225.197\" x2=\"402.907\" y2=\"224.222\" stroke-linecap=\"round\" style=\"stroke:white;stroke-width:4\"/><line x1=\"402.907\" y1=\"224.222\" x2=\"403.138\" y2=\"223.249\" stroke-linecap=\"round\" style=\"stroke:white;stroke-width:4\"/><line x1=\"403.138\" y1=\"223.249\" x2=\"403.378\" y2=\"222.278\" stroke-linecap=\"round\" style=\"stroke:white;stroke-width:4\"/><line x1=\"403.378\" y1=\"222.278\" x2=\"403.627\" y2=\"221.309\" stroke-linecap=\"round\" style=\"stroke:white;stroke-width:4\"/><line x1=\"403.627\" y1=\"221.309\" x2=\"403.884\" y2=\"220.343\" stroke-linecap=\"round\" style=\"stroke:white;stroke-width:4\"/><line x1=\"403.884\" y1=\"220.343\" x2=\"404.15\" y2=\"219.379\" stroke-linecap=\"round\" style=\"stroke:white;stroke-width:4\"/><line x1=\"404.15\" y1=\"219.379\" x2=\"404.425\" y2=\"218.417\" stroke-linecap=\"round\" style=\"stroke:white;stroke-width:4\"/><line x1=\"404.425\" y1=\"218.417\" x2=\"404.708\" y2=\"217.458\" stroke-linecap=\"round\" style=\"stroke:white;stroke-width:4\"/><line x1=\"404.708\" y1=\"217.458\" x2=\"405.0\" y2=\"216.502\" stroke-linecap=\"round\" style=\"stroke:white;stroke-width:4\"/><line x1=\"405.0\" y1=\"216.502\" x2=\"405.3\" y2=\"215.548\" stroke-linecap=\"round\" style=\"stroke:white;stroke-width:4\"/><line x1=\"405.3\" y1=\"215.548\" x2=\"405.609\" y2=\"214.597\" stroke-linecap=\"round\" style=\"stroke:white;stroke-width:4\"/><line x1=\"405.609\" y1=\"214.597\" x2=\"405.927\" y2=\"213.649\" stroke-linecap=\"round\" style=\"stroke:white;stroke-width:4\"/><line x1=\"405.927\" y1=\"213.649\" x2=\"406.253\" y2=\"212.704\" stroke-linecap=\"round\" style=\"stroke:white;stroke-width:4\"/><line x1=\"406.253\" y1=\"212.704\" x2=\"406.588\" y2=\"211.762\" stroke-linecap=\"round\" style=\"stroke:white;stroke-width:4\"/><line x1=\"406.588\" y1=\"211.762\" x2=\"406.931\" y2=\"210.823\" stroke-linecap=\"round\" style=\"stroke:white;stroke-width:4\"/><line x1=\"406.931\" y1=\"210.823\" x2=\"407.282\" y2=\"209.887\" stroke-linecap=\"round\" style=\"stroke:white;stroke-width:4\"/><line x1=\"407.282\" y1=\"209.887\" x2=\"407.642\" y2=\"208.954\" stroke-linecap=\"round\" style=\"stroke:white;stroke-width:4\"/><line x1=\"407.642\" y1=\"208.954\" x2=\"408.01\" y2=\"208.024\" stroke-linecap=\"round\" style=\"stroke:white;stroke-width:4\"/><line x1=\"408.01\" y1=\"208.024\" x2=\"408.386\" y2=\"207.098\" stroke-linecap=\"round\" style=\"stroke:white;stroke-width:4\"/><line x1=\"408.386\" y1=\"207.098\" x2=\"408.771\" y2=\"206.175\" stroke-linecap=\"round\" style=\"stroke:white;stroke-width:4\"/><line x1=\"408.771\" y1=\"206.175\" x2=\"409.164\" y2=\"205.255\" stroke-linecap=\"round\" style=\"stroke:white;stroke-width:4\"/><line x1=\"409.164\" y1=\"205.255\" x2=\"409.565\" y2=\"204.339\" stroke-linecap=\"round\" style=\"stroke:white;stroke-width:4\"/><line x1=\"409.565\" y1=\"204.339\" x2=\"409.974\" y2=\"203.427\" stroke-linecap=\"round\" style=\"stroke:white;stroke-width:4\"/><line x1=\"409.974\" y1=\"203.427\" x2=\"410.392\" y2=\"202.518\" stroke-linecap=\"round\" style=\"stroke:white;stroke-width:4\"/><line x1=\"410.392\" y1=\"202.518\" x2=\"410.818\" y2=\"201.613\" stroke-linecap=\"round\" style=\"stroke:white;stroke-width:4\"/><line x1=\"410.818\" y1=\"201.613\" x2=\"411.252\" y2=\"200.712\" stroke-linecap=\"round\" style=\"stroke:white;stroke-width:4\"/><line x1=\"411.252\" y1=\"200.712\" x2=\"411.694\" y2=\"199.815\" stroke-linecap=\"round\" style=\"stroke:white;stroke-width:4\"/><line x1=\"411.694\" y1=\"199.815\" x2=\"412.144\" y2=\"198.922\" stroke-linecap=\"round\" style=\"stroke:white;stroke-width:4\"/><line x1=\"412.144\" y1=\"198.922\" x2=\"412.602\" y2=\"198.033\" stroke-linecap=\"round\" style=\"stroke:white;stroke-width:4\"/><line x1=\"412.602\" y1=\"198.033\" x2=\"413.068\" y2=\"197.148\" stroke-linecap=\"round\" style=\"stroke:white;stroke-width:4\"/><line x1=\"413.068\" y1=\"197.148\" x2=\"413.542\" y2=\"196.267\" stroke-linecap=\"round\" style=\"stroke:white;stroke-width:4\"/><line x1=\"413.542\" y1=\"196.267\" x2=\"414.024\" y2=\"195.391\" stroke-linecap=\"round\" style=\"stroke:white;stroke-width:4\"/><line x1=\"414.024\" y1=\"195.391\" x2=\"414.514\" y2=\"194.519\" stroke-linecap=\"round\" style=\"stroke:white;stroke-width:4\"/><line x1=\"414.514\" y1=\"194.519\" x2=\"415.011\" y2=\"193.651\" stroke-linecap=\"round\" style=\"stroke:white;stroke-width:4\"/><line x1=\"415.011\" y1=\"193.651\" x2=\"415.516\" y2=\"192.788\" stroke-linecap=\"round\" style=\"stroke:white;stroke-width:4\"/><line x1=\"415.516\" y1=\"192.788\" x2=\"416.029\" y2=\"191.93\" stroke-linecap=\"round\" style=\"stroke:white;stroke-width:4\"/><line x1=\"416.029\" y1=\"191.93\" x2=\"416.55\" y2=\"191.076\" stroke-linecap=\"round\" style=\"stroke:white;stroke-width:4\"/><line x1=\"416.55\" y1=\"191.076\" x2=\"417.078\" y2=\"190.227\" stroke-linecap=\"round\" style=\"stroke:white;stroke-width:4\"/><line x1=\"417.078\" y1=\"190.227\" x2=\"417.614\" y2=\"189.383\" stroke-linecap=\"round\" style=\"stroke:white;stroke-width:4\"/><line x1=\"417.614\" y1=\"189.383\" x2=\"418.157\" y2=\"188.544\" stroke-linecap=\"round\" style=\"stroke:white;stroke-width:4\"/><line x1=\"418.157\" y1=\"188.544\" x2=\"418.708\" y2=\"187.709\" stroke-linecap=\"round\" style=\"stroke:white;stroke-width:4\"/><line x1=\"418.708\" y1=\"187.709\" x2=\"419.266\" y2=\"186.879\" stroke-linecap=\"round\" style=\"stroke:white;stroke-width:4\"/><line x1=\"419.266\" y1=\"186.879\" x2=\"419.832\" y2=\"186.054\" stroke-linecap=\"round\" style=\"stroke:white;stroke-width:4\"/><line x1=\"419.832\" y1=\"186.054\" x2=\"420.405\" y2=\"185.235\" stroke-linecap=\"round\" style=\"stroke:white;stroke-width:4\"/><line x1=\"420.405\" y1=\"185.235\" x2=\"420.985\" y2=\"184.421\" stroke-linecap=\"round\" style=\"stroke:white;stroke-width:4\"/><line x1=\"420.985\" y1=\"184.421\" x2=\"421.573\" y2=\"183.612\" stroke-linecap=\"round\" style=\"stroke:white;stroke-width:4\"/><line x1=\"421.573\" y1=\"183.612\" x2=\"422.168\" y2=\"182.808\" stroke-linecap=\"round\" style=\"stroke:white;stroke-width:4\"/><line x1=\"422.168\" y1=\"182.808\" x2=\"422.77\" y2=\"182.01\" stroke-linecap=\"round\" style=\"stroke:white;stroke-width:4\"/><line x1=\"422.77\" y1=\"182.01\" x2=\"423.379\" y2=\"181.217\" stroke-linecap=\"round\" style=\"stroke:white;stroke-width:4\"/><line x1=\"423.379\" y1=\"181.217\" x2=\"423.995\" y2=\"180.43\" stroke-linecap=\"round\" style=\"stroke:white;stroke-width:4\"/><line x1=\"423.995\" y1=\"180.43\" x2=\"424.618\" y2=\"179.648\" stroke-linecap=\"round\" style=\"stroke:white;stroke-width:4\"/><line x1=\"424.618\" y1=\"179.648\" x2=\"425.248\" y2=\"178.872\" stroke-linecap=\"round\" style=\"stroke:white;stroke-width:4\"/><line x1=\"425.248\" y1=\"178.872\" x2=\"425.885\" y2=\"178.101\" stroke-linecap=\"round\" style=\"stroke:white;stroke-width:4\"/><line x1=\"425.885\" y1=\"178.101\" x2=\"426.529\" y2=\"177.336\" stroke-linecap=\"round\" style=\"stroke:white;stroke-width:4\"/><line x1=\"426.529\" y1=\"177.336\" x2=\"427.18\" y2=\"176.577\" stroke-linecap=\"round\" style=\"stroke:white;stroke-width:4\"/><line x1=\"427.18\" y1=\"176.577\" x2=\"427.838\" y2=\"175.824\" stroke-linecap=\"round\" style=\"stroke:white;stroke-width:4\"/><line x1=\"427.838\" y1=\"175.824\" x2=\"428.503\" y2=\"175.077\" stroke-linecap=\"round\" style=\"stroke:white;stroke-width:4\"/><line x1=\"428.503\" y1=\"175.077\" x2=\"429.174\" y2=\"174.336\" stroke-linecap=\"round\" style=\"stroke:white;stroke-width:4\"/><line x1=\"429.174\" y1=\"174.336\" x2=\"429.852\" y2=\"173.601\" stroke-linecap=\"round\" style=\"stroke:white;stroke-width:4\"/><line x1=\"429.852\" y1=\"173.601\" x2=\"430.537\" y2=\"172.872\" stroke-linecap=\"round\" style=\"stroke:white;stroke-width:4\"/><line x1=\"430.537\" y1=\"172.872\" x2=\"431.228\" y2=\"172.149\" stroke-linecap=\"round\" style=\"stroke:white;stroke-width:4\"/><line x1=\"431.228\" y1=\"172.149\" x2=\"431.926\" y2=\"171.432\" stroke-linecap=\"round\" style=\"stroke:white;stroke-width:4\"/><line x1=\"431.926\" y1=\"171.432\" x2=\"432.63\" y2=\"170.722\" stroke-linecap=\"round\" style=\"stroke:white;stroke-width:4\"/><line x1=\"432.63\" y1=\"170.722\" x2=\"433.34\" y2=\"170.018\" stroke-linecap=\"round\" style=\"stroke:white;stroke-width:4\"/><line x1=\"433.34\" y1=\"170.018\" x2=\"434.057\" y2=\"169.32\" stroke-linecap=\"round\" style=\"stroke:white;stroke-width:4\"/><line x1=\"434.057\" y1=\"169.32\" x2=\"434.78\" y2=\"168.629\" stroke-linecap=\"round\" style=\"stroke:white;stroke-width:4\"/><line x1=\"434.78\" y1=\"168.629\" x2=\"435.509\" y2=\"167.944\" stroke-linecap=\"round\" style=\"stroke:white;stroke-width:4\"/><line x1=\"435.509\" y1=\"167.944\" x2=\"436.244\" y2=\"167.266\" stroke-linecap=\"round\" style=\"stroke:white;stroke-width:4\"/><line x1=\"436.244\" y1=\"167.266\" x2=\"436.985\" y2=\"166.595\" stroke-linecap=\"round\" style=\"stroke:white;stroke-width:4\"/><line x1=\"436.985\" y1=\"166.595\" x2=\"437.732\" y2=\"165.93\" stroke-linecap=\"round\" style=\"stroke:white;stroke-width:4\"/><line x1=\"437.732\" y1=\"165.93\" x2=\"438.485\" y2=\"165.272\" stroke-linecap=\"round\" style=\"stroke:white;stroke-width:4\"/><line x1=\"438.485\" y1=\"165.272\" x2=\"439.244\" y2=\"164.621\" stroke-linecap=\"round\" style=\"stroke:white;stroke-width:4\"/><line x1=\"439.244\" y1=\"164.621\" x2=\"440.009\" y2=\"163.977\" stroke-linecap=\"round\" style=\"stroke:white;stroke-width:4\"/><line x1=\"440.009\" y1=\"163.977\" x2=\"440.78\" y2=\"163.34\" stroke-linecap=\"round\" style=\"stroke:white;stroke-width:4\"/><line x1=\"440.78\" y1=\"163.34\" x2=\"441.556\" y2=\"162.71\" stroke-linecap=\"round\" style=\"stroke:white;stroke-width:4\"/><line x1=\"441.556\" y1=\"162.71\" x2=\"442.338\" y2=\"162.087\" stroke-linecap=\"round\" style=\"stroke:white;stroke-width:4\"/><line x1=\"442.338\" y1=\"162.087\" x2=\"443.125\" y2=\"161.471\" stroke-linecap=\"round\" style=\"stroke:white;stroke-width:4\"/><line x1=\"443.125\" y1=\"161.471\" x2=\"443.918\" y2=\"160.862\" stroke-linecap=\"round\" style=\"stroke:white;stroke-width:4\"/><line x1=\"443.918\" y1=\"160.862\" x2=\"444.716\" y2=\"160.26\" stroke-linecap=\"round\" style=\"stroke:white;stroke-width:4\"/><line x1=\"444.716\" y1=\"160.26\" x2=\"445.52\" y2=\"159.665\" stroke-linecap=\"round\" style=\"stroke:white;stroke-width:4\"/><line x1=\"445.52\" y1=\"159.665\" x2=\"446.329\" y2=\"159.077\" stroke-linecap=\"round\" style=\"stroke:white;stroke-width:4\"/><line x1=\"446.329\" y1=\"159.077\" x2=\"447.143\" y2=\"158.497\" stroke-linecap=\"round\" style=\"stroke:white;stroke-width:4\"/><line x1=\"447.143\" y1=\"158.497\" x2=\"447.962\" y2=\"157.924\" stroke-linecap=\"round\" style=\"stroke:white;stroke-width:4\"/><line x1=\"447.962\" y1=\"157.924\" x2=\"448.787\" y2=\"157.358\" stroke-linecap=\"round\" style=\"stroke:white;stroke-width:4\"/><line x1=\"448.787\" y1=\"157.358\" x2=\"449.617\" y2=\"156.8\" stroke-linecap=\"round\" style=\"stroke:white;stroke-width:4\"/><line x1=\"449.617\" y1=\"156.8\" x2=\"450.452\" y2=\"156.249\" stroke-linecap=\"round\" style=\"stroke:white;stroke-width:4\"/><line x1=\"450.452\" y1=\"156.249\" x2=\"451.291\" y2=\"155.706\" stroke-linecap=\"round\" style=\"stroke:white;stroke-width:4\"/><line x1=\"451.291\" y1=\"155.706\" x2=\"452.135\" y2=\"155.17\" stroke-linecap=\"round\" style=\"stroke:white;stroke-width:4\"/><line x1=\"452.135\" y1=\"155.17\" x2=\"452.984\" y2=\"154.642\" stroke-linecap=\"round\" style=\"stroke:white;stroke-width:4\"/><line x1=\"452.984\" y1=\"154.642\" x2=\"453.838\" y2=\"154.121\" stroke-linecap=\"round\" style=\"stroke:white;stroke-width:4\"/><line x1=\"453.838\" y1=\"154.121\" x2=\"454.696\" y2=\"153.608\" stroke-linecap=\"round\" style=\"stroke:white;stroke-width:4\"/><line x1=\"454.696\" y1=\"153.608\" x2=\"455.559\" y2=\"153.103\" stroke-linecap=\"round\" style=\"stroke:white;stroke-width:4\"/><line x1=\"455.559\" y1=\"153.103\" x2=\"456.427\" y2=\"152.606\" stroke-linecap=\"round\" style=\"stroke:white;stroke-width:4\"/><line x1=\"456.427\" y1=\"152.606\" x2=\"457.299\" y2=\"152.116\" stroke-linecap=\"round\" style=\"stroke:white;stroke-width:4\"/><line x1=\"457.299\" y1=\"152.116\" x2=\"458.175\" y2=\"151.634\" stroke-linecap=\"round\" style=\"stroke:white;stroke-width:4\"/><line x1=\"458.175\" y1=\"151.634\" x2=\"459.056\" y2=\"151.16\" stroke-linecap=\"round\" style=\"stroke:white;stroke-width:4\"/><line x1=\"459.056\" y1=\"151.16\" x2=\"459.941\" y2=\"150.694\" stroke-linecap=\"round\" style=\"stroke:white;stroke-width:4\"/><line x1=\"459.941\" y1=\"150.694\" x2=\"460.83\" y2=\"150.236\" stroke-linecap=\"round\" style=\"stroke:white;stroke-width:4\"/><line x1=\"460.83\" y1=\"150.236\" x2=\"461.723\" y2=\"149.786\" stroke-linecap=\"round\" style=\"stroke:white;stroke-width:4\"/><line x1=\"461.723\" y1=\"149.786\" x2=\"462.62\" y2=\"149.344\" stroke-linecap=\"round\" style=\"stroke:white;stroke-width:4\"/><line x1=\"462.62\" y1=\"149.344\" x2=\"463.521\" y2=\"148.91\" stroke-linecap=\"round\" style=\"stroke:white;stroke-width:4\"/><line x1=\"463.521\" y1=\"148.91\" x2=\"464.426\" y2=\"148.484\" stroke-linecap=\"round\" style=\"stroke:white;stroke-width:4\"/><line x1=\"464.426\" y1=\"148.484\" x2=\"465.335\" y2=\"148.066\" stroke-linecap=\"round\" style=\"stroke:white;stroke-width:4\"/><line x1=\"465.335\" y1=\"148.066\" x2=\"466.247\" y2=\"147.657\" stroke-linecap=\"round\" style=\"stroke:white;stroke-width:4\"/><line x1=\"466.247\" y1=\"147.657\" x2=\"467.163\" y2=\"147.256\" stroke-linecap=\"round\" style=\"stroke:white;stroke-width:4\"/><line x1=\"467.163\" y1=\"147.256\" x2=\"468.083\" y2=\"146.863\" stroke-linecap=\"round\" style=\"stroke:white;stroke-width:4\"/><line x1=\"468.083\" y1=\"146.863\" x2=\"469.006\" y2=\"146.478\" stroke-linecap=\"round\" style=\"stroke:white;stroke-width:4\"/><line x1=\"469.006\" y1=\"146.478\" x2=\"469.932\" y2=\"146.102\" stroke-linecap=\"round\" style=\"stroke:white;stroke-width:4\"/><line x1=\"469.932\" y1=\"146.102\" x2=\"470.862\" y2=\"145.734\" stroke-linecap=\"round\" style=\"stroke:white;stroke-width:4\"/><line x1=\"470.862\" y1=\"145.734\" x2=\"471.795\" y2=\"145.374\" stroke-linecap=\"round\" style=\"stroke:white;stroke-width:4\"/><line x1=\"471.795\" y1=\"145.374\" x2=\"472.731\" y2=\"145.023\" stroke-linecap=\"round\" style=\"stroke:white;stroke-width:4\"/><line x1=\"472.731\" y1=\"145.023\" x2=\"473.67\" y2=\"144.68\" stroke-linecap=\"round\" style=\"stroke:white;stroke-width:4\"/><line x1=\"473.67\" y1=\"144.68\" x2=\"474.612\" y2=\"144.345\" stroke-linecap=\"round\" style=\"stroke:white;stroke-width:4\"/><line x1=\"474.612\" y1=\"144.345\" x2=\"475.557\" y2=\"144.019\" stroke-linecap=\"round\" style=\"stroke:white;stroke-width:4\"/><line x1=\"475.557\" y1=\"144.019\" x2=\"476.505\" y2=\"143.701\" stroke-linecap=\"round\" style=\"stroke:white;stroke-width:4\"/><line x1=\"476.505\" y1=\"143.701\" x2=\"477.456\" y2=\"143.392\" stroke-linecap=\"round\" style=\"stroke:white;stroke-width:4\"/><line x1=\"477.456\" y1=\"143.392\" x2=\"478.41\" y2=\"143.092\" stroke-linecap=\"round\" style=\"stroke:white;stroke-width:4\"/><line x1=\"478.41\" y1=\"143.092\" x2=\"479.366\" y2=\"142.8\" stroke-linecap=\"round\" style=\"stroke:white;stroke-width:4\"/><line x1=\"479.366\" y1=\"142.8\" x2=\"480.325\" y2=\"142.517\" stroke-linecap=\"round\" style=\"stroke:white;stroke-width:4\"/><line x1=\"480.325\" y1=\"142.517\" x2=\"481.287\" y2=\"142.242\" stroke-linecap=\"round\" style=\"stroke:white;stroke-width:4\"/><line x1=\"481.287\" y1=\"142.242\" x2=\"482.251\" y2=\"141.976\" stroke-linecap=\"round\" style=\"stroke:white;stroke-width:4\"/><line x1=\"482.251\" y1=\"141.976\" x2=\"483.217\" y2=\"141.719\" stroke-linecap=\"round\" style=\"stroke:white;stroke-width:4\"/><line x1=\"483.217\" y1=\"141.719\" x2=\"484.186\" y2=\"141.47\" stroke-linecap=\"round\" style=\"stroke:white;stroke-width:4\"/><line x1=\"484.186\" y1=\"141.47\" x2=\"485.157\" y2=\"141.23\" stroke-linecap=\"round\" style=\"stroke:white;stroke-width:4\"/><line x1=\"485.157\" y1=\"141.23\" x2=\"486.13\" y2=\"140.999\" stroke-linecap=\"round\" style=\"stroke:white;stroke-width:4\"/><line x1=\"486.13\" y1=\"140.999\" x2=\"487.105\" y2=\"140.776\" stroke-linecap=\"round\" style=\"stroke:white;stroke-width:4\"/><line x1=\"487.105\" y1=\"140.776\" x2=\"488.082\" y2=\"140.562\" stroke-linecap=\"round\" style=\"stroke:white;stroke-width:4\"/><line x1=\"488.082\" y1=\"140.562\" x2=\"489.061\" y2=\"140.357\" stroke-linecap=\"round\" style=\"stroke:white;stroke-width:4\"/><line x1=\"489.061\" y1=\"140.357\" x2=\"490.042\" y2=\"140.161\" stroke-linecap=\"round\" style=\"stroke:white;stroke-width:4\"/><line x1=\"490.042\" y1=\"140.161\" x2=\"491.024\" y2=\"139.974\" stroke-linecap=\"round\" style=\"stroke:white;stroke-width:4\"/><line x1=\"491.024\" y1=\"139.974\" x2=\"492.008\" y2=\"139.795\" stroke-linecap=\"round\" style=\"stroke:white;stroke-width:4\"/><line x1=\"492.008\" y1=\"139.795\" x2=\"492.993\" y2=\"139.625\" stroke-linecap=\"round\" style=\"stroke:white;stroke-width:4\"/><line x1=\"492.993\" y1=\"139.625\" x2=\"493.98\" y2=\"139.464\" stroke-linecap=\"round\" style=\"stroke:white;stroke-width:4\"/><line x1=\"493.98\" y1=\"139.464\" x2=\"494.968\" y2=\"139.312\" stroke-linecap=\"round\" style=\"stroke:white;stroke-width:4\"/><line x1=\"494.968\" y1=\"139.312\" x2=\"495.958\" y2=\"139.169\" stroke-linecap=\"round\" style=\"stroke:white;stroke-width:4\"/><line x1=\"495.958\" y1=\"139.169\" x2=\"496.949\" y2=\"139.035\" stroke-linecap=\"round\" style=\"stroke:white;stroke-width:4\"/><line x1=\"496.949\" y1=\"139.035\" x2=\"497.941\" y2=\"138.91\" stroke-linecap=\"round\" style=\"stroke:white;stroke-width:4\"/><line x1=\"497.941\" y1=\"138.91\" x2=\"498.934\" y2=\"138.794\" stroke-linecap=\"round\" style=\"stroke:white;stroke-width:4\"/><line x1=\"498.934\" y1=\"138.794\" x2=\"499.928\" y2=\"138.686\" stroke-linecap=\"round\" style=\"stroke:white;stroke-width:4\"/><line x1=\"499.928\" y1=\"138.686\" x2=\"500.923\" y2=\"138.587\" stroke-linecap=\"round\" style=\"stroke:white;stroke-width:4\"/><line x1=\"500.923\" y1=\"138.587\" x2=\"501.919\" y2=\"138.497\" stroke-linecap=\"round\" style=\"stroke:white;stroke-width:4\"/><line x1=\"501.919\" y1=\"138.497\" x2=\"502.916\" y2=\"138.416\" stroke-linecap=\"round\" style=\"stroke:white;stroke-width:4\"/><line x1=\"502.916\" y1=\"138.416\" x2=\"503.913\" y2=\"138.344\" stroke-linecap=\"round\" style=\"stroke:white;stroke-width:4\"/><line x1=\"503.913\" y1=\"138.344\" x2=\"504.911\" y2=\"138.281\" stroke-linecap=\"round\" style=\"stroke:white;stroke-width:4\"/><line x1=\"504.911\" y1=\"138.281\" x2=\"505.91\" y2=\"138.227\" stroke-linecap=\"round\" style=\"stroke:white;stroke-width:4\"/><line x1=\"505.91\" y1=\"138.227\" x2=\"506.909\" y2=\"138.182\" stroke-linecap=\"round\" style=\"stroke:white;stroke-width:4\"/><line x1=\"506.909\" y1=\"138.182\" x2=\"507.908\" y2=\"138.146\" stroke-linecap=\"round\" style=\"stroke:white;stroke-width:4\"/><line x1=\"507.908\" y1=\"138.146\" x2=\"508.908\" y2=\"138.119\" stroke-linecap=\"round\" style=\"stroke:white;stroke-width:4\"/><line x1=\"508.908\" y1=\"138.119\" x2=\"509.908\" y2=\"138.101\" stroke-linecap=\"round\" style=\"stroke:white;stroke-width:4\"/><line x1=\"509.908\" y1=\"138.101\" x2=\"510.908\" y2=\"138.092\" stroke-linecap=\"round\" style=\"stroke:white;stroke-width:4\"/><line x1=\"510.908\" y1=\"138.092\" x2=\"511.908\" y2=\"138.092\" stroke-linecap=\"round\" style=\"stroke:white;stroke-width:4\"/><line x1=\"511.908\" y1=\"138.092\" x2=\"512.908\" y2=\"138.101\" stroke-linecap=\"round\" style=\"stroke:white;stroke-width:4\"/><line x1=\"512.908\" y1=\"138.101\" x2=\"513.908\" y2=\"138.119\" stroke-linecap=\"round\" style=\"stroke:white;stroke-width:4\"/><line x1=\"513.908\" y1=\"138.119\" x2=\"514.908\" y2=\"138.146\" stroke-linecap=\"round\" style=\"stroke:white;stroke-width:4\"/><line x1=\"514.908\" y1=\"138.146\" x2=\"515.907\" y2=\"138.182\" stroke-linecap=\"round\" style=\"stroke:white;stroke-width:4\"/><line x1=\"515.907\" y1=\"138.182\" x2=\"516.906\" y2=\"138.227\" stroke-linecap=\"round\" style=\"stroke:white;stroke-width:4\"/><line x1=\"516.906\" y1=\"138.227\" x2=\"517.905\" y2=\"138.281\" stroke-linecap=\"round\" style=\"stroke:white;stroke-width:4\"/><line x1=\"517.905\" y1=\"138.281\" x2=\"518.903\" y2=\"138.344\" stroke-linecap=\"round\" style=\"stroke:white;stroke-width:4\"/><line x1=\"518.903\" y1=\"138.344\" x2=\"519.9\" y2=\"138.416\" stroke-linecap=\"round\" style=\"stroke:white;stroke-width:4\"/><line x1=\"519.9\" y1=\"138.416\" x2=\"520.897\" y2=\"138.497\" stroke-linecap=\"round\" style=\"stroke:white;stroke-width:4\"/><line x1=\"520.897\" y1=\"138.497\" x2=\"521.893\" y2=\"138.587\" stroke-linecap=\"round\" style=\"stroke:white;stroke-width:4\"/><line x1=\"521.893\" y1=\"138.587\" x2=\"522.888\" y2=\"138.686\" stroke-linecap=\"round\" style=\"stroke:white;stroke-width:4\"/><line x1=\"522.888\" y1=\"138.686\" x2=\"523.882\" y2=\"138.794\" stroke-linecap=\"round\" style=\"stroke:white;stroke-width:4\"/><line x1=\"523.882\" y1=\"138.794\" x2=\"524.875\" y2=\"138.91\" stroke-linecap=\"round\" style=\"stroke:white;stroke-width:4\"/><line x1=\"524.875\" y1=\"138.91\" x2=\"525.867\" y2=\"139.035\" stroke-linecap=\"round\" style=\"stroke:white;stroke-width:4\"/><line x1=\"525.867\" y1=\"139.035\" x2=\"526.858\" y2=\"139.169\" stroke-linecap=\"round\" style=\"stroke:white;stroke-width:4\"/><line x1=\"526.858\" y1=\"139.169\" x2=\"527.848\" y2=\"139.312\" stroke-linecap=\"round\" style=\"stroke:white;stroke-width:4\"/><line x1=\"527.848\" y1=\"139.312\" x2=\"528.836\" y2=\"139.464\" stroke-linecap=\"round\" style=\"stroke:white;stroke-width:4\"/><line x1=\"528.836\" y1=\"139.464\" x2=\"529.823\" y2=\"139.625\" stroke-linecap=\"round\" style=\"stroke:white;stroke-width:4\"/><line x1=\"529.823\" y1=\"139.625\" x2=\"530.808\" y2=\"139.795\" stroke-linecap=\"round\" style=\"stroke:white;stroke-width:4\"/><line x1=\"530.808\" y1=\"139.795\" x2=\"531.792\" y2=\"139.974\" stroke-linecap=\"round\" style=\"stroke:white;stroke-width:4\"/><line x1=\"531.792\" y1=\"139.974\" x2=\"532.774\" y2=\"140.161\" stroke-linecap=\"round\" style=\"stroke:white;stroke-width:4\"/><line x1=\"532.774\" y1=\"140.161\" x2=\"533.755\" y2=\"140.357\" stroke-linecap=\"round\" style=\"stroke:white;stroke-width:4\"/><line x1=\"533.755\" y1=\"140.357\" x2=\"534.734\" y2=\"140.562\" stroke-linecap=\"round\" style=\"stroke:white;stroke-width:4\"/><line x1=\"534.734\" y1=\"140.562\" x2=\"535.711\" y2=\"140.776\" stroke-linecap=\"round\" style=\"stroke:white;stroke-width:4\"/><line x1=\"535.711\" y1=\"140.776\" x2=\"536.686\" y2=\"140.999\" stroke-linecap=\"round\" style=\"stroke:white;stroke-width:4\"/><line x1=\"536.686\" y1=\"140.999\" x2=\"537.659\" y2=\"141.23\" stroke-linecap=\"round\" style=\"stroke:white;stroke-width:4\"/><line x1=\"537.659\" y1=\"141.23\" x2=\"538.63\" y2=\"141.47\" stroke-linecap=\"round\" style=\"stroke:white;stroke-width:4\"/><line x1=\"538.63\" y1=\"141.47\" x2=\"539.599\" y2=\"141.719\" stroke-linecap=\"round\" style=\"stroke:white;stroke-width:4\"/><line x1=\"539.599\" y1=\"141.719\" x2=\"540.565\" y2=\"141.976\" stroke-linecap=\"round\" style=\"stroke:white;stroke-width:4\"/><line x1=\"540.565\" y1=\"141.976\" x2=\"541.529\" y2=\"142.242\" stroke-linecap=\"round\" style=\"stroke:white;stroke-width:4\"/><line x1=\"541.529\" y1=\"142.242\" x2=\"542.491\" y2=\"142.517\" stroke-linecap=\"round\" style=\"stroke:white;stroke-width:4\"/><line x1=\"542.491\" y1=\"142.517\" x2=\"543.45\" y2=\"142.8\" stroke-linecap=\"round\" style=\"stroke:white;stroke-width:4\"/><line x1=\"543.45\" y1=\"142.8\" x2=\"544.406\" y2=\"143.092\" stroke-linecap=\"round\" style=\"stroke:white;stroke-width:4\"/><line x1=\"544.406\" y1=\"143.092\" x2=\"545.36\" y2=\"143.392\" stroke-linecap=\"round\" style=\"stroke:white;stroke-width:4\"/><line x1=\"545.36\" y1=\"143.392\" x2=\"546.311\" y2=\"143.701\" stroke-linecap=\"round\" style=\"stroke:white;stroke-width:4\"/><line x1=\"546.311\" y1=\"143.701\" x2=\"547.259\" y2=\"144.019\" stroke-linecap=\"round\" style=\"stroke:white;stroke-width:4\"/><line x1=\"547.259\" y1=\"144.019\" x2=\"548.204\" y2=\"144.345\" stroke-linecap=\"round\" style=\"stroke:white;stroke-width:4\"/><line x1=\"548.204\" y1=\"144.345\" x2=\"549.146\" y2=\"144.68\" stroke-linecap=\"round\" style=\"stroke:white;stroke-width:4\"/><line x1=\"549.146\" y1=\"144.68\" x2=\"550.085\" y2=\"145.023\" stroke-linecap=\"round\" style=\"stroke:white;stroke-width:4\"/><line x1=\"550.085\" y1=\"145.023\" x2=\"551.021\" y2=\"145.374\" stroke-linecap=\"round\" style=\"stroke:white;stroke-width:4\"/><line x1=\"551.021\" y1=\"145.374\" x2=\"551.954\" y2=\"145.734\" stroke-linecap=\"round\" style=\"stroke:white;stroke-width:4\"/><line x1=\"551.954\" y1=\"145.734\" x2=\"552.884\" y2=\"146.102\" stroke-linecap=\"round\" style=\"stroke:white;stroke-width:4\"/><line x1=\"552.884\" y1=\"146.102\" x2=\"553.81\" y2=\"146.478\" stroke-linecap=\"round\" style=\"stroke:white;stroke-width:4\"/><line x1=\"553.81\" y1=\"146.478\" x2=\"554.733\" y2=\"146.863\" stroke-linecap=\"round\" style=\"stroke:white;stroke-width:4\"/><line x1=\"554.733\" y1=\"146.863\" x2=\"555.653\" y2=\"147.256\" stroke-linecap=\"round\" style=\"stroke:white;stroke-width:4\"/><line x1=\"555.653\" y1=\"147.256\" x2=\"556.569\" y2=\"147.657\" stroke-linecap=\"round\" style=\"stroke:white;stroke-width:4\"/><line x1=\"556.569\" y1=\"147.657\" x2=\"557.481\" y2=\"148.066\" stroke-linecap=\"round\" style=\"stroke:white;stroke-width:4\"/><line x1=\"557.481\" y1=\"148.066\" x2=\"558.39\" y2=\"148.484\" stroke-linecap=\"round\" style=\"stroke:white;stroke-width:4\"/><line x1=\"558.39\" y1=\"148.484\" x2=\"559.295\" y2=\"148.91\" stroke-linecap=\"round\" style=\"stroke:white;stroke-width:4\"/><line x1=\"559.295\" y1=\"148.91\" x2=\"560.196\" y2=\"149.344\" stroke-linecap=\"round\" style=\"stroke:white;stroke-width:4\"/><line x1=\"560.196\" y1=\"149.344\" x2=\"561.093\" y2=\"149.786\" stroke-linecap=\"round\" style=\"stroke:white;stroke-width:4\"/><line x1=\"561.093\" y1=\"149.786\" x2=\"561.986\" y2=\"150.236\" stroke-linecap=\"round\" style=\"stroke:white;stroke-width:4\"/><line x1=\"561.986\" y1=\"150.236\" x2=\"562.875\" y2=\"150.694\" stroke-linecap=\"round\" style=\"stroke:white;stroke-width:4\"/><line x1=\"562.875\" y1=\"150.694\" x2=\"563.76\" y2=\"151.16\" stroke-linecap=\"round\" style=\"stroke:white;stroke-width:4\"/><line x1=\"563.76\" y1=\"151.16\" x2=\"564.641\" y2=\"151.634\" stroke-linecap=\"round\" style=\"stroke:white;stroke-width:4\"/><line x1=\"564.641\" y1=\"151.634\" x2=\"565.517\" y2=\"152.116\" stroke-linecap=\"round\" style=\"stroke:white;stroke-width:4\"/><line x1=\"565.517\" y1=\"152.116\" x2=\"566.389\" y2=\"152.606\" stroke-linecap=\"round\" style=\"stroke:white;stroke-width:4\"/><line x1=\"566.389\" y1=\"152.606\" x2=\"567.257\" y2=\"153.103\" stroke-linecap=\"round\" style=\"stroke:white;stroke-width:4\"/><line x1=\"567.257\" y1=\"153.103\" x2=\"568.12\" y2=\"153.608\" stroke-linecap=\"round\" style=\"stroke:white;stroke-width:4\"/><line x1=\"568.12\" y1=\"153.608\" x2=\"568.978\" y2=\"154.121\" stroke-linecap=\"round\" style=\"stroke:white;stroke-width:4\"/><line x1=\"568.978\" y1=\"154.121\" x2=\"569.832\" y2=\"154.642\" stroke-linecap=\"round\" style=\"stroke:white;stroke-width:4\"/><line x1=\"569.832\" y1=\"154.642\" x2=\"570.681\" y2=\"155.17\" stroke-linecap=\"round\" style=\"stroke:white;stroke-width:4\"/><line x1=\"570.681\" y1=\"155.17\" x2=\"571.525\" y2=\"155.706\" stroke-linecap=\"round\" style=\"stroke:white;stroke-width:4\"/><line x1=\"571.525\" y1=\"155.706\" x2=\"572.364\" y2=\"156.249\" stroke-linecap=\"round\" style=\"stroke:white;stroke-width:4\"/><line x1=\"572.364\" y1=\"156.249\" x2=\"573.199\" y2=\"156.8\" stroke-linecap=\"round\" style=\"stroke:white;stroke-width:4\"/><line x1=\"573.199\" y1=\"156.8\" x2=\"574.029\" y2=\"157.358\" stroke-linecap=\"round\" style=\"stroke:white;stroke-width:4\"/><line x1=\"574.029\" y1=\"157.358\" x2=\"574.854\" y2=\"157.924\" stroke-linecap=\"round\" style=\"stroke:white;stroke-width:4\"/><line x1=\"574.854\" y1=\"157.924\" x2=\"575.673\" y2=\"158.497\" stroke-linecap=\"round\" style=\"stroke:white;stroke-width:4\"/><line x1=\"575.673\" y1=\"158.497\" x2=\"576.487\" y2=\"159.077\" stroke-linecap=\"round\" style=\"stroke:white;stroke-width:4\"/><line x1=\"576.487\" y1=\"159.077\" x2=\"577.296\" y2=\"159.665\" stroke-linecap=\"round\" style=\"stroke:white;stroke-width:4\"/><line x1=\"577.296\" y1=\"159.665\" x2=\"578.1\" y2=\"160.26\" stroke-linecap=\"round\" style=\"stroke:white;stroke-width:4\"/><line x1=\"578.1\" y1=\"160.26\" x2=\"578.898\" y2=\"160.862\" stroke-linecap=\"round\" style=\"stroke:white;stroke-width:4\"/><line x1=\"578.898\" y1=\"160.862\" x2=\"579.691\" y2=\"161.471\" stroke-linecap=\"round\" style=\"stroke:white;stroke-width:4\"/><line x1=\"579.691\" y1=\"161.471\" x2=\"580.478\" y2=\"162.087\" stroke-linecap=\"round\" style=\"stroke:white;stroke-width:4\"/><line x1=\"580.478\" y1=\"162.087\" x2=\"581.26\" y2=\"162.71\" stroke-linecap=\"round\" style=\"stroke:white;stroke-width:4\"/><line x1=\"581.26\" y1=\"162.71\" x2=\"582.036\" y2=\"163.34\" stroke-linecap=\"round\" style=\"stroke:white;stroke-width:4\"/><line x1=\"582.036\" y1=\"163.34\" x2=\"582.807\" y2=\"163.977\" stroke-linecap=\"round\" style=\"stroke:white;stroke-width:4\"/><line x1=\"582.807\" y1=\"163.977\" x2=\"583.572\" y2=\"164.621\" stroke-linecap=\"round\" style=\"stroke:white;stroke-width:4\"/><line x1=\"583.572\" y1=\"164.621\" x2=\"584.331\" y2=\"165.272\" stroke-linecap=\"round\" style=\"stroke:white;stroke-width:4\"/><line x1=\"584.331\" y1=\"165.272\" x2=\"585.084\" y2=\"165.93\" stroke-linecap=\"round\" style=\"stroke:white;stroke-width:4\"/><line x1=\"585.084\" y1=\"165.93\" x2=\"585.831\" y2=\"166.595\" stroke-linecap=\"round\" style=\"stroke:white;stroke-width:4\"/><line x1=\"585.831\" y1=\"166.595\" x2=\"586.572\" y2=\"167.266\" stroke-linecap=\"round\" style=\"stroke:white;stroke-width:4\"/><line x1=\"586.572\" y1=\"167.266\" x2=\"587.307\" y2=\"167.944\" stroke-linecap=\"round\" style=\"stroke:white;stroke-width:4\"/><line x1=\"587.307\" y1=\"167.944\" x2=\"588.036\" y2=\"168.629\" stroke-linecap=\"round\" style=\"stroke:white;stroke-width:4\"/><line x1=\"588.036\" y1=\"168.629\" x2=\"588.759\" y2=\"169.32\" stroke-linecap=\"round\" style=\"stroke:white;stroke-width:4\"/><line x1=\"588.759\" y1=\"169.32\" x2=\"589.476\" y2=\"170.018\" stroke-linecap=\"round\" style=\"stroke:white;stroke-width:4\"/><line x1=\"589.476\" y1=\"170.018\" x2=\"590.186\" y2=\"170.722\" stroke-linecap=\"round\" style=\"stroke:white;stroke-width:4\"/><line x1=\"590.186\" y1=\"170.722\" x2=\"590.89\" y2=\"171.432\" stroke-linecap=\"round\" style=\"stroke:white;stroke-width:4\"/><line x1=\"590.89\" y1=\"171.432\" x2=\"591.588\" y2=\"172.149\" stroke-linecap=\"round\" style=\"stroke:white;stroke-width:4\"/><line x1=\"591.588\" y1=\"172.149\" x2=\"592.279\" y2=\"172.872\" stroke-linecap=\"round\" style=\"stroke:white;stroke-width:4\"/><line x1=\"592.279\" y1=\"172.872\" x2=\"592.964\" y2=\"173.601\" stroke-linecap=\"round\" style=\"stroke:white;stroke-width:4\"/><line x1=\"592.964\" y1=\"173.601\" x2=\"593.642\" y2=\"174.336\" stroke-linecap=\"round\" style=\"stroke:white;stroke-width:4\"/><line x1=\"593.642\" y1=\"174.336\" x2=\"594.313\" y2=\"175.077\" stroke-linecap=\"round\" style=\"stroke:white;stroke-width:4\"/><line x1=\"594.313\" y1=\"175.077\" x2=\"594.978\" y2=\"175.824\" stroke-linecap=\"round\" style=\"stroke:white;stroke-width:4\"/><line x1=\"594.978\" y1=\"175.824\" x2=\"595.636\" y2=\"176.577\" stroke-linecap=\"round\" style=\"stroke:white;stroke-width:4\"/><line x1=\"595.636\" y1=\"176.577\" x2=\"596.287\" y2=\"177.336\" stroke-linecap=\"round\" style=\"stroke:white;stroke-width:4\"/><line x1=\"596.287\" y1=\"177.336\" x2=\"596.931\" y2=\"178.101\" stroke-linecap=\"round\" style=\"stroke:white;stroke-width:4\"/><line x1=\"596.931\" y1=\"178.101\" x2=\"597.568\" y2=\"178.872\" stroke-linecap=\"round\" style=\"stroke:white;stroke-width:4\"/><line x1=\"597.568\" y1=\"178.872\" x2=\"598.198\" y2=\"179.648\" stroke-linecap=\"round\" style=\"stroke:white;stroke-width:4\"/><line x1=\"598.198\" y1=\"179.648\" x2=\"598.821\" y2=\"180.43\" stroke-linecap=\"round\" style=\"stroke:white;stroke-width:4\"/><line x1=\"598.821\" y1=\"180.43\" x2=\"599.437\" y2=\"181.217\" stroke-linecap=\"round\" style=\"stroke:white;stroke-width:4\"/><line x1=\"599.437\" y1=\"181.217\" x2=\"600.046\" y2=\"182.01\" stroke-linecap=\"round\" style=\"stroke:white;stroke-width:4\"/><line x1=\"600.046\" y1=\"182.01\" x2=\"600.648\" y2=\"182.808\" stroke-linecap=\"round\" style=\"stroke:white;stroke-width:4\"/><line x1=\"600.648\" y1=\"182.808\" x2=\"601.243\" y2=\"183.612\" stroke-linecap=\"round\" style=\"stroke:white;stroke-width:4\"/><line x1=\"601.243\" y1=\"183.612\" x2=\"601.831\" y2=\"184.421\" stroke-linecap=\"round\" style=\"stroke:white;stroke-width:4\"/><line x1=\"601.831\" y1=\"184.421\" x2=\"602.411\" y2=\"185.235\" stroke-linecap=\"round\" style=\"stroke:white;stroke-width:4\"/><line x1=\"602.411\" y1=\"185.235\" x2=\"602.984\" y2=\"186.054\" stroke-linecap=\"round\" style=\"stroke:white;stroke-width:4\"/><line x1=\"602.984\" y1=\"186.054\" x2=\"603.55\" y2=\"186.879\" stroke-linecap=\"round\" style=\"stroke:white;stroke-width:4\"/><line x1=\"603.55\" y1=\"186.879\" x2=\"604.108\" y2=\"187.709\" stroke-linecap=\"round\" style=\"stroke:white;stroke-width:4\"/><line x1=\"604.108\" y1=\"187.709\" x2=\"604.659\" y2=\"188.544\" stroke-linecap=\"round\" style=\"stroke:white;stroke-width:4\"/><line x1=\"604.659\" y1=\"188.544\" x2=\"605.202\" y2=\"189.383\" stroke-linecap=\"round\" style=\"stroke:white;stroke-width:4\"/><line x1=\"605.202\" y1=\"189.383\" x2=\"605.738\" y2=\"190.227\" stroke-linecap=\"round\" style=\"stroke:white;stroke-width:4\"/><line x1=\"605.738\" y1=\"190.227\" x2=\"606.266\" y2=\"191.076\" stroke-linecap=\"round\" style=\"stroke:white;stroke-width:4\"/><line x1=\"606.266\" y1=\"191.076\" x2=\"606.787\" y2=\"191.93\" stroke-linecap=\"round\" style=\"stroke:white;stroke-width:4\"/><line x1=\"606.787\" y1=\"191.93\" x2=\"607.3\" y2=\"192.788\" stroke-linecap=\"round\" style=\"stroke:white;stroke-width:4\"/><line x1=\"607.3\" y1=\"192.788\" x2=\"607.805\" y2=\"193.651\" stroke-linecap=\"round\" style=\"stroke:white;stroke-width:4\"/><line x1=\"607.805\" y1=\"193.651\" x2=\"608.302\" y2=\"194.519\" stroke-linecap=\"round\" style=\"stroke:white;stroke-width:4\"/><line x1=\"608.302\" y1=\"194.519\" x2=\"608.792\" y2=\"195.391\" stroke-linecap=\"round\" style=\"stroke:white;stroke-width:4\"/><line x1=\"608.792\" y1=\"195.391\" x2=\"609.274\" y2=\"196.267\" stroke-linecap=\"round\" style=\"stroke:white;stroke-width:4\"/><line x1=\"609.274\" y1=\"196.267\" x2=\"609.748\" y2=\"197.148\" stroke-linecap=\"round\" style=\"stroke:white;stroke-width:4\"/><line x1=\"609.748\" y1=\"197.148\" x2=\"610.214\" y2=\"198.033\" stroke-linecap=\"round\" style=\"stroke:white;stroke-width:4\"/><line x1=\"610.214\" y1=\"198.033\" x2=\"610.672\" y2=\"198.922\" stroke-linecap=\"round\" style=\"stroke:white;stroke-width:4\"/><line x1=\"610.672\" y1=\"198.922\" x2=\"611.122\" y2=\"199.815\" stroke-linecap=\"round\" style=\"stroke:white;stroke-width:4\"/><line x1=\"611.122\" y1=\"199.815\" x2=\"611.564\" y2=\"200.712\" stroke-linecap=\"round\" style=\"stroke:white;stroke-width:4\"/><line x1=\"611.564\" y1=\"200.712\" x2=\"611.998\" y2=\"201.613\" stroke-linecap=\"round\" style=\"stroke:white;stroke-width:4\"/><line x1=\"611.998\" y1=\"201.613\" x2=\"612.424\" y2=\"202.518\" stroke-linecap=\"round\" style=\"stroke:white;stroke-width:4\"/><line x1=\"612.424\" y1=\"202.518\" x2=\"612.842\" y2=\"203.427\" stroke-linecap=\"round\" style=\"stroke:white;stroke-width:4\"/><line x1=\"612.842\" y1=\"203.427\" x2=\"613.251\" y2=\"204.339\" stroke-linecap=\"round\" style=\"stroke:white;stroke-width:4\"/><line x1=\"613.251\" y1=\"204.339\" x2=\"613.652\" y2=\"205.255\" stroke-linecap=\"round\" style=\"stroke:white;stroke-width:4\"/><line x1=\"613.652\" y1=\"205.255\" x2=\"614.045\" y2=\"206.175\" stroke-linecap=\"round\" style=\"stroke:white;stroke-width:4\"/><line x1=\"614.045\" y1=\"206.175\" x2=\"614.43\" y2=\"207.098\" stroke-linecap=\"round\" style=\"stroke:white;stroke-width:4\"/><line x1=\"614.43\" y1=\"207.098\" x2=\"614.806\" y2=\"208.024\" stroke-linecap=\"round\" style=\"stroke:white;stroke-width:4\"/><line x1=\"614.806\" y1=\"208.024\" x2=\"615.174\" y2=\"208.954\" stroke-linecap=\"round\" style=\"stroke:white;stroke-width:4\"/><line x1=\"615.174\" y1=\"208.954\" x2=\"615.534\" y2=\"209.887\" stroke-linecap=\"round\" style=\"stroke:white;stroke-width:4\"/><line x1=\"615.534\" y1=\"209.887\" x2=\"615.885\" y2=\"210.823\" stroke-linecap=\"round\" style=\"stroke:white;stroke-width:4\"/><line x1=\"615.885\" y1=\"210.823\" x2=\"616.228\" y2=\"211.762\" stroke-linecap=\"round\" style=\"stroke:white;stroke-width:4\"/><line x1=\"616.228\" y1=\"211.762\" x2=\"616.563\" y2=\"212.704\" stroke-linecap=\"round\" style=\"stroke:white;stroke-width:4\"/><line x1=\"616.563\" y1=\"212.704\" x2=\"616.889\" y2=\"213.649\" stroke-linecap=\"round\" style=\"stroke:white;stroke-width:4\"/><line x1=\"616.889\" y1=\"213.649\" x2=\"617.207\" y2=\"214.597\" stroke-linecap=\"round\" style=\"stroke:white;stroke-width:4\"/><line x1=\"617.207\" y1=\"214.597\" x2=\"617.516\" y2=\"215.548\" stroke-linecap=\"round\" style=\"stroke:white;stroke-width:4\"/><line x1=\"617.516\" y1=\"215.548\" x2=\"617.816\" y2=\"216.502\" stroke-linecap=\"round\" style=\"stroke:white;stroke-width:4\"/><line x1=\"617.816\" y1=\"216.502\" x2=\"618.108\" y2=\"217.458\" stroke-linecap=\"round\" style=\"stroke:white;stroke-width:4\"/><line x1=\"618.108\" y1=\"217.458\" x2=\"618.391\" y2=\"218.417\" stroke-linecap=\"round\" style=\"stroke:white;stroke-width:4\"/><line x1=\"618.391\" y1=\"218.417\" x2=\"618.666\" y2=\"219.379\" stroke-linecap=\"round\" style=\"stroke:white;stroke-width:4\"/><line x1=\"618.666\" y1=\"219.379\" x2=\"618.932\" y2=\"220.343\" stroke-linecap=\"round\" style=\"stroke:white;stroke-width:4\"/><line x1=\"618.932\" y1=\"220.343\" x2=\"619.189\" y2=\"221.309\" stroke-linecap=\"round\" style=\"stroke:white;stroke-width:4\"/><line x1=\"619.189\" y1=\"221.309\" x2=\"619.438\" y2=\"222.278\" stroke-linecap=\"round\" style=\"stroke:white;stroke-width:4\"/><line x1=\"619.438\" y1=\"222.278\" x2=\"619.678\" y2=\"223.249\" stroke-linecap=\"round\" style=\"stroke:white;stroke-width:4\"/><line x1=\"619.678\" y1=\"223.249\" x2=\"619.909\" y2=\"224.222\" stroke-linecap=\"round\" style=\"stroke:white;stroke-width:4\"/><line x1=\"619.909\" y1=\"224.222\" x2=\"620.132\" y2=\"225.197\" stroke-linecap=\"round\" style=\"stroke:white;stroke-width:4\"/><line x1=\"620.132\" y1=\"225.197\" x2=\"620.346\" y2=\"226.174\" stroke-linecap=\"round\" style=\"stroke:white;stroke-width:4\"/><line x1=\"620.346\" y1=\"226.174\" x2=\"620.551\" y2=\"227.153\" stroke-linecap=\"round\" style=\"stroke:white;stroke-width:4\"/><line x1=\"620.551\" y1=\"227.153\" x2=\"620.747\" y2=\"228.134\" stroke-linecap=\"round\" style=\"stroke:white;stroke-width:4\"/><line x1=\"620.747\" y1=\"228.134\" x2=\"620.934\" y2=\"229.116\" stroke-linecap=\"round\" style=\"stroke:white;stroke-width:4\"/><line x1=\"620.934\" y1=\"229.116\" x2=\"621.113\" y2=\"230.1\" stroke-linecap=\"round\" style=\"stroke:white;stroke-width:4\"/><line x1=\"621.113\" y1=\"230.1\" x2=\"621.283\" y2=\"231.085\" stroke-linecap=\"round\" style=\"stroke:white;stroke-width:4\"/><line x1=\"621.283\" y1=\"231.085\" x2=\"621.444\" y2=\"232.072\" stroke-linecap=\"round\" style=\"stroke:white;stroke-width:4\"/><line x1=\"621.444\" y1=\"232.072\" x2=\"621.596\" y2=\"233.06\" stroke-linecap=\"round\" style=\"stroke:white;stroke-width:4\"/><line x1=\"621.596\" y1=\"233.06\" x2=\"621.739\" y2=\"234.05\" stroke-linecap=\"round\" style=\"stroke:white;stroke-width:4\"/><line x1=\"621.739\" y1=\"234.05\" x2=\"621.873\" y2=\"235.041\" stroke-linecap=\"round\" style=\"stroke:white;stroke-width:4\"/><line x1=\"621.873\" y1=\"235.041\" x2=\"621.998\" y2=\"236.033\" stroke-linecap=\"round\" style=\"stroke:white;stroke-width:4\"/><line x1=\"621.998\" y1=\"236.033\" x2=\"622.114\" y2=\"237.026\" stroke-linecap=\"round\" style=\"stroke:white;stroke-width:4\"/><line x1=\"622.114\" y1=\"237.026\" x2=\"622.222\" y2=\"238.02\" stroke-linecap=\"round\" style=\"stroke:white;stroke-width:4\"/><line x1=\"622.222\" y1=\"238.02\" x2=\"622.321\" y2=\"239.015\" stroke-linecap=\"round\" style=\"stroke:white;stroke-width:4\"/><line x1=\"622.321\" y1=\"239.015\" x2=\"622.411\" y2=\"240.011\" stroke-linecap=\"round\" style=\"stroke:white;stroke-width:4\"/><line x1=\"622.411\" y1=\"240.011\" x2=\"622.492\" y2=\"241.008\" stroke-linecap=\"round\" style=\"stroke:white;stroke-width:4\"/><line x1=\"622.492\" y1=\"241.008\" x2=\"622.564\" y2=\"242.005\" stroke-linecap=\"round\" style=\"stroke:white;stroke-width:4\"/><line x1=\"622.564\" y1=\"242.005\" x2=\"622.627\" y2=\"243.003\" stroke-linecap=\"round\" style=\"stroke:white;stroke-width:4\"/><line x1=\"622.627\" y1=\"243.003\" x2=\"622.681\" y2=\"244.002\" stroke-linecap=\"round\" style=\"stroke:white;stroke-width:4\"/><line x1=\"622.681\" y1=\"244.002\" x2=\"622.726\" y2=\"245.001\" stroke-linecap=\"round\" style=\"stroke:white;stroke-width:4\"/><line x1=\"622.726\" y1=\"245.001\" x2=\"622.762\" y2=\"246.0\" stroke-linecap=\"round\" style=\"stroke:white;stroke-width:4\"/><line x1=\"622.762\" y1=\"246.0\" x2=\"622.789\" y2=\"247.0\" stroke-linecap=\"round\" style=\"stroke:white;stroke-width:4\"/><line x1=\"622.789\" y1=\"247.0\" x2=\"622.807\" y2=\"248.0\" stroke-linecap=\"round\" style=\"stroke:white;stroke-width:4\"/><line x1=\"622.807\" y1=\"248.0\" x2=\"622.816\" y2=\"249.0\" stroke-linecap=\"round\" style=\"stroke:white;stroke-width:4\"/><line x1=\"622.816\" y1=\"249.0\" x2=\"622.816\" y2=\"250.0\" stroke-linecap=\"round\" style=\"stroke:white;stroke-width:4\"/><line x1=\"622.816\" y1=\"250.0\" x2=\"622.807\" y2=\"251.0\" stroke-linecap=\"round\" style=\"stroke:white;stroke-width:4\"/><line x1=\"622.807\" y1=\"251.0\" x2=\"622.789\" y2=\"252.0\" stroke-linecap=\"round\" style=\"stroke:white;stroke-width:4\"/><line x1=\"622.789\" y1=\"252.0\" x2=\"622.762\" y2=\"253.0\" stroke-linecap=\"round\" style=\"stroke:white;stroke-width:4\"/><line x1=\"622.762\" y1=\"253.0\" x2=\"622.726\" y2=\"253.999\" stroke-linecap=\"round\" style=\"stroke:white;stroke-width:4\"/><line x1=\"622.726\" y1=\"253.999\" x2=\"622.681\" y2=\"254.998\" stroke-linecap=\"round\" style=\"stroke:white;stroke-width:4\"/><line x1=\"622.681\" y1=\"254.998\" x2=\"622.627\" y2=\"255.997\" stroke-linecap=\"round\" style=\"stroke:white;stroke-width:4\"/><line x1=\"622.627\" y1=\"255.997\" x2=\"622.564\" y2=\"256.995\" stroke-linecap=\"round\" style=\"stroke:white;stroke-width:4\"/><line x1=\"622.564\" y1=\"256.995\" x2=\"622.492\" y2=\"257.992\" stroke-linecap=\"round\" style=\"stroke:white;stroke-width:4\"/><line x1=\"622.492\" y1=\"257.992\" x2=\"622.411\" y2=\"258.989\" stroke-linecap=\"round\" style=\"stroke:white;stroke-width:4\"/><line x1=\"622.411\" y1=\"258.989\" x2=\"622.321\" y2=\"259.985\" stroke-linecap=\"round\" style=\"stroke:white;stroke-width:4\"/><line x1=\"622.321\" y1=\"259.985\" x2=\"622.222\" y2=\"260.98\" stroke-linecap=\"round\" style=\"stroke:white;stroke-width:4\"/><line x1=\"622.222\" y1=\"260.98\" x2=\"622.114\" y2=\"261.974\" stroke-linecap=\"round\" style=\"stroke:white;stroke-width:4\"/><line x1=\"622.114\" y1=\"261.974\" x2=\"621.998\" y2=\"262.967\" stroke-linecap=\"round\" style=\"stroke:white;stroke-width:4\"/><line x1=\"621.998\" y1=\"262.967\" x2=\"621.873\" y2=\"263.959\" stroke-linecap=\"round\" style=\"stroke:white;stroke-width:4\"/><line x1=\"621.873\" y1=\"263.959\" x2=\"621.739\" y2=\"264.95\" stroke-linecap=\"round\" style=\"stroke:white;stroke-width:4\"/><line x1=\"621.739\" y1=\"264.95\" x2=\"621.596\" y2=\"265.94\" stroke-linecap=\"round\" style=\"stroke:white;stroke-width:4\"/><line x1=\"621.596\" y1=\"265.94\" x2=\"621.444\" y2=\"266.928\" stroke-linecap=\"round\" style=\"stroke:white;stroke-width:4\"/><line x1=\"621.444\" y1=\"266.928\" x2=\"621.283\" y2=\"267.915\" stroke-linecap=\"round\" style=\"stroke:white;stroke-width:4\"/><line x1=\"621.283\" y1=\"267.915\" x2=\"621.113\" y2=\"268.9\" stroke-linecap=\"round\" style=\"stroke:white;stroke-width:4\"/><line x1=\"621.113\" y1=\"268.9\" x2=\"620.934\" y2=\"269.884\" stroke-linecap=\"round\" style=\"stroke:white;stroke-width:4\"/><line x1=\"620.934\" y1=\"269.884\" x2=\"620.747\" y2=\"270.866\" stroke-linecap=\"round\" style=\"stroke:white;stroke-width:4\"/><line x1=\"620.747\" y1=\"270.866\" x2=\"620.551\" y2=\"271.847\" stroke-linecap=\"round\" style=\"stroke:white;stroke-width:4\"/><line x1=\"620.551\" y1=\"271.847\" x2=\"620.346\" y2=\"272.826\" stroke-linecap=\"round\" style=\"stroke:white;stroke-width:4\"/><line x1=\"620.346\" y1=\"272.826\" x2=\"620.132\" y2=\"273.803\" stroke-linecap=\"round\" style=\"stroke:white;stroke-width:4\"/><line x1=\"620.132\" y1=\"273.803\" x2=\"619.909\" y2=\"274.778\" stroke-linecap=\"round\" style=\"stroke:white;stroke-width:4\"/><line x1=\"619.909\" y1=\"274.778\" x2=\"619.678\" y2=\"275.751\" stroke-linecap=\"round\" style=\"stroke:white;stroke-width:4\"/><line x1=\"619.678\" y1=\"275.751\" x2=\"619.438\" y2=\"276.722\" stroke-linecap=\"round\" style=\"stroke:white;stroke-width:4\"/><line x1=\"619.438\" y1=\"276.722\" x2=\"619.189\" y2=\"277.691\" stroke-linecap=\"round\" style=\"stroke:white;stroke-width:4\"/><line x1=\"619.189\" y1=\"277.691\" x2=\"618.932\" y2=\"278.657\" stroke-linecap=\"round\" style=\"stroke:white;stroke-width:4\"/><line x1=\"618.932\" y1=\"278.657\" x2=\"618.666\" y2=\"279.621\" stroke-linecap=\"round\" style=\"stroke:white;stroke-width:4\"/><line x1=\"618.666\" y1=\"279.621\" x2=\"618.391\" y2=\"280.583\" stroke-linecap=\"round\" style=\"stroke:white;stroke-width:4\"/><line x1=\"618.391\" y1=\"280.583\" x2=\"618.108\" y2=\"281.542\" stroke-linecap=\"round\" style=\"stroke:white;stroke-width:4\"/><line x1=\"618.108\" y1=\"281.542\" x2=\"617.816\" y2=\"282.498\" stroke-linecap=\"round\" style=\"stroke:white;stroke-width:4\"/><line x1=\"617.816\" y1=\"282.498\" x2=\"617.516\" y2=\"283.452\" stroke-linecap=\"round\" style=\"stroke:white;stroke-width:4\"/><line x1=\"617.516\" y1=\"283.452\" x2=\"617.207\" y2=\"284.403\" stroke-linecap=\"round\" style=\"stroke:white;stroke-width:4\"/><line x1=\"617.207\" y1=\"284.403\" x2=\"616.889\" y2=\"285.351\" stroke-linecap=\"round\" style=\"stroke:white;stroke-width:4\"/><line x1=\"616.889\" y1=\"285.351\" x2=\"616.563\" y2=\"286.296\" stroke-linecap=\"round\" style=\"stroke:white;stroke-width:4\"/><line x1=\"616.563\" y1=\"286.296\" x2=\"616.228\" y2=\"287.238\" stroke-linecap=\"round\" style=\"stroke:white;stroke-width:4\"/><line x1=\"616.228\" y1=\"287.238\" x2=\"615.885\" y2=\"288.177\" stroke-linecap=\"round\" style=\"stroke:white;stroke-width:4\"/><line x1=\"615.885\" y1=\"288.177\" x2=\"615.534\" y2=\"289.113\" stroke-linecap=\"round\" style=\"stroke:white;stroke-width:4\"/><line x1=\"615.534\" y1=\"289.113\" x2=\"615.174\" y2=\"290.046\" stroke-linecap=\"round\" style=\"stroke:white;stroke-width:4\"/><line x1=\"615.174\" y1=\"290.046\" x2=\"614.806\" y2=\"290.976\" stroke-linecap=\"round\" style=\"stroke:white;stroke-width:4\"/><line x1=\"614.806\" y1=\"290.976\" x2=\"614.43\" y2=\"291.902\" stroke-linecap=\"round\" style=\"stroke:white;stroke-width:4\"/><line x1=\"614.43\" y1=\"291.902\" x2=\"614.045\" y2=\"292.825\" stroke-linecap=\"round\" style=\"stroke:white;stroke-width:4\"/><line x1=\"614.045\" y1=\"292.825\" x2=\"613.652\" y2=\"293.745\" stroke-linecap=\"round\" style=\"stroke:white;stroke-width:4\"/><line x1=\"613.652\" y1=\"293.745\" x2=\"613.251\" y2=\"294.661\" stroke-linecap=\"round\" style=\"stroke:white;stroke-width:4\"/><line x1=\"613.251\" y1=\"294.661\" x2=\"612.842\" y2=\"295.573\" stroke-linecap=\"round\" style=\"stroke:white;stroke-width:4\"/><line x1=\"612.842\" y1=\"295.573\" x2=\"612.424\" y2=\"296.482\" stroke-linecap=\"round\" style=\"stroke:white;stroke-width:4\"/><line x1=\"612.424\" y1=\"296.482\" x2=\"611.998\" y2=\"297.387\" stroke-linecap=\"round\" style=\"stroke:white;stroke-width:4\"/><line x1=\"611.998\" y1=\"297.387\" x2=\"611.564\" y2=\"298.288\" stroke-linecap=\"round\" style=\"stroke:white;stroke-width:4\"/><line x1=\"611.564\" y1=\"298.288\" x2=\"611.122\" y2=\"299.185\" stroke-linecap=\"round\" style=\"stroke:white;stroke-width:4\"/><line x1=\"611.122\" y1=\"299.185\" x2=\"610.672\" y2=\"300.078\" stroke-linecap=\"round\" style=\"stroke:white;stroke-width:4\"/><line x1=\"610.672\" y1=\"300.078\" x2=\"610.214\" y2=\"300.967\" stroke-linecap=\"round\" style=\"stroke:white;stroke-width:4\"/><line x1=\"610.214\" y1=\"300.967\" x2=\"609.748\" y2=\"301.852\" stroke-linecap=\"round\" style=\"stroke:white;stroke-width:4\"/><line x1=\"609.748\" y1=\"301.852\" x2=\"609.274\" y2=\"302.733\" stroke-linecap=\"round\" style=\"stroke:white;stroke-width:4\"/><line x1=\"609.274\" y1=\"302.733\" x2=\"608.792\" y2=\"303.609\" stroke-linecap=\"round\" style=\"stroke:white;stroke-width:4\"/><line x1=\"608.792\" y1=\"303.609\" x2=\"608.302\" y2=\"304.481\" stroke-linecap=\"round\" style=\"stroke:white;stroke-width:4\"/><line x1=\"608.302\" y1=\"304.481\" x2=\"607.805\" y2=\"305.349\" stroke-linecap=\"round\" style=\"stroke:white;stroke-width:4\"/><line x1=\"607.805\" y1=\"305.349\" x2=\"607.3\" y2=\"306.212\" stroke-linecap=\"round\" style=\"stroke:white;stroke-width:4\"/><line x1=\"607.3\" y1=\"306.212\" x2=\"606.787\" y2=\"307.07\" stroke-linecap=\"round\" style=\"stroke:white;stroke-width:4\"/><line x1=\"606.787\" y1=\"307.07\" x2=\"606.266\" y2=\"307.924\" stroke-linecap=\"round\" style=\"stroke:white;stroke-width:4\"/><line x1=\"606.266\" y1=\"307.924\" x2=\"605.738\" y2=\"308.773\" stroke-linecap=\"round\" style=\"stroke:white;stroke-width:4\"/><line x1=\"605.738\" y1=\"308.773\" x2=\"605.202\" y2=\"309.617\" stroke-linecap=\"round\" style=\"stroke:white;stroke-width:4\"/><line x1=\"605.202\" y1=\"309.617\" x2=\"604.659\" y2=\"310.456\" stroke-linecap=\"round\" style=\"stroke:white;stroke-width:4\"/><line x1=\"604.659\" y1=\"310.456\" x2=\"604.108\" y2=\"311.291\" stroke-linecap=\"round\" style=\"stroke:white;stroke-width:4\"/><line x1=\"604.108\" y1=\"311.291\" x2=\"603.55\" y2=\"312.121\" stroke-linecap=\"round\" style=\"stroke:white;stroke-width:4\"/><line x1=\"603.55\" y1=\"312.121\" x2=\"602.984\" y2=\"312.946\" stroke-linecap=\"round\" style=\"stroke:white;stroke-width:4\"/><line x1=\"602.984\" y1=\"312.946\" x2=\"602.411\" y2=\"313.765\" stroke-linecap=\"round\" style=\"stroke:white;stroke-width:4\"/><line x1=\"602.411\" y1=\"313.765\" x2=\"601.831\" y2=\"314.579\" stroke-linecap=\"round\" style=\"stroke:white;stroke-width:4\"/><line x1=\"601.831\" y1=\"314.579\" x2=\"601.243\" y2=\"315.388\" stroke-linecap=\"round\" style=\"stroke:white;stroke-width:4\"/><line x1=\"601.243\" y1=\"315.388\" x2=\"600.648\" y2=\"316.192\" stroke-linecap=\"round\" style=\"stroke:white;stroke-width:4\"/><line x1=\"600.648\" y1=\"316.192\" x2=\"600.046\" y2=\"316.99\" stroke-linecap=\"round\" style=\"stroke:white;stroke-width:4\"/><line x1=\"600.046\" y1=\"316.99\" x2=\"599.437\" y2=\"317.783\" stroke-linecap=\"round\" style=\"stroke:white;stroke-width:4\"/><line x1=\"599.437\" y1=\"317.783\" x2=\"598.821\" y2=\"318.57\" stroke-linecap=\"round\" style=\"stroke:white;stroke-width:4\"/><line x1=\"598.821\" y1=\"318.57\" x2=\"598.198\" y2=\"319.352\" stroke-linecap=\"round\" style=\"stroke:white;stroke-width:4\"/><line x1=\"598.198\" y1=\"319.352\" x2=\"597.568\" y2=\"320.128\" stroke-linecap=\"round\" style=\"stroke:white;stroke-width:4\"/><line x1=\"597.568\" y1=\"320.128\" x2=\"596.931\" y2=\"320.899\" stroke-linecap=\"round\" style=\"stroke:white;stroke-width:4\"/><line x1=\"596.931\" y1=\"320.899\" x2=\"596.287\" y2=\"321.664\" stroke-linecap=\"round\" style=\"stroke:white;stroke-width:4\"/><line x1=\"596.287\" y1=\"321.664\" x2=\"595.636\" y2=\"322.423\" stroke-linecap=\"round\" style=\"stroke:white;stroke-width:4\"/><line x1=\"595.636\" y1=\"322.423\" x2=\"594.978\" y2=\"323.176\" stroke-linecap=\"round\" style=\"stroke:white;stroke-width:4\"/><line x1=\"594.978\" y1=\"323.176\" x2=\"594.313\" y2=\"323.923\" stroke-linecap=\"round\" style=\"stroke:white;stroke-width:4\"/><line x1=\"594.313\" y1=\"323.923\" x2=\"593.642\" y2=\"324.664\" stroke-linecap=\"round\" style=\"stroke:white;stroke-width:4\"/><line x1=\"593.642\" y1=\"324.664\" x2=\"592.964\" y2=\"325.399\" stroke-linecap=\"round\" style=\"stroke:white;stroke-width:4\"/><line x1=\"592.964\" y1=\"325.399\" x2=\"592.279\" y2=\"326.128\" stroke-linecap=\"round\" style=\"stroke:white;stroke-width:4\"/><line x1=\"592.279\" y1=\"326.128\" x2=\"591.588\" y2=\"326.851\" stroke-linecap=\"round\" style=\"stroke:white;stroke-width:4\"/><line x1=\"591.588\" y1=\"326.851\" x2=\"590.89\" y2=\"327.568\" stroke-linecap=\"round\" style=\"stroke:white;stroke-width:4\"/><line x1=\"590.89\" y1=\"327.568\" x2=\"590.186\" y2=\"328.278\" stroke-linecap=\"round\" style=\"stroke:white;stroke-width:4\"/><line x1=\"590.186\" y1=\"328.278\" x2=\"589.476\" y2=\"328.982\" stroke-linecap=\"round\" style=\"stroke:white;stroke-width:4\"/><line x1=\"589.476\" y1=\"328.982\" x2=\"588.759\" y2=\"329.68\" stroke-linecap=\"round\" style=\"stroke:white;stroke-width:4\"/><line x1=\"588.759\" y1=\"329.68\" x2=\"588.036\" y2=\"330.371\" stroke-linecap=\"round\" style=\"stroke:white;stroke-width:4\"/><line x1=\"588.036\" y1=\"330.371\" x2=\"587.307\" y2=\"331.056\" stroke-linecap=\"round\" style=\"stroke:white;stroke-width:4\"/><line x1=\"587.307\" y1=\"331.056\" x2=\"586.572\" y2=\"331.734\" stroke-linecap=\"round\" style=\"stroke:white;stroke-width:4\"/><line x1=\"586.572\" y1=\"331.734\" x2=\"585.831\" y2=\"332.405\" stroke-linecap=\"round\" style=\"stroke:white;stroke-width:4\"/><line x1=\"585.831\" y1=\"332.405\" x2=\"585.084\" y2=\"333.07\" stroke-linecap=\"round\" style=\"stroke:white;stroke-width:4\"/><line x1=\"585.084\" y1=\"333.07\" x2=\"584.331\" y2=\"333.728\" stroke-linecap=\"round\" style=\"stroke:white;stroke-width:4\"/><line x1=\"584.331\" y1=\"333.728\" x2=\"583.572\" y2=\"334.379\" stroke-linecap=\"round\" style=\"stroke:white;stroke-width:4\"/><line x1=\"583.572\" y1=\"334.379\" x2=\"582.807\" y2=\"335.023\" stroke-linecap=\"round\" style=\"stroke:white;stroke-width:4\"/><line x1=\"582.807\" y1=\"335.023\" x2=\"582.036\" y2=\"335.66\" stroke-linecap=\"round\" style=\"stroke:white;stroke-width:4\"/><line x1=\"582.036\" y1=\"335.66\" x2=\"581.26\" y2=\"336.29\" stroke-linecap=\"round\" style=\"stroke:white;stroke-width:4\"/><line x1=\"581.26\" y1=\"336.29\" x2=\"580.478\" y2=\"336.913\" stroke-linecap=\"round\" style=\"stroke:white;stroke-width:4\"/><line x1=\"580.478\" y1=\"336.913\" x2=\"579.691\" y2=\"337.529\" stroke-linecap=\"round\" style=\"stroke:white;stroke-width:4\"/><line x1=\"579.691\" y1=\"337.529\" x2=\"578.898\" y2=\"338.138\" stroke-linecap=\"round\" style=\"stroke:white;stroke-width:4\"/><line x1=\"578.898\" y1=\"338.138\" x2=\"578.1\" y2=\"338.74\" stroke-linecap=\"round\" style=\"stroke:white;stroke-width:4\"/><line x1=\"578.1\" y1=\"338.74\" x2=\"577.296\" y2=\"339.335\" stroke-linecap=\"round\" style=\"stroke:white;stroke-width:4\"/><line x1=\"577.296\" y1=\"339.335\" x2=\"576.487\" y2=\"339.923\" stroke-linecap=\"round\" style=\"stroke:white;stroke-width:4\"/><line x1=\"576.487\" y1=\"339.923\" x2=\"575.673\" y2=\"340.503\" stroke-linecap=\"round\" style=\"stroke:white;stroke-width:4\"/><line x1=\"575.673\" y1=\"340.503\" x2=\"574.854\" y2=\"341.076\" stroke-linecap=\"round\" style=\"stroke:white;stroke-width:4\"/><line x1=\"574.854\" y1=\"341.076\" x2=\"574.029\" y2=\"341.642\" stroke-linecap=\"round\" style=\"stroke:white;stroke-width:4\"/><line x1=\"574.029\" y1=\"341.642\" x2=\"573.199\" y2=\"342.2\" stroke-linecap=\"round\" style=\"stroke:white;stroke-width:4\"/><line x1=\"573.199\" y1=\"342.2\" x2=\"572.364\" y2=\"342.751\" stroke-linecap=\"round\" style=\"stroke:white;stroke-width:4\"/><line x1=\"572.364\" y1=\"342.751\" x2=\"571.525\" y2=\"343.294\" stroke-linecap=\"round\" style=\"stroke:white;stroke-width:4\"/><line x1=\"571.525\" y1=\"343.294\" x2=\"570.681\" y2=\"343.83\" stroke-linecap=\"round\" style=\"stroke:white;stroke-width:4\"/><line x1=\"570.681\" y1=\"343.83\" x2=\"569.832\" y2=\"344.358\" stroke-linecap=\"round\" style=\"stroke:white;stroke-width:4\"/><line x1=\"569.832\" y1=\"344.358\" x2=\"568.978\" y2=\"344.879\" stroke-linecap=\"round\" style=\"stroke:white;stroke-width:4\"/><line x1=\"568.978\" y1=\"344.879\" x2=\"568.12\" y2=\"345.392\" stroke-linecap=\"round\" style=\"stroke:white;stroke-width:4\"/><line x1=\"568.12\" y1=\"345.392\" x2=\"567.257\" y2=\"345.897\" stroke-linecap=\"round\" style=\"stroke:white;stroke-width:4\"/><line x1=\"567.257\" y1=\"345.897\" x2=\"566.389\" y2=\"346.394\" stroke-linecap=\"round\" style=\"stroke:white;stroke-width:4\"/><line x1=\"566.389\" y1=\"346.394\" x2=\"565.517\" y2=\"346.884\" stroke-linecap=\"round\" style=\"stroke:white;stroke-width:4\"/><line x1=\"565.517\" y1=\"346.884\" x2=\"564.641\" y2=\"347.366\" stroke-linecap=\"round\" style=\"stroke:white;stroke-width:4\"/><line x1=\"564.641\" y1=\"347.366\" x2=\"563.76\" y2=\"347.84\" stroke-linecap=\"round\" style=\"stroke:white;stroke-width:4\"/><line x1=\"563.76\" y1=\"347.84\" x2=\"562.875\" y2=\"348.306\" stroke-linecap=\"round\" style=\"stroke:white;stroke-width:4\"/><line x1=\"562.875\" y1=\"348.306\" x2=\"561.986\" y2=\"348.764\" stroke-linecap=\"round\" style=\"stroke:white;stroke-width:4\"/><line x1=\"561.986\" y1=\"348.764\" x2=\"561.093\" y2=\"349.214\" stroke-linecap=\"round\" style=\"stroke:white;stroke-width:4\"/><line x1=\"561.093\" y1=\"349.214\" x2=\"560.196\" y2=\"349.656\" stroke-linecap=\"round\" style=\"stroke:white;stroke-width:4\"/><line x1=\"560.196\" y1=\"349.656\" x2=\"559.295\" y2=\"350.09\" stroke-linecap=\"round\" style=\"stroke:white;stroke-width:4\"/><line x1=\"559.295\" y1=\"350.09\" x2=\"558.39\" y2=\"350.516\" stroke-linecap=\"round\" style=\"stroke:white;stroke-width:4\"/><line x1=\"558.39\" y1=\"350.516\" x2=\"557.481\" y2=\"350.934\" stroke-linecap=\"round\" style=\"stroke:white;stroke-width:4\"/><line x1=\"557.481\" y1=\"350.934\" x2=\"556.569\" y2=\"351.343\" stroke-linecap=\"round\" style=\"stroke:white;stroke-width:4\"/><line x1=\"556.569\" y1=\"351.343\" x2=\"555.653\" y2=\"351.744\" stroke-linecap=\"round\" style=\"stroke:white;stroke-width:4\"/><line x1=\"555.653\" y1=\"351.744\" x2=\"554.733\" y2=\"352.137\" stroke-linecap=\"round\" style=\"stroke:white;stroke-width:4\"/><line x1=\"554.733\" y1=\"352.137\" x2=\"553.81\" y2=\"352.522\" stroke-linecap=\"round\" style=\"stroke:white;stroke-width:4\"/><line x1=\"553.81\" y1=\"352.522\" x2=\"552.884\" y2=\"352.898\" stroke-linecap=\"round\" style=\"stroke:white;stroke-width:4\"/><line x1=\"552.884\" y1=\"352.898\" x2=\"551.954\" y2=\"353.266\" stroke-linecap=\"round\" style=\"stroke:white;stroke-width:4\"/><line x1=\"551.954\" y1=\"353.266\" x2=\"551.021\" y2=\"353.626\" stroke-linecap=\"round\" style=\"stroke:white;stroke-width:4\"/><line x1=\"551.021\" y1=\"353.626\" x2=\"550.085\" y2=\"353.977\" stroke-linecap=\"round\" style=\"stroke:white;stroke-width:4\"/><line x1=\"550.085\" y1=\"353.977\" x2=\"549.146\" y2=\"354.32\" stroke-linecap=\"round\" style=\"stroke:white;stroke-width:4\"/><line x1=\"549.146\" y1=\"354.32\" x2=\"548.204\" y2=\"354.655\" stroke-linecap=\"round\" style=\"stroke:white;stroke-width:4\"/><line x1=\"548.204\" y1=\"354.655\" x2=\"547.259\" y2=\"354.981\" stroke-linecap=\"round\" style=\"stroke:white;stroke-width:4\"/><line x1=\"547.259\" y1=\"354.981\" x2=\"546.311\" y2=\"355.299\" stroke-linecap=\"round\" style=\"stroke:white;stroke-width:4\"/><line x1=\"546.311\" y1=\"355.299\" x2=\"545.36\" y2=\"355.608\" stroke-linecap=\"round\" style=\"stroke:white;stroke-width:4\"/><line x1=\"545.36\" y1=\"355.608\" x2=\"544.406\" y2=\"355.908\" stroke-linecap=\"round\" style=\"stroke:white;stroke-width:4\"/><line x1=\"544.406\" y1=\"355.908\" x2=\"543.45\" y2=\"356.2\" stroke-linecap=\"round\" style=\"stroke:white;stroke-width:4\"/><line x1=\"543.45\" y1=\"356.2\" x2=\"542.491\" y2=\"356.483\" stroke-linecap=\"round\" style=\"stroke:white;stroke-width:4\"/><line x1=\"542.491\" y1=\"356.483\" x2=\"541.529\" y2=\"356.758\" stroke-linecap=\"round\" style=\"stroke:white;stroke-width:4\"/><line x1=\"541.529\" y1=\"356.758\" x2=\"540.565\" y2=\"357.024\" stroke-linecap=\"round\" style=\"stroke:white;stroke-width:4\"/><line x1=\"540.565\" y1=\"357.024\" x2=\"539.599\" y2=\"357.281\" stroke-linecap=\"round\" style=\"stroke:white;stroke-width:4\"/><line x1=\"539.599\" y1=\"357.281\" x2=\"538.63\" y2=\"357.53\" stroke-linecap=\"round\" style=\"stroke:white;stroke-width:4\"/><line x1=\"538.63\" y1=\"357.53\" x2=\"537.659\" y2=\"357.77\" stroke-linecap=\"round\" style=\"stroke:white;stroke-width:4\"/><line x1=\"537.659\" y1=\"357.77\" x2=\"536.686\" y2=\"358.001\" stroke-linecap=\"round\" style=\"stroke:white;stroke-width:4\"/><line x1=\"536.686\" y1=\"358.001\" x2=\"535.711\" y2=\"358.224\" stroke-linecap=\"round\" style=\"stroke:white;stroke-width:4\"/><line x1=\"535.711\" y1=\"358.224\" x2=\"534.734\" y2=\"358.438\" stroke-linecap=\"round\" style=\"stroke:white;stroke-width:4\"/><line x1=\"534.734\" y1=\"358.438\" x2=\"533.755\" y2=\"358.643\" stroke-linecap=\"round\" style=\"stroke:white;stroke-width:4\"/><line x1=\"533.755\" y1=\"358.643\" x2=\"532.774\" y2=\"358.839\" stroke-linecap=\"round\" style=\"stroke:white;stroke-width:4\"/><line x1=\"532.774\" y1=\"358.839\" x2=\"531.792\" y2=\"359.026\" stroke-linecap=\"round\" style=\"stroke:white;stroke-width:4\"/><line x1=\"531.792\" y1=\"359.026\" x2=\"530.808\" y2=\"359.205\" stroke-linecap=\"round\" style=\"stroke:white;stroke-width:4\"/><line x1=\"530.808\" y1=\"359.205\" x2=\"529.823\" y2=\"359.375\" stroke-linecap=\"round\" style=\"stroke:white;stroke-width:4\"/><line x1=\"529.823\" y1=\"359.375\" x2=\"528.836\" y2=\"359.536\" stroke-linecap=\"round\" style=\"stroke:white;stroke-width:4\"/><line x1=\"528.836\" y1=\"359.536\" x2=\"527.848\" y2=\"359.688\" stroke-linecap=\"round\" style=\"stroke:white;stroke-width:4\"/><line x1=\"527.848\" y1=\"359.688\" x2=\"526.858\" y2=\"359.831\" stroke-linecap=\"round\" style=\"stroke:white;stroke-width:4\"/><line x1=\"526.858\" y1=\"359.831\" x2=\"525.867\" y2=\"359.965\" stroke-linecap=\"round\" style=\"stroke:white;stroke-width:4\"/><line x1=\"525.867\" y1=\"359.965\" x2=\"524.875\" y2=\"360.09\" stroke-linecap=\"round\" style=\"stroke:white;stroke-width:4\"/><line x1=\"524.875\" y1=\"360.09\" x2=\"523.882\" y2=\"360.206\" stroke-linecap=\"round\" style=\"stroke:white;stroke-width:4\"/><line x1=\"523.882\" y1=\"360.206\" x2=\"522.888\" y2=\"360.314\" stroke-linecap=\"round\" style=\"stroke:white;stroke-width:4\"/><line x1=\"522.888\" y1=\"360.314\" x2=\"521.893\" y2=\"360.413\" stroke-linecap=\"round\" style=\"stroke:white;stroke-width:4\"/><line x1=\"521.893\" y1=\"360.413\" x2=\"520.897\" y2=\"360.503\" stroke-linecap=\"round\" style=\"stroke:white;stroke-width:4\"/><line x1=\"520.897\" y1=\"360.503\" x2=\"519.9\" y2=\"360.584\" stroke-linecap=\"round\" style=\"stroke:white;stroke-width:4\"/><line x1=\"519.9\" y1=\"360.584\" x2=\"518.903\" y2=\"360.656\" stroke-linecap=\"round\" style=\"stroke:white;stroke-width:4\"/><line x1=\"518.903\" y1=\"360.656\" x2=\"517.905\" y2=\"360.719\" stroke-linecap=\"round\" style=\"stroke:white;stroke-width:4\"/><line x1=\"517.905\" y1=\"360.719\" x2=\"516.906\" y2=\"360.773\" stroke-linecap=\"round\" style=\"stroke:white;stroke-width:4\"/><line x1=\"516.906\" y1=\"360.773\" x2=\"515.907\" y2=\"360.818\" stroke-linecap=\"round\" style=\"stroke:white;stroke-width:4\"/><line x1=\"515.907\" y1=\"360.818\" x2=\"514.908\" y2=\"360.854\" stroke-linecap=\"round\" style=\"stroke:white;stroke-width:4\"/><line x1=\"514.908\" y1=\"360.854\" x2=\"513.908\" y2=\"360.881\" stroke-linecap=\"round\" style=\"stroke:white;stroke-width:4\"/><line x1=\"513.908\" y1=\"360.881\" x2=\"512.908\" y2=\"360.899\" stroke-linecap=\"round\" style=\"stroke:white;stroke-width:4\"/><line x1=\"512.908\" y1=\"360.899\" x2=\"511.908\" y2=\"360.908\" stroke-linecap=\"round\" style=\"stroke:white;stroke-width:4\"/><line x1=\"511.908\" y1=\"360.908\" x2=\"510.908\" y2=\"360.908\" stroke-linecap=\"round\" style=\"stroke:white;stroke-width:4\"/><line x1=\"510.908\" y1=\"360.908\" x2=\"509.908\" y2=\"360.899\" stroke-linecap=\"round\" style=\"stroke:white;stroke-width:4\"/><line x1=\"509.908\" y1=\"360.899\" x2=\"508.908\" y2=\"360.881\" stroke-linecap=\"round\" style=\"stroke:white;stroke-width:4\"/><line x1=\"508.908\" y1=\"360.881\" x2=\"507.908\" y2=\"360.854\" stroke-linecap=\"round\" style=\"stroke:white;stroke-width:4\"/><line x1=\"507.908\" y1=\"360.854\" x2=\"506.909\" y2=\"360.818\" stroke-linecap=\"round\" style=\"stroke:white;stroke-width:4\"/><line x1=\"506.909\" y1=\"360.818\" x2=\"505.91\" y2=\"360.773\" stroke-linecap=\"round\" style=\"stroke:white;stroke-width:4\"/><line x1=\"505.91\" y1=\"360.773\" x2=\"504.911\" y2=\"360.719\" stroke-linecap=\"round\" style=\"stroke:white;stroke-width:4\"/><line x1=\"504.911\" y1=\"360.719\" x2=\"503.913\" y2=\"360.656\" stroke-linecap=\"round\" style=\"stroke:white;stroke-width:4\"/><line x1=\"503.913\" y1=\"360.656\" x2=\"502.916\" y2=\"360.584\" stroke-linecap=\"round\" style=\"stroke:white;stroke-width:4\"/><line x1=\"502.916\" y1=\"360.584\" x2=\"501.919\" y2=\"360.503\" stroke-linecap=\"round\" style=\"stroke:white;stroke-width:4\"/><line x1=\"501.919\" y1=\"360.503\" x2=\"500.923\" y2=\"360.413\" stroke-linecap=\"round\" style=\"stroke:white;stroke-width:4\"/><line x1=\"500.923\" y1=\"360.413\" x2=\"499.928\" y2=\"360.314\" stroke-linecap=\"round\" style=\"stroke:white;stroke-width:4\"/><line x1=\"499.928\" y1=\"360.314\" x2=\"498.934\" y2=\"360.206\" stroke-linecap=\"round\" style=\"stroke:white;stroke-width:4\"/><line x1=\"498.934\" y1=\"360.206\" x2=\"497.941\" y2=\"360.09\" stroke-linecap=\"round\" style=\"stroke:white;stroke-width:4\"/><line x1=\"497.941\" y1=\"360.09\" x2=\"496.949\" y2=\"359.965\" stroke-linecap=\"round\" style=\"stroke:white;stroke-width:4\"/><line x1=\"496.949\" y1=\"359.965\" x2=\"495.958\" y2=\"359.831\" stroke-linecap=\"round\" style=\"stroke:white;stroke-width:4\"/><line x1=\"495.958\" y1=\"359.831\" x2=\"494.968\" y2=\"359.688\" stroke-linecap=\"round\" style=\"stroke:white;stroke-width:4\"/><line x1=\"494.968\" y1=\"359.688\" x2=\"493.98\" y2=\"359.536\" stroke-linecap=\"round\" style=\"stroke:white;stroke-width:4\"/><line x1=\"493.98\" y1=\"359.536\" x2=\"492.993\" y2=\"359.375\" stroke-linecap=\"round\" style=\"stroke:white;stroke-width:4\"/><line x1=\"492.993\" y1=\"359.375\" x2=\"492.008\" y2=\"359.205\" stroke-linecap=\"round\" style=\"stroke:white;stroke-width:4\"/><line x1=\"492.008\" y1=\"359.205\" x2=\"491.024\" y2=\"359.026\" stroke-linecap=\"round\" style=\"stroke:white;stroke-width:4\"/><line x1=\"491.024\" y1=\"359.026\" x2=\"490.042\" y2=\"358.839\" stroke-linecap=\"round\" style=\"stroke:white;stroke-width:4\"/><line x1=\"490.042\" y1=\"358.839\" x2=\"489.061\" y2=\"358.643\" stroke-linecap=\"round\" style=\"stroke:white;stroke-width:4\"/><line x1=\"489.061\" y1=\"358.643\" x2=\"488.082\" y2=\"358.438\" stroke-linecap=\"round\" style=\"stroke:white;stroke-width:4\"/><line x1=\"488.082\" y1=\"358.438\" x2=\"487.105\" y2=\"358.224\" stroke-linecap=\"round\" style=\"stroke:white;stroke-width:4\"/><line x1=\"487.105\" y1=\"358.224\" x2=\"486.13\" y2=\"358.001\" stroke-linecap=\"round\" style=\"stroke:white;stroke-width:4\"/><line x1=\"486.13\" y1=\"358.001\" x2=\"485.157\" y2=\"357.77\" stroke-linecap=\"round\" style=\"stroke:white;stroke-width:4\"/><line x1=\"485.157\" y1=\"357.77\" x2=\"484.186\" y2=\"357.53\" stroke-linecap=\"round\" style=\"stroke:white;stroke-width:4\"/><line x1=\"484.186\" y1=\"357.53\" x2=\"483.217\" y2=\"357.281\" stroke-linecap=\"round\" style=\"stroke:white;stroke-width:4\"/><line x1=\"483.217\" y1=\"357.281\" x2=\"482.251\" y2=\"357.024\" stroke-linecap=\"round\" style=\"stroke:white;stroke-width:4\"/><line x1=\"482.251\" y1=\"357.024\" x2=\"481.287\" y2=\"356.758\" stroke-linecap=\"round\" style=\"stroke:white;stroke-width:4\"/><line x1=\"481.287\" y1=\"356.758\" x2=\"480.325\" y2=\"356.483\" stroke-linecap=\"round\" style=\"stroke:white;stroke-width:4\"/><line x1=\"480.325\" y1=\"356.483\" x2=\"479.366\" y2=\"356.2\" stroke-linecap=\"round\" style=\"stroke:white;stroke-width:4\"/><line x1=\"479.366\" y1=\"356.2\" x2=\"478.41\" y2=\"355.908\" stroke-linecap=\"round\" style=\"stroke:white;stroke-width:4\"/><line x1=\"478.41\" y1=\"355.908\" x2=\"477.456\" y2=\"355.608\" stroke-linecap=\"round\" style=\"stroke:white;stroke-width:4\"/><line x1=\"477.456\" y1=\"355.608\" x2=\"476.505\" y2=\"355.299\" stroke-linecap=\"round\" style=\"stroke:white;stroke-width:4\"/><line x1=\"476.505\" y1=\"355.299\" x2=\"475.557\" y2=\"354.981\" stroke-linecap=\"round\" style=\"stroke:white;stroke-width:4\"/><line x1=\"475.557\" y1=\"354.981\" x2=\"474.612\" y2=\"354.655\" stroke-linecap=\"round\" style=\"stroke:white;stroke-width:4\"/><line x1=\"474.612\" y1=\"354.655\" x2=\"473.67\" y2=\"354.32\" stroke-linecap=\"round\" style=\"stroke:white;stroke-width:4\"/><line x1=\"473.67\" y1=\"354.32\" x2=\"472.731\" y2=\"353.977\" stroke-linecap=\"round\" style=\"stroke:white;stroke-width:4\"/><line x1=\"472.731\" y1=\"353.977\" x2=\"471.795\" y2=\"353.626\" stroke-linecap=\"round\" style=\"stroke:white;stroke-width:4\"/><line x1=\"471.795\" y1=\"353.626\" x2=\"470.862\" y2=\"353.266\" stroke-linecap=\"round\" style=\"stroke:white;stroke-width:4\"/><line x1=\"470.862\" y1=\"353.266\" x2=\"469.932\" y2=\"352.898\" stroke-linecap=\"round\" style=\"stroke:white;stroke-width:4\"/><line x1=\"469.932\" y1=\"352.898\" x2=\"469.006\" y2=\"352.522\" stroke-linecap=\"round\" style=\"stroke:white;stroke-width:4\"/><line x1=\"469.006\" y1=\"352.522\" x2=\"468.083\" y2=\"352.137\" stroke-linecap=\"round\" style=\"stroke:white;stroke-width:4\"/><line x1=\"468.083\" y1=\"352.137\" x2=\"467.163\" y2=\"351.744\" stroke-linecap=\"round\" style=\"stroke:white;stroke-width:4\"/><line x1=\"467.163\" y1=\"351.744\" x2=\"466.247\" y2=\"351.343\" stroke-linecap=\"round\" style=\"stroke:white;stroke-width:4\"/><line x1=\"466.247\" y1=\"351.343\" x2=\"465.335\" y2=\"350.934\" stroke-linecap=\"round\" style=\"stroke:white;stroke-width:4\"/><line x1=\"465.335\" y1=\"350.934\" x2=\"464.426\" y2=\"350.516\" stroke-linecap=\"round\" style=\"stroke:white;stroke-width:4\"/><line x1=\"464.426\" y1=\"350.516\" x2=\"463.521\" y2=\"350.09\" stroke-linecap=\"round\" style=\"stroke:white;stroke-width:4\"/><line x1=\"463.521\" y1=\"350.09\" x2=\"462.62\" y2=\"349.656\" stroke-linecap=\"round\" style=\"stroke:white;stroke-width:4\"/><line x1=\"462.62\" y1=\"349.656\" x2=\"461.723\" y2=\"349.214\" stroke-linecap=\"round\" style=\"stroke:white;stroke-width:4\"/><line x1=\"461.723\" y1=\"349.214\" x2=\"460.83\" y2=\"348.764\" stroke-linecap=\"round\" style=\"stroke:white;stroke-width:4\"/><line x1=\"460.83\" y1=\"348.764\" x2=\"459.941\" y2=\"348.306\" stroke-linecap=\"round\" style=\"stroke:white;stroke-width:4\"/><line x1=\"459.941\" y1=\"348.306\" x2=\"459.056\" y2=\"347.84\" stroke-linecap=\"round\" style=\"stroke:white;stroke-width:4\"/><line x1=\"459.056\" y1=\"347.84\" x2=\"458.175\" y2=\"347.366\" stroke-linecap=\"round\" style=\"stroke:white;stroke-width:4\"/><line x1=\"458.175\" y1=\"347.366\" x2=\"457.299\" y2=\"346.884\" stroke-linecap=\"round\" style=\"stroke:white;stroke-width:4\"/><line x1=\"457.299\" y1=\"346.884\" x2=\"456.427\" y2=\"346.394\" stroke-linecap=\"round\" style=\"stroke:white;stroke-width:4\"/><line x1=\"456.427\" y1=\"346.394\" x2=\"455.559\" y2=\"345.897\" stroke-linecap=\"round\" style=\"stroke:white;stroke-width:4\"/><line x1=\"455.559\" y1=\"345.897\" x2=\"454.696\" y2=\"345.392\" stroke-linecap=\"round\" style=\"stroke:white;stroke-width:4\"/><line x1=\"454.696\" y1=\"345.392\" x2=\"453.838\" y2=\"344.879\" stroke-linecap=\"round\" style=\"stroke:white;stroke-width:4\"/><line x1=\"453.838\" y1=\"344.879\" x2=\"452.984\" y2=\"344.358\" stroke-linecap=\"round\" style=\"stroke:white;stroke-width:4\"/><line x1=\"452.984\" y1=\"344.358\" x2=\"452.135\" y2=\"343.83\" stroke-linecap=\"round\" style=\"stroke:white;stroke-width:4\"/><line x1=\"452.135\" y1=\"343.83\" x2=\"451.291\" y2=\"343.294\" stroke-linecap=\"round\" style=\"stroke:white;stroke-width:4\"/><line x1=\"451.291\" y1=\"343.294\" x2=\"450.452\" y2=\"342.751\" stroke-linecap=\"round\" style=\"stroke:white;stroke-width:4\"/><line x1=\"450.452\" y1=\"342.751\" x2=\"449.617\" y2=\"342.2\" stroke-linecap=\"round\" style=\"stroke:white;stroke-width:4\"/><line x1=\"449.617\" y1=\"342.2\" x2=\"448.787\" y2=\"341.642\" stroke-linecap=\"round\" style=\"stroke:white;stroke-width:4\"/><line x1=\"448.787\" y1=\"341.642\" x2=\"447.962\" y2=\"341.076\" stroke-linecap=\"round\" style=\"stroke:white;stroke-width:4\"/><line x1=\"447.962\" y1=\"341.076\" x2=\"447.143\" y2=\"340.503\" stroke-linecap=\"round\" style=\"stroke:white;stroke-width:4\"/><line x1=\"447.143\" y1=\"340.503\" x2=\"446.329\" y2=\"339.923\" stroke-linecap=\"round\" style=\"stroke:white;stroke-width:4\"/><line x1=\"446.329\" y1=\"339.923\" x2=\"445.52\" y2=\"339.335\" stroke-linecap=\"round\" style=\"stroke:white;stroke-width:4\"/><line x1=\"445.52\" y1=\"339.335\" x2=\"444.716\" y2=\"338.74\" stroke-linecap=\"round\" style=\"stroke:white;stroke-width:4\"/><line x1=\"444.716\" y1=\"338.74\" x2=\"443.918\" y2=\"338.138\" stroke-linecap=\"round\" style=\"stroke:white;stroke-width:4\"/><line x1=\"443.918\" y1=\"338.138\" x2=\"443.125\" y2=\"337.529\" stroke-linecap=\"round\" style=\"stroke:white;stroke-width:4\"/><line x1=\"443.125\" y1=\"337.529\" x2=\"442.338\" y2=\"336.913\" stroke-linecap=\"round\" style=\"stroke:white;stroke-width:4\"/><line x1=\"442.338\" y1=\"336.913\" x2=\"441.556\" y2=\"336.29\" stroke-linecap=\"round\" style=\"stroke:white;stroke-width:4\"/><line x1=\"441.556\" y1=\"336.29\" x2=\"440.78\" y2=\"335.66\" stroke-linecap=\"round\" style=\"stroke:white;stroke-width:4\"/><line x1=\"440.78\" y1=\"335.66\" x2=\"440.009\" y2=\"335.023\" stroke-linecap=\"round\" style=\"stroke:white;stroke-width:4\"/><line x1=\"440.009\" y1=\"335.023\" x2=\"439.244\" y2=\"334.379\" stroke-linecap=\"round\" style=\"stroke:white;stroke-width:4\"/><line x1=\"439.244\" y1=\"334.379\" x2=\"438.485\" y2=\"333.728\" stroke-linecap=\"round\" style=\"stroke:white;stroke-width:4\"/><line x1=\"438.485\" y1=\"333.728\" x2=\"437.732\" y2=\"333.07\" stroke-linecap=\"round\" style=\"stroke:white;stroke-width:4\"/><line x1=\"437.732\" y1=\"333.07\" x2=\"436.985\" y2=\"332.405\" stroke-linecap=\"round\" style=\"stroke:white;stroke-width:4\"/><line x1=\"436.985\" y1=\"332.405\" x2=\"436.244\" y2=\"331.734\" stroke-linecap=\"round\" style=\"stroke:white;stroke-width:4\"/><line x1=\"436.244\" y1=\"331.734\" x2=\"435.509\" y2=\"331.056\" stroke-linecap=\"round\" style=\"stroke:white;stroke-width:4\"/><line x1=\"435.509\" y1=\"331.056\" x2=\"434.78\" y2=\"330.371\" stroke-linecap=\"round\" style=\"stroke:white;stroke-width:4\"/><line x1=\"434.78\" y1=\"330.371\" x2=\"434.057\" y2=\"329.68\" stroke-linecap=\"round\" style=\"stroke:white;stroke-width:4\"/><line x1=\"434.057\" y1=\"329.68\" x2=\"433.34\" y2=\"328.982\" stroke-linecap=\"round\" style=\"stroke:white;stroke-width:4\"/><line x1=\"433.34\" y1=\"328.982\" x2=\"432.63\" y2=\"328.278\" stroke-linecap=\"round\" style=\"stroke:white;stroke-width:4\"/><line x1=\"432.63\" y1=\"328.278\" x2=\"431.926\" y2=\"327.568\" stroke-linecap=\"round\" style=\"stroke:white;stroke-width:4\"/><line x1=\"431.926\" y1=\"327.568\" x2=\"431.228\" y2=\"326.851\" stroke-linecap=\"round\" style=\"stroke:white;stroke-width:4\"/><line x1=\"431.228\" y1=\"326.851\" x2=\"430.537\" y2=\"326.128\" stroke-linecap=\"round\" style=\"stroke:white;stroke-width:4\"/><line x1=\"430.537\" y1=\"326.128\" x2=\"429.852\" y2=\"325.399\" stroke-linecap=\"round\" style=\"stroke:white;stroke-width:4\"/><line x1=\"429.852\" y1=\"325.399\" x2=\"429.174\" y2=\"324.664\" stroke-linecap=\"round\" style=\"stroke:white;stroke-width:4\"/><line x1=\"429.174\" y1=\"324.664\" x2=\"428.503\" y2=\"323.923\" stroke-linecap=\"round\" style=\"stroke:white;stroke-width:4\"/><line x1=\"428.503\" y1=\"323.923\" x2=\"427.838\" y2=\"323.176\" stroke-linecap=\"round\" style=\"stroke:white;stroke-width:4\"/><line x1=\"427.838\" y1=\"323.176\" x2=\"427.18\" y2=\"322.423\" stroke-linecap=\"round\" style=\"stroke:white;stroke-width:4\"/><line x1=\"427.18\" y1=\"322.423\" x2=\"426.529\" y2=\"321.664\" stroke-linecap=\"round\" style=\"stroke:white;stroke-width:4\"/><line x1=\"426.529\" y1=\"321.664\" x2=\"425.885\" y2=\"320.899\" stroke-linecap=\"round\" style=\"stroke:white;stroke-width:4\"/><line x1=\"425.885\" y1=\"320.899\" x2=\"425.248\" y2=\"320.128\" stroke-linecap=\"round\" style=\"stroke:white;stroke-width:4\"/><line x1=\"425.248\" y1=\"320.128\" x2=\"424.618\" y2=\"319.352\" stroke-linecap=\"round\" style=\"stroke:white;stroke-width:4\"/><line x1=\"424.618\" y1=\"319.352\" x2=\"423.995\" y2=\"318.57\" stroke-linecap=\"round\" style=\"stroke:white;stroke-width:4\"/><line x1=\"423.995\" y1=\"318.57\" x2=\"423.379\" y2=\"317.783\" stroke-linecap=\"round\" style=\"stroke:white;stroke-width:4\"/><line x1=\"423.379\" y1=\"317.783\" x2=\"422.77\" y2=\"316.99\" stroke-linecap=\"round\" style=\"stroke:white;stroke-width:4\"/><line x1=\"422.77\" y1=\"316.99\" x2=\"422.168\" y2=\"316.192\" stroke-linecap=\"round\" style=\"stroke:white;stroke-width:4\"/><line x1=\"422.168\" y1=\"316.192\" x2=\"421.573\" y2=\"315.388\" stroke-linecap=\"round\" style=\"stroke:white;stroke-width:4\"/><line x1=\"421.573\" y1=\"315.388\" x2=\"420.985\" y2=\"314.579\" stroke-linecap=\"round\" style=\"stroke:white;stroke-width:4\"/><line x1=\"420.985\" y1=\"314.579\" x2=\"420.405\" y2=\"313.765\" stroke-linecap=\"round\" style=\"stroke:white;stroke-width:4\"/><line x1=\"420.405\" y1=\"313.765\" x2=\"419.832\" y2=\"312.946\" stroke-linecap=\"round\" style=\"stroke:white;stroke-width:4\"/><line x1=\"419.832\" y1=\"312.946\" x2=\"419.266\" y2=\"312.121\" stroke-linecap=\"round\" style=\"stroke:white;stroke-width:4\"/><line x1=\"419.266\" y1=\"312.121\" x2=\"418.708\" y2=\"311.291\" stroke-linecap=\"round\" style=\"stroke:white;stroke-width:4\"/><line x1=\"418.708\" y1=\"311.291\" x2=\"418.157\" y2=\"310.456\" stroke-linecap=\"round\" style=\"stroke:white;stroke-width:4\"/><line x1=\"418.157\" y1=\"310.456\" x2=\"417.614\" y2=\"309.617\" stroke-linecap=\"round\" style=\"stroke:white;stroke-width:4\"/><line x1=\"417.614\" y1=\"309.617\" x2=\"417.078\" y2=\"308.773\" stroke-linecap=\"round\" style=\"stroke:white;stroke-width:4\"/><line x1=\"417.078\" y1=\"308.773\" x2=\"416.55\" y2=\"307.924\" stroke-linecap=\"round\" style=\"stroke:white;stroke-width:4\"/><line x1=\"416.55\" y1=\"307.924\" x2=\"416.029\" y2=\"307.07\" stroke-linecap=\"round\" style=\"stroke:white;stroke-width:4\"/><line x1=\"416.029\" y1=\"307.07\" x2=\"415.516\" y2=\"306.212\" stroke-linecap=\"round\" style=\"stroke:white;stroke-width:4\"/><line x1=\"415.516\" y1=\"306.212\" x2=\"415.011\" y2=\"305.349\" stroke-linecap=\"round\" style=\"stroke:white;stroke-width:4\"/><line x1=\"415.011\" y1=\"305.349\" x2=\"414.514\" y2=\"304.481\" stroke-linecap=\"round\" style=\"stroke:white;stroke-width:4\"/><line x1=\"414.514\" y1=\"304.481\" x2=\"414.024\" y2=\"303.609\" stroke-linecap=\"round\" style=\"stroke:white;stroke-width:4\"/><line x1=\"414.024\" y1=\"303.609\" x2=\"413.542\" y2=\"302.733\" stroke-linecap=\"round\" style=\"stroke:white;stroke-width:4\"/><line x1=\"413.542\" y1=\"302.733\" x2=\"413.068\" y2=\"301.852\" stroke-linecap=\"round\" style=\"stroke:white;stroke-width:4\"/><line x1=\"413.068\" y1=\"301.852\" x2=\"412.602\" y2=\"300.967\" stroke-linecap=\"round\" style=\"stroke:white;stroke-width:4\"/><line x1=\"412.602\" y1=\"300.967\" x2=\"412.144\" y2=\"300.078\" stroke-linecap=\"round\" style=\"stroke:white;stroke-width:4\"/><line x1=\"412.144\" y1=\"300.078\" x2=\"411.694\" y2=\"299.185\" stroke-linecap=\"round\" style=\"stroke:white;stroke-width:4\"/><line x1=\"411.694\" y1=\"299.185\" x2=\"411.252\" y2=\"298.288\" stroke-linecap=\"round\" style=\"stroke:white;stroke-width:4\"/><line x1=\"411.252\" y1=\"298.288\" x2=\"410.818\" y2=\"297.387\" stroke-linecap=\"round\" style=\"stroke:white;stroke-width:4\"/><line x1=\"410.818\" y1=\"297.387\" x2=\"410.392\" y2=\"296.482\" stroke-linecap=\"round\" style=\"stroke:white;stroke-width:4\"/><line x1=\"410.392\" y1=\"296.482\" x2=\"409.974\" y2=\"295.573\" stroke-linecap=\"round\" style=\"stroke:white;stroke-width:4\"/><line x1=\"409.974\" y1=\"295.573\" x2=\"409.565\" y2=\"294.661\" stroke-linecap=\"round\" style=\"stroke:white;stroke-width:4\"/><line x1=\"409.565\" y1=\"294.661\" x2=\"409.164\" y2=\"293.745\" stroke-linecap=\"round\" style=\"stroke:white;stroke-width:4\"/><line x1=\"409.164\" y1=\"293.745\" x2=\"408.771\" y2=\"292.825\" stroke-linecap=\"round\" style=\"stroke:white;stroke-width:4\"/><line x1=\"408.771\" y1=\"292.825\" x2=\"408.386\" y2=\"291.902\" stroke-linecap=\"round\" style=\"stroke:white;stroke-width:4\"/><line x1=\"408.386\" y1=\"291.902\" x2=\"408.01\" y2=\"290.976\" stroke-linecap=\"round\" style=\"stroke:white;stroke-width:4\"/><line x1=\"408.01\" y1=\"290.976\" x2=\"407.642\" y2=\"290.046\" stroke-linecap=\"round\" style=\"stroke:white;stroke-width:4\"/><line x1=\"407.642\" y1=\"290.046\" x2=\"407.282\" y2=\"289.113\" stroke-linecap=\"round\" style=\"stroke:white;stroke-width:4\"/><line x1=\"407.282\" y1=\"289.113\" x2=\"406.931\" y2=\"288.177\" stroke-linecap=\"round\" style=\"stroke:white;stroke-width:4\"/><line x1=\"406.931\" y1=\"288.177\" x2=\"406.588\" y2=\"287.238\" stroke-linecap=\"round\" style=\"stroke:white;stroke-width:4\"/><line x1=\"406.588\" y1=\"287.238\" x2=\"406.253\" y2=\"286.296\" stroke-linecap=\"round\" style=\"stroke:white;stroke-width:4\"/><line x1=\"406.253\" y1=\"286.296\" x2=\"405.927\" y2=\"285.351\" stroke-linecap=\"round\" style=\"stroke:white;stroke-width:4\"/><line x1=\"405.927\" y1=\"285.351\" x2=\"405.609\" y2=\"284.403\" stroke-linecap=\"round\" style=\"stroke:white;stroke-width:4\"/><line x1=\"405.609\" y1=\"284.403\" x2=\"405.3\" y2=\"283.452\" stroke-linecap=\"round\" style=\"stroke:white;stroke-width:4\"/><line x1=\"405.3\" y1=\"283.452\" x2=\"405.0\" y2=\"282.498\" stroke-linecap=\"round\" style=\"stroke:white;stroke-width:4\"/><line x1=\"405.0\" y1=\"282.498\" x2=\"404.708\" y2=\"281.542\" stroke-linecap=\"round\" style=\"stroke:white;stroke-width:4\"/><line x1=\"404.708\" y1=\"281.542\" x2=\"404.425\" y2=\"280.583\" stroke-linecap=\"round\" style=\"stroke:white;stroke-width:4\"/><line x1=\"404.425\" y1=\"280.583\" x2=\"404.15\" y2=\"279.621\" stroke-linecap=\"round\" style=\"stroke:white;stroke-width:4\"/><line x1=\"404.15\" y1=\"279.621\" x2=\"403.884\" y2=\"278.657\" stroke-linecap=\"round\" style=\"stroke:white;stroke-width:4\"/><line x1=\"403.884\" y1=\"278.657\" x2=\"403.627\" y2=\"277.691\" stroke-linecap=\"round\" style=\"stroke:white;stroke-width:4\"/><line x1=\"403.627\" y1=\"277.691\" x2=\"403.378\" y2=\"276.722\" stroke-linecap=\"round\" style=\"stroke:white;stroke-width:4\"/><line x1=\"403.378\" y1=\"276.722\" x2=\"403.138\" y2=\"275.751\" stroke-linecap=\"round\" style=\"stroke:white;stroke-width:4\"/><line x1=\"403.138\" y1=\"275.751\" x2=\"402.907\" y2=\"274.778\" stroke-linecap=\"round\" style=\"stroke:white;stroke-width:4\"/><line x1=\"402.907\" y1=\"274.778\" x2=\"402.684\" y2=\"273.803\" stroke-linecap=\"round\" style=\"stroke:white;stroke-width:4\"/><line x1=\"402.684\" y1=\"273.803\" x2=\"402.47\" y2=\"272.826\" stroke-linecap=\"round\" style=\"stroke:white;stroke-width:4\"/><line x1=\"402.47\" y1=\"272.826\" x2=\"402.265\" y2=\"271.847\" stroke-linecap=\"round\" style=\"stroke:white;stroke-width:4\"/><line x1=\"402.265\" y1=\"271.847\" x2=\"402.069\" y2=\"270.866\" stroke-linecap=\"round\" style=\"stroke:white;stroke-width:4\"/><line x1=\"402.069\" y1=\"270.866\" x2=\"401.882\" y2=\"269.884\" stroke-linecap=\"round\" style=\"stroke:white;stroke-width:4\"/><line x1=\"401.882\" y1=\"269.884\" x2=\"401.703\" y2=\"268.9\" stroke-linecap=\"round\" style=\"stroke:white;stroke-width:4\"/><line x1=\"401.703\" y1=\"268.9\" x2=\"401.533\" y2=\"267.915\" stroke-linecap=\"round\" style=\"stroke:white;stroke-width:4\"/><line x1=\"401.533\" y1=\"267.915\" x2=\"401.372\" y2=\"266.928\" stroke-linecap=\"round\" style=\"stroke:white;stroke-width:4\"/><line x1=\"401.372\" y1=\"266.928\" x2=\"401.22\" y2=\"265.94\" stroke-linecap=\"round\" style=\"stroke:white;stroke-width:4\"/><line x1=\"401.22\" y1=\"265.94\" x2=\"401.077\" y2=\"264.95\" stroke-linecap=\"round\" style=\"stroke:white;stroke-width:4\"/><line x1=\"401.077\" y1=\"264.95\" x2=\"400.943\" y2=\"263.959\" stroke-linecap=\"round\" style=\"stroke:white;stroke-width:4\"/><line x1=\"400.943\" y1=\"263.959\" x2=\"400.818\" y2=\"262.967\" stroke-linecap=\"round\" style=\"stroke:white;stroke-width:4\"/><line x1=\"400.818\" y1=\"262.967\" x2=\"400.702\" y2=\"261.974\" stroke-linecap=\"round\" style=\"stroke:white;stroke-width:4\"/><line x1=\"400.702\" y1=\"261.974\" x2=\"400.594\" y2=\"260.98\" stroke-linecap=\"round\" style=\"stroke:white;stroke-width:4\"/><line x1=\"400.594\" y1=\"260.98\" x2=\"400.495\" y2=\"259.985\" stroke-linecap=\"round\" style=\"stroke:white;stroke-width:4\"/><line x1=\"400.495\" y1=\"259.985\" x2=\"400.405\" y2=\"258.989\" stroke-linecap=\"round\" style=\"stroke:white;stroke-width:4\"/><line x1=\"400.405\" y1=\"258.989\" x2=\"400.324\" y2=\"257.992\" stroke-linecap=\"round\" style=\"stroke:white;stroke-width:4\"/><line x1=\"400.324\" y1=\"257.992\" x2=\"400.252\" y2=\"256.995\" stroke-linecap=\"round\" style=\"stroke:white;stroke-width:4\"/><line x1=\"400.252\" y1=\"256.995\" x2=\"400.189\" y2=\"255.997\" stroke-linecap=\"round\" style=\"stroke:white;stroke-width:4\"/><line x1=\"400.189\" y1=\"255.997\" x2=\"400.135\" y2=\"254.998\" stroke-linecap=\"round\" style=\"stroke:white;stroke-width:4\"/><line x1=\"400.135\" y1=\"254.998\" x2=\"400.09\" y2=\"253.999\" stroke-linecap=\"round\" style=\"stroke:white;stroke-width:4\"/><line x1=\"400.09\" y1=\"253.999\" x2=\"400.054\" y2=\"253.0\" stroke-linecap=\"round\" style=\"stroke:white;stroke-width:4\"/><line x1=\"400.054\" y1=\"253.0\" x2=\"400.027\" y2=\"252.0\" stroke-linecap=\"round\" style=\"stroke:white;stroke-width:4\"/><line x1=\"400.027\" y1=\"252.0\" x2=\"400.009\" y2=\"251.0\" stroke-linecap=\"round\" style=\"stroke:white;stroke-width:4\"/><line x1=\"400.009\" y1=\"251.0\" x2=\"400.0\" y2=\"250.0\" stroke-linecap=\"round\" style=\"stroke:white;stroke-width:4\"/>\n",
              "        <g visibility=visible transform=\"rotate(360.0000000000022,400.0,250.0) translate(382.0, 232.0)\">\n",
              "<path style=\" stroke:none;fill-rule:evenodd;fill:white;fill-opacity:1;\" d=\"M 18.214844 0.632812 C 16.109375 1.800781 15.011719 4.074219 15.074219 7.132812 L 15.085938 7.652344 L 14.785156 7.496094 C 13.476562 6.824219 11.957031 6.671875 10.40625 7.066406 C 8.46875 7.550781 6.515625 9.15625 4.394531 11.992188 C 3.0625 13.777344 2.679688 14.636719 3.042969 15.027344 L 3.15625 15.152344 L 3.519531 15.152344 C 4.238281 15.152344 4.828125 14.886719 8.1875 13.039062 C 9.386719 12.378906 10.371094 11.839844 10.378906 11.839844 C 10.386719 11.839844 10.355469 11.929688 10.304688 12.035156 C 9.832031 13.09375 9.257812 14.820312 8.96875 16.078125 C 7.914062 20.652344 8.617188 24.53125 11.070312 27.660156 C 11.351562 28.015625 11.363281 27.914062 10.972656 28.382812 C 8.925781 30.84375 7.945312 33.28125 8.238281 35.1875 C 8.289062 35.527344 8.28125 35.523438 8.917969 35.523438 C 10.941406 35.523438 13.074219 34.207031 15.136719 31.6875 C 15.359375 31.417969 15.328125 31.425781 15.5625 31.574219 C 16.292969 32.042969 18.023438 32.964844 18.175781 32.964844 C 18.335938 32.964844 19.941406 32.210938 20.828125 31.71875 C 20.996094 31.625 21.136719 31.554688 21.136719 31.558594 C 21.203125 31.664062 21.898438 32.414062 22.222656 32.730469 C 23.835938 34.300781 25.5625 35.132812 27.582031 35.300781 C 27.90625 35.328125 27.9375 35.308594 28.007812 34.984375 C 28.382812 33.242188 27.625 30.925781 25.863281 28.425781 L 25.542969 27.96875 L 25.699219 27.785156 C 28.945312 23.960938 29.132812 18.699219 26.257812 11.96875 L 26.207031 11.84375 L 27.945312 12.703125 C 31.53125 14.476562 32.316406 14.800781 33.03125 14.800781 C 33.976562 14.800781 33.78125 13.9375 32.472656 12.292969 C 28.519531 7.355469 25.394531 5.925781 21.921875 7.472656 L 21.558594 7.636719 L 21.578125 7.542969 C 21.699219 6.992188 21.761719 5.742188 21.699219 5.164062 C 21.496094 3.296875 20.664062 1.964844 19.003906 0.855469 C 18.480469 0.503906 18.457031 0.5 18.214844 0.632812\"/>\n",
              "</g>\n",
              "      </svg>\n",
              "    "
            ],
            "text/plain": [
              "<IPython.core.display.HTML object>"
            ]
          },
          "metadata": {
            "tags": []
          }
        }
      ]
    },
    {
      "cell_type": "code",
      "metadata": {
        "id": "oWAsUrt9kfaC"
      },
      "source": [
        "def saltar_arriba(longitud: (int,float)):\n",
        "    penup()\n",
        "    sety(gety() - longitud)\n",
        "    pendown()\n",
        "\n",
        "\n",
        "def saltar_abajo(longitud: (int,float)):\n",
        "    saltar_arriba(-longitud)\n",
        "\n",
        "\n",
        "def saltar_derecha(longitud: (int,float)):\n",
        "    penup()\n",
        "    setx(getx() + longitud)\n",
        "    pendown()"
      ],
      "execution_count": null,
      "outputs": []
    },
    {
      "cell_type": "code",
      "metadata": {
        "id": "gjsJkbRoo7Rf"
      },
      "source": [
        "def dibujar_triangulo(lado):\n",
        "  for _ in range(3):\n",
        "      forward(lado)\n",
        "      right(120)"
      ],
      "execution_count": null,
      "outputs": []
    },
    {
      "cell_type": "code",
      "metadata": {
        "id": "LxLuiccfpGtw",
        "colab": {
          "base_uri": "https://localhost:8080/",
          "height": 521
        },
        "outputId": "14cbd703-e80c-42e4-e611-77d8f13f8df9"
      },
      "source": [
        "pizarra_inicial()\n",
        "saltar_derecha(-100)\n",
        "dibujar_triangulo(50)\n",
        "saltar_derecha(60)\n",
        "dibujar_triangulo(100)\n",
        "saltar_derecha(100)\n",
        "dibujar_triangulo(150)\n",
        "hideturtle()"
      ],
      "execution_count": null,
      "outputs": [
        {
          "output_type": "display_data",
          "data": {
            "text/html": [
              "\n",
              "      <svg width=\"800\" height=\"500\">\n",
              "        <rect width=\"100%\" height=\"100%\" fill=\"black\"/>\n",
              "        <line x1=\"300\" y1=\"250\" x2=\"300.0\" y2=\"200.0\" stroke-linecap=\"round\" style=\"stroke:white;stroke-width:4\"/><line x1=\"300.0\" y1=\"200.0\" x2=\"343.301\" y2=\"225.0\" stroke-linecap=\"round\" style=\"stroke:white;stroke-width:4\"/><line x1=\"343.301\" y1=\"225.0\" x2=\"300.0\" y2=\"250.0\" stroke-linecap=\"round\" style=\"stroke:white;stroke-width:4\"/><line x1=\"360.0\" y1=\"250.0\" x2=\"360.0\" y2=\"150.0\" stroke-linecap=\"round\" style=\"stroke:white;stroke-width:4\"/><line x1=\"360.0\" y1=\"150.0\" x2=\"446.603\" y2=\"200.0\" stroke-linecap=\"round\" style=\"stroke:white;stroke-width:4\"/><line x1=\"446.603\" y1=\"200.0\" x2=\"360.0\" y2=\"250.0\" stroke-linecap=\"round\" style=\"stroke:white;stroke-width:4\"/><line x1=\"460.0\" y1=\"250.0\" x2=\"460.0\" y2=\"100.0\" stroke-linecap=\"round\" style=\"stroke:white;stroke-width:4\"/><line x1=\"460.0\" y1=\"100.0\" x2=\"589.904\" y2=\"175.0\" stroke-linecap=\"round\" style=\"stroke:white;stroke-width:4\"/><line x1=\"589.904\" y1=\"175.0\" x2=\"460.0\" y2=\"250.0\" stroke-linecap=\"round\" style=\"stroke:white;stroke-width:4\"/>\n",
              "        <g visibility=hidden transform=\"rotate(360,460.0,250.0) translate(442.0, 232.0)\">\n",
              "<path style=\" stroke:none;fill-rule:evenodd;fill:white;fill-opacity:1;\" d=\"M 18.214844 0.632812 C 16.109375 1.800781 15.011719 4.074219 15.074219 7.132812 L 15.085938 7.652344 L 14.785156 7.496094 C 13.476562 6.824219 11.957031 6.671875 10.40625 7.066406 C 8.46875 7.550781 6.515625 9.15625 4.394531 11.992188 C 3.0625 13.777344 2.679688 14.636719 3.042969 15.027344 L 3.15625 15.152344 L 3.519531 15.152344 C 4.238281 15.152344 4.828125 14.886719 8.1875 13.039062 C 9.386719 12.378906 10.371094 11.839844 10.378906 11.839844 C 10.386719 11.839844 10.355469 11.929688 10.304688 12.035156 C 9.832031 13.09375 9.257812 14.820312 8.96875 16.078125 C 7.914062 20.652344 8.617188 24.53125 11.070312 27.660156 C 11.351562 28.015625 11.363281 27.914062 10.972656 28.382812 C 8.925781 30.84375 7.945312 33.28125 8.238281 35.1875 C 8.289062 35.527344 8.28125 35.523438 8.917969 35.523438 C 10.941406 35.523438 13.074219 34.207031 15.136719 31.6875 C 15.359375 31.417969 15.328125 31.425781 15.5625 31.574219 C 16.292969 32.042969 18.023438 32.964844 18.175781 32.964844 C 18.335938 32.964844 19.941406 32.210938 20.828125 31.71875 C 20.996094 31.625 21.136719 31.554688 21.136719 31.558594 C 21.203125 31.664062 21.898438 32.414062 22.222656 32.730469 C 23.835938 34.300781 25.5625 35.132812 27.582031 35.300781 C 27.90625 35.328125 27.9375 35.308594 28.007812 34.984375 C 28.382812 33.242188 27.625 30.925781 25.863281 28.425781 L 25.542969 27.96875 L 25.699219 27.785156 C 28.945312 23.960938 29.132812 18.699219 26.257812 11.96875 L 26.207031 11.84375 L 27.945312 12.703125 C 31.53125 14.476562 32.316406 14.800781 33.03125 14.800781 C 33.976562 14.800781 33.78125 13.9375 32.472656 12.292969 C 28.519531 7.355469 25.394531 5.925781 21.921875 7.472656 L 21.558594 7.636719 L 21.578125 7.542969 C 21.699219 6.992188 21.761719 5.742188 21.699219 5.164062 C 21.496094 3.296875 20.664062 1.964844 19.003906 0.855469 C 18.480469 0.503906 18.457031 0.5 18.214844 0.632812\"/>\n",
              "</g>\n",
              "      </svg>\n",
              "    "
            ],
            "text/plain": [
              "<IPython.core.display.HTML object>"
            ]
          },
          "metadata": {
            "tags": []
          }
        }
      ]
    },
    {
      "cell_type": "markdown",
      "metadata": {
        "id": "-FgIH9_ps_Ih"
      },
      "source": [
        "## Operadores."
      ]
    },
    {
      "cell_type": "markdown",
      "metadata": {
        "id": "LaD3hwzXrHZZ"
      },
      "source": [
        "**Operadores.**\n",
        "\n",
        "Aritméticos.\n",
        "*   x + y  --> suma.\n",
        "*   x - y  --> resta.\n",
        "*   x * y  --> multiplicación.\n",
        "*   x / y  --> división. \n",
        "*   x % y  --> módulo.\n",
        "*   x ** y --> exponenciación.\n",
        "*   x // y --> división entera.\n",
        "\n",
        "Relacionales.\n",
        "*   x == y  --> igual.\n",
        "*   x != y  --> no igual.\n",
        "*   x > y   --> mayor.\n",
        "*   x < y   --> menor.\n",
        "*   x >= y  --> mayor igual.\n",
        "*   x <= y  --> menor igual.\n",
        "\n",
        "Lógicos.\n",
        "*   and (entre dos expresiones) --> conjunción. \n",
        "*   or (entre dos expresiones)  --> disyunción.\n",
        "*   not (antes de dos expresiones) --> negación.\n",
        "\n",
        "\n",
        "\n",
        "\n",
        "\n",
        "\n",
        "\n",
        "\n",
        "\n",
        "\n",
        "\n",
        "\n"
      ]
    },
    {
      "cell_type": "code",
      "metadata": {
        "id": "T_7_UAjhvnd0"
      },
      "source": [
        "45 / 8"
      ],
      "execution_count": null,
      "outputs": []
    },
    {
      "cell_type": "code",
      "metadata": {
        "id": "R2NzDLOdv1MC"
      },
      "source": [
        "45 // 8"
      ],
      "execution_count": null,
      "outputs": []
    },
    {
      "cell_type": "code",
      "metadata": {
        "id": "A3E9qUv3wG6U"
      },
      "source": [
        "78 < 300"
      ],
      "execution_count": null,
      "outputs": []
    },
    {
      "cell_type": "code",
      "metadata": {
        "id": "aexqE2AAwLRd"
      },
      "source": [
        "124 >= 243"
      ],
      "execution_count": null,
      "outputs": []
    },
    {
      "cell_type": "code",
      "metadata": {
        "id": "pe8S1GGdwbsL"
      },
      "source": [
        "45 == 45 and 56 != 78"
      ],
      "execution_count": null,
      "outputs": []
    },
    {
      "cell_type": "code",
      "metadata": {
        "id": "9i2YC4Kzwoas"
      },
      "source": [
        "36 > 91 or 2 * 6 == 46"
      ],
      "execution_count": null,
      "outputs": []
    },
    {
      "cell_type": "markdown",
      "metadata": {
        "id": "BbjeKUitxXkj"
      },
      "source": [
        "## Cadena de carácteres (strings)."
      ]
    },
    {
      "cell_type": "code",
      "metadata": {
        "colab": {
          "base_uri": "https://localhost:8080/"
        },
        "id": "9XAiZ2xMx0tx",
        "outputId": "279773aa-e500-4874-db54-377461cb0a0a"
      },
      "source": [
        "for c in \"Hola\":\n",
        "    print(c)"
      ],
      "execution_count": null,
      "outputs": [
        {
          "output_type": "stream",
          "text": [
            "H\n",
            "o\n",
            "l\n",
            "a\n"
          ],
          "name": "stdout"
        }
      ]
    },
    {
      "cell_type": "markdown",
      "metadata": {
        "id": "t-xo-iBWS0Gj"
      },
      "source": [
        "## Asignaciones (definiciones).\n",
        "\n",
        "Permite asignar a una variable un nuevo valor, e inmediatamente deja de tener el valor anterior."
      ]
    },
    {
      "cell_type": "code",
      "metadata": {
        "colab": {
          "base_uri": "https://localhost:8080/"
        },
        "id": "DfDfY7ifSivh",
        "outputId": "93a44720-35ce-4a63-b206-d53b3555af03"
      },
      "source": [
        "suma = 0\n",
        "for n in [1, 56, 23, 89, 24, 15, 73, 88]:\n",
        "    print('La suma parcial es', suma, '. El nuevo valor a sumar es', n)\n",
        "    suma = suma + n\n",
        "    print('La nueva suma parcial es', suma)\n",
        "print('La suma es', suma)"
      ],
      "execution_count": null,
      "outputs": [
        {
          "output_type": "stream",
          "text": [
            "La suma parcial es 0 . El nuevo valor a sumar es 1\n",
            "La nueva suma parcial es 1\n",
            "La suma parcial es 1 . El nuevo valor a sumar es 56\n",
            "La nueva suma parcial es 57\n",
            "La suma parcial es 57 . El nuevo valor a sumar es 23\n",
            "La nueva suma parcial es 80\n",
            "La suma parcial es 80 . El nuevo valor a sumar es 89\n",
            "La nueva suma parcial es 169\n",
            "La suma parcial es 169 . El nuevo valor a sumar es 24\n",
            "La nueva suma parcial es 193\n",
            "La suma parcial es 193 . El nuevo valor a sumar es 15\n",
            "La nueva suma parcial es 208\n",
            "La suma parcial es 208 . El nuevo valor a sumar es 73\n",
            "La nueva suma parcial es 281\n",
            "La suma parcial es 281 . El nuevo valor a sumar es 88\n",
            "La nueva suma parcial es 369\n",
            "La suma es 369\n"
          ],
          "name": "stdout"
        }
      ]
    },
    {
      "cell_type": "code",
      "metadata": {
        "colab": {
          "base_uri": "https://localhost:8080/"
        },
        "id": "y8KW0zDhUgSe",
        "outputId": "7ed7c994-1f05-4604-a502-c2b34fa3876b"
      },
      "source": [
        "x, y, z = 'black', 5+7 == 15, [2,3,5,7,11,13,17,19]\n",
        "x = y\n",
        "print(x, y, z)"
      ],
      "execution_count": null,
      "outputs": [
        {
          "output_type": "stream",
          "text": [
            "False False [2, 3, 5, 7, 11, 13, 17, 19]\n"
          ],
          "name": "stdout"
        }
      ]
    },
    {
      "cell_type": "markdown",
      "metadata": {
        "id": "hU-xJ3CsQyg_"
      },
      "source": [
        "$$\n",
        "\\sum_{i=0}^n i = \\frac{n(n+1)}{2}\n",
        "$$"
      ]
    },
    {
      "cell_type": "code",
      "metadata": {
        "colab": {
          "base_uri": "https://localhost:8080/"
        },
        "id": "XLqcUYr5QA-5",
        "outputId": "d88e05cc-dd6d-4409-86dd-c94c9982eca3"
      },
      "source": [
        "n = 0\n",
        "for i in range(11):\n",
        "  n = n + i\n",
        "print(n)"
      ],
      "execution_count": null,
      "outputs": [
        {
          "output_type": "stream",
          "text": [
            "55\n"
          ],
          "name": "stdout"
        }
      ]
    },
    {
      "cell_type": "code",
      "metadata": {
        "colab": {
          "base_uri": "https://localhost:8080/"
        },
        "id": "ivaNUwJTQ9_0",
        "outputId": "7fb9d7ef-5763-491f-acd1-99482d4669f3"
      },
      "source": [
        "n = 0\n",
        "i = 0\n",
        "while i < 11:\n",
        "  n = n + i\n",
        "  i = i + 1\n",
        "print(n)"
      ],
      "execution_count": null,
      "outputs": [
        {
          "output_type": "stream",
          "text": [
            "55\n"
          ],
          "name": "stdout"
        }
      ]
    },
    {
      "cell_type": "code",
      "metadata": {
        "id": "ZDLDtW4FRFsq"
      },
      "source": [
        "def potenciacion(a, n: int) -> int:\n",
        "  # pre: n >= 0 \n",
        "  # Devuelve \"a a la n\"\n",
        "  pot = 1\n",
        "  for _ in range(n):\n",
        "    pot = pot * a\n",
        "  return pot"
      ],
      "execution_count": null,
      "outputs": []
    },
    {
      "cell_type": "markdown",
      "metadata": {
        "id": "qr0PJdwXRQjF"
      },
      "source": [
        "Función: $f(n) = \\sum_{i=0}^n i$ (que sabemos que es $n(n+1)/2$). \n",
        "\n",
        "Recordemos que \n",
        "$$\n",
        "\\sum_{i=1}^n a_i = a_1 + a_2 + \\cdots + a_{n-1} + a_n. \n",
        "$$\n",
        "La definición formal es\n",
        "$$\\sum_{i=1}^1 a_i = a_1,$$ $$\\sum_{i=1}^n a_i = \\sum_{i=1}^{n-1} a_i + a_n, \\; (n > 1).$$"
      ]
    },
    {
      "cell_type": "code",
      "metadata": {
        "id": "wLKUmDbiRVFu"
      },
      "source": [
        "def sumatoria_hasta(n: int) -> int:\n",
        "  sum = 0\n",
        "  for i in range(1, n+1):\n",
        "    sum = sum + i\n",
        "  return sum"
      ],
      "execution_count": null,
      "outputs": []
    },
    {
      "cell_type": "code",
      "metadata": {
        "id": "Jia7wt-YRdyP"
      },
      "source": [
        "def factorial(n: int) -> int:\n",
        "  # pre: n > 0 \n",
        "  # Devuelve el producto de los primeros n números naturales\n",
        "  prod = 1\n",
        "  for i in range(1, n+1):\n",
        "    prod = prod * i\n",
        "  return prod"
      ],
      "execution_count": null,
      "outputs": []
    },
    {
      "cell_type": "markdown",
      "metadata": {
        "id": "2MD0i6DtRi16"
      },
      "source": [
        "Serie geométrica. \n",
        "\n",
        "Dado $q > 0$ , $q \\ne 1$ y $n \\in \\mathbb N$.\n",
        "$$\n",
        "\\sum_{i=0}^n q^i\n",
        "$$\n",
        "es la *serie geométrica.*\n",
        "Es sabido, que \n",
        "$$\n",
        "\\sum_{i=0}^n q^i = \\frac{q^n -1}{q-1}.\n",
        "$$"
      ]
    },
    {
      "cell_type": "code",
      "metadata": {
        "id": "D7dDNGiIRnOw"
      },
      "source": [
        "def serie_geometrica(q: float, n: int) -> float:\n",
        "  # pre: q > 0, q != 1, n >= 1\n",
        "  res = 0\n",
        "  for i in range(n+1): # list(range(n+1)) = [0, 1, 2, ... ,n ]\n",
        "    res = res + q**i\n",
        "  return res "
      ],
      "execution_count": null,
      "outputs": []
    },
    {
      "cell_type": "markdown",
      "metadata": {
        "id": "EFuurmxYtcv3"
      },
      "source": [
        "Todo tipo de dato puede ser usado en las asignaciones:"
      ]
    },
    {
      "cell_type": "code",
      "metadata": {
        "id": "30cY2ukNTl5A"
      },
      "source": [
        "una_cadena = 'ésta es una cadena de caracteres'\n",
        "una_letra = 'E' # en Python es simplemente una cadena de longitud 1\n",
        "un_numero = len(una_cadena)\n",
        "otro_numero = un_numero/16\n",
        "numeros = list(range(10))\n",
        "un_valor_logico = len(una_letra) == 1 and un_numero > len(numeros)\n",
        "print(un_numero, otro_numero, una_cadena, una_letra, numeros, un_valor_logico)"
      ],
      "execution_count": null,
      "outputs": []
    },
    {
      "cell_type": "markdown",
      "metadata": {
        "id": "ev9KC22ZSYqb"
      },
      "source": [
        "## Return."
      ]
    },
    {
      "cell_type": "markdown",
      "metadata": {
        "id": "1JWM47sVVvVQ"
      },
      "source": [
        "El término función en matemática se corresponde con operaciones que calculan o devuelven un valor: la función logaritmo, seno, coseno, raíz cuadrada, etc.\n",
        "Para **definir funciones que devuelvan valores**, se utiliza en el cuerpo de la función la instrucción **`return`**. \n",
        "Esta instrucción tiene dos efectos: 1) finalizar la ejecución del cuerpo de la función, y 2) devolver el valor de la expresión que sigue a la palabra `return`."
      ]
    },
    {
      "cell_type": "code",
      "metadata": {
        "id": "2MhqpWdyVuem"
      },
      "source": [
        "def maximo(n: int, m: int) -> int:\n",
        "    if n < m:\n",
        "        max = m\n",
        "    else:\n",
        "        max = n\n",
        "    return max\n",
        "\n",
        "x = maximo(3, 7) + 10\n",
        "print(x)"
      ],
      "execution_count": null,
      "outputs": []
    },
    {
      "cell_type": "markdown",
      "metadata": {
        "id": "1DbFlFlCknlF"
      },
      "source": [
        "Hacer una función que dado un número devuelva 0 si el número es par, y 1 si el número impar.\n",
        "\n",
        "El operador % devuelve el resto de dividir por cierto número."
      ]
    },
    {
      "cell_type": "code",
      "metadata": {
        "id": "L2dr9l1nkvqh"
      },
      "source": [
        "# probando el operador % \n",
        "print('23 % 5 =',23 % 5)\n",
        "print('24 % 5 =',24 % 5)\n",
        "print('25 % 5 =',25 % 5)\n",
        "print('26 % 5 =',26 % 5)\n",
        "print('27 % 5 =',27 % 5)"
      ],
      "execution_count": null,
      "outputs": []
    },
    {
      "cell_type": "code",
      "metadata": {
        "id": "s_mMeCsDk9uF"
      },
      "source": [
        "def paridad(numero: int) -> int:\n",
        "  # post: devuelve 0 si numero es par, 1 si es impar. \n",
        "  dev = numero % 2\n",
        "  return dev"
      ],
      "execution_count": null,
      "outputs": []
    },
    {
      "cell_type": "code",
      "metadata": {
        "id": "TfIPW1pslJgO"
      },
      "source": [
        "print(paridad(0))\n",
        "print(paridad(7))\n",
        "print(paridad(32))\n",
        "print(paridad(49))"
      ],
      "execution_count": null,
      "outputs": []
    },
    {
      "cell_type": "markdown",
      "metadata": {
        "id": "qCMsSMGVtth2"
      },
      "source": [
        "## Expresiones."
      ]
    },
    {
      "cell_type": "markdown",
      "metadata": {
        "id": "iegQzqqEWzQb"
      },
      "source": [
        "**Expresiones.**\n",
        "\n",
        "Pueden tener valores de distintos tipos: valores numéricos, valores lógicos, cadenas de caracteres (strings) y listas, entre otros.\n",
        "Cuando invocamos a una función, el argumento puede ser una expresión más compleja. Cuando asignamos un valor a una variable, el lado derecho de la asignación también puede ser una expresión más compleja."
      ]
    },
    {
      "cell_type": "markdown",
      "metadata": {
        "id": "q3GKohy2XHkV"
      },
      "source": [
        "**Expresiones numéricas.**\n",
        "\n",
        "Dentro de los valores numéricos podemos distinguir entre valores enteros, valores reales y valores complejos.\n",
        "\n",
        "Por ahora, nos interesan las expresiones numéricas que tienen valores enteros o reales.\n",
        "\n",
        "Una primera observación es que se dispone de números enteros arbitrariamente grandes (esto no es común en otros lenguajes de programación imperativos). \n",
        "\n",
        "Cada número entero tiene una representación finita, pero no podemos decir lo mismo para los números reales."
      ]
    },
    {
      "cell_type": "code",
      "metadata": {
        "id": "Sh2qFf9SY_Sz"
      },
      "source": [
        "0.1 + 0.1 + 0.1"
      ],
      "execution_count": null,
      "outputs": []
    },
    {
      "cell_type": "markdown",
      "metadata": {
        "id": "mnhg0CjbY9mf"
      },
      "source": [
        "El problema que estamos observando no es un error de Python, sino que es consecuencia de la imposibilidad de representar de manera exacta el 0.1 utilizando su desarrollo binario. "
      ]
    },
    {
      "cell_type": "code",
      "metadata": {
        "id": "Bs0eYm6BYLXz"
      },
      "source": [
        "print(3 + 20)\n",
        "print(3.0 + 20)"
      ],
      "execution_count": null,
      "outputs": []
    },
    {
      "cell_type": "markdown",
      "metadata": {
        "id": "ggp6mZ7LYs4m"
      },
      "source": [
        "Cuando se escribe 3 se refiere al número entero y cuando se escribe 3.0 se refiere al número real.\n",
        "\n",
        "La distinción es importante ya que no siempre se puede reemplazar un entero por su equivalente real. \n",
        "\n",
        "Se puede escribir:"
      ]
    },
    {
      "cell_type": "code",
      "metadata": {
        "id": "k_6Lr-9YZi-E"
      },
      "source": [
        "for i in range(3):\n",
        "    print(i)"
      ],
      "execution_count": null,
      "outputs": []
    },
    {
      "cell_type": "markdown",
      "metadata": {
        "id": "41MSGn8jaBgB"
      },
      "source": [
        "pero no:"
      ]
    },
    {
      "cell_type": "code",
      "metadata": {
        "id": "IU1vh3KwpKpY"
      },
      "source": [
        "for i in range(3.0):\n",
        "    print(i)"
      ],
      "execution_count": null,
      "outputs": []
    },
    {
      "cell_type": "markdown",
      "metadata": {
        "id": "kpWFtE4_aUh0"
      },
      "source": [
        "Existen dos buenas razones para tratar de trabajar con números enteros exclusivamente:\n",
        "*   No todos los números reales se pueden representar de manera exacta.\n",
        "*   No en todos los lugares donde puede escribirse un entero se admiten números reales.\n",
        "\n",
        "Los operadores aritméticos que hemos presentado dan resultado entero cuando sus dos operandos son enteros. Menos el operador de división  (`/`):"
      ]
    },
    {
      "cell_type": "code",
      "metadata": {
        "id": "OwUz9132auLr"
      },
      "source": [
        "print(10 / 4)\n",
        "print(6 / 3)"
      ],
      "execution_count": null,
      "outputs": []
    },
    {
      "cell_type": "markdown",
      "metadata": {
        "id": "kCuQ-PAUa3HP"
      },
      "source": [
        "A pesar de que sus argumentos son números enteros, el resultado es un número real.\n",
        "Por eso no se puede escribir:"
      ]
    },
    {
      "cell_type": "code",
      "metadata": {
        "id": "Qp7DD8Z8bJ7k"
      },
      "source": [
        "for i in range(6 / 3):\n",
        "    print(i)"
      ],
      "execution_count": null,
      "outputs": []
    },
    {
      "cell_type": "markdown",
      "metadata": {
        "id": "gK8yUmkgbOh-"
      },
      "source": [
        "sino que hay que utilizar la **función int()** que se queda con la parte entera del número real (lo trunca):"
      ]
    },
    {
      "cell_type": "code",
      "metadata": {
        "id": "VxCWFLWXbVVj"
      },
      "source": [
        "for i in range(int(6 / 3)):\n",
        "  print(i)"
      ],
      "execution_count": null,
      "outputs": []
    },
    {
      "cell_type": "markdown",
      "metadata": {
        "id": "v1WLQrDNbltc"
      },
      "source": [
        "**Expresiones lógicas.**\n",
        "\n",
        "Los operadores relacionales permiten obtener valores lógicos a partir de otros valores."
      ]
    },
    {
      "cell_type": "code",
      "metadata": {
        "id": "4U0BP2gVb8ND"
      },
      "source": [
        "a = 70 > 100\n",
        "b = 50 == 20 + 31\n",
        "c = 50 != 20 + 31\n",
        "d = 70 < 100\n",
        "e = 70 <= 100\n",
        "f = 70 >= 100\n",
        "print(a,b,c,d,e,f)"
      ],
      "execution_count": null,
      "outputs": []
    },
    {
      "cell_type": "markdown",
      "metadata": {
        "id": "MY6mmGeBcF1k"
      },
      "source": [
        "Los operadores lógicos permiten operar con valores lógicos."
      ]
    },
    {
      "cell_type": "code",
      "metadata": {
        "id": "ZzBRBCSJcGd8"
      },
      "source": [
        "3 <= x and x <= 10      # (x = 17, definida antes)"
      ],
      "execution_count": null,
      "outputs": []
    },
    {
      "cell_type": "markdown",
      "metadata": {
        "id": "zt5yRqaqcn5Z"
      },
      "source": [
        "En los lenguajes de programación la conjunción y la disyunción no son conmutativas.\n",
        "\n",
        "Se debe a que al evaluar el primer operando de la conjunción, si se obtiene el resultado False se evita evaluar el segundo operando."
      ]
    },
    {
      "cell_type": "code",
      "metadata": {
        "id": "SoTaYek6cvTR"
      },
      "source": [
        "3 > 5 and 4 > 3/0"
      ],
      "execution_count": null,
      "outputs": []
    },
    {
      "cell_type": "markdown",
      "metadata": {
        "id": "vB-XeVYFczwY"
      },
      "source": [
        "no da lo mismo que:"
      ]
    },
    {
      "cell_type": "code",
      "metadata": {
        "id": "xZFdi_zdpdur"
      },
      "source": [
        "4 > 3/0 and 3 > 5      # da error"
      ],
      "execution_count": null,
      "outputs": []
    },
    {
      "cell_type": "markdown",
      "metadata": {
        "id": "j7HMavTxt0S6"
      },
      "source": [
        "## Instrucciones condicionales."
      ]
    },
    {
      "cell_type": "markdown",
      "metadata": {
        "id": "KCGQFyRydhZr"
      },
      "source": [
        "**Instrucciones condicionales.**\n",
        "\n",
        "Permiten escribir programas capaces de tomar decisiones, es decir, de realizar ciertas instrucciones dependiendo de que si se cumplen o no condiciones durante la ejecución del programa."
      ]
    },
    {
      "cell_type": "markdown",
      "metadata": {
        "id": "URjp4p3gdyvG"
      },
      "source": [
        "La forma más sencilla de una instrucción condicional es la siguiente:"
      ]
    },
    {
      "cell_type": "code",
      "metadata": {
        "id": "ghSa3Mm5dzgq"
      },
      "source": [
        "if expresión lógica:\n",
        "  instrucciones"
      ],
      "execution_count": null,
      "outputs": []
    },
    {
      "cell_type": "markdown",
      "metadata": {
        "id": "ZZ1igRz6d3fl"
      },
      "source": [
        "Cuando se ejecuta esta instrucción condicional, se evalúa la expresión lógica, si su resultado es `True` se ejecutan las `instrucciones`, en cambio si su resultado es `False` no se ejecuta nada más.\n",
        "\n"
      ]
    },
    {
      "cell_type": "code",
      "metadata": {
        "id": "dn5lZ2qLeDHC"
      },
      "source": [
        "instrucciones0\n",
        "if expresión lógica:\n",
        "  instrucciones1\n",
        "instrucciones2"
      ],
      "execution_count": null,
      "outputs": []
    },
    {
      "cell_type": "markdown",
      "metadata": {
        "id": "e_mLuMW1eDpl"
      },
      "source": [
        "Cuando se ejecuta todo este programa, primero se ejecutan las `instrucciones0`, luego se evalúa la expresión lógica. Si su resultado es `True` se ejecutan las `instrucciones1` y luego las `instrucciones2`, en cambio si su resultado es `False` solamente se ejecutan las `instrucciones2` omitiendo la ejecución de las `instrucciones1`."
      ]
    },
    {
      "cell_type": "markdown",
      "metadata": {
        "id": "zqMFfq5IeTdP"
      },
      "source": [
        "Con frecuencia se necesitan expresiones condiccionales para ejecutar ciertas instrucciones cuando la condición del if resulta True y otras instrucciones cuando la condición del if resulta False. En ese caso, la expresión condicional toma una forma un poco más **compleja**:"
      ]
    },
    {
      "cell_type": "code",
      "metadata": {
        "id": "Jj7A0rVQeZRQ"
      },
      "source": [
        "if expresión lógica:\n",
        "  instrucciones1\n",
        "else:\n",
        "  instrucciones2"
      ],
      "execution_count": null,
      "outputs": []
    },
    {
      "cell_type": "markdown",
      "metadata": {
        "id": "GcwqPNdIefYq"
      },
      "source": [
        "Cuando se ejecuta esta instrucción condicional, se evalúa la expresión lógica, si su resultado es `True` se ejecutan las `instrucciones1`, en cambio si su resultado es `False` se ejecuta las `instrucciones2`."
      ]
    },
    {
      "cell_type": "code",
      "metadata": {
        "id": "69S3ylvee0Ws"
      },
      "source": [
        "instrucciones0\n",
        "if expresión lógica:\n",
        "  instrucciones1\n",
        "else:\n",
        "  instrucciones2\n",
        "instrucciones3"
      ],
      "execution_count": null,
      "outputs": []
    },
    {
      "cell_type": "markdown",
      "metadata": {
        "id": "52sxNzive1c8"
      },
      "source": [
        "Cuando se ejecuta todo este programa, primero se ejecutan las `instrucciones0`, luego se evalúa la expresión lógica. Si su resultado es `True` se ejecutan las `instrucciones1` y luego las `instrucciones3`, en cambio si su resultado es `False` se ejecutan las `instrucciones2` y luego las `instrucciones3`."
      ]
    },
    {
      "cell_type": "markdown",
      "metadata": {
        "id": "r1II9ma0e_aP"
      },
      "source": [
        "**Forma general de la expresión condicional.**\n",
        "\n",
        "En algunas ocasiones debemos escribir un programa capaz de elegir entre más de dos posibilidades."
      ]
    },
    {
      "cell_type": "code",
      "metadata": {
        "id": "7IcDOmkufNYL"
      },
      "source": [
        "if expresión_lógica1:\n",
        "  instrucciones1\n",
        "else:\n",
        "  if expresión_lógica2:\n",
        "    instrucciones2\n",
        "  else:\n",
        "    instrucciones3"
      ],
      "execution_count": null,
      "outputs": []
    },
    {
      "cell_type": "markdown",
      "metadata": {
        "id": "B5cD63Ltfj2U"
      },
      "source": [
        "Incluso situaciones más complejas donde se puede precisar contemplar numerosas posibilidades:"
      ]
    },
    {
      "cell_type": "code",
      "metadata": {
        "id": "W2AX8sf2feQ0"
      },
      "source": [
        "if expresión_lógica1:\n",
        "  instrucciones1\n",
        "else:\n",
        "  if expresión_lógica2:\n",
        "    instrucciones2\n",
        "  else:\n",
        "    if expresión_lógica3:\n",
        "      instrucciones3\n",
        "    else:\n",
        "      if expresión_lógica4:\n",
        "        instrucciones4\n",
        "      else:\n",
        "        instrucciones5"
      ],
      "execution_count": null,
      "outputs": []
    },
    {
      "cell_type": "markdown",
      "metadata": {
        "id": "bWpx8Ntkf3fd"
      },
      "source": [
        "Si bien es mejor intentar evitar programas tan complicados lógicamente, no siempre es posible. Para esos casos, los lenguajes de programación suelen proporcionar convenientes abreviaturas: la forma general de la expresión condicional. El programa anterior se escribe en Python:"
      ]
    },
    {
      "cell_type": "code",
      "metadata": {
        "id": "EjI-Ls22fYdV"
      },
      "source": [
        "if expresión_lógica1:\n",
        "  instrucciones1\n",
        "elif expresión_lógica2:\n",
        "  instrucciones2\n",
        "elif expresión_lógica3:\n",
        "  instrucciones3\n",
        "elif expresión_lógica4:\n",
        "  instrucciones4\n",
        "else:\n",
        "  instrucciones5"
      ],
      "execution_count": null,
      "outputs": []
    },
    {
      "cell_type": "markdown",
      "metadata": {
        "id": "aXvzSUf9t-Nh"
      },
      "source": [
        "## Ciclo \"while\"."
      ]
    },
    {
      "cell_type": "markdown",
      "metadata": {
        "id": "Vt5vqnDbgDBD"
      },
      "source": [
        "**Ciclo \"mientras\".**\n",
        "\n",
        "Las expresiones lógicas resultan fundamentales para escribir instrucciones condicionales y ciclos mientras o ciclos while. Los ciclos mientras son mecanismos de iteración o repetición que existen en todos los lenguajes de programación imperativos.\n",
        "\n",
        "Se los utiliza toda vez que se necesita que ciertas instrucciones se repitan mientras una cierta condición se siga cumpliendo.\n",
        "\n",
        "Para situaciones en las cuales no se sabe o no se puede expresar el número de veces que se repetirá un grupo de instrucciones, sino que se conoce una condición que debe satisfacerse para que el grupo de instrucciones continúe repitiéndose, está el ciclo mientras o ciclo while. Se escribe:"
      ]
    },
    {
      "cell_type": "code",
      "metadata": {
        "id": "8xAuz21Egry1"
      },
      "source": [
        "while expresión lógica:\n",
        "  instrucciones"
      ],
      "execution_count": null,
      "outputs": []
    },
    {
      "cell_type": "markdown",
      "metadata": {
        "id": "S1zrYGWRhAtz"
      },
      "source": [
        "A las `instrucciones` se las llama el *cuerpo del while* y a la expresión lógica, la *condición del while*.\n",
        "\n",
        "Para la ejecución del while se evalúa la condición:\n",
        "1.   Si su resultado es `False` no se ejecuta nada más.\n",
        "2.   En cambio, si su resultado es `True`, se repite lo siguiente:\n",
        "  *   una ejecución del cuerpo.\n",
        "  *   una nueva evaluación de la condición (su resultado puede variar producto de la ejecución del cuerpo).\n",
        "  \n",
        "  ¿Hasta cuándo se repite esto? Hasta que la evaluación de la condición tenga resultado `False`, en ese momento finaliza la ejecución del ciclo while.\n",
        "\n",
        "Puede que la primera vez que se evalúe la condición su resultado sea `False`, en ese caso el cuerpo no alcanza a ejecutarse ni siquiera una vez.\n",
        "\n",
        "En el otro extremo, puede ocurrir que la primera vez dé `True`, y la segunda también, y la tercera también, etc. que todas esas evaluaciones den `True`, siempre. En este caso, el ciclo while no termina nunca. Este comportamiento era imposible con los ciclos for y es una de las principales fuentes de problemas de programación ya que da lugar a programas que se cuelgan o tildan, es decir, **programas que no terminan**."
      ]
    },
    {
      "cell_type": "markdown",
      "metadata": {
        "id": "jTDPsLYAiEwy"
      },
      "source": [
        "El programa de este ciclo equivale a:"
      ]
    },
    {
      "cell_type": "code",
      "metadata": {
        "id": "Ot9IQygDiHI5"
      },
      "source": [
        "if condición:\n",
        "  instrucciones\n",
        "  if condición:\n",
        "    instrucciones\n",
        "    if condición:\n",
        "      instrucciones\n",
        "      if condición:\n",
        "        instrucciones\n",
        "        etc..."
      ],
      "execution_count": null,
      "outputs": []
    },
    {
      "cell_type": "markdown",
      "metadata": {
        "id": "xI55N0UyiH5j"
      },
      "source": [
        "que no se puede terminar de escribir porque no se sabe cúantos condicionales más tipear."
      ]
    },
    {
      "cell_type": "markdown",
      "metadata": {
        "id": "pf-ltDgsuD4Z"
      },
      "source": [
        "## Swap."
      ]
    },
    {
      "cell_type": "markdown",
      "metadata": {
        "id": "lBJuCep0iPQO"
      },
      "source": [
        "**Swap.**\n",
        "\n",
        "Intercambio de valores."
      ]
    },
    {
      "cell_type": "code",
      "metadata": {
        "id": "gn0eCntCjJqO"
      },
      "source": [
        "# Con un swap se intercambian los valores de dos variables. \n",
        "x, y = 1, 0 \n",
        "# queremos hace que x  tome el valor de y (0  en este caso) e y el valor de x (1 en este caso)\n",
        "x, y = y, x \n",
        "# En Python el swap se puede implementar así, con la \"asignación simultanea\" \n",
        "print(x, y)"
      ],
      "execution_count": null,
      "outputs": []
    },
    {
      "cell_type": "code",
      "metadata": {
        "id": "2ZYmH5OKjUJC"
      },
      "source": [
        "# La lógica del swap\n",
        "# El swap implementado \"artesanalmente\" siempre requiere de una variable auxiliar\n",
        "x, y = 1, 0\n",
        "z = x # z es una variable auxiliar, que toma el valor x\n",
        "x = y # aquí x vale y, luego vale 0\n",
        "y = z # y vale z, luego vale el valor original de x,  es decir 1\n",
        "print(x, y) # es un swap\n",
        "# Ptython cuando hace el swap  por asignación simultanea,  crea internamente una variable auxiliar"
      ],
      "execution_count": null,
      "outputs": []
    },
    {
      "cell_type": "markdown",
      "metadata": {
        "id": "q5Dq1gb7jaIv"
      },
      "source": [
        "La forma de **no hacer swap** es la siguiente:"
      ]
    },
    {
      "cell_type": "code",
      "metadata": {
        "id": "BacVaHENjdCt"
      },
      "source": [
        "x, y = 1, 0\n",
        "x = y # aquí x vale y, luego vale 0\n",
        "y = x # y vale x, luego vale 0\n",
        "print(x, y) # no es un swap!"
      ],
      "execution_count": null,
      "outputs": []
    },
    {
      "cell_type": "markdown",
      "metadata": {
        "id": "kl5lZnAayASA"
      },
      "source": [
        "## Precondiciones."
      ]
    },
    {
      "cell_type": "code",
      "metadata": {
        "id": "IrGsK80ZyFo1"
      },
      "source": [
        "def factorial(n: int) -> int:\n",
        "     # pre: n >= 0\n",
        "     # post: devuelve 1 * 2 * ... * n\n",
        "     pass"
      ],
      "execution_count": null,
      "outputs": []
    },
    {
      "cell_type": "markdown",
      "metadata": {
        "id": "rQZj4Kwfysbz"
      },
      "source": [
        "El tipo de la función factorial dice que en toda invocación a la función factorial, el argumento debe ser de tipo entero. La pre (pre-condición) agrega que en tales invocaciones, el argumento debe ser mayor o igual a cero.\n",
        "\n",
        "Es decir, el programador de cada invocación a la función tiene la obligación de **proporcionar como argumento un entero mayor o igual a cero**. A cambio de eso tiene derecho a asumir que el resultado será un número entero (eso dice el tipo de la función) y su valor será el producto 1 * 2 * ... * n (eso dice la post)."
      ]
    },
    {
      "cell_type": "code",
      "metadata": {
        "id": "rUvaZoaDy5dk"
      },
      "source": [
        "def factorial(n: int) -> int:\n",
        "     # pre: n >= 0\n",
        "     # post: devuelve 1 * 2 * ... * n\n",
        "     prod = 1\n",
        "     for i in range(1, n+1):\n",
        "         prod = prod * i\n",
        "     return prod"
      ],
      "execution_count": null,
      "outputs": []
    },
    {
      "cell_type": "code",
      "metadata": {
        "colab": {
          "base_uri": "https://localhost:8080/"
        },
        "id": "wkK4hqAHy9Fc",
        "outputId": "bbf30948-63a4-45e4-e9f6-ff4e43ed67d5"
      },
      "source": [
        "factorial(4)"
      ],
      "execution_count": null,
      "outputs": [
        {
          "output_type": "execute_result",
          "data": {
            "text/plain": [
              "24"
            ]
          },
          "metadata": {
            "tags": []
          },
          "execution_count": 3
        }
      ]
    },
    {
      "cell_type": "code",
      "metadata": {
        "id": "SZJ80pyrz705"
      },
      "source": [
        "factorial(5.6)\n",
        "factorial(34.0)\n",
        "factorial(-2)\n",
        "# no realiza la función (argumento no esperado)."
      ],
      "execution_count": null,
      "outputs": []
    },
    {
      "cell_type": "markdown",
      "metadata": {
        "id": "0Zmv0xY21hVl"
      },
      "source": [
        "Dados el tipo y la precondición de la función factorial, estos errores son responsabilidad del usuario de la función.\n"
      ]
    },
    {
      "cell_type": "markdown",
      "metadata": {
        "id": "7soIe7pO1_WZ"
      },
      "source": [
        "**Assert:**\n",
        "\n",
        "Es una instrucción que permite definir de manera en que la función esté preparada para chequear que se está utilizando de manera correcta."
      ]
    },
    {
      "cell_type": "code",
      "metadata": {
        "id": "P536furV2kxm"
      },
      "source": [
        "def factorial(n: int) -> int:\n",
        "     # pre: n >= 0\n",
        "     # post: devuelve 1 * 2 * ... * n\n",
        "     assert type(n) == int, 'Error de tipo: el argumento de factorial debe ser entero'\n",
        "     assert n >= 0, 'Error: el argumento de factorial debe ser mayor o igual a cero'\n",
        "     prod = 1\n",
        "     for i in range(1, n+1):\n",
        "         prod = prod * i\n",
        "     return prod\n",
        "\n",
        "(Lo que le sigue al assert, es cómo debe ser, lo que sigue luego de la coma,\n",
        " es lo que pasa cuando no se cumple el assert.)"
      ],
      "execution_count": null,
      "outputs": []
    },
    {
      "cell_type": "markdown",
      "metadata": {
        "id": "xCub_HP828wQ"
      },
      "source": [
        "Otra posibilidad es tener un único `assert`:"
      ]
    },
    {
      "cell_type": "code",
      "metadata": {
        "id": "tQ0L0c4K57RO"
      },
      "source": [
        "def factorial(n: int) -> int:\n",
        "     # pre: n >= 0\n",
        "     # post: devuelve 1 * 2 * ... * n\n",
        "     assert type(n) == int and n >= 0, 'Error en la invocación a la función factorial: argumento no esperado'\n",
        "     prod = 1\n",
        "     for i in range(1, n+1):\n",
        "         prod = prod * i\n",
        "     return prod"
      ],
      "execution_count": null,
      "outputs": []
    },
    {
      "cell_type": "code",
      "metadata": {
        "id": "gWz8smQH642g"
      },
      "source": [
        "def factorial(n: int) -> int:\n",
        "     # pre: n >= 0\n",
        "     # post: devuelve 1 * 2 * ... * n\n",
        "     assert n >= 0 and type(n) == int, 'Error en la invocación a la función factorial: argumento no esperado'\n",
        "     prod = 1\n",
        "     for i in range(1, n+1):\n",
        "         prod = prod * i\n",
        "     return prod"
      ],
      "execution_count": null,
      "outputs": []
    },
    {
      "cell_type": "markdown",
      "metadata": {
        "id": "Um_9QVbh7ce1"
      },
      "source": [
        "( no siempre da lo mismo el orden en el que se evaluan las proposiciones )"
      ]
    },
    {
      "cell_type": "code",
      "metadata": {
        "id": "OYTtbCfjY2z9"
      },
      "source": [
        "def log2_ent(numero: float) -> int:\n",
        "  # pre: numero >= 1\n",
        "  assert type(numero) == float or type(numero) == int, 'El input debe ser un número'\n",
        "  assert numero >= 1, 'El número debe ser >= 1'\n",
        "  # post: devuelve x tal que 2**x <= numero < 2**(x+1)\n",
        "  x = 0\n",
        "  while 2**x <= numero:\n",
        "    x = x + 1\n",
        "  return x - 1"
      ],
      "execution_count": null,
      "outputs": []
    },
    {
      "cell_type": "code",
      "metadata": {
        "id": "Tx-qU5XTgOze"
      },
      "source": [
        "# Definir una función que solo acepte enteros y cadenas, y que devuelva la cadena correspondiente.\n",
        "def prueba(x):\n",
        "  assert type(x) == int or type(x) == str, 'El  input debe ser int o str'\n",
        "  return str(x)\n",
        "\n",
        "prueba(5)\n",
        "prueba(\"ab\")\n",
        "prueba(32.6)\n",
        "prueba(\"32.6\")\n",
        "\n",
        "# la prueba 3 no se realiza ya que el input no es int ni str."
      ],
      "execution_count": null,
      "outputs": []
    },
    {
      "cell_type": "markdown",
      "metadata": {
        "id": "C21XqU4A7hqy"
      },
      "source": [
        "## Interfaces elementales."
      ]
    },
    {
      "cell_type": "markdown",
      "metadata": {
        "id": "e5fc3-0w9zua"
      },
      "source": [
        "La mayoría de las funciones que uno define no interactúan directamente con el usuario (solicitando que ingrese los datos ni luego desplegando los resultados), reciben los datos como parámetros y devuelven sus resultados con un return.\n",
        "\n",
        "El programa principal, en cambio, se ocupa de interactuar con el usuario para definir los argumentos con los que llamar a la función y luego desplegar los resultados finales. Para hacerlo es posible que se definan algunas funciones específicamente para la interacción con el usuario.\n",
        "\n",
        "Comencemos con las maneras más elementales de mostrar resultados:"
      ]
    },
    {
      "cell_type": "markdown",
      "metadata": {
        "id": "NPvcox28-EKP"
      },
      "source": [
        "**Salida (output).**"
      ]
    },
    {
      "cell_type": "code",
      "metadata": {
        "colab": {
          "base_uri": "https://localhost:8080/"
        },
        "id": "fzIBAizZ-UnS",
        "outputId": "c6914d19-c0ce-4fc4-eb79-f926759232b4"
      },
      "source": [
        "print(factorial(10))\n",
        "print('El factorial de 23 es', factorial(23))"
      ],
      "execution_count": null,
      "outputs": [
        {
          "output_type": "stream",
          "text": [
            "3628800\n",
            "El factorial de 23 es 25852016738884976640000\n"
          ],
          "name": "stdout"
        }
      ]
    },
    {
      "cell_type": "code",
      "metadata": {
        "id": "KiGVj68oC1u6"
      },
      "source": [
        "from math import pi as PI\n",
        "\n",
        "def circunferencia(r: float) -> float:\n",
        "    return 2 * PI * r"
      ],
      "execution_count": null,
      "outputs": []
    },
    {
      "cell_type": "code",
      "metadata": {
        "id": "1Q8kQpBVfymt"
      },
      "source": [
        "figura = 'círculo'\n",
        "radio = 5\n",
        "print(f'El perímetro de un {figura:15} de radio {radio:1d} es {circunferencia(radio):7.3f} aproximadamente.')\n",
        "  # (15, 1d (enteros), 7.3f (reales), hacen un espacio de distancia)"
      ],
      "execution_count": null,
      "outputs": []
    },
    {
      "cell_type": "code",
      "metadata": {
        "colab": {
          "base_uri": "https://localhost:8080/"
        },
        "id": "4u-yz_bhDuXF",
        "outputId": "7d890441-1ea4-40f9-a02b-d0bc390ff747"
      },
      "source": [
        "figura = 'círculo'\n",
        "radio = 5\n",
        "print('El perímetro de un {} de radio {} es {}.'.format(figura, radio, circunferencia(radio)))"
      ],
      "execution_count": null,
      "outputs": [
        {
          "output_type": "stream",
          "text": [
            "El perímetro de un círculo de radio 5 es 31.41592653589793.\n"
          ],
          "name": "stdout"
        }
      ]
    },
    {
      "cell_type": "code",
      "metadata": {
        "colab": {
          "base_uri": "https://localhost:8080/"
        },
        "id": "s1FrC-TAEEWo",
        "outputId": "d0c2eae6-4b4f-4b91-8716-41bf65341f39"
      },
      "source": [
        "figura = 'círculo'\n",
        "radio = 5\n",
        "print('El perímetro de un {0} de radio {1} es {2}.'.format(figura, radio, circunferencia(radio)))\n",
        "  # (el número no influye en nada, solo indica el orden en el que van las variables)"
      ],
      "execution_count": null,
      "outputs": [
        {
          "output_type": "stream",
          "text": [
            "El perímetro de un círculo de radio 5 es 31.41592653589793.\n"
          ],
          "name": "stdout"
        }
      ]
    },
    {
      "cell_type": "code",
      "metadata": {
        "colab": {
          "base_uri": "https://localhost:8080/"
        },
        "id": "6a6zYSfYEag9",
        "outputId": "b998e242-0d63-481b-c80d-896f0c24fb10"
      },
      "source": [
        "figura = 'círculo'\n",
        "radio = 5\n",
        "print('El perímetro de un {2} de radio {1} es {0}.'.format(figura, radio, circunferencia(radio)))"
      ],
      "execution_count": null,
      "outputs": [
        {
          "output_type": "stream",
          "text": [
            "El perímetro de un 31.41592653589793 de radio 5 es círculo.\n"
          ],
          "name": "stdout"
        }
      ]
    },
    {
      "cell_type": "markdown",
      "metadata": {
        "id": "JWN4pJlKFO5C"
      },
      "source": [
        "¿Para qué sirven los espacios de distancia?"
      ]
    },
    {
      "cell_type": "code",
      "metadata": {
        "colab": {
          "base_uri": "https://localhost:8080/"
        },
        "id": "s-y-pmoCFBCB",
        "outputId": "7371b238-a4fe-4d1b-f1b2-6f1f9b60ef85"
      },
      "source": [
        "for x in range(1, 11):\n",
        "    print('{0:2d} {1:4d} {2:5d}'.format(x, x*x, x*x*x))"
      ],
      "execution_count": null,
      "outputs": [
        {
          "output_type": "stream",
          "text": [
            " 1    1     1\n",
            " 2    4     8\n",
            " 3    9    27\n",
            " 4   16    64\n",
            " 5   25   125\n",
            " 6   36   216\n",
            " 7   49   343\n",
            " 8   64   512\n",
            " 9   81   729\n",
            "10  100  1000\n"
          ],
          "name": "stdout"
        }
      ]
    },
    {
      "cell_type": "code",
      "metadata": {
        "colab": {
          "base_uri": "https://localhost:8080/"
        },
        "id": "hJqPbsqhF9Cj",
        "outputId": "650714d9-1cae-4fde-bfc5-b1a8d05a3b3d"
      },
      "source": [
        "for x in range(1, 11):\n",
        "     print(repr(x).ljust(2), repr(x*x).rjust(3), repr(x*x*x).center(6))\n",
        "  # ljust (left justificado), rjust (right justificado), center (centrado)."
      ],
      "execution_count": null,
      "outputs": [
        {
          "output_type": "stream",
          "text": [
            "1    1   1   \n",
            "2    4   8   \n",
            "3    9   27  \n",
            "4   16   64  \n",
            "5   25  125  \n",
            "6   36  216  \n",
            "7   49  343  \n",
            "8   64  512  \n",
            "9   81  729  \n",
            "10 100  1000 \n"
          ],
          "name": "stdout"
        }
      ]
    },
    {
      "cell_type": "code",
      "metadata": {
        "colab": {
          "base_uri": "https://localhost:8080/"
        },
        "id": "eTzcRtW8kAfm",
        "outputId": "fb14a838-a2a0-4121-abe3-40e7a2f2763f"
      },
      "source": [
        "for x in range(1, 15, 3):\n",
        "     print(repr(x).rjust(2), repr(x*x).center(5), repr(x*x*x).ljust(5))"
      ],
      "execution_count": null,
      "outputs": [
        {
          "output_type": "stream",
          "text": [
            " 1   1   1    \n",
            " 4   16  64   \n",
            " 7   49  343  \n",
            "10  100  1000 \n",
            "13  169  2197 \n"
          ],
          "name": "stdout"
        }
      ]
    },
    {
      "cell_type": "markdown",
      "metadata": {
        "id": "AORwnUd0GjSy"
      },
      "source": [
        "**Entrada (input).**"
      ]
    },
    {
      "cell_type": "markdown",
      "metadata": {
        "id": "5LXdhgPxHFoD"
      },
      "source": [
        "Para solicitar datos al usuario, la principal función es `input()`"
      ]
    },
    {
      "cell_type": "code",
      "metadata": {
        "colab": {
          "base_uri": "https://localhost:8080/"
        },
        "id": "1uQwxmNlHIK7",
        "outputId": "c7fc0751-ebc7-4f06-d69c-a066f63b1807"
      },
      "source": [
        "ingresado = input()\n",
        "print(\"Se ingresó\",ingresado)"
      ],
      "execution_count": null,
      "outputs": [
        {
          "output_type": "stream",
          "text": [
            "hola!\n",
            "Se ingresó hola!\n"
          ],
          "name": "stdout"
        }
      ]
    },
    {
      "cell_type": "code",
      "metadata": {
        "colab": {
          "base_uri": "https://localhost:8080/"
        },
        "id": "LJguowTTaj2P",
        "outputId": "c56700f2-d6d4-4620-9107-0e261593b242"
      },
      "source": [
        "cadena = ''\n",
        "while len(cadena) < 10:\n",
        "  cadena = input()\n",
        "print('La cadena es:', cadena)\n",
        "# cuando la cadena es <10 se repite el ciclo, cuando rompe con esa condición pasa a print."
      ],
      "execution_count": null,
      "outputs": [
        {
          "output_type": "stream",
          "text": [
            "abc\n",
            "1234567\n",
            "abc123abc123abc\n",
            "La cadena es: abc123abc123abc\n"
          ],
          "name": "stdout"
        }
      ]
    },
    {
      "cell_type": "code",
      "metadata": {
        "colab": {
          "base_uri": "https://localhost:8080/"
        },
        "id": "ZPuWY7NIH2vd",
        "outputId": "c28a0605-c6e0-4410-9ce4-94392486c3c6"
      },
      "source": [
        "ingresado = input()\n",
        "print('Se ingresó {}, cuyo tipo es {}'.format(ingresado, type(ingresado)))"
      ],
      "execution_count": null,
      "outputs": [
        {
          "output_type": "stream",
          "text": [
            "56\n",
            "Se ingresó 56, cuyo tipo es <class 'str'>\n"
          ],
          "name": "stdout"
        }
      ]
    },
    {
      "cell_type": "markdown",
      "metadata": {
        "id": "4CDW6l2VH5tB"
      },
      "source": [
        "El tipo que devuelve la función `input()` es una cadena de caracteres. \n",
        "\n",
        "No se puede:"
      ]
    },
    {
      "cell_type": "code",
      "metadata": {
        "id": "do5CJadJIOpr"
      },
      "source": [
        "numero = input()\n",
        "print('El factorial de {} es {}'.format(numero, factorial(numero)))\n",
        "5\n",
        "# no se realiza porque la función factorial funciona con nros enteros, no caracteres."
      ],
      "execution_count": null,
      "outputs": []
    },
    {
      "cell_type": "markdown",
      "metadata": {
        "id": "5gxT_mNaIern"
      },
      "source": [
        "Para solucionar el problema de que `input()` toma a un número como cadena de caracterees, se utiliza la función `int()` (si una cadena de caracteres tiene números la transforma a un número directamente):"
      ]
    },
    {
      "cell_type": "code",
      "metadata": {
        "colab": {
          "base_uri": "https://localhost:8080/"
        },
        "id": "-zrfKtrSId8N",
        "outputId": "2a121cc9-40cc-4ff0-b1aa-cc9faf9966ca"
      },
      "source": [
        "numero = int(input())\n",
        "print('El factorial de {} es {}'.format(numero, factorial(numero)))"
      ],
      "execution_count": null,
      "outputs": [
        {
          "output_type": "stream",
          "text": [
            "5\n",
            "El factorial de 5 es 120\n"
          ],
          "name": "stdout"
        }
      ]
    },
    {
      "cell_type": "markdown",
      "metadata": {
        "id": "ANq7CdJlJ_d9"
      },
      "source": [
        "Es conveniente indicar al usuario qué se espera que ingrese. La función `input()` admite un argumento precisamente para incluir un mensaje al usuario:"
      ]
    },
    {
      "cell_type": "code",
      "metadata": {
        "id": "wGOkVKy6baiy"
      },
      "source": [
        "numero = int(input('Ingrese el argumento para la función factorial: '))\n",
        "print('El factorial de {} es {}'.format(numero, factorial(numero)))"
      ],
      "execution_count": null,
      "outputs": []
    },
    {
      "cell_type": "code",
      "metadata": {
        "id": "3eit3SROLHnA"
      },
      "source": [
        "numero = int(input('Ingrese el argumento para la función {}: '.format('factorial')))\n",
        "print('El factorial de {} es {}'.format(numero, factorial(numero)))"
      ],
      "execution_count": null,
      "outputs": []
    },
    {
      "cell_type": "markdown",
      "metadata": {
        "id": "IwhzD_iqLQzB"
      },
      "source": [
        "En caso de necesitar que ingrese un número real, se usa la función `float()`:"
      ]
    },
    {
      "cell_type": "code",
      "metadata": {
        "colab": {
          "base_uri": "https://localhost:8080/"
        },
        "id": "khMJVaqPLajE",
        "outputId": "dd1b3d25-77f0-4555-b30a-4b35df14690e"
      },
      "source": [
        "from math import pi as PI\n",
        "pi_usuario = float(input('Cuánto cree que vale la constante pi: '))\n",
        "print('Ud cree que pi vale {}, pero en realidad vale {:.30}. Le erró por {:.30} aproximadamente.'.format(pi_usuario, PI, abs(PI-pi_usuario)))"
      ],
      "execution_count": null,
      "outputs": [
        {
          "output_type": "stream",
          "text": [
            "Cuánto cree que vale la constante pi: 3.14\n",
            "Ud cree que pi vale 3.14, pero en realidad vale 3.14159265358979311599796346854. Le erró por 0.00159265358979299165298471052665 aproximadamente.\n"
          ],
          "name": "stdout"
        }
      ]
    },
    {
      "cell_type": "code",
      "metadata": {
        "colab": {
          "base_uri": "https://localhost:8080/"
        },
        "id": "Pbc2KymeZNLm",
        "outputId": "3eff5327-7157-4ff7-e611-122053ce4704"
      },
      "source": [
        " num = float(input())\n",
        " log_num = log2_ent(num)\n",
        " print('El logaritmo entero de', num, 'es', log_num)"
      ],
      "execution_count": null,
      "outputs": [
        {
          "output_type": "stream",
          "text": [
            "5\n",
            "El logaritmo entero de 5.0 es 2\n"
          ],
          "name": "stdout"
        }
      ]
    },
    {
      "cell_type": "markdown",
      "metadata": {
        "id": "QZ-YsnoBckeu"
      },
      "source": [
        "## Instrucción `isnumeric()`"
      ]
    },
    {
      "cell_type": "markdown",
      "metadata": {
        "id": "vJejosHxcrIn"
      },
      "source": [
        "\n",
        "        x.isnumeric()\n",
        "devuelve `True` si `x` es una cadena que representa un entero y `False` en otro caso.  "
      ]
    },
    {
      "cell_type": "code",
      "metadata": {
        "colab": {
          "base_uri": "https://localhost:8080/"
        },
        "id": "UOWNsJTucxAM",
        "outputId": "5564d941-d43e-46e1-892e-86f77884a050"
      },
      "source": [
        "print('2'.isnumeric())\n",
        "print('ad'.isnumeric())\n",
        "print('2.1'.isnumeric())"
      ],
      "execution_count": null,
      "outputs": [
        {
          "output_type": "stream",
          "text": [
            "True\n",
            "False\n",
            "False\n"
          ],
          "name": "stdout"
        }
      ]
    },
    {
      "cell_type": "markdown",
      "metadata": {
        "id": "9BydOgVoc8Eh"
      },
      "source": [
        "Usemos `isnumeric()` para dado un input _entero_ calcule el logaritmo entero en base 2. "
      ]
    },
    {
      "cell_type": "code",
      "metadata": {
        "colab": {
          "base_uri": "https://localhost:8080/"
        },
        "id": "5LAcvMDgc9IP",
        "outputId": "e1605d03-703f-456b-e09a-08bba9794711"
      },
      "source": [
        "es_entero = False\n",
        "while es_entero == False:\n",
        "  num = input('Ingrese un número entero: ')\n",
        "  es_entero = num.isnumeric()\n",
        "num = int(num)\n",
        "print(log2_ent(num))"
      ],
      "execution_count": null,
      "outputs": [
        {
          "output_type": "stream",
          "text": [
            "Ingrese un número entero: 2.3\n",
            "Ingrese un número entero: 4.0\n",
            "Ingrese un número entero: 5\n",
            "2\n"
          ],
          "name": "stdout"
        }
      ]
    },
    {
      "cell_type": "code",
      "metadata": {
        "id": "WIfCBhYadbEZ"
      },
      "source": [
        "es_entero = False\n",
        "while not es_entero:\n",
        "  num = input('Ingrese un número entero: ')\n",
        "  es_entero = num.isnumeric()\n",
        "num = int(num)\n",
        "print(log2_ent(num))"
      ],
      "execution_count": null,
      "outputs": []
    },
    {
      "cell_type": "markdown",
      "metadata": {
        "id": "9OvefqebdcC1"
      },
      "source": [
        "es_entero == false es equivalente a: not es_entero ."
      ]
    },
    {
      "cell_type": "markdown",
      "metadata": {
        "id": "ZlS1kLcFMV1n"
      },
      "source": [
        "## Tuplas."
      ]
    },
    {
      "cell_type": "markdown",
      "metadata": {
        "id": "YvSeK8vrMnlE"
      },
      "source": [
        "### Tiempo.\n",
        "\n",
        "El tiempo está dado por una cuadrupla `(días, horas, minutos, segundos)`.\n",
        "\n",
        "1.   Definir la función `es_tiempo_valido(tiempo: tuple) -> bool`, que requerirá que tiempo sea una cuadrupla de enteros `(dias, horas, minutos, segundos)` donde `dias` será no negativo y el resto deberá satisfacer las mismas condiciones anteriores.\n",
        "2.   Definir la función `suma_de_tiempo(tiempo1, tiempo2: tuple) -> tuple` que devuelve la suma de los 2 tiempos recibidos. Asume que son tiempos válidos y el resultado que devuelve debe ser un tiempo válido también.\n",
        "3.   Definir la función `menor_o_igual(tiempo1, tiempo2: tuple) -> bool` que devuelve `True` sii el `tiempo1` es menor o igual que el `tiempo2`.\n",
        "4.   Definir la función `diferencia_de_tiempo(tiempo1, tiempo2: tuple) -> tuple` que devuelve la diferencia entre `tiempo1` y `tiempo2`. Asume que son tiempos válidos y que `tiempo2` es menor o igual que `tiempo1`, y el resultado que devuelve debe ser un tiempo válido también."
      ]
    },
    {
      "cell_type": "markdown",
      "metadata": {
        "id": "HaatoBgU83uz"
      },
      "source": [
        "### Fecha.\n",
        "\n",
        "La fecha está dada por una terna `(día, mes, año)`.\n",
        "\n"
      ]
    },
    {
      "cell_type": "code",
      "metadata": {
        "colab": {
          "base_uri": "https://localhost:8080/"
        },
        "id": "USBt1PW9qbfV",
        "outputId": "4c372f71-34fb-4857-8304-5f3c9973e2fa"
      },
      "source": [
        "def es_bisiesto(anho: int):\n",
        "    dev = anho % 4 == 0 and anho % 100 != 0 or anho % 400 == 0\n",
        "    return dev\n",
        "\n",
        "def bisiestos_hasta(anho: int) -> int:\n",
        "    # pre: anho es un año válido\n",
        "    # post: devuelve el número de años bisiestos pasados incluyendo anho, si es bisiesto\n",
        "\n",
        "    bisiestos_anteriores = anho // 4 - anho // 100 + anho // 400\n",
        "    return bisiestos_anteriores\n",
        "\n",
        "\n",
        "def dias_del_anho_actual(fecha: tuple) -> int:\n",
        "    # pre: fecha es una fecha válida\n",
        "    # post: devuelve el número de días transcurridos en el corriente año, contando el actual\n",
        "\n",
        "    # [días antes de enero, días antes de febrero, etc.] de un año no bisiesto\n",
        "    DIAS_MESES_ANTERIORES = [0, 31, 59, 90, 120, 151, 181, 212, 243, 273, 304, 334]\n",
        "    dia, mes, anho = fecha\n",
        "\n",
        "    dias = dia + DIAS_MESES_ANTERIORES[mes-1]\n",
        "    # si el año es bisiesto y la fecha es después de febrero, pasó un día más\n",
        "    if es_bisiesto(anho) and mes > 2:\n",
        "        dias = dias + 1\n",
        "    return dias\n",
        "\n",
        "\n",
        "def dias_de_la_era(fecha: tuple) -> int:\n",
        "    # pre: fecha es una fecha válida\n",
        "    # post: devuelve el número de días desde el 1/1/1 (asumiendo siempre Gregoriano) hasta la fecha, contando ambos extremos\n",
        "\n",
        "    dia, mes, anho = fecha\n",
        "\n",
        "    nro_de_dias = (anho - 1) * 365 + bisiestos_hasta(anho-1) + dias_del_anho_actual(fecha)\n",
        "    return nro_de_dias\n",
        "\n",
        "\n",
        "def ingresar_entero(mensaje: str) -> int:\n",
        "    entero_ingresado = False\n",
        "    while not entero_ingresado:\n",
        "        try:\n",
        "            entero = int(input(mensaje))\n",
        "            entero_ingresado = True\n",
        "        except ValueError:\n",
        "            print('Error: debe ingresar un número entero')\n",
        "    return entero\n",
        "\n",
        "def ingresar_fecha() -> tuple:\n",
        "    dia = ingresar_entero('Ingrese el número de día: ')\n",
        "    mes = ingresar_entero('Ingrese el número de mes: ')\n",
        "    anho = ingresar_entero('Ingrese el número de año: ')\n",
        "    return (dia, mes, anho)\n",
        "\n",
        "def es_fecha_valida(fecha: tuple) -> bool:\n",
        "    # pre: fecha es una terna de enteros\n",
        "    # post: devuelve True sii la terna se corresponde con el día, mes y año de una fecha válida\n",
        "\n",
        "    dia, mes, anho = fecha\n",
        "\n",
        "    anho_ok = 1 <= anho\n",
        "    mes_ok = 1 <= mes <= 12\n",
        "    if mes in [4, 6, 9, 11]:\n",
        "        dia_ok = 1 <= dia <= 30\n",
        "    elif mes == 2:\n",
        "        dia_ok = 1 <= dia <= 28 or (dia == 29 and es_bisiesto(anho))\n",
        "    else:\n",
        "        dia_ok = 1 <= dia <= 31\n",
        "    \n",
        "    return dia_ok and mes_ok and anho_ok \n",
        "\n",
        "def ingresar_fecha_valida() -> tuple:\n",
        "    fecha = ingresar_fecha()\n",
        "    while not es_fecha_valida(fecha):\n",
        "        fecha = ingresar_fecha()\n",
        "    return fecha\n",
        "\n",
        "DIAS_DE_LA_SEMANA = ['domingo', 'lunes', 'martes', 'miércoles', 'jueves', 'viernes', 'sábado']\n",
        "\n",
        "def dia_de_la_semana(fecha: tuple):\n",
        "    dia_semanal = DIAS_DE_LA_SEMANA[dias_de_la_era(fecha)%7]\n",
        "    return dia_semanal\n",
        "\n",
        "fecha = ingresar_fecha_valida()\n",
        "nro_de_dias = dias_de_la_era(fecha)\n",
        "dia_semanal = dia_de_la_semana(fecha)\n",
        "\n",
        "print('Desde el 1/1/1 hasta la fecha {0[0]:02}/{0[1]:02}/{0[2]:4} han transcurrido {1} días.'.format(fecha, nro_de_dias))\n",
        "print('El día {0[0]:02}/{0[1]:02}/{0[2]:4} cayó/cae/caerá {1}.'.format(fecha, dia_semanal))"
      ],
      "execution_count": null,
      "outputs": [
        {
          "output_type": "stream",
          "text": [
            "Ingrese el número de día: 16\n",
            "Ingrese el número de mes: 8\n",
            "Ingrese el número de año: 2052\n",
            "Desde el 1/1/1 hasta la fecha 16/08/2052 han transcurrido 749341 días.\n",
            "El día 16/08/2052 cayó/cae/caerá viernes.\n"
          ],
          "name": "stdout"
        }
      ]
    },
    {
      "cell_type": "code",
      "metadata": {
        "colab": {
          "base_uri": "https://localhost:8080/"
        },
        "id": "LzpxgswLEX2q",
        "outputId": "8207e9f3-b149-4ced-e3e2-5ca093224038"
      },
      "source": [
        "import time\n",
        "\n",
        "def tiempo_actual_GMT() -> int:\n",
        "  # Segundos transcurridos desde el 1-1-1970 a las 0:00:00 horas en Londres (UNIX epoch)\n",
        "  return int(time.time())\n",
        "\n",
        "tiempo_actual_GMT()"
      ],
      "execution_count": null,
      "outputs": [
        {
          "output_type": "execute_result",
          "data": {
            "text/plain": [
              "1622055954"
            ]
          },
          "metadata": {
            "tags": []
          },
          "execution_count": 15
        }
      ]
    },
    {
      "cell_type": "code",
      "metadata": {
        "id": "eBYWigkUFw9q"
      },
      "source": [
        "def segundos_GMT(secs: int) -> int:\n",
        "  return secs % 60\n",
        "\n",
        "tactual = int(time.time())"
      ],
      "execution_count": null,
      "outputs": []
    },
    {
      "cell_type": "code",
      "metadata": {
        "colab": {
          "base_uri": "https://localhost:8080/"
        },
        "id": "bNyKR1AMGb0R",
        "outputId": "2cd023f6-3a55-4e42-b47b-621be585db7e"
      },
      "source": [
        "def horas_GMT(secs: int) -> int:\n",
        "  hora = secs // 3600\n",
        "  return hora % 24\n",
        "\n",
        "tactual = tiempo_actual_GMT()\n",
        "print(horas_GMT(tactual))"
      ],
      "execution_count": null,
      "outputs": [
        {
          "output_type": "stream",
          "text": [
            "19\n"
          ],
          "name": "stdout"
        }
      ]
    },
    {
      "cell_type": "code",
      "metadata": {
        "colab": {
          "base_uri": "https://localhost:8080/"
        },
        "id": "fXVwXTQzHPkF",
        "outputId": "66f89539-01b1-4aeb-aa59-ee5aaee5f5dd"
      },
      "source": [
        "def hora_GMT(secs: int) -> tuple:\n",
        "  # pre: secs > 0\n",
        "  # post: devuelve una 3-upla de enteros (hora, minuto, segundo) GMT\n",
        "  segundos = secs % 60\n",
        "  minutos = secs // 60 % 60\n",
        "  horas = secs // 3600 % 24\n",
        "  return (horas, minutos, segundos)\n",
        "\n",
        "tactual = tiempo_actual_GMT()\n",
        "print(hora_GMT(tactual))"
      ],
      "execution_count": null,
      "outputs": [
        {
          "output_type": "stream",
          "text": [
            "(19, 19, 8)\n"
          ],
          "name": "stdout"
        }
      ]
    },
    {
      "cell_type": "code",
      "metadata": {
        "colab": {
          "base_uri": "https://localhost:8080/"
        },
        "id": "8Is7gqQ4RmKD",
        "outputId": "a000d868-2790-4913-a2d6-92182f2c2001"
      },
      "source": [
        "# Ejemplos de definiciones de listas por comprensión:\n",
        "lista = [2, 7, 43]\n",
        "\n",
        "# todos los enteros entre 0 y 3\n",
        "ej1 = [k for k in lista if k % 2 == 1]\n",
        "print('lista es', lista)\n",
        "print('ej1 es', ej1)\n",
        "\n",
        "# dada una lista, seleccionar todos los valores que cumplen una condición\n",
        "ej2 = [j for j in range(100) if j % 5 == 0]\n",
        "print(ej2)\n",
        "\n",
        "# dada una lista, aplicar una función a cada valor de la lista\n",
        "ej3 = [j**2 for j in range(100) if j % 5 == 0]\n",
        "print(ej3)\n",
        "\n",
        "# ejemplo donde esa función devuelve un valor lógico\n",
        "ej4 = [j % 3 == 0 for j in range(10)]\n",
        "print(ej4)\n",
        "\n",
        "# la función all()\n",
        "tupla = (5, 6, 7, 8.1)\n",
        "ej5 = [type(j) == int for j in tupla]\n",
        "print(ej5)\n",
        "print(all(ej5))"
      ],
      "execution_count": null,
      "outputs": [
        {
          "output_type": "stream",
          "text": [
            "lista es [2, 7, 43]\n",
            "ej1 es [7, 43]\n",
            "[0, 5, 10, 15, 20, 25, 30, 35, 40, 45, 50, 55, 60, 65, 70, 75, 80, 85, 90, 95]\n",
            "[0, 25, 100, 225, 400, 625, 900, 1225, 1600, 2025, 2500, 3025, 3600, 4225, 4900, 5625, 6400, 7225, 8100, 9025]\n",
            "[True, False, False, True, False, False, True, False, False, True]\n",
            "[True, True, True, False]\n",
            "False\n"
          ],
          "name": "stdout"
        }
      ]
    },
    {
      "cell_type": "code",
      "metadata": {
        "colab": {
          "base_uri": "https://localhost:8080/"
        },
        "id": "0wly3Qu555PR",
        "outputId": "fcfd33fe-ef63-4c47-f397-1e5552432e4b"
      },
      "source": [
        "lista = [2, 3, 5, 7]\n",
        "4 in lista"
      ],
      "execution_count": null,
      "outputs": [
        {
          "output_type": "execute_result",
          "data": {
            "text/plain": [
              "False"
            ]
          },
          "metadata": {
            "tags": []
          },
          "execution_count": 5
        }
      ]
    },
    {
      "cell_type": "code",
      "metadata": {
        "colab": {
          "base_uri": "https://localhost:8080/"
        },
        "id": "C4vi_dc6gzuh",
        "outputId": "716dc49d-0937-43f2-9b70-1130e8de287e"
      },
      "source": [
        "from random import randint\n",
        "\n",
        "def swap(lst: list, i, j : int):\n",
        "    # pre: i < len(lst) and j < len(lst)\n",
        "    # post: intercambiar los elementos en ambas posiciones\n",
        "    lst[i], lst[j] = lst[j], lst[i]\n",
        "\n",
        "def indice_del_minimo_a_partir(lista: list, i: int) -> int:\n",
        "    # pre: lista es una lista de enteros e i un índice de la lista\n",
        "    # post: devuelve la posición del menor entero de la lista desde i en adelante\n",
        "    assert all(type(n) == int for n in lista) and 0 <= i < len(lista), 'Error: el primer argumento debe ser una lista de enteros y el segundo un índice de la lista.'\n",
        "\n",
        "    res = i\n",
        "    for n in range(i + 1, len(lista)):\n",
        "        if lista[n] < lista[res]:\n",
        "            res = n\n",
        "    return res\n",
        "\n",
        "def ordenar(lista: list):\n",
        "    # pre: lista es una lista de enteros\n",
        "    # post: ordena la lista de menor a mayor\n",
        "    assert all(type(n) == int for n in lista), 'Error: el argumento debe ser una lista de enteros.'\n",
        "    for i in range(len(lista)):\n",
        "        indice_minimo_lista = indice_del_minimo_a_partir(lista, i)\n",
        "        swap(lista, i, indice_minimo_lista)\n",
        "\n",
        "lista = [randint(0,100) for x in range(20)]\n",
        "print(lista)\n",
        "ordenar(lista)\n",
        "print(lista)"
      ],
      "execution_count": null,
      "outputs": [
        {
          "output_type": "stream",
          "text": [
            "[59, 90, 36, 69, 95, 15, 1, 46, 54, 46, 92, 30, 15, 4, 86, 90, 74, 93, 27, 85]\n",
            "[1, 4, 15, 15, 27, 30, 36, 46, 46, 54, 59, 69, 74, 85, 86, 90, 90, 92, 93, 95]\n"
          ],
          "name": "stdout"
        }
      ]
    },
    {
      "cell_type": "code",
      "metadata": {
        "colab": {
          "base_uri": "https://localhost:8080/"
        },
        "id": "ytVHCO0Ln7mf",
        "outputId": "74c845af-8047-4e1d-b331-a98b04d4bd79"
      },
      "source": [
        "def minimo(lista: list) -> int:\n",
        "    # pre: lista es una lista de enteros e i un índice de la lista\n",
        "    # post: devuelve la posición del menor entero de la lista desde i en adelante\n",
        "    assert all(type(n) == int for n in lista)\n",
        "\n",
        "    res = lista[0]\n",
        "    for n in range(1, len(lista)):\n",
        "        if lista[n] < res:\n",
        "            res = lista[n]\n",
        "    return res\n",
        "\n",
        "def ordenar(lista: list):\n",
        "    res = []\n",
        "    while lista != []:\n",
        "        m = minimo(lista)\n",
        "        res.append(m)\n",
        "        lista.remove(m)\n",
        "    lista.extend(res)\n",
        "\n",
        "lista = [randint(0,100) for x in range(20)]\n",
        "print(lista)\n",
        "ordenar(lista)\n",
        "print(lista)"
      ],
      "execution_count": null,
      "outputs": [
        {
          "output_type": "stream",
          "text": [
            "[54, 88, 7, 69, 89, 86, 22, 90, 9, 43, 68, 3, 13, 71, 88, 98, 1, 81, 71, 45]\n",
            "[1, 3, 7, 9, 13, 22, 43, 45, 54, 68, 69, 71, 71, 81, 86, 88, 88, 89, 90, 98]\n"
          ],
          "name": "stdout"
        }
      ]
    },
    {
      "cell_type": "code",
      "metadata": {
        "colab": {
          "base_uri": "https://localhost:8080/"
        },
        "id": "PvmHagt_BCHj",
        "outputId": "cccaa62d-14c6-4084-c352-6ecaa3c9353a"
      },
      "source": [
        "def log2(x: (int,float)) -> int:\n",
        "    # pre: x >= 1\n",
        "    # post: devuelve el mayor entero n tal que 2**n <= x < 2**(n+1)\n",
        "    precondicion = (type(x) == int or type(x) == float) and x >= 1\n",
        "    assert precondicion, 'Error: x debe ser un entero o real mayor o igual que 1'\n",
        "\n",
        "    dev = 0\n",
        "    while 2**dev <= x:\n",
        "        dev = dev + 1\n",
        "    \n",
        "    return dev - 1\n",
        "\n",
        "print(log2(10))"
      ],
      "execution_count": null,
      "outputs": [
        {
          "output_type": "stream",
          "text": [
            "3\n"
          ],
          "name": "stdout"
        }
      ]
    },
    {
      "cell_type": "code",
      "metadata": {
        "id": "VfOQcexBGR7C",
        "colab": {
          "base_uri": "https://localhost:8080/"
        },
        "outputId": "56369b17-ae3e-4977-de8f-31b30b84cf66"
      },
      "source": [
        "def logaritmo2(x: (int,float)) -> int:\n",
        "    # pre: x >= 1\n",
        "    # post: devuelve el mayor entero n tal que 2**n <= x < 2**(n+1)\n",
        "    precondicion = (type(x) == int or type(x) == float) and x >= 1\n",
        "    assert precondicion, 'Error: x debe ser un entero o real mayor o igual que 1'\n",
        "\n",
        "    log = 0\n",
        "    pot_de_2 = 1                  # pot_de_2 == 2**log\n",
        "    print(pot_de_2 == 2**log)\n",
        "    while pot_de_2 <= x:\n",
        "        print(pot_de_2 == 2**log)\n",
        "        log = log + 1\n",
        "        pot_de_2 = pot_de_2 * 2\n",
        "    print(pot_de_2 == 2**log)\n",
        "\n",
        "    return log - 1\n",
        "\n",
        "print(logaritmo2(10))"
      ],
      "execution_count": null,
      "outputs": [
        {
          "output_type": "stream",
          "text": [
            "True\n",
            "True\n",
            "True\n",
            "True\n",
            "True\n",
            "True\n",
            "3\n"
          ],
          "name": "stdout"
        }
      ]
    },
    {
      "cell_type": "code",
      "metadata": {
        "colab": {
          "base_uri": "https://localhost:8080/"
        },
        "id": "Q370TYI5MmL0",
        "outputId": "fe703afc-219a-4bfb-bfda-b22841c28d84"
      },
      "source": [
        "\"uno dos tres y ya comienza\".split(\" \", 3)"
      ],
      "execution_count": null,
      "outputs": [
        {
          "output_type": "execute_result",
          "data": {
            "text/plain": [
              "['uno', 'dos', 'tres', 'y ya comienza']"
            ]
          },
          "metadata": {
            "tags": []
          },
          "execution_count": 7
        }
      ]
    },
    {
      "cell_type": "code",
      "metadata": {
        "colab": {
          "base_uri": "https://localhost:8080/"
        },
        "id": "u88gZQDDOpEK",
        "outputId": "4c0d1395-0ce3-419c-8df3-0d6d77b4582e"
      },
      "source": [
        "c = \"hola\\n\\ncomo estas?\\tqueres venir?   \"\n",
        "print(c)\n",
        "d = c.split()\n",
        "e = \"3\".join(d)\n",
        "print(e)"
      ],
      "execution_count": null,
      "outputs": [
        {
          "output_type": "stream",
          "text": [
            "hola\n",
            "\n",
            "como estas?\tqueres venir?   \n",
            "hola3como3estas?3queres3venir?\n"
          ],
          "name": "stdout"
        }
      ]
    },
    {
      "cell_type": "code",
      "metadata": {
        "colab": {
          "base_uri": "https://localhost:8080/"
        },
        "id": "XYIo_jJzqOxt",
        "outputId": "1fd8fd10-00e5-4263-cdb4-398740629edc"
      },
      "source": [
        "def cociente(num, div: int) -> int:\n",
        "    # pre: num >= 0 and div >= 1\n",
        "    # post: devuelve el cociente de la división de num por div\n",
        "\n",
        "    coc, resto = 0, num\n",
        "    while div <= resto:\n",
        "        coc, resto = coc + 1, resto - div\n",
        "    return (coc, resto)\n",
        "  \n",
        "cociente(30, 6)"
      ],
      "execution_count": null,
      "outputs": [
        {
          "output_type": "execute_result",
          "data": {
            "text/plain": [
              "(5, 0)"
            ]
          },
          "metadata": {
            "tags": []
          },
          "execution_count": 24
        }
      ]
    },
    {
      "cell_type": "code",
      "metadata": {
        "colab": {
          "base_uri": "https://localhost:8080/"
        },
        "id": "-3miT-fn1x41",
        "outputId": "d4ffe647-dc28-4117-ead6-dd0a81cac261"
      },
      "source": [
        "def menor_divisor(n: int) -> int:\n",
        "    # pre: n > 1\n",
        "    # post: devuelve el me\n",
        "\n",
        "    divisor = 2\n",
        "    while n % divisor != 0:\n",
        "        divisor = divisor + 1\n",
        "    return divisor\n",
        "\n",
        "menor_divisor(9)"
      ],
      "execution_count": null,
      "outputs": [
        {
          "output_type": "execute_result",
          "data": {
            "text/plain": [
              "3"
            ]
          },
          "metadata": {
            "tags": []
          },
          "execution_count": 34
        }
      ]
    },
    {
      "cell_type": "code",
      "metadata": {
        "colab": {
          "base_uri": "https://localhost:8080/"
        },
        "id": "MZYlCBE92P_z",
        "outputId": "8dd56462-629b-417c-f09a-34fc6b2b8e4f"
      },
      "source": [
        "def raiz_cuadrada(x: (int, float)) -> int:\n",
        "    # pre: x >= 0\n",
        "    # post: devuelve la raíz cuadrada entera de x\n",
        "    assert (type(x) == int or type(x) == float) and x >= 0, 'Error: x debe ser un número no negativo'\n",
        "\n",
        "    raiz = 0\n",
        "    while raiz ** 2 <= x:\n",
        "        raiz = raiz + 1\n",
        "\n",
        "    return raiz - 1\n",
        "\n",
        "raiz_cuadrada(16)"
      ],
      "execution_count": null,
      "outputs": [
        {
          "output_type": "execute_result",
          "data": {
            "text/plain": [
              "4"
            ]
          },
          "metadata": {
            "tags": []
          },
          "execution_count": 32
        }
      ]
    },
    {
      "cell_type": "code",
      "metadata": {
        "colab": {
          "base_uri": "https://localhost:8080/",
          "height": 521
        },
        "id": "pXOxIKAiCwjq",
        "outputId": "b88dc243-9b11-4638-96b5-dd8a09a4296b"
      },
      "source": [
        "initializeTurtle()\n",
        "\n",
        "from random import randint\n",
        "\n",
        "speed(10) # Set turtle speed \n",
        "\n",
        "G, E = 50, 15\n",
        "\n",
        "# Draw G-by-G lattice\n",
        "color(\"gray\") # Color for lattice\n",
        "\n",
        "\n",
        "x = 0\n",
        "setheading(0)\n",
        "for y in range(0, G * E + 1, E):\n",
        "  penup()\n",
        "  goto(x, y) # Draw a horizontal line\n",
        "  pendown()\n",
        "  forward(G * E)\n",
        "y = 0\n",
        "right(90)\n",
        "for x in range(0, G * E + 1, E):\n",
        "  penup()\n",
        "  goto(x, y) # Draw a vertical line\n",
        "  pendown()\n",
        "  forward(G * E)\n",
        "\n",
        "pensize(3)\n",
        "color(\"red\")\n",
        "penup()\n",
        "goto((G * E) // 2, (G * E) // 2) # Go to the center\n",
        "pendown()\n",
        "speed(8) # Set turtle speed \n",
        "x = y = (G * E) // 2 # Current pen location at the center of lattice\n",
        "\n",
        "while 0 < x < G * E and 0 < y < G * E:\n",
        "  r = randint(0, 3)\n",
        "  if r == 0:\n",
        "    x = x + E # ir a la derecha\n",
        "    setheading(0)\n",
        "    forward(E)\n",
        "  elif r == 1:\n",
        "    y = y + E # ir para abajo\n",
        "    setheading(90)\n",
        "    forward(E)\n",
        "  elif r == 2:\n",
        "    x = x - E # ir para la izquierda\n",
        "    setheading(180)\n",
        "    forward(E)\n",
        "  elif r == 3:\n",
        "    y = y - E # ir arriba\n",
        "    setheading(270)\n",
        "    forward(E) "
      ],
      "execution_count": null,
      "outputs": [
        {
          "output_type": "display_data",
          "data": {
            "text/html": [
              "\n",
              "      <svg width=\"800\" height=\"500\">\n",
              "        <rect width=\"100%\" height=\"100%\" fill=\"black\"/>\n",
              "        <line x1=\"0\" y1=\"0\" x2=\"750.0\" y2=\"0.0\" stroke-linecap=\"round\" style=\"stroke:gray;stroke-width:4\"/><line x1=\"0\" y1=\"15\" x2=\"750.0\" y2=\"15.0\" stroke-linecap=\"round\" style=\"stroke:gray;stroke-width:4\"/><line x1=\"0\" y1=\"30\" x2=\"750.0\" y2=\"30.0\" stroke-linecap=\"round\" style=\"stroke:gray;stroke-width:4\"/><line x1=\"0\" y1=\"45\" x2=\"750.0\" y2=\"45.0\" stroke-linecap=\"round\" style=\"stroke:gray;stroke-width:4\"/><line x1=\"0\" y1=\"60\" x2=\"750.0\" y2=\"60.0\" stroke-linecap=\"round\" style=\"stroke:gray;stroke-width:4\"/><line x1=\"0\" y1=\"75\" x2=\"750.0\" y2=\"75.0\" stroke-linecap=\"round\" style=\"stroke:gray;stroke-width:4\"/><line x1=\"0\" y1=\"90\" x2=\"750.0\" y2=\"90.0\" stroke-linecap=\"round\" style=\"stroke:gray;stroke-width:4\"/><line x1=\"0\" y1=\"105\" x2=\"750.0\" y2=\"105.0\" stroke-linecap=\"round\" style=\"stroke:gray;stroke-width:4\"/><line x1=\"0\" y1=\"120\" x2=\"750.0\" y2=\"120.0\" stroke-linecap=\"round\" style=\"stroke:gray;stroke-width:4\"/><line x1=\"0\" y1=\"135\" x2=\"750.0\" y2=\"135.0\" stroke-linecap=\"round\" style=\"stroke:gray;stroke-width:4\"/><line x1=\"0\" y1=\"150\" x2=\"750.0\" y2=\"150.0\" stroke-linecap=\"round\" style=\"stroke:gray;stroke-width:4\"/><line x1=\"0\" y1=\"165\" x2=\"750.0\" y2=\"165.0\" stroke-linecap=\"round\" style=\"stroke:gray;stroke-width:4\"/><line x1=\"0\" y1=\"180\" x2=\"750.0\" y2=\"180.0\" stroke-linecap=\"round\" style=\"stroke:gray;stroke-width:4\"/><line x1=\"0\" y1=\"195\" x2=\"750.0\" y2=\"195.0\" stroke-linecap=\"round\" style=\"stroke:gray;stroke-width:4\"/><line x1=\"0\" y1=\"210\" x2=\"750.0\" y2=\"210.0\" stroke-linecap=\"round\" style=\"stroke:gray;stroke-width:4\"/><line x1=\"0\" y1=\"225\" x2=\"750.0\" y2=\"225.0\" stroke-linecap=\"round\" style=\"stroke:gray;stroke-width:4\"/><line x1=\"0\" y1=\"240\" x2=\"750.0\" y2=\"240.0\" stroke-linecap=\"round\" style=\"stroke:gray;stroke-width:4\"/><line x1=\"0\" y1=\"255\" x2=\"750.0\" y2=\"255.0\" stroke-linecap=\"round\" style=\"stroke:gray;stroke-width:4\"/><line x1=\"0\" y1=\"270\" x2=\"750.0\" y2=\"270.0\" stroke-linecap=\"round\" style=\"stroke:gray;stroke-width:4\"/><line x1=\"0\" y1=\"285\" x2=\"750.0\" y2=\"285.0\" stroke-linecap=\"round\" style=\"stroke:gray;stroke-width:4\"/><line x1=\"0\" y1=\"300\" x2=\"750.0\" y2=\"300.0\" stroke-linecap=\"round\" style=\"stroke:gray;stroke-width:4\"/><line x1=\"0\" y1=\"315\" x2=\"750.0\" y2=\"315.0\" stroke-linecap=\"round\" style=\"stroke:gray;stroke-width:4\"/><line x1=\"0\" y1=\"330\" x2=\"750.0\" y2=\"330.0\" stroke-linecap=\"round\" style=\"stroke:gray;stroke-width:4\"/><line x1=\"0\" y1=\"345\" x2=\"750.0\" y2=\"345.0\" stroke-linecap=\"round\" style=\"stroke:gray;stroke-width:4\"/><line x1=\"0\" y1=\"360\" x2=\"750.0\" y2=\"360.0\" stroke-linecap=\"round\" style=\"stroke:gray;stroke-width:4\"/><line x1=\"0\" y1=\"375\" x2=\"750.0\" y2=\"375.0\" stroke-linecap=\"round\" style=\"stroke:gray;stroke-width:4\"/><line x1=\"0\" y1=\"390\" x2=\"750.0\" y2=\"390.0\" stroke-linecap=\"round\" style=\"stroke:gray;stroke-width:4\"/><line x1=\"0\" y1=\"405\" x2=\"750.0\" y2=\"405.0\" stroke-linecap=\"round\" style=\"stroke:gray;stroke-width:4\"/><line x1=\"0\" y1=\"420\" x2=\"750.0\" y2=\"420.0\" stroke-linecap=\"round\" style=\"stroke:gray;stroke-width:4\"/><line x1=\"0\" y1=\"435\" x2=\"750.0\" y2=\"435.0\" stroke-linecap=\"round\" style=\"stroke:gray;stroke-width:4\"/><line x1=\"0\" y1=\"450\" x2=\"750.0\" y2=\"450.0\" stroke-linecap=\"round\" style=\"stroke:gray;stroke-width:4\"/><line x1=\"0\" y1=\"465\" x2=\"750.0\" y2=\"465.0\" stroke-linecap=\"round\" style=\"stroke:gray;stroke-width:4\"/><line x1=\"0\" y1=\"480\" x2=\"750.0\" y2=\"480.0\" stroke-linecap=\"round\" style=\"stroke:gray;stroke-width:4\"/><line x1=\"0\" y1=\"495\" x2=\"750.0\" y2=\"495.0\" stroke-linecap=\"round\" style=\"stroke:gray;stroke-width:4\"/><line x1=\"0\" y1=\"510\" x2=\"750.0\" y2=\"510.0\" stroke-linecap=\"round\" style=\"stroke:gray;stroke-width:4\"/><line x1=\"0\" y1=\"525\" x2=\"750.0\" y2=\"525.0\" stroke-linecap=\"round\" style=\"stroke:gray;stroke-width:4\"/><line x1=\"0\" y1=\"540\" x2=\"750.0\" y2=\"540.0\" stroke-linecap=\"round\" style=\"stroke:gray;stroke-width:4\"/><line x1=\"0\" y1=\"555\" x2=\"750.0\" y2=\"555.0\" stroke-linecap=\"round\" style=\"stroke:gray;stroke-width:4\"/><line x1=\"0\" y1=\"570\" x2=\"750.0\" y2=\"570.0\" stroke-linecap=\"round\" style=\"stroke:gray;stroke-width:4\"/><line x1=\"0\" y1=\"585\" x2=\"750.0\" y2=\"585.0\" stroke-linecap=\"round\" style=\"stroke:gray;stroke-width:4\"/><line x1=\"0\" y1=\"600\" x2=\"750.0\" y2=\"600.0\" stroke-linecap=\"round\" style=\"stroke:gray;stroke-width:4\"/><line x1=\"0\" y1=\"615\" x2=\"750.0\" y2=\"615.0\" stroke-linecap=\"round\" style=\"stroke:gray;stroke-width:4\"/><line x1=\"0\" y1=\"630\" x2=\"750.0\" y2=\"630.0\" stroke-linecap=\"round\" style=\"stroke:gray;stroke-width:4\"/><line x1=\"0\" y1=\"645\" x2=\"750.0\" y2=\"645.0\" stroke-linecap=\"round\" style=\"stroke:gray;stroke-width:4\"/><line x1=\"0\" y1=\"660\" x2=\"750.0\" y2=\"660.0\" stroke-linecap=\"round\" style=\"stroke:gray;stroke-width:4\"/><line x1=\"0\" y1=\"675\" x2=\"750.0\" y2=\"675.0\" stroke-linecap=\"round\" style=\"stroke:gray;stroke-width:4\"/><line x1=\"0\" y1=\"690\" x2=\"750.0\" y2=\"690.0\" stroke-linecap=\"round\" style=\"stroke:gray;stroke-width:4\"/><line x1=\"0\" y1=\"705\" x2=\"750.0\" y2=\"705.0\" stroke-linecap=\"round\" style=\"stroke:gray;stroke-width:4\"/><line x1=\"0\" y1=\"720\" x2=\"750.0\" y2=\"720.0\" stroke-linecap=\"round\" style=\"stroke:gray;stroke-width:4\"/><line x1=\"0\" y1=\"735\" x2=\"750.0\" y2=\"735.0\" stroke-linecap=\"round\" style=\"stroke:gray;stroke-width:4\"/><line x1=\"0\" y1=\"750\" x2=\"750.0\" y2=\"750.0\" stroke-linecap=\"round\" style=\"stroke:gray;stroke-width:4\"/><line x1=\"0\" y1=\"0\" x2=\"0.0\" y2=\"750.0\" stroke-linecap=\"round\" style=\"stroke:gray;stroke-width:4\"/><line x1=\"15\" y1=\"0\" x2=\"15.0\" y2=\"750.0\" stroke-linecap=\"round\" style=\"stroke:gray;stroke-width:4\"/><line x1=\"30\" y1=\"0\" x2=\"30.0\" y2=\"750.0\" stroke-linecap=\"round\" style=\"stroke:gray;stroke-width:4\"/><line x1=\"45\" y1=\"0\" x2=\"45.0\" y2=\"750.0\" stroke-linecap=\"round\" style=\"stroke:gray;stroke-width:4\"/><line x1=\"60\" y1=\"0\" x2=\"60.0\" y2=\"750.0\" stroke-linecap=\"round\" style=\"stroke:gray;stroke-width:4\"/><line x1=\"75\" y1=\"0\" x2=\"75.0\" y2=\"750.0\" stroke-linecap=\"round\" style=\"stroke:gray;stroke-width:4\"/><line x1=\"90\" y1=\"0\" x2=\"90.0\" y2=\"750.0\" stroke-linecap=\"round\" style=\"stroke:gray;stroke-width:4\"/><line x1=\"105\" y1=\"0\" x2=\"105.0\" y2=\"750.0\" stroke-linecap=\"round\" style=\"stroke:gray;stroke-width:4\"/><line x1=\"120\" y1=\"0\" x2=\"120.0\" y2=\"750.0\" stroke-linecap=\"round\" style=\"stroke:gray;stroke-width:4\"/><line x1=\"135\" y1=\"0\" x2=\"135.0\" y2=\"750.0\" stroke-linecap=\"round\" style=\"stroke:gray;stroke-width:4\"/><line x1=\"150\" y1=\"0\" x2=\"150.0\" y2=\"750.0\" stroke-linecap=\"round\" style=\"stroke:gray;stroke-width:4\"/><line x1=\"165\" y1=\"0\" x2=\"165.0\" y2=\"750.0\" stroke-linecap=\"round\" style=\"stroke:gray;stroke-width:4\"/><line x1=\"180\" y1=\"0\" x2=\"180.0\" y2=\"750.0\" stroke-linecap=\"round\" style=\"stroke:gray;stroke-width:4\"/><line x1=\"195\" y1=\"0\" x2=\"195.0\" y2=\"750.0\" stroke-linecap=\"round\" style=\"stroke:gray;stroke-width:4\"/><line x1=\"210\" y1=\"0\" x2=\"210.0\" y2=\"750.0\" stroke-linecap=\"round\" style=\"stroke:gray;stroke-width:4\"/><line x1=\"225\" y1=\"0\" x2=\"225.0\" y2=\"750.0\" stroke-linecap=\"round\" style=\"stroke:gray;stroke-width:4\"/><line x1=\"240\" y1=\"0\" x2=\"240.0\" y2=\"750.0\" stroke-linecap=\"round\" style=\"stroke:gray;stroke-width:4\"/><line x1=\"255\" y1=\"0\" x2=\"255.0\" y2=\"750.0\" stroke-linecap=\"round\" style=\"stroke:gray;stroke-width:4\"/><line x1=\"270\" y1=\"0\" x2=\"270.0\" y2=\"750.0\" stroke-linecap=\"round\" style=\"stroke:gray;stroke-width:4\"/><line x1=\"285\" y1=\"0\" x2=\"285.0\" y2=\"750.0\" stroke-linecap=\"round\" style=\"stroke:gray;stroke-width:4\"/><line x1=\"300\" y1=\"0\" x2=\"300.0\" y2=\"750.0\" stroke-linecap=\"round\" style=\"stroke:gray;stroke-width:4\"/><line x1=\"315\" y1=\"0\" x2=\"315.0\" y2=\"750.0\" stroke-linecap=\"round\" style=\"stroke:gray;stroke-width:4\"/><line x1=\"330\" y1=\"0\" x2=\"330.0\" y2=\"750.0\" stroke-linecap=\"round\" style=\"stroke:gray;stroke-width:4\"/><line x1=\"345\" y1=\"0\" x2=\"345.0\" y2=\"750.0\" stroke-linecap=\"round\" style=\"stroke:gray;stroke-width:4\"/><line x1=\"360\" y1=\"0\" x2=\"360.0\" y2=\"750.0\" stroke-linecap=\"round\" style=\"stroke:gray;stroke-width:4\"/><line x1=\"375\" y1=\"0\" x2=\"375.0\" y2=\"750.0\" stroke-linecap=\"round\" style=\"stroke:gray;stroke-width:4\"/><line x1=\"390\" y1=\"0\" x2=\"390.0\" y2=\"750.0\" stroke-linecap=\"round\" style=\"stroke:gray;stroke-width:4\"/><line x1=\"405\" y1=\"0\" x2=\"405.0\" y2=\"750.0\" stroke-linecap=\"round\" style=\"stroke:gray;stroke-width:4\"/><line x1=\"420\" y1=\"0\" x2=\"420.0\" y2=\"750.0\" stroke-linecap=\"round\" style=\"stroke:gray;stroke-width:4\"/><line x1=\"435\" y1=\"0\" x2=\"435.0\" y2=\"750.0\" stroke-linecap=\"round\" style=\"stroke:gray;stroke-width:4\"/><line x1=\"450\" y1=\"0\" x2=\"450.0\" y2=\"750.0\" stroke-linecap=\"round\" style=\"stroke:gray;stroke-width:4\"/><line x1=\"465\" y1=\"0\" x2=\"465.0\" y2=\"750.0\" stroke-linecap=\"round\" style=\"stroke:gray;stroke-width:4\"/><line x1=\"480\" y1=\"0\" x2=\"480.0\" y2=\"750.0\" stroke-linecap=\"round\" style=\"stroke:gray;stroke-width:4\"/><line x1=\"495\" y1=\"0\" x2=\"495.0\" y2=\"750.0\" stroke-linecap=\"round\" style=\"stroke:gray;stroke-width:4\"/><line x1=\"510\" y1=\"0\" x2=\"510.0\" y2=\"750.0\" stroke-linecap=\"round\" style=\"stroke:gray;stroke-width:4\"/><line x1=\"525\" y1=\"0\" x2=\"525.0\" y2=\"750.0\" stroke-linecap=\"round\" style=\"stroke:gray;stroke-width:4\"/><line x1=\"540\" y1=\"0\" x2=\"540.0\" y2=\"750.0\" stroke-linecap=\"round\" style=\"stroke:gray;stroke-width:4\"/><line x1=\"555\" y1=\"0\" x2=\"555.0\" y2=\"750.0\" stroke-linecap=\"round\" style=\"stroke:gray;stroke-width:4\"/><line x1=\"570\" y1=\"0\" x2=\"570.0\" y2=\"750.0\" stroke-linecap=\"round\" style=\"stroke:gray;stroke-width:4\"/><line x1=\"585\" y1=\"0\" x2=\"585.0\" y2=\"750.0\" stroke-linecap=\"round\" style=\"stroke:gray;stroke-width:4\"/><line x1=\"600\" y1=\"0\" x2=\"600.0\" y2=\"750.0\" stroke-linecap=\"round\" style=\"stroke:gray;stroke-width:4\"/><line x1=\"615\" y1=\"0\" x2=\"615.0\" y2=\"750.0\" stroke-linecap=\"round\" style=\"stroke:gray;stroke-width:4\"/><line x1=\"630\" y1=\"0\" x2=\"630.0\" y2=\"750.0\" stroke-linecap=\"round\" style=\"stroke:gray;stroke-width:4\"/><line x1=\"645\" y1=\"0\" x2=\"645.0\" y2=\"750.0\" stroke-linecap=\"round\" style=\"stroke:gray;stroke-width:4\"/><line x1=\"660\" y1=\"0\" x2=\"660.0\" y2=\"750.0\" stroke-linecap=\"round\" style=\"stroke:gray;stroke-width:4\"/><line x1=\"675\" y1=\"0\" x2=\"675.0\" y2=\"750.0\" stroke-linecap=\"round\" style=\"stroke:gray;stroke-width:4\"/><line x1=\"690\" y1=\"0\" x2=\"690.0\" y2=\"750.0\" stroke-linecap=\"round\" style=\"stroke:gray;stroke-width:4\"/><line x1=\"705\" y1=\"0\" x2=\"705.0\" y2=\"750.0\" stroke-linecap=\"round\" style=\"stroke:gray;stroke-width:4\"/><line x1=\"720\" y1=\"0\" x2=\"720.0\" y2=\"750.0\" stroke-linecap=\"round\" style=\"stroke:gray;stroke-width:4\"/><line x1=\"735\" y1=\"0\" x2=\"735.0\" y2=\"750.0\" stroke-linecap=\"round\" style=\"stroke:gray;stroke-width:4\"/><line x1=\"750\" y1=\"0\" x2=\"750.0\" y2=\"750.0\" stroke-linecap=\"round\" style=\"stroke:gray;stroke-width:4\"/><line x1=\"375\" y1=\"375\" x2=\"360.0\" y2=\"375.0\" stroke-linecap=\"round\" style=\"stroke:red;stroke-width:3\"/><line x1=\"360.0\" y1=\"375.0\" x2=\"360.0\" y2=\"360.0\" stroke-linecap=\"round\" style=\"stroke:red;stroke-width:3\"/><line x1=\"360.0\" y1=\"360.0\" x2=\"360.0\" y2=\"345.0\" stroke-linecap=\"round\" style=\"stroke:red;stroke-width:3\"/><line x1=\"360.0\" y1=\"345.0\" x2=\"360.0\" y2=\"330.0\" stroke-linecap=\"round\" style=\"stroke:red;stroke-width:3\"/><line x1=\"360.0\" y1=\"330.0\" x2=\"375.0\" y2=\"330.0\" stroke-linecap=\"round\" style=\"stroke:red;stroke-width:3\"/><line x1=\"375.0\" y1=\"330.0\" x2=\"390.0\" y2=\"330.0\" stroke-linecap=\"round\" style=\"stroke:red;stroke-width:3\"/><line x1=\"390.0\" y1=\"330.0\" x2=\"405.0\" y2=\"330.0\" stroke-linecap=\"round\" style=\"stroke:red;stroke-width:3\"/><line x1=\"405.0\" y1=\"330.0\" x2=\"390.0\" y2=\"330.0\" stroke-linecap=\"round\" style=\"stroke:red;stroke-width:3\"/><line x1=\"390.0\" y1=\"330.0\" x2=\"405.0\" y2=\"330.0\" stroke-linecap=\"round\" style=\"stroke:red;stroke-width:3\"/><line x1=\"405.0\" y1=\"330.0\" x2=\"405.0\" y2=\"315.0\" stroke-linecap=\"round\" style=\"stroke:red;stroke-width:3\"/><line x1=\"405.0\" y1=\"315.0\" x2=\"390.0\" y2=\"315.0\" stroke-linecap=\"round\" style=\"stroke:red;stroke-width:3\"/><line x1=\"390.0\" y1=\"315.0\" x2=\"390.0\" y2=\"330.0\" stroke-linecap=\"round\" style=\"stroke:red;stroke-width:3\"/><line x1=\"390.0\" y1=\"330.0\" x2=\"390.0\" y2=\"345.0\" stroke-linecap=\"round\" style=\"stroke:red;stroke-width:3\"/><line x1=\"390.0\" y1=\"345.0\" x2=\"390.0\" y2=\"330.0\" stroke-linecap=\"round\" style=\"stroke:red;stroke-width:3\"/><line x1=\"390.0\" y1=\"330.0\" x2=\"375.0\" y2=\"330.0\" stroke-linecap=\"round\" style=\"stroke:red;stroke-width:3\"/><line x1=\"375.0\" y1=\"330.0\" x2=\"360.0\" y2=\"330.0\" stroke-linecap=\"round\" style=\"stroke:red;stroke-width:3\"/><line x1=\"360.0\" y1=\"330.0\" x2=\"345.0\" y2=\"330.0\" stroke-linecap=\"round\" style=\"stroke:red;stroke-width:3\"/><line x1=\"345.0\" y1=\"330.0\" x2=\"330.0\" y2=\"330.0\" stroke-linecap=\"round\" style=\"stroke:red;stroke-width:3\"/><line x1=\"330.0\" y1=\"330.0\" x2=\"315.0\" y2=\"330.0\" stroke-linecap=\"round\" style=\"stroke:red;stroke-width:3\"/><line x1=\"315.0\" y1=\"330.0\" x2=\"315.0\" y2=\"315.0\" stroke-linecap=\"round\" style=\"stroke:red;stroke-width:3\"/><line x1=\"315.0\" y1=\"315.0\" x2=\"330.0\" y2=\"315.0\" stroke-linecap=\"round\" style=\"stroke:red;stroke-width:3\"/><line x1=\"330.0\" y1=\"315.0\" x2=\"345.0\" y2=\"315.0\" stroke-linecap=\"round\" style=\"stroke:red;stroke-width:3\"/><line x1=\"345.0\" y1=\"315.0\" x2=\"345.0\" y2=\"300.0\" stroke-linecap=\"round\" style=\"stroke:red;stroke-width:3\"/><line x1=\"345.0\" y1=\"300.0\" x2=\"345.0\" y2=\"315.0\" stroke-linecap=\"round\" style=\"stroke:red;stroke-width:3\"/><line x1=\"345.0\" y1=\"315.0\" x2=\"330.0\" y2=\"315.0\" stroke-linecap=\"round\" style=\"stroke:red;stroke-width:3\"/><line x1=\"330.0\" y1=\"315.0\" x2=\"330.0\" y2=\"300.0\" stroke-linecap=\"round\" style=\"stroke:red;stroke-width:3\"/><line x1=\"330.0\" y1=\"300.0\" x2=\"315.0\" y2=\"300.0\" stroke-linecap=\"round\" style=\"stroke:red;stroke-width:3\"/><line x1=\"315.0\" y1=\"300.0\" x2=\"315.0\" y2=\"285.0\" stroke-linecap=\"round\" style=\"stroke:red;stroke-width:3\"/><line x1=\"315.0\" y1=\"285.0\" x2=\"300.0\" y2=\"285.0\" stroke-linecap=\"round\" style=\"stroke:red;stroke-width:3\"/><line x1=\"300.0\" y1=\"285.0\" x2=\"285.0\" y2=\"285.0\" stroke-linecap=\"round\" style=\"stroke:red;stroke-width:3\"/><line x1=\"285.0\" y1=\"285.0\" x2=\"285.0\" y2=\"300.0\" stroke-linecap=\"round\" style=\"stroke:red;stroke-width:3\"/><line x1=\"285.0\" y1=\"300.0\" x2=\"285.0\" y2=\"285.0\" stroke-linecap=\"round\" style=\"stroke:red;stroke-width:3\"/><line x1=\"285.0\" y1=\"285.0\" x2=\"285.0\" y2=\"270.0\" stroke-linecap=\"round\" style=\"stroke:red;stroke-width:3\"/><line x1=\"285.0\" y1=\"270.0\" x2=\"270.0\" y2=\"270.0\" stroke-linecap=\"round\" style=\"stroke:red;stroke-width:3\"/><line x1=\"270.0\" y1=\"270.0\" x2=\"270.0\" y2=\"255.0\" stroke-linecap=\"round\" style=\"stroke:red;stroke-width:3\"/><line x1=\"270.0\" y1=\"255.0\" x2=\"255.0\" y2=\"255.0\" stroke-linecap=\"round\" style=\"stroke:red;stroke-width:3\"/><line x1=\"255.0\" y1=\"255.0\" x2=\"255.0\" y2=\"240.0\" stroke-linecap=\"round\" style=\"stroke:red;stroke-width:3\"/><line x1=\"255.0\" y1=\"240.0\" x2=\"270.0\" y2=\"240.0\" stroke-linecap=\"round\" style=\"stroke:red;stroke-width:3\"/><line x1=\"270.0\" y1=\"240.0\" x2=\"270.0\" y2=\"225.0\" stroke-linecap=\"round\" style=\"stroke:red;stroke-width:3\"/><line x1=\"270.0\" y1=\"225.0\" x2=\"270.0\" y2=\"240.0\" stroke-linecap=\"round\" style=\"stroke:red;stroke-width:3\"/><line x1=\"270.0\" y1=\"240.0\" x2=\"255.0\" y2=\"240.0\" stroke-linecap=\"round\" style=\"stroke:red;stroke-width:3\"/><line x1=\"255.0\" y1=\"240.0\" x2=\"270.0\" y2=\"240.0\" stroke-linecap=\"round\" style=\"stroke:red;stroke-width:3\"/><line x1=\"270.0\" y1=\"240.0\" x2=\"255.0\" y2=\"240.0\" stroke-linecap=\"round\" style=\"stroke:red;stroke-width:3\"/><line x1=\"255.0\" y1=\"240.0\" x2=\"270.0\" y2=\"240.0\" stroke-linecap=\"round\" style=\"stroke:red;stroke-width:3\"/><line x1=\"270.0\" y1=\"240.0\" x2=\"270.0\" y2=\"225.0\" stroke-linecap=\"round\" style=\"stroke:red;stroke-width:3\"/><line x1=\"270.0\" y1=\"225.0\" x2=\"270.0\" y2=\"210.0\" stroke-linecap=\"round\" style=\"stroke:red;stroke-width:3\"/><line x1=\"270.0\" y1=\"210.0\" x2=\"285.0\" y2=\"210.0\" stroke-linecap=\"round\" style=\"stroke:red;stroke-width:3\"/><line x1=\"285.0\" y1=\"210.0\" x2=\"300.0\" y2=\"210.0\" stroke-linecap=\"round\" style=\"stroke:red;stroke-width:3\"/><line x1=\"300.0\" y1=\"210.0\" x2=\"315.0\" y2=\"210.0\" stroke-linecap=\"round\" style=\"stroke:red;stroke-width:3\"/><line x1=\"315.0\" y1=\"210.0\" x2=\"315.0\" y2=\"195.0\" stroke-linecap=\"round\" style=\"stroke:red;stroke-width:3\"/><line x1=\"315.0\" y1=\"195.0\" x2=\"315.0\" y2=\"210.0\" stroke-linecap=\"round\" style=\"stroke:red;stroke-width:3\"/><line x1=\"315.0\" y1=\"210.0\" x2=\"315.0\" y2=\"225.0\" stroke-linecap=\"round\" style=\"stroke:red;stroke-width:3\"/><line x1=\"315.0\" y1=\"225.0\" x2=\"315.0\" y2=\"240.0\" stroke-linecap=\"round\" style=\"stroke:red;stroke-width:3\"/><line x1=\"315.0\" y1=\"240.0\" x2=\"315.0\" y2=\"255.0\" stroke-linecap=\"round\" style=\"stroke:red;stroke-width:3\"/><line x1=\"315.0\" y1=\"255.0\" x2=\"300.0\" y2=\"255.0\" stroke-linecap=\"round\" style=\"stroke:red;stroke-width:3\"/><line x1=\"300.0\" y1=\"255.0\" x2=\"300.0\" y2=\"240.0\" stroke-linecap=\"round\" style=\"stroke:red;stroke-width:3\"/><line x1=\"300.0\" y1=\"240.0\" x2=\"300.0\" y2=\"225.0\" stroke-linecap=\"round\" style=\"stroke:red;stroke-width:3\"/><line x1=\"300.0\" y1=\"225.0\" x2=\"300.0\" y2=\"240.0\" stroke-linecap=\"round\" style=\"stroke:red;stroke-width:3\"/><line x1=\"300.0\" y1=\"240.0\" x2=\"300.0\" y2=\"225.0\" stroke-linecap=\"round\" style=\"stroke:red;stroke-width:3\"/><line x1=\"300.0\" y1=\"225.0\" x2=\"315.0\" y2=\"225.0\" stroke-linecap=\"round\" style=\"stroke:red;stroke-width:3\"/><line x1=\"315.0\" y1=\"225.0\" x2=\"330.0\" y2=\"225.0\" stroke-linecap=\"round\" style=\"stroke:red;stroke-width:3\"/><line x1=\"330.0\" y1=\"225.0\" x2=\"345.0\" y2=\"225.0\" stroke-linecap=\"round\" style=\"stroke:red;stroke-width:3\"/><line x1=\"345.0\" y1=\"225.0\" x2=\"360.0\" y2=\"225.0\" stroke-linecap=\"round\" style=\"stroke:red;stroke-width:3\"/><line x1=\"360.0\" y1=\"225.0\" x2=\"360.0\" y2=\"210.0\" stroke-linecap=\"round\" style=\"stroke:red;stroke-width:3\"/><line x1=\"360.0\" y1=\"210.0\" x2=\"360.0\" y2=\"195.0\" stroke-linecap=\"round\" style=\"stroke:red;stroke-width:3\"/><line x1=\"360.0\" y1=\"195.0\" x2=\"345.0\" y2=\"195.0\" stroke-linecap=\"round\" style=\"stroke:red;stroke-width:3\"/><line x1=\"345.0\" y1=\"195.0\" x2=\"345.0\" y2=\"210.0\" stroke-linecap=\"round\" style=\"stroke:red;stroke-width:3\"/><line x1=\"345.0\" y1=\"210.0\" x2=\"345.0\" y2=\"225.0\" stroke-linecap=\"round\" style=\"stroke:red;stroke-width:3\"/><line x1=\"345.0\" y1=\"225.0\" x2=\"330.0\" y2=\"225.0\" stroke-linecap=\"round\" style=\"stroke:red;stroke-width:3\"/><line x1=\"330.0\" y1=\"225.0\" x2=\"315.0\" y2=\"225.0\" stroke-linecap=\"round\" style=\"stroke:red;stroke-width:3\"/><line x1=\"315.0\" y1=\"225.0\" x2=\"315.0\" y2=\"210.0\" stroke-linecap=\"round\" style=\"stroke:red;stroke-width:3\"/><line x1=\"315.0\" y1=\"210.0\" x2=\"330.0\" y2=\"210.0\" stroke-linecap=\"round\" style=\"stroke:red;stroke-width:3\"/><line x1=\"330.0\" y1=\"210.0\" x2=\"330.0\" y2=\"225.0\" stroke-linecap=\"round\" style=\"stroke:red;stroke-width:3\"/><line x1=\"330.0\" y1=\"225.0\" x2=\"315.0\" y2=\"225.0\" stroke-linecap=\"round\" style=\"stroke:red;stroke-width:3\"/><line x1=\"315.0\" y1=\"225.0\" x2=\"330.0\" y2=\"225.0\" stroke-linecap=\"round\" style=\"stroke:red;stroke-width:3\"/><line x1=\"330.0\" y1=\"225.0\" x2=\"330.0\" y2=\"240.0\" stroke-linecap=\"round\" style=\"stroke:red;stroke-width:3\"/><line x1=\"330.0\" y1=\"240.0\" x2=\"315.0\" y2=\"240.0\" stroke-linecap=\"round\" style=\"stroke:red;stroke-width:3\"/><line x1=\"315.0\" y1=\"240.0\" x2=\"315.0\" y2=\"255.0\" stroke-linecap=\"round\" style=\"stroke:red;stroke-width:3\"/><line x1=\"315.0\" y1=\"255.0\" x2=\"330.0\" y2=\"255.0\" stroke-linecap=\"round\" style=\"stroke:red;stroke-width:3\"/><line x1=\"330.0\" y1=\"255.0\" x2=\"315.0\" y2=\"255.0\" stroke-linecap=\"round\" style=\"stroke:red;stroke-width:3\"/><line x1=\"315.0\" y1=\"255.0\" x2=\"300.0\" y2=\"255.0\" stroke-linecap=\"round\" style=\"stroke:red;stroke-width:3\"/><line x1=\"300.0\" y1=\"255.0\" x2=\"285.0\" y2=\"255.0\" stroke-linecap=\"round\" style=\"stroke:red;stroke-width:3\"/><line x1=\"285.0\" y1=\"255.0\" x2=\"270.0\" y2=\"255.0\" stroke-linecap=\"round\" style=\"stroke:red;stroke-width:3\"/><line x1=\"270.0\" y1=\"255.0\" x2=\"270.0\" y2=\"270.0\" stroke-linecap=\"round\" style=\"stroke:red;stroke-width:3\"/><line x1=\"270.0\" y1=\"270.0\" x2=\"270.0\" y2=\"285.0\" stroke-linecap=\"round\" style=\"stroke:red;stroke-width:3\"/><line x1=\"270.0\" y1=\"285.0\" x2=\"285.0\" y2=\"285.0\" stroke-linecap=\"round\" style=\"stroke:red;stroke-width:3\"/><line x1=\"285.0\" y1=\"285.0\" x2=\"285.0\" y2=\"270.0\" stroke-linecap=\"round\" style=\"stroke:red;stroke-width:3\"/><line x1=\"285.0\" y1=\"270.0\" x2=\"285.0\" y2=\"285.0\" stroke-linecap=\"round\" style=\"stroke:red;stroke-width:3\"/><line x1=\"285.0\" y1=\"285.0\" x2=\"285.0\" y2=\"270.0\" stroke-linecap=\"round\" style=\"stroke:red;stroke-width:3\"/><line x1=\"285.0\" y1=\"270.0\" x2=\"270.0\" y2=\"270.0\" stroke-linecap=\"round\" style=\"stroke:red;stroke-width:3\"/><line x1=\"270.0\" y1=\"270.0\" x2=\"255.0\" y2=\"270.0\" stroke-linecap=\"round\" style=\"stroke:red;stroke-width:3\"/><line x1=\"255.0\" y1=\"270.0\" x2=\"255.0\" y2=\"255.0\" stroke-linecap=\"round\" style=\"stroke:red;stroke-width:3\"/><line x1=\"255.0\" y1=\"255.0\" x2=\"255.0\" y2=\"270.0\" stroke-linecap=\"round\" style=\"stroke:red;stroke-width:3\"/><line x1=\"255.0\" y1=\"270.0\" x2=\"240.0\" y2=\"270.0\" stroke-linecap=\"round\" style=\"stroke:red;stroke-width:3\"/><line x1=\"240.0\" y1=\"270.0\" x2=\"240.0\" y2=\"285.0\" stroke-linecap=\"round\" style=\"stroke:red;stroke-width:3\"/><line x1=\"240.0\" y1=\"285.0\" x2=\"255.0\" y2=\"285.0\" stroke-linecap=\"round\" style=\"stroke:red;stroke-width:3\"/><line x1=\"255.0\" y1=\"285.0\" x2=\"255.0\" y2=\"300.0\" stroke-linecap=\"round\" style=\"stroke:red;stroke-width:3\"/><line x1=\"255.0\" y1=\"300.0\" x2=\"255.0\" y2=\"285.0\" stroke-linecap=\"round\" style=\"stroke:red;stroke-width:3\"/><line x1=\"255.0\" y1=\"285.0\" x2=\"240.0\" y2=\"285.0\" stroke-linecap=\"round\" style=\"stroke:red;stroke-width:3\"/><line x1=\"240.0\" y1=\"285.0\" x2=\"255.0\" y2=\"285.0\" stroke-linecap=\"round\" style=\"stroke:red;stroke-width:3\"/><line x1=\"255.0\" y1=\"285.0\" x2=\"255.0\" y2=\"300.0\" stroke-linecap=\"round\" style=\"stroke:red;stroke-width:3\"/><line x1=\"255.0\" y1=\"300.0\" x2=\"255.0\" y2=\"285.0\" stroke-linecap=\"round\" style=\"stroke:red;stroke-width:3\"/><line x1=\"255.0\" y1=\"285.0\" x2=\"255.0\" y2=\"270.0\" stroke-linecap=\"round\" style=\"stroke:red;stroke-width:3\"/><line x1=\"255.0\" y1=\"270.0\" x2=\"255.0\" y2=\"255.0\" stroke-linecap=\"round\" style=\"stroke:red;stroke-width:3\"/><line x1=\"255.0\" y1=\"255.0\" x2=\"255.0\" y2=\"240.0\" stroke-linecap=\"round\" style=\"stroke:red;stroke-width:3\"/><line x1=\"255.0\" y1=\"240.0\" x2=\"255.0\" y2=\"225.0\" stroke-linecap=\"round\" style=\"stroke:red;stroke-width:3\"/><line x1=\"255.0\" y1=\"225.0\" x2=\"240.0\" y2=\"225.0\" stroke-linecap=\"round\" style=\"stroke:red;stroke-width:3\"/><line x1=\"240.0\" y1=\"225.0\" x2=\"255.0\" y2=\"225.0\" stroke-linecap=\"round\" style=\"stroke:red;stroke-width:3\"/><line x1=\"255.0\" y1=\"225.0\" x2=\"255.0\" y2=\"240.0\" stroke-linecap=\"round\" style=\"stroke:red;stroke-width:3\"/><line x1=\"255.0\" y1=\"240.0\" x2=\"255.0\" y2=\"225.0\" stroke-linecap=\"round\" style=\"stroke:red;stroke-width:3\"/><line x1=\"255.0\" y1=\"225.0\" x2=\"255.0\" y2=\"240.0\" stroke-linecap=\"round\" style=\"stroke:red;stroke-width:3\"/><line x1=\"255.0\" y1=\"240.0\" x2=\"255.0\" y2=\"225.0\" stroke-linecap=\"round\" style=\"stroke:red;stroke-width:3\"/><line x1=\"255.0\" y1=\"225.0\" x2=\"240.0\" y2=\"225.0\" stroke-linecap=\"round\" style=\"stroke:red;stroke-width:3\"/><line x1=\"240.0\" y1=\"225.0\" x2=\"240.0\" y2=\"210.0\" stroke-linecap=\"round\" style=\"stroke:red;stroke-width:3\"/><line x1=\"240.0\" y1=\"210.0\" x2=\"240.0\" y2=\"195.0\" stroke-linecap=\"round\" style=\"stroke:red;stroke-width:3\"/><line x1=\"240.0\" y1=\"195.0\" x2=\"240.0\" y2=\"180.0\" stroke-linecap=\"round\" style=\"stroke:red;stroke-width:3\"/><line x1=\"240.0\" y1=\"180.0\" x2=\"255.0\" y2=\"180.0\" stroke-linecap=\"round\" style=\"stroke:red;stroke-width:3\"/><line x1=\"255.0\" y1=\"180.0\" x2=\"255.0\" y2=\"195.0\" stroke-linecap=\"round\" style=\"stroke:red;stroke-width:3\"/><line x1=\"255.0\" y1=\"195.0\" x2=\"255.0\" y2=\"210.0\" stroke-linecap=\"round\" style=\"stroke:red;stroke-width:3\"/><line x1=\"255.0\" y1=\"210.0\" x2=\"240.0\" y2=\"210.0\" stroke-linecap=\"round\" style=\"stroke:red;stroke-width:3\"/><line x1=\"240.0\" y1=\"210.0\" x2=\"255.0\" y2=\"210.0\" stroke-linecap=\"round\" style=\"stroke:red;stroke-width:3\"/><line x1=\"255.0\" y1=\"210.0\" x2=\"255.0\" y2=\"195.0\" stroke-linecap=\"round\" style=\"stroke:red;stroke-width:3\"/><line x1=\"255.0\" y1=\"195.0\" x2=\"240.0\" y2=\"195.0\" stroke-linecap=\"round\" style=\"stroke:red;stroke-width:3\"/><line x1=\"240.0\" y1=\"195.0\" x2=\"240.0\" y2=\"180.0\" stroke-linecap=\"round\" style=\"stroke:red;stroke-width:3\"/><line x1=\"240.0\" y1=\"180.0\" x2=\"240.0\" y2=\"165.0\" stroke-linecap=\"round\" style=\"stroke:red;stroke-width:3\"/><line x1=\"240.0\" y1=\"165.0\" x2=\"240.0\" y2=\"180.0\" stroke-linecap=\"round\" style=\"stroke:red;stroke-width:3\"/><line x1=\"240.0\" y1=\"180.0\" x2=\"240.0\" y2=\"195.0\" stroke-linecap=\"round\" style=\"stroke:red;stroke-width:3\"/><line x1=\"240.0\" y1=\"195.0\" x2=\"255.0\" y2=\"195.0\" stroke-linecap=\"round\" style=\"stroke:red;stroke-width:3\"/><line x1=\"255.0\" y1=\"195.0\" x2=\"240.0\" y2=\"195.0\" stroke-linecap=\"round\" style=\"stroke:red;stroke-width:3\"/><line x1=\"240.0\" y1=\"195.0\" x2=\"240.0\" y2=\"180.0\" stroke-linecap=\"round\" style=\"stroke:red;stroke-width:3\"/><line x1=\"240.0\" y1=\"180.0\" x2=\"240.0\" y2=\"195.0\" stroke-linecap=\"round\" style=\"stroke:red;stroke-width:3\"/><line x1=\"240.0\" y1=\"195.0\" x2=\"240.0\" y2=\"210.0\" stroke-linecap=\"round\" style=\"stroke:red;stroke-width:3\"/><line x1=\"240.0\" y1=\"210.0\" x2=\"240.0\" y2=\"195.0\" stroke-linecap=\"round\" style=\"stroke:red;stroke-width:3\"/><line x1=\"240.0\" y1=\"195.0\" x2=\"225.0\" y2=\"195.0\" stroke-linecap=\"round\" style=\"stroke:red;stroke-width:3\"/><line x1=\"225.0\" y1=\"195.0\" x2=\"210.0\" y2=\"195.0\" stroke-linecap=\"round\" style=\"stroke:red;stroke-width:3\"/><line x1=\"210.0\" y1=\"195.0\" x2=\"225.0\" y2=\"195.0\" stroke-linecap=\"round\" style=\"stroke:red;stroke-width:3\"/><line x1=\"225.0\" y1=\"195.0\" x2=\"225.0\" y2=\"180.0\" stroke-linecap=\"round\" style=\"stroke:red;stroke-width:3\"/><line x1=\"225.0\" y1=\"180.0\" x2=\"225.0\" y2=\"195.0\" stroke-linecap=\"round\" style=\"stroke:red;stroke-width:3\"/><line x1=\"225.0\" y1=\"195.0\" x2=\"240.0\" y2=\"195.0\" stroke-linecap=\"round\" style=\"stroke:red;stroke-width:3\"/><line x1=\"240.0\" y1=\"195.0\" x2=\"240.0\" y2=\"210.0\" stroke-linecap=\"round\" style=\"stroke:red;stroke-width:3\"/><line x1=\"240.0\" y1=\"210.0\" x2=\"255.0\" y2=\"210.0\" stroke-linecap=\"round\" style=\"stroke:red;stroke-width:3\"/><line x1=\"255.0\" y1=\"210.0\" x2=\"255.0\" y2=\"225.0\" stroke-linecap=\"round\" style=\"stroke:red;stroke-width:3\"/><line x1=\"255.0\" y1=\"225.0\" x2=\"255.0\" y2=\"210.0\" stroke-linecap=\"round\" style=\"stroke:red;stroke-width:3\"/><line x1=\"255.0\" y1=\"210.0\" x2=\"255.0\" y2=\"195.0\" stroke-linecap=\"round\" style=\"stroke:red;stroke-width:3\"/><line x1=\"255.0\" y1=\"195.0\" x2=\"255.0\" y2=\"180.0\" stroke-linecap=\"round\" style=\"stroke:red;stroke-width:3\"/><line x1=\"255.0\" y1=\"180.0\" x2=\"255.0\" y2=\"165.0\" stroke-linecap=\"round\" style=\"stroke:red;stroke-width:3\"/><line x1=\"255.0\" y1=\"165.0\" x2=\"255.0\" y2=\"180.0\" stroke-linecap=\"round\" style=\"stroke:red;stroke-width:3\"/><line x1=\"255.0\" y1=\"180.0\" x2=\"270.0\" y2=\"180.0\" stroke-linecap=\"round\" style=\"stroke:red;stroke-width:3\"/><line x1=\"270.0\" y1=\"180.0\" x2=\"270.0\" y2=\"195.0\" stroke-linecap=\"round\" style=\"stroke:red;stroke-width:3\"/><line x1=\"270.0\" y1=\"195.0\" x2=\"270.0\" y2=\"210.0\" stroke-linecap=\"round\" style=\"stroke:red;stroke-width:3\"/><line x1=\"270.0\" y1=\"210.0\" x2=\"270.0\" y2=\"195.0\" stroke-linecap=\"round\" style=\"stroke:red;stroke-width:3\"/><line x1=\"270.0\" y1=\"195.0\" x2=\"285.0\" y2=\"195.0\" stroke-linecap=\"round\" style=\"stroke:red;stroke-width:3\"/><line x1=\"285.0\" y1=\"195.0\" x2=\"300.0\" y2=\"195.0\" stroke-linecap=\"round\" style=\"stroke:red;stroke-width:3\"/><line x1=\"300.0\" y1=\"195.0\" x2=\"300.0\" y2=\"180.0\" stroke-linecap=\"round\" style=\"stroke:red;stroke-width:3\"/><line x1=\"300.0\" y1=\"180.0\" x2=\"300.0\" y2=\"165.0\" stroke-linecap=\"round\" style=\"stroke:red;stroke-width:3\"/><line x1=\"300.0\" y1=\"165.0\" x2=\"285.0\" y2=\"165.0\" stroke-linecap=\"round\" style=\"stroke:red;stroke-width:3\"/><line x1=\"285.0\" y1=\"165.0\" x2=\"300.0\" y2=\"165.0\" stroke-linecap=\"round\" style=\"stroke:red;stroke-width:3\"/><line x1=\"300.0\" y1=\"165.0\" x2=\"315.0\" y2=\"165.0\" stroke-linecap=\"round\" style=\"stroke:red;stroke-width:3\"/><line x1=\"315.0\" y1=\"165.0\" x2=\"330.0\" y2=\"165.0\" stroke-linecap=\"round\" style=\"stroke:red;stroke-width:3\"/><line x1=\"330.0\" y1=\"165.0\" x2=\"330.0\" y2=\"180.0\" stroke-linecap=\"round\" style=\"stroke:red;stroke-width:3\"/><line x1=\"330.0\" y1=\"180.0\" x2=\"330.0\" y2=\"195.0\" stroke-linecap=\"round\" style=\"stroke:red;stroke-width:3\"/><line x1=\"330.0\" y1=\"195.0\" x2=\"345.0\" y2=\"195.0\" stroke-linecap=\"round\" style=\"stroke:red;stroke-width:3\"/><line x1=\"345.0\" y1=\"195.0\" x2=\"345.0\" y2=\"180.0\" stroke-linecap=\"round\" style=\"stroke:red;stroke-width:3\"/><line x1=\"345.0\" y1=\"180.0\" x2=\"345.0\" y2=\"195.0\" stroke-linecap=\"round\" style=\"stroke:red;stroke-width:3\"/><line x1=\"345.0\" y1=\"195.0\" x2=\"360.0\" y2=\"195.0\" stroke-linecap=\"round\" style=\"stroke:red;stroke-width:3\"/><line x1=\"360.0\" y1=\"195.0\" x2=\"375.0\" y2=\"195.0\" stroke-linecap=\"round\" style=\"stroke:red;stroke-width:3\"/><line x1=\"375.0\" y1=\"195.0\" x2=\"375.0\" y2=\"210.0\" stroke-linecap=\"round\" style=\"stroke:red;stroke-width:3\"/><line x1=\"375.0\" y1=\"210.0\" x2=\"360.0\" y2=\"210.0\" stroke-linecap=\"round\" style=\"stroke:red;stroke-width:3\"/><line x1=\"360.0\" y1=\"210.0\" x2=\"345.0\" y2=\"210.0\" stroke-linecap=\"round\" style=\"stroke:red;stroke-width:3\"/><line x1=\"345.0\" y1=\"210.0\" x2=\"345.0\" y2=\"195.0\" stroke-linecap=\"round\" style=\"stroke:red;stroke-width:3\"/><line x1=\"345.0\" y1=\"195.0\" x2=\"345.0\" y2=\"210.0\" stroke-linecap=\"round\" style=\"stroke:red;stroke-width:3\"/><line x1=\"345.0\" y1=\"210.0\" x2=\"345.0\" y2=\"195.0\" stroke-linecap=\"round\" style=\"stroke:red;stroke-width:3\"/><line x1=\"345.0\" y1=\"195.0\" x2=\"345.0\" y2=\"180.0\" stroke-linecap=\"round\" style=\"stroke:red;stroke-width:3\"/><line x1=\"345.0\" y1=\"180.0\" x2=\"345.0\" y2=\"195.0\" stroke-linecap=\"round\" style=\"stroke:red;stroke-width:3\"/><line x1=\"345.0\" y1=\"195.0\" x2=\"345.0\" y2=\"180.0\" stroke-linecap=\"round\" style=\"stroke:red;stroke-width:3\"/><line x1=\"345.0\" y1=\"180.0\" x2=\"345.0\" y2=\"195.0\" stroke-linecap=\"round\" style=\"stroke:red;stroke-width:3\"/><line x1=\"345.0\" y1=\"195.0\" x2=\"345.0\" y2=\"210.0\" stroke-linecap=\"round\" style=\"stroke:red;stroke-width:3\"/><line x1=\"345.0\" y1=\"210.0\" x2=\"360.0\" y2=\"210.0\" stroke-linecap=\"round\" style=\"stroke:red;stroke-width:3\"/><line x1=\"360.0\" y1=\"210.0\" x2=\"360.0\" y2=\"225.0\" stroke-linecap=\"round\" style=\"stroke:red;stroke-width:3\"/><line x1=\"360.0\" y1=\"225.0\" x2=\"345.0\" y2=\"225.0\" stroke-linecap=\"round\" style=\"stroke:red;stroke-width:3\"/><line x1=\"345.0\" y1=\"225.0\" x2=\"360.0\" y2=\"225.0\" stroke-linecap=\"round\" style=\"stroke:red;stroke-width:3\"/><line x1=\"360.0\" y1=\"225.0\" x2=\"360.0\" y2=\"240.0\" stroke-linecap=\"round\" style=\"stroke:red;stroke-width:3\"/><line x1=\"360.0\" y1=\"240.0\" x2=\"360.0\" y2=\"225.0\" stroke-linecap=\"round\" style=\"stroke:red;stroke-width:3\"/><line x1=\"360.0\" y1=\"225.0\" x2=\"360.0\" y2=\"210.0\" stroke-linecap=\"round\" style=\"stroke:red;stroke-width:3\"/><line x1=\"360.0\" y1=\"210.0\" x2=\"360.0\" y2=\"195.0\" stroke-linecap=\"round\" style=\"stroke:red;stroke-width:3\"/><line x1=\"360.0\" y1=\"195.0\" x2=\"345.0\" y2=\"195.0\" stroke-linecap=\"round\" style=\"stroke:red;stroke-width:3\"/><line x1=\"345.0\" y1=\"195.0\" x2=\"330.0\" y2=\"195.0\" stroke-linecap=\"round\" style=\"stroke:red;stroke-width:3\"/><line x1=\"330.0\" y1=\"195.0\" x2=\"345.0\" y2=\"195.0\" stroke-linecap=\"round\" style=\"stroke:red;stroke-width:3\"/><line x1=\"345.0\" y1=\"195.0\" x2=\"345.0\" y2=\"180.0\" stroke-linecap=\"round\" style=\"stroke:red;stroke-width:3\"/><line x1=\"345.0\" y1=\"180.0\" x2=\"360.0\" y2=\"180.0\" stroke-linecap=\"round\" style=\"stroke:red;stroke-width:3\"/><line x1=\"360.0\" y1=\"180.0\" x2=\"345.0\" y2=\"180.0\" stroke-linecap=\"round\" style=\"stroke:red;stroke-width:3\"/><line x1=\"345.0\" y1=\"180.0\" x2=\"345.0\" y2=\"165.0\" stroke-linecap=\"round\" style=\"stroke:red;stroke-width:3\"/><line x1=\"345.0\" y1=\"165.0\" x2=\"330.0\" y2=\"165.0\" stroke-linecap=\"round\" style=\"stroke:red;stroke-width:3\"/><line x1=\"330.0\" y1=\"165.0\" x2=\"345.0\" y2=\"165.0\" stroke-linecap=\"round\" style=\"stroke:red;stroke-width:3\"/><line x1=\"345.0\" y1=\"165.0\" x2=\"360.0\" y2=\"165.0\" stroke-linecap=\"round\" style=\"stroke:red;stroke-width:3\"/><line x1=\"360.0\" y1=\"165.0\" x2=\"375.0\" y2=\"165.0\" stroke-linecap=\"round\" style=\"stroke:red;stroke-width:3\"/><line x1=\"375.0\" y1=\"165.0\" x2=\"390.0\" y2=\"165.0\" stroke-linecap=\"round\" style=\"stroke:red;stroke-width:3\"/><line x1=\"390.0\" y1=\"165.0\" x2=\"390.0\" y2=\"150.0\" stroke-linecap=\"round\" style=\"stroke:red;stroke-width:3\"/><line x1=\"390.0\" y1=\"150.0\" x2=\"405.0\" y2=\"150.0\" stroke-linecap=\"round\" style=\"stroke:red;stroke-width:3\"/><line x1=\"405.0\" y1=\"150.0\" x2=\"405.0\" y2=\"165.0\" stroke-linecap=\"round\" style=\"stroke:red;stroke-width:3\"/><line x1=\"405.0\" y1=\"165.0\" x2=\"405.0\" y2=\"180.0\" stroke-linecap=\"round\" style=\"stroke:red;stroke-width:3\"/><line x1=\"405.0\" y1=\"180.0\" x2=\"420.0\" y2=\"180.0\" stroke-linecap=\"round\" style=\"stroke:red;stroke-width:3\"/><line x1=\"420.0\" y1=\"180.0\" x2=\"405.0\" y2=\"180.0\" stroke-linecap=\"round\" style=\"stroke:red;stroke-width:3\"/><line x1=\"405.0\" y1=\"180.0\" x2=\"390.0\" y2=\"180.0\" stroke-linecap=\"round\" style=\"stroke:red;stroke-width:3\"/><line x1=\"390.0\" y1=\"180.0\" x2=\"405.0\" y2=\"180.0\" stroke-linecap=\"round\" style=\"stroke:red;stroke-width:3\"/><line x1=\"405.0\" y1=\"180.0\" x2=\"390.0\" y2=\"180.0\" stroke-linecap=\"round\" style=\"stroke:red;stroke-width:3\"/><line x1=\"390.0\" y1=\"180.0\" x2=\"390.0\" y2=\"195.0\" stroke-linecap=\"round\" style=\"stroke:red;stroke-width:3\"/><line x1=\"390.0\" y1=\"195.0\" x2=\"375.0\" y2=\"195.0\" stroke-linecap=\"round\" style=\"stroke:red;stroke-width:3\"/><line x1=\"375.0\" y1=\"195.0\" x2=\"375.0\" y2=\"180.0\" stroke-linecap=\"round\" style=\"stroke:red;stroke-width:3\"/><line x1=\"375.0\" y1=\"180.0\" x2=\"390.0\" y2=\"180.0\" stroke-linecap=\"round\" style=\"stroke:red;stroke-width:3\"/><line x1=\"390.0\" y1=\"180.0\" x2=\"405.0\" y2=\"180.0\" stroke-linecap=\"round\" style=\"stroke:red;stroke-width:3\"/><line x1=\"405.0\" y1=\"180.0\" x2=\"405.0\" y2=\"195.0\" stroke-linecap=\"round\" style=\"stroke:red;stroke-width:3\"/><line x1=\"405.0\" y1=\"195.0\" x2=\"405.0\" y2=\"180.0\" stroke-linecap=\"round\" style=\"stroke:red;stroke-width:3\"/><line x1=\"405.0\" y1=\"180.0\" x2=\"420.0\" y2=\"180.0\" stroke-linecap=\"round\" style=\"stroke:red;stroke-width:3\"/><line x1=\"420.0\" y1=\"180.0\" x2=\"405.0\" y2=\"180.0\" stroke-linecap=\"round\" style=\"stroke:red;stroke-width:3\"/><line x1=\"405.0\" y1=\"180.0\" x2=\"405.0\" y2=\"195.0\" stroke-linecap=\"round\" style=\"stroke:red;stroke-width:3\"/><line x1=\"405.0\" y1=\"195.0\" x2=\"390.0\" y2=\"195.0\" stroke-linecap=\"round\" style=\"stroke:red;stroke-width:3\"/><line x1=\"390.0\" y1=\"195.0\" x2=\"405.0\" y2=\"195.0\" stroke-linecap=\"round\" style=\"stroke:red;stroke-width:3\"/><line x1=\"405.0\" y1=\"195.0\" x2=\"390.0\" y2=\"195.0\" stroke-linecap=\"round\" style=\"stroke:red;stroke-width:3\"/><line x1=\"390.0\" y1=\"195.0\" x2=\"390.0\" y2=\"180.0\" stroke-linecap=\"round\" style=\"stroke:red;stroke-width:3\"/><line x1=\"390.0\" y1=\"180.0\" x2=\"390.0\" y2=\"165.0\" stroke-linecap=\"round\" style=\"stroke:red;stroke-width:3\"/><line x1=\"390.0\" y1=\"165.0\" x2=\"375.0\" y2=\"165.0\" stroke-linecap=\"round\" style=\"stroke:red;stroke-width:3\"/><line x1=\"375.0\" y1=\"165.0\" x2=\"375.0\" y2=\"150.0\" stroke-linecap=\"round\" style=\"stroke:red;stroke-width:3\"/><line x1=\"375.0\" y1=\"150.0\" x2=\"360.0\" y2=\"150.0\" stroke-linecap=\"round\" style=\"stroke:red;stroke-width:3\"/><line x1=\"360.0\" y1=\"150.0\" x2=\"360.0\" y2=\"135.0\" stroke-linecap=\"round\" style=\"stroke:red;stroke-width:3\"/><line x1=\"360.0\" y1=\"135.0\" x2=\"360.0\" y2=\"120.0\" stroke-linecap=\"round\" style=\"stroke:red;stroke-width:3\"/><line x1=\"360.0\" y1=\"120.0\" x2=\"360.0\" y2=\"105.0\" stroke-linecap=\"round\" style=\"stroke:red;stroke-width:3\"/><line x1=\"360.0\" y1=\"105.0\" x2=\"360.0\" y2=\"120.0\" stroke-linecap=\"round\" style=\"stroke:red;stroke-width:3\"/><line x1=\"360.0\" y1=\"120.0\" x2=\"345.0\" y2=\"120.0\" stroke-linecap=\"round\" style=\"stroke:red;stroke-width:3\"/><line x1=\"345.0\" y1=\"120.0\" x2=\"345.0\" y2=\"135.0\" stroke-linecap=\"round\" style=\"stroke:red;stroke-width:3\"/><line x1=\"345.0\" y1=\"135.0\" x2=\"345.0\" y2=\"150.0\" stroke-linecap=\"round\" style=\"stroke:red;stroke-width:3\"/><line x1=\"345.0\" y1=\"150.0\" x2=\"345.0\" y2=\"135.0\" stroke-linecap=\"round\" style=\"stroke:red;stroke-width:3\"/><line x1=\"345.0\" y1=\"135.0\" x2=\"330.0\" y2=\"135.0\" stroke-linecap=\"round\" style=\"stroke:red;stroke-width:3\"/><line x1=\"330.0\" y1=\"135.0\" x2=\"330.0\" y2=\"150.0\" stroke-linecap=\"round\" style=\"stroke:red;stroke-width:3\"/><line x1=\"330.0\" y1=\"150.0\" x2=\"330.0\" y2=\"135.0\" stroke-linecap=\"round\" style=\"stroke:red;stroke-width:3\"/><line x1=\"330.0\" y1=\"135.0\" x2=\"330.0\" y2=\"150.0\" stroke-linecap=\"round\" style=\"stroke:red;stroke-width:3\"/><line x1=\"330.0\" y1=\"150.0\" x2=\"315.0\" y2=\"150.0\" stroke-linecap=\"round\" style=\"stroke:red;stroke-width:3\"/><line x1=\"315.0\" y1=\"150.0\" x2=\"315.0\" y2=\"135.0\" stroke-linecap=\"round\" style=\"stroke:red;stroke-width:3\"/><line x1=\"315.0\" y1=\"135.0\" x2=\"315.0\" y2=\"150.0\" stroke-linecap=\"round\" style=\"stroke:red;stroke-width:3\"/><line x1=\"315.0\" y1=\"150.0\" x2=\"315.0\" y2=\"165.0\" stroke-linecap=\"round\" style=\"stroke:red;stroke-width:3\"/><line x1=\"315.0\" y1=\"165.0\" x2=\"315.0\" y2=\"150.0\" stroke-linecap=\"round\" style=\"stroke:red;stroke-width:3\"/><line x1=\"315.0\" y1=\"150.0\" x2=\"330.0\" y2=\"150.0\" stroke-linecap=\"round\" style=\"stroke:red;stroke-width:3\"/><line x1=\"330.0\" y1=\"150.0\" x2=\"315.0\" y2=\"150.0\" stroke-linecap=\"round\" style=\"stroke:red;stroke-width:3\"/><line x1=\"315.0\" y1=\"150.0\" x2=\"315.0\" y2=\"135.0\" stroke-linecap=\"round\" style=\"stroke:red;stroke-width:3\"/><line x1=\"315.0\" y1=\"135.0\" x2=\"330.0\" y2=\"135.0\" stroke-linecap=\"round\" style=\"stroke:red;stroke-width:3\"/><line x1=\"330.0\" y1=\"135.0\" x2=\"315.0\" y2=\"135.0\" stroke-linecap=\"round\" style=\"stroke:red;stroke-width:3\"/><line x1=\"315.0\" y1=\"135.0\" x2=\"300.0\" y2=\"135.0\" stroke-linecap=\"round\" style=\"stroke:red;stroke-width:3\"/><line x1=\"300.0\" y1=\"135.0\" x2=\"300.0\" y2=\"150.0\" stroke-linecap=\"round\" style=\"stroke:red;stroke-width:3\"/><line x1=\"300.0\" y1=\"150.0\" x2=\"285.0\" y2=\"150.0\" stroke-linecap=\"round\" style=\"stroke:red;stroke-width:3\"/><line x1=\"285.0\" y1=\"150.0\" x2=\"285.0\" y2=\"135.0\" stroke-linecap=\"round\" style=\"stroke:red;stroke-width:3\"/><line x1=\"285.0\" y1=\"135.0\" x2=\"270.0\" y2=\"135.0\" stroke-linecap=\"round\" style=\"stroke:red;stroke-width:3\"/><line x1=\"270.0\" y1=\"135.0\" x2=\"270.0\" y2=\"120.0\" stroke-linecap=\"round\" style=\"stroke:red;stroke-width:3\"/><line x1=\"270.0\" y1=\"120.0\" x2=\"285.0\" y2=\"120.0\" stroke-linecap=\"round\" style=\"stroke:red;stroke-width:3\"/><line x1=\"285.0\" y1=\"120.0\" x2=\"285.0\" y2=\"105.0\" stroke-linecap=\"round\" style=\"stroke:red;stroke-width:3\"/><line x1=\"285.0\" y1=\"105.0\" x2=\"285.0\" y2=\"120.0\" stroke-linecap=\"round\" style=\"stroke:red;stroke-width:3\"/><line x1=\"285.0\" y1=\"120.0\" x2=\"285.0\" y2=\"135.0\" stroke-linecap=\"round\" style=\"stroke:red;stroke-width:3\"/><line x1=\"285.0\" y1=\"135.0\" x2=\"300.0\" y2=\"135.0\" stroke-linecap=\"round\" style=\"stroke:red;stroke-width:3\"/><line x1=\"300.0\" y1=\"135.0\" x2=\"300.0\" y2=\"150.0\" stroke-linecap=\"round\" style=\"stroke:red;stroke-width:3\"/><line x1=\"300.0\" y1=\"150.0\" x2=\"315.0\" y2=\"150.0\" stroke-linecap=\"round\" style=\"stroke:red;stroke-width:3\"/><line x1=\"315.0\" y1=\"150.0\" x2=\"330.0\" y2=\"150.0\" stroke-linecap=\"round\" style=\"stroke:red;stroke-width:3\"/><line x1=\"330.0\" y1=\"150.0\" x2=\"345.0\" y2=\"150.0\" stroke-linecap=\"round\" style=\"stroke:red;stroke-width:3\"/><line x1=\"345.0\" y1=\"150.0\" x2=\"345.0\" y2=\"135.0\" stroke-linecap=\"round\" style=\"stroke:red;stroke-width:3\"/><line x1=\"345.0\" y1=\"135.0\" x2=\"345.0\" y2=\"150.0\" stroke-linecap=\"round\" style=\"stroke:red;stroke-width:3\"/><line x1=\"345.0\" y1=\"150.0\" x2=\"345.0\" y2=\"165.0\" stroke-linecap=\"round\" style=\"stroke:red;stroke-width:3\"/><line x1=\"345.0\" y1=\"165.0\" x2=\"345.0\" y2=\"150.0\" stroke-linecap=\"round\" style=\"stroke:red;stroke-width:3\"/><line x1=\"345.0\" y1=\"150.0\" x2=\"330.0\" y2=\"150.0\" stroke-linecap=\"round\" style=\"stroke:red;stroke-width:3\"/><line x1=\"330.0\" y1=\"150.0\" x2=\"345.0\" y2=\"150.0\" stroke-linecap=\"round\" style=\"stroke:red;stroke-width:3\"/><line x1=\"345.0\" y1=\"150.0\" x2=\"360.0\" y2=\"150.0\" stroke-linecap=\"round\" style=\"stroke:red;stroke-width:3\"/><line x1=\"360.0\" y1=\"150.0\" x2=\"360.0\" y2=\"165.0\" stroke-linecap=\"round\" style=\"stroke:red;stroke-width:3\"/><line x1=\"360.0\" y1=\"165.0\" x2=\"345.0\" y2=\"165.0\" stroke-linecap=\"round\" style=\"stroke:red;stroke-width:3\"/><line x1=\"345.0\" y1=\"165.0\" x2=\"345.0\" y2=\"180.0\" stroke-linecap=\"round\" style=\"stroke:red;stroke-width:3\"/><line x1=\"345.0\" y1=\"180.0\" x2=\"345.0\" y2=\"195.0\" stroke-linecap=\"round\" style=\"stroke:red;stroke-width:3\"/><line x1=\"345.0\" y1=\"195.0\" x2=\"345.0\" y2=\"180.0\" stroke-linecap=\"round\" style=\"stroke:red;stroke-width:3\"/><line x1=\"345.0\" y1=\"180.0\" x2=\"345.0\" y2=\"165.0\" stroke-linecap=\"round\" style=\"stroke:red;stroke-width:3\"/><line x1=\"345.0\" y1=\"165.0\" x2=\"345.0\" y2=\"180.0\" stroke-linecap=\"round\" style=\"stroke:red;stroke-width:3\"/><line x1=\"345.0\" y1=\"180.0\" x2=\"345.0\" y2=\"195.0\" stroke-linecap=\"round\" style=\"stroke:red;stroke-width:3\"/><line x1=\"345.0\" y1=\"195.0\" x2=\"345.0\" y2=\"210.0\" stroke-linecap=\"round\" style=\"stroke:red;stroke-width:3\"/><line x1=\"345.0\" y1=\"210.0\" x2=\"360.0\" y2=\"210.0\" stroke-linecap=\"round\" style=\"stroke:red;stroke-width:3\"/><line x1=\"360.0\" y1=\"210.0\" x2=\"360.0\" y2=\"225.0\" stroke-linecap=\"round\" style=\"stroke:red;stroke-width:3\"/><line x1=\"360.0\" y1=\"225.0\" x2=\"360.0\" y2=\"210.0\" stroke-linecap=\"round\" style=\"stroke:red;stroke-width:3\"/><line x1=\"360.0\" y1=\"210.0\" x2=\"360.0\" y2=\"195.0\" stroke-linecap=\"round\" style=\"stroke:red;stroke-width:3\"/><line x1=\"360.0\" y1=\"195.0\" x2=\"345.0\" y2=\"195.0\" stroke-linecap=\"round\" style=\"stroke:red;stroke-width:3\"/><line x1=\"345.0\" y1=\"195.0\" x2=\"330.0\" y2=\"195.0\" stroke-linecap=\"round\" style=\"stroke:red;stroke-width:3\"/><line x1=\"330.0\" y1=\"195.0\" x2=\"315.0\" y2=\"195.0\" stroke-linecap=\"round\" style=\"stroke:red;stroke-width:3\"/><line x1=\"315.0\" y1=\"195.0\" x2=\"315.0\" y2=\"180.0\" stroke-linecap=\"round\" style=\"stroke:red;stroke-width:3\"/><line x1=\"315.0\" y1=\"180.0\" x2=\"315.0\" y2=\"165.0\" stroke-linecap=\"round\" style=\"stroke:red;stroke-width:3\"/><line x1=\"315.0\" y1=\"165.0\" x2=\"315.0\" y2=\"180.0\" stroke-linecap=\"round\" style=\"stroke:red;stroke-width:3\"/><line x1=\"315.0\" y1=\"180.0\" x2=\"315.0\" y2=\"195.0\" stroke-linecap=\"round\" style=\"stroke:red;stroke-width:3\"/><line x1=\"315.0\" y1=\"195.0\" x2=\"330.0\" y2=\"195.0\" stroke-linecap=\"round\" style=\"stroke:red;stroke-width:3\"/><line x1=\"330.0\" y1=\"195.0\" x2=\"345.0\" y2=\"195.0\" stroke-linecap=\"round\" style=\"stroke:red;stroke-width:3\"/><line x1=\"345.0\" y1=\"195.0\" x2=\"330.0\" y2=\"195.0\" stroke-linecap=\"round\" style=\"stroke:red;stroke-width:3\"/><line x1=\"330.0\" y1=\"195.0\" x2=\"345.0\" y2=\"195.0\" stroke-linecap=\"round\" style=\"stroke:red;stroke-width:3\"/><line x1=\"345.0\" y1=\"195.0\" x2=\"360.0\" y2=\"195.0\" stroke-linecap=\"round\" style=\"stroke:red;stroke-width:3\"/><line x1=\"360.0\" y1=\"195.0\" x2=\"360.0\" y2=\"180.0\" stroke-linecap=\"round\" style=\"stroke:red;stroke-width:3\"/><line x1=\"360.0\" y1=\"180.0\" x2=\"360.0\" y2=\"195.0\" stroke-linecap=\"round\" style=\"stroke:red;stroke-width:3\"/><line x1=\"360.0\" y1=\"195.0\" x2=\"360.0\" y2=\"210.0\" stroke-linecap=\"round\" style=\"stroke:red;stroke-width:3\"/><line x1=\"360.0\" y1=\"210.0\" x2=\"375.0\" y2=\"210.0\" stroke-linecap=\"round\" style=\"stroke:red;stroke-width:3\"/><line x1=\"375.0\" y1=\"210.0\" x2=\"390.0\" y2=\"210.0\" stroke-linecap=\"round\" style=\"stroke:red;stroke-width:3\"/><line x1=\"390.0\" y1=\"210.0\" x2=\"390.0\" y2=\"195.0\" stroke-linecap=\"round\" style=\"stroke:red;stroke-width:3\"/><line x1=\"390.0\" y1=\"195.0\" x2=\"405.0\" y2=\"195.0\" stroke-linecap=\"round\" style=\"stroke:red;stroke-width:3\"/><line x1=\"405.0\" y1=\"195.0\" x2=\"390.0\" y2=\"195.0\" stroke-linecap=\"round\" style=\"stroke:red;stroke-width:3\"/><line x1=\"390.0\" y1=\"195.0\" x2=\"375.0\" y2=\"195.0\" stroke-linecap=\"round\" style=\"stroke:red;stroke-width:3\"/><line x1=\"375.0\" y1=\"195.0\" x2=\"390.0\" y2=\"195.0\" stroke-linecap=\"round\" style=\"stroke:red;stroke-width:3\"/><line x1=\"390.0\" y1=\"195.0\" x2=\"390.0\" y2=\"210.0\" stroke-linecap=\"round\" style=\"stroke:red;stroke-width:3\"/><line x1=\"390.0\" y1=\"210.0\" x2=\"375.0\" y2=\"210.0\" stroke-linecap=\"round\" style=\"stroke:red;stroke-width:3\"/><line x1=\"375.0\" y1=\"210.0\" x2=\"375.0\" y2=\"225.0\" stroke-linecap=\"round\" style=\"stroke:red;stroke-width:3\"/><line x1=\"375.0\" y1=\"225.0\" x2=\"375.0\" y2=\"240.0\" stroke-linecap=\"round\" style=\"stroke:red;stroke-width:3\"/><line x1=\"375.0\" y1=\"240.0\" x2=\"390.0\" y2=\"240.0\" stroke-linecap=\"round\" style=\"stroke:red;stroke-width:3\"/><line x1=\"390.0\" y1=\"240.0\" x2=\"390.0\" y2=\"225.0\" stroke-linecap=\"round\" style=\"stroke:red;stroke-width:3\"/><line x1=\"390.0\" y1=\"225.0\" x2=\"375.0\" y2=\"225.0\" stroke-linecap=\"round\" style=\"stroke:red;stroke-width:3\"/><line x1=\"375.0\" y1=\"225.0\" x2=\"360.0\" y2=\"225.0\" stroke-linecap=\"round\" style=\"stroke:red;stroke-width:3\"/><line x1=\"360.0\" y1=\"225.0\" x2=\"345.0\" y2=\"225.0\" stroke-linecap=\"round\" style=\"stroke:red;stroke-width:3\"/><line x1=\"345.0\" y1=\"225.0\" x2=\"345.0\" y2=\"240.0\" stroke-linecap=\"round\" style=\"stroke:red;stroke-width:3\"/><line x1=\"345.0\" y1=\"240.0\" x2=\"345.0\" y2=\"255.0\" stroke-linecap=\"round\" style=\"stroke:red;stroke-width:3\"/><line x1=\"345.0\" y1=\"255.0\" x2=\"345.0\" y2=\"240.0\" stroke-linecap=\"round\" style=\"stroke:red;stroke-width:3\"/><line x1=\"345.0\" y1=\"240.0\" x2=\"345.0\" y2=\"225.0\" stroke-linecap=\"round\" style=\"stroke:red;stroke-width:3\"/><line x1=\"345.0\" y1=\"225.0\" x2=\"360.0\" y2=\"225.0\" stroke-linecap=\"round\" style=\"stroke:red;stroke-width:3\"/><line x1=\"360.0\" y1=\"225.0\" x2=\"345.0\" y2=\"225.0\" stroke-linecap=\"round\" style=\"stroke:red;stroke-width:3\"/><line x1=\"345.0\" y1=\"225.0\" x2=\"330.0\" y2=\"225.0\" stroke-linecap=\"round\" style=\"stroke:red;stroke-width:3\"/><line x1=\"330.0\" y1=\"225.0\" x2=\"330.0\" y2=\"210.0\" stroke-linecap=\"round\" style=\"stroke:red;stroke-width:3\"/><line x1=\"330.0\" y1=\"210.0\" x2=\"315.0\" y2=\"210.0\" stroke-linecap=\"round\" style=\"stroke:red;stroke-width:3\"/><line x1=\"315.0\" y1=\"210.0\" x2=\"330.0\" y2=\"210.0\" stroke-linecap=\"round\" style=\"stroke:red;stroke-width:3\"/><line x1=\"330.0\" y1=\"210.0\" x2=\"345.0\" y2=\"210.0\" stroke-linecap=\"round\" style=\"stroke:red;stroke-width:3\"/><line x1=\"345.0\" y1=\"210.0\" x2=\"345.0\" y2=\"225.0\" stroke-linecap=\"round\" style=\"stroke:red;stroke-width:3\"/><line x1=\"345.0\" y1=\"225.0\" x2=\"360.0\" y2=\"225.0\" stroke-linecap=\"round\" style=\"stroke:red;stroke-width:3\"/><line x1=\"360.0\" y1=\"225.0\" x2=\"375.0\" y2=\"225.0\" stroke-linecap=\"round\" style=\"stroke:red;stroke-width:3\"/><line x1=\"375.0\" y1=\"225.0\" x2=\"390.0\" y2=\"225.0\" stroke-linecap=\"round\" style=\"stroke:red;stroke-width:3\"/><line x1=\"390.0\" y1=\"225.0\" x2=\"375.0\" y2=\"225.0\" stroke-linecap=\"round\" style=\"stroke:red;stroke-width:3\"/><line x1=\"375.0\" y1=\"225.0\" x2=\"390.0\" y2=\"225.0\" stroke-linecap=\"round\" style=\"stroke:red;stroke-width:3\"/><line x1=\"390.0\" y1=\"225.0\" x2=\"390.0\" y2=\"210.0\" stroke-linecap=\"round\" style=\"stroke:red;stroke-width:3\"/><line x1=\"390.0\" y1=\"210.0\" x2=\"390.0\" y2=\"225.0\" stroke-linecap=\"round\" style=\"stroke:red;stroke-width:3\"/><line x1=\"390.0\" y1=\"225.0\" x2=\"405.0\" y2=\"225.0\" stroke-linecap=\"round\" style=\"stroke:red;stroke-width:3\"/><line x1=\"405.0\" y1=\"225.0\" x2=\"405.0\" y2=\"210.0\" stroke-linecap=\"round\" style=\"stroke:red;stroke-width:3\"/><line x1=\"405.0\" y1=\"210.0\" x2=\"405.0\" y2=\"195.0\" stroke-linecap=\"round\" style=\"stroke:red;stroke-width:3\"/><line x1=\"405.0\" y1=\"195.0\" x2=\"405.0\" y2=\"180.0\" stroke-linecap=\"round\" style=\"stroke:red;stroke-width:3\"/><line x1=\"405.0\" y1=\"180.0\" x2=\"405.0\" y2=\"165.0\" stroke-linecap=\"round\" style=\"stroke:red;stroke-width:3\"/><line x1=\"405.0\" y1=\"165.0\" x2=\"420.0\" y2=\"165.0\" stroke-linecap=\"round\" style=\"stroke:red;stroke-width:3\"/><line x1=\"420.0\" y1=\"165.0\" x2=\"405.0\" y2=\"165.0\" stroke-linecap=\"round\" style=\"stroke:red;stroke-width:3\"/><line x1=\"405.0\" y1=\"165.0\" x2=\"405.0\" y2=\"180.0\" stroke-linecap=\"round\" style=\"stroke:red;stroke-width:3\"/><line x1=\"405.0\" y1=\"180.0\" x2=\"405.0\" y2=\"165.0\" stroke-linecap=\"round\" style=\"stroke:red;stroke-width:3\"/><line x1=\"405.0\" y1=\"165.0\" x2=\"405.0\" y2=\"150.0\" stroke-linecap=\"round\" style=\"stroke:red;stroke-width:3\"/><line x1=\"405.0\" y1=\"150.0\" x2=\"420.0\" y2=\"150.0\" stroke-linecap=\"round\" style=\"stroke:red;stroke-width:3\"/><line x1=\"420.0\" y1=\"150.0\" x2=\"405.0\" y2=\"150.0\" stroke-linecap=\"round\" style=\"stroke:red;stroke-width:3\"/><line x1=\"405.0\" y1=\"150.0\" x2=\"405.0\" y2=\"135.0\" stroke-linecap=\"round\" style=\"stroke:red;stroke-width:3\"/><line x1=\"405.0\" y1=\"135.0\" x2=\"390.0\" y2=\"135.0\" stroke-linecap=\"round\" style=\"stroke:red;stroke-width:3\"/><line x1=\"390.0\" y1=\"135.0\" x2=\"390.0\" y2=\"120.0\" stroke-linecap=\"round\" style=\"stroke:red;stroke-width:3\"/><line x1=\"390.0\" y1=\"120.0\" x2=\"405.0\" y2=\"120.0\" stroke-linecap=\"round\" style=\"stroke:red;stroke-width:3\"/><line x1=\"405.0\" y1=\"120.0\" x2=\"405.0\" y2=\"105.0\" stroke-linecap=\"round\" style=\"stroke:red;stroke-width:3\"/><line x1=\"405.0\" y1=\"105.0\" x2=\"405.0\" y2=\"120.0\" stroke-linecap=\"round\" style=\"stroke:red;stroke-width:3\"/><line x1=\"405.0\" y1=\"120.0\" x2=\"405.0\" y2=\"135.0\" stroke-linecap=\"round\" style=\"stroke:red;stroke-width:3\"/><line x1=\"405.0\" y1=\"135.0\" x2=\"390.0\" y2=\"135.0\" stroke-linecap=\"round\" style=\"stroke:red;stroke-width:3\"/><line x1=\"390.0\" y1=\"135.0\" x2=\"375.0\" y2=\"135.0\" stroke-linecap=\"round\" style=\"stroke:red;stroke-width:3\"/><line x1=\"375.0\" y1=\"135.0\" x2=\"375.0\" y2=\"150.0\" stroke-linecap=\"round\" style=\"stroke:red;stroke-width:3\"/><line x1=\"375.0\" y1=\"150.0\" x2=\"390.0\" y2=\"150.0\" stroke-linecap=\"round\" style=\"stroke:red;stroke-width:3\"/><line x1=\"390.0\" y1=\"150.0\" x2=\"390.0\" y2=\"165.0\" stroke-linecap=\"round\" style=\"stroke:red;stroke-width:3\"/><line x1=\"390.0\" y1=\"165.0\" x2=\"390.0\" y2=\"150.0\" stroke-linecap=\"round\" style=\"stroke:red;stroke-width:3\"/><line x1=\"390.0\" y1=\"150.0\" x2=\"390.0\" y2=\"135.0\" stroke-linecap=\"round\" style=\"stroke:red;stroke-width:3\"/><line x1=\"390.0\" y1=\"135.0\" x2=\"405.0\" y2=\"135.0\" stroke-linecap=\"round\" style=\"stroke:red;stroke-width:3\"/><line x1=\"405.0\" y1=\"135.0\" x2=\"420.0\" y2=\"135.0\" stroke-linecap=\"round\" style=\"stroke:red;stroke-width:3\"/><line x1=\"420.0\" y1=\"135.0\" x2=\"405.0\" y2=\"135.0\" stroke-linecap=\"round\" style=\"stroke:red;stroke-width:3\"/><line x1=\"405.0\" y1=\"135.0\" x2=\"420.0\" y2=\"135.0\" stroke-linecap=\"round\" style=\"stroke:red;stroke-width:3\"/><line x1=\"420.0\" y1=\"135.0\" x2=\"420.0\" y2=\"120.0\" stroke-linecap=\"round\" style=\"stroke:red;stroke-width:3\"/><line x1=\"420.0\" y1=\"120.0\" x2=\"420.0\" y2=\"105.0\" stroke-linecap=\"round\" style=\"stroke:red;stroke-width:3\"/><line x1=\"420.0\" y1=\"105.0\" x2=\"420.0\" y2=\"120.0\" stroke-linecap=\"round\" style=\"stroke:red;stroke-width:3\"/><line x1=\"420.0\" y1=\"120.0\" x2=\"420.0\" y2=\"105.0\" stroke-linecap=\"round\" style=\"stroke:red;stroke-width:3\"/><line x1=\"420.0\" y1=\"105.0\" x2=\"405.0\" y2=\"105.0\" stroke-linecap=\"round\" style=\"stroke:red;stroke-width:3\"/><line x1=\"405.0\" y1=\"105.0\" x2=\"390.0\" y2=\"105.0\" stroke-linecap=\"round\" style=\"stroke:red;stroke-width:3\"/><line x1=\"390.0\" y1=\"105.0\" x2=\"405.0\" y2=\"105.0\" stroke-linecap=\"round\" style=\"stroke:red;stroke-width:3\"/><line x1=\"405.0\" y1=\"105.0\" x2=\"390.0\" y2=\"105.0\" stroke-linecap=\"round\" style=\"stroke:red;stroke-width:3\"/><line x1=\"390.0\" y1=\"105.0\" x2=\"405.0\" y2=\"105.0\" stroke-linecap=\"round\" style=\"stroke:red;stroke-width:3\"/><line x1=\"405.0\" y1=\"105.0\" x2=\"420.0\" y2=\"105.0\" stroke-linecap=\"round\" style=\"stroke:red;stroke-width:3\"/><line x1=\"420.0\" y1=\"105.0\" x2=\"420.0\" y2=\"120.0\" stroke-linecap=\"round\" style=\"stroke:red;stroke-width:3\"/><line x1=\"420.0\" y1=\"120.0\" x2=\"405.0\" y2=\"120.0\" stroke-linecap=\"round\" style=\"stroke:red;stroke-width:3\"/><line x1=\"405.0\" y1=\"120.0\" x2=\"420.0\" y2=\"120.0\" stroke-linecap=\"round\" style=\"stroke:red;stroke-width:3\"/><line x1=\"420.0\" y1=\"120.0\" x2=\"405.0\" y2=\"120.0\" stroke-linecap=\"round\" style=\"stroke:red;stroke-width:3\"/><line x1=\"405.0\" y1=\"120.0\" x2=\"390.0\" y2=\"120.0\" stroke-linecap=\"round\" style=\"stroke:red;stroke-width:3\"/><line x1=\"390.0\" y1=\"120.0\" x2=\"390.0\" y2=\"135.0\" stroke-linecap=\"round\" style=\"stroke:red;stroke-width:3\"/><line x1=\"390.0\" y1=\"135.0\" x2=\"405.0\" y2=\"135.0\" stroke-linecap=\"round\" style=\"stroke:red;stroke-width:3\"/><line x1=\"405.0\" y1=\"135.0\" x2=\"390.0\" y2=\"135.0\" stroke-linecap=\"round\" style=\"stroke:red;stroke-width:3\"/><line x1=\"390.0\" y1=\"135.0\" x2=\"390.0\" y2=\"120.0\" stroke-linecap=\"round\" style=\"stroke:red;stroke-width:3\"/><line x1=\"390.0\" y1=\"120.0\" x2=\"405.0\" y2=\"120.0\" stroke-linecap=\"round\" style=\"stroke:red;stroke-width:3\"/><line x1=\"405.0\" y1=\"120.0\" x2=\"390.0\" y2=\"120.0\" stroke-linecap=\"round\" style=\"stroke:red;stroke-width:3\"/><line x1=\"390.0\" y1=\"120.0\" x2=\"405.0\" y2=\"120.0\" stroke-linecap=\"round\" style=\"stroke:red;stroke-width:3\"/><line x1=\"405.0\" y1=\"120.0\" x2=\"390.0\" y2=\"120.0\" stroke-linecap=\"round\" style=\"stroke:red;stroke-width:3\"/><line x1=\"390.0\" y1=\"120.0\" x2=\"390.0\" y2=\"105.0\" stroke-linecap=\"round\" style=\"stroke:red;stroke-width:3\"/><line x1=\"390.0\" y1=\"105.0\" x2=\"390.0\" y2=\"90.0\" stroke-linecap=\"round\" style=\"stroke:red;stroke-width:3\"/><line x1=\"390.0\" y1=\"90.0\" x2=\"390.0\" y2=\"75.0\" stroke-linecap=\"round\" style=\"stroke:red;stroke-width:3\"/><line x1=\"390.0\" y1=\"75.0\" x2=\"390.0\" y2=\"90.0\" stroke-linecap=\"round\" style=\"stroke:red;stroke-width:3\"/><line x1=\"390.0\" y1=\"90.0\" x2=\"375.0\" y2=\"90.0\" stroke-linecap=\"round\" style=\"stroke:red;stroke-width:3\"/><line x1=\"375.0\" y1=\"90.0\" x2=\"390.0\" y2=\"90.0\" stroke-linecap=\"round\" style=\"stroke:red;stroke-width:3\"/><line x1=\"390.0\" y1=\"90.0\" x2=\"375.0\" y2=\"90.0\" stroke-linecap=\"round\" style=\"stroke:red;stroke-width:3\"/><line x1=\"375.0\" y1=\"90.0\" x2=\"375.0\" y2=\"75.0\" stroke-linecap=\"round\" style=\"stroke:red;stroke-width:3\"/><line x1=\"375.0\" y1=\"75.0\" x2=\"390.0\" y2=\"75.0\" stroke-linecap=\"round\" style=\"stroke:red;stroke-width:3\"/><line x1=\"390.0\" y1=\"75.0\" x2=\"405.0\" y2=\"75.0\" stroke-linecap=\"round\" style=\"stroke:red;stroke-width:3\"/><line x1=\"405.0\" y1=\"75.0\" x2=\"390.0\" y2=\"75.0\" stroke-linecap=\"round\" style=\"stroke:red;stroke-width:3\"/><line x1=\"390.0\" y1=\"75.0\" x2=\"405.0\" y2=\"75.0\" stroke-linecap=\"round\" style=\"stroke:red;stroke-width:3\"/><line x1=\"405.0\" y1=\"75.0\" x2=\"420.0\" y2=\"75.0\" stroke-linecap=\"round\" style=\"stroke:red;stroke-width:3\"/><line x1=\"420.0\" y1=\"75.0\" x2=\"420.0\" y2=\"90.0\" stroke-linecap=\"round\" style=\"stroke:red;stroke-width:3\"/><line x1=\"420.0\" y1=\"90.0\" x2=\"435.0\" y2=\"90.0\" stroke-linecap=\"round\" style=\"stroke:red;stroke-width:3\"/><line x1=\"435.0\" y1=\"90.0\" x2=\"435.0\" y2=\"105.0\" stroke-linecap=\"round\" style=\"stroke:red;stroke-width:3\"/><line x1=\"435.0\" y1=\"105.0\" x2=\"420.0\" y2=\"105.0\" stroke-linecap=\"round\" style=\"stroke:red;stroke-width:3\"/><line x1=\"420.0\" y1=\"105.0\" x2=\"420.0\" y2=\"90.0\" stroke-linecap=\"round\" style=\"stroke:red;stroke-width:3\"/><line x1=\"420.0\" y1=\"90.0\" x2=\"420.0\" y2=\"105.0\" stroke-linecap=\"round\" style=\"stroke:red;stroke-width:3\"/><line x1=\"420.0\" y1=\"105.0\" x2=\"435.0\" y2=\"105.0\" stroke-linecap=\"round\" style=\"stroke:red;stroke-width:3\"/><line x1=\"435.0\" y1=\"105.0\" x2=\"435.0\" y2=\"120.0\" stroke-linecap=\"round\" style=\"stroke:red;stroke-width:3\"/><line x1=\"435.0\" y1=\"120.0\" x2=\"420.0\" y2=\"120.0\" stroke-linecap=\"round\" style=\"stroke:red;stroke-width:3\"/><line x1=\"420.0\" y1=\"120.0\" x2=\"405.0\" y2=\"120.0\" stroke-linecap=\"round\" style=\"stroke:red;stroke-width:3\"/><line x1=\"405.0\" y1=\"120.0\" x2=\"420.0\" y2=\"120.0\" stroke-linecap=\"round\" style=\"stroke:red;stroke-width:3\"/><line x1=\"420.0\" y1=\"120.0\" x2=\"405.0\" y2=\"120.0\" stroke-linecap=\"round\" style=\"stroke:red;stroke-width:3\"/><line x1=\"405.0\" y1=\"120.0\" x2=\"390.0\" y2=\"120.0\" stroke-linecap=\"round\" style=\"stroke:red;stroke-width:3\"/><line x1=\"390.0\" y1=\"120.0\" x2=\"375.0\" y2=\"120.0\" stroke-linecap=\"round\" style=\"stroke:red;stroke-width:3\"/><line x1=\"375.0\" y1=\"120.0\" x2=\"390.0\" y2=\"120.0\" stroke-linecap=\"round\" style=\"stroke:red;stroke-width:3\"/><line x1=\"390.0\" y1=\"120.0\" x2=\"390.0\" y2=\"105.0\" stroke-linecap=\"round\" style=\"stroke:red;stroke-width:3\"/><line x1=\"390.0\" y1=\"105.0\" x2=\"405.0\" y2=\"105.0\" stroke-linecap=\"round\" style=\"stroke:red;stroke-width:3\"/><line x1=\"405.0\" y1=\"105.0\" x2=\"405.0\" y2=\"90.0\" stroke-linecap=\"round\" style=\"stroke:red;stroke-width:3\"/><line x1=\"405.0\" y1=\"90.0\" x2=\"420.0\" y2=\"90.0\" stroke-linecap=\"round\" style=\"stroke:red;stroke-width:3\"/><line x1=\"420.0\" y1=\"90.0\" x2=\"435.0\" y2=\"90.0\" stroke-linecap=\"round\" style=\"stroke:red;stroke-width:3\"/><line x1=\"435.0\" y1=\"90.0\" x2=\"420.0\" y2=\"90.0\" stroke-linecap=\"round\" style=\"stroke:red;stroke-width:3\"/><line x1=\"420.0\" y1=\"90.0\" x2=\"435.0\" y2=\"90.0\" stroke-linecap=\"round\" style=\"stroke:red;stroke-width:3\"/><line x1=\"435.0\" y1=\"90.0\" x2=\"435.0\" y2=\"105.0\" stroke-linecap=\"round\" style=\"stroke:red;stroke-width:3\"/><line x1=\"435.0\" y1=\"105.0\" x2=\"420.0\" y2=\"105.0\" stroke-linecap=\"round\" style=\"stroke:red;stroke-width:3\"/><line x1=\"420.0\" y1=\"105.0\" x2=\"420.0\" y2=\"120.0\" stroke-linecap=\"round\" style=\"stroke:red;stroke-width:3\"/><line x1=\"420.0\" y1=\"120.0\" x2=\"420.0\" y2=\"135.0\" stroke-linecap=\"round\" style=\"stroke:red;stroke-width:3\"/><line x1=\"420.0\" y1=\"135.0\" x2=\"420.0\" y2=\"120.0\" stroke-linecap=\"round\" style=\"stroke:red;stroke-width:3\"/><line x1=\"420.0\" y1=\"120.0\" x2=\"420.0\" y2=\"135.0\" stroke-linecap=\"round\" style=\"stroke:red;stroke-width:3\"/><line x1=\"420.0\" y1=\"135.0\" x2=\"420.0\" y2=\"120.0\" stroke-linecap=\"round\" style=\"stroke:red;stroke-width:3\"/><line x1=\"420.0\" y1=\"120.0\" x2=\"405.0\" y2=\"120.0\" stroke-linecap=\"round\" style=\"stroke:red;stroke-width:3\"/><line x1=\"405.0\" y1=\"120.0\" x2=\"420.0\" y2=\"120.0\" stroke-linecap=\"round\" style=\"stroke:red;stroke-width:3\"/><line x1=\"420.0\" y1=\"120.0\" x2=\"405.0\" y2=\"120.0\" stroke-linecap=\"round\" style=\"stroke:red;stroke-width:3\"/><line x1=\"405.0\" y1=\"120.0\" x2=\"420.0\" y2=\"120.0\" stroke-linecap=\"round\" style=\"stroke:red;stroke-width:3\"/><line x1=\"420.0\" y1=\"120.0\" x2=\"420.0\" y2=\"135.0\" stroke-linecap=\"round\" style=\"stroke:red;stroke-width:3\"/><line x1=\"420.0\" y1=\"135.0\" x2=\"435.0\" y2=\"135.0\" stroke-linecap=\"round\" style=\"stroke:red;stroke-width:3\"/><line x1=\"435.0\" y1=\"135.0\" x2=\"450.0\" y2=\"135.0\" stroke-linecap=\"round\" style=\"stroke:red;stroke-width:3\"/><line x1=\"450.0\" y1=\"135.0\" x2=\"465.0\" y2=\"135.0\" stroke-linecap=\"round\" style=\"stroke:red;stroke-width:3\"/><line x1=\"465.0\" y1=\"135.0\" x2=\"480.0\" y2=\"135.0\" stroke-linecap=\"round\" style=\"stroke:red;stroke-width:3\"/><line x1=\"480.0\" y1=\"135.0\" x2=\"480.0\" y2=\"120.0\" stroke-linecap=\"round\" style=\"stroke:red;stroke-width:3\"/><line x1=\"480.0\" y1=\"120.0\" x2=\"495.0\" y2=\"120.0\" stroke-linecap=\"round\" style=\"stroke:red;stroke-width:3\"/><line x1=\"495.0\" y1=\"120.0\" x2=\"480.0\" y2=\"120.0\" stroke-linecap=\"round\" style=\"stroke:red;stroke-width:3\"/><line x1=\"480.0\" y1=\"120.0\" x2=\"480.0\" y2=\"135.0\" stroke-linecap=\"round\" style=\"stroke:red;stroke-width:3\"/><line x1=\"480.0\" y1=\"135.0\" x2=\"480.0\" y2=\"120.0\" stroke-linecap=\"round\" style=\"stroke:red;stroke-width:3\"/><line x1=\"480.0\" y1=\"120.0\" x2=\"480.0\" y2=\"105.0\" stroke-linecap=\"round\" style=\"stroke:red;stroke-width:3\"/><line x1=\"480.0\" y1=\"105.0\" x2=\"465.0\" y2=\"105.0\" stroke-linecap=\"round\" style=\"stroke:red;stroke-width:3\"/><line x1=\"465.0\" y1=\"105.0\" x2=\"465.0\" y2=\"120.0\" stroke-linecap=\"round\" style=\"stroke:red;stroke-width:3\"/><line x1=\"465.0\" y1=\"120.0\" x2=\"450.0\" y2=\"120.0\" stroke-linecap=\"round\" style=\"stroke:red;stroke-width:3\"/><line x1=\"450.0\" y1=\"120.0\" x2=\"465.0\" y2=\"120.0\" stroke-linecap=\"round\" style=\"stroke:red;stroke-width:3\"/><line x1=\"465.0\" y1=\"120.0\" x2=\"465.0\" y2=\"105.0\" stroke-linecap=\"round\" style=\"stroke:red;stroke-width:3\"/><line x1=\"465.0\" y1=\"105.0\" x2=\"450.0\" y2=\"105.0\" stroke-linecap=\"round\" style=\"stroke:red;stroke-width:3\"/><line x1=\"450.0\" y1=\"105.0\" x2=\"450.0\" y2=\"120.0\" stroke-linecap=\"round\" style=\"stroke:red;stroke-width:3\"/><line x1=\"450.0\" y1=\"120.0\" x2=\"450.0\" y2=\"105.0\" stroke-linecap=\"round\" style=\"stroke:red;stroke-width:3\"/><line x1=\"450.0\" y1=\"105.0\" x2=\"450.0\" y2=\"120.0\" stroke-linecap=\"round\" style=\"stroke:red;stroke-width:3\"/><line x1=\"450.0\" y1=\"120.0\" x2=\"450.0\" y2=\"135.0\" stroke-linecap=\"round\" style=\"stroke:red;stroke-width:3\"/><line x1=\"450.0\" y1=\"135.0\" x2=\"450.0\" y2=\"120.0\" stroke-linecap=\"round\" style=\"stroke:red;stroke-width:3\"/><line x1=\"450.0\" y1=\"120.0\" x2=\"465.0\" y2=\"120.0\" stroke-linecap=\"round\" style=\"stroke:red;stroke-width:3\"/><line x1=\"465.0\" y1=\"120.0\" x2=\"465.0\" y2=\"135.0\" stroke-linecap=\"round\" style=\"stroke:red;stroke-width:3\"/><line x1=\"465.0\" y1=\"135.0\" x2=\"480.0\" y2=\"135.0\" stroke-linecap=\"round\" style=\"stroke:red;stroke-width:3\"/><line x1=\"480.0\" y1=\"135.0\" x2=\"480.0\" y2=\"120.0\" stroke-linecap=\"round\" style=\"stroke:red;stroke-width:3\"/><line x1=\"480.0\" y1=\"120.0\" x2=\"495.0\" y2=\"120.0\" stroke-linecap=\"round\" style=\"stroke:red;stroke-width:3\"/><line x1=\"495.0\" y1=\"120.0\" x2=\"480.0\" y2=\"120.0\" stroke-linecap=\"round\" style=\"stroke:red;stroke-width:3\"/><line x1=\"480.0\" y1=\"120.0\" x2=\"480.0\" y2=\"105.0\" stroke-linecap=\"round\" style=\"stroke:red;stroke-width:3\"/><line x1=\"480.0\" y1=\"105.0\" x2=\"495.0\" y2=\"105.0\" stroke-linecap=\"round\" style=\"stroke:red;stroke-width:3\"/><line x1=\"495.0\" y1=\"105.0\" x2=\"495.0\" y2=\"120.0\" stroke-linecap=\"round\" style=\"stroke:red;stroke-width:3\"/><line x1=\"495.0\" y1=\"120.0\" x2=\"480.0\" y2=\"120.0\" stroke-linecap=\"round\" style=\"stroke:red;stroke-width:3\"/><line x1=\"480.0\" y1=\"120.0\" x2=\"465.0\" y2=\"120.0\" stroke-linecap=\"round\" style=\"stroke:red;stroke-width:3\"/><line x1=\"465.0\" y1=\"120.0\" x2=\"480.0\" y2=\"120.0\" stroke-linecap=\"round\" style=\"stroke:red;stroke-width:3\"/><line x1=\"480.0\" y1=\"120.0\" x2=\"480.0\" y2=\"105.0\" stroke-linecap=\"round\" style=\"stroke:red;stroke-width:3\"/><line x1=\"480.0\" y1=\"105.0\" x2=\"465.0\" y2=\"105.0\" stroke-linecap=\"round\" style=\"stroke:red;stroke-width:3\"/><line x1=\"465.0\" y1=\"105.0\" x2=\"480.0\" y2=\"105.0\" stroke-linecap=\"round\" style=\"stroke:red;stroke-width:3\"/><line x1=\"480.0\" y1=\"105.0\" x2=\"465.0\" y2=\"105.0\" stroke-linecap=\"round\" style=\"stroke:red;stroke-width:3\"/><line x1=\"465.0\" y1=\"105.0\" x2=\"480.0\" y2=\"105.0\" stroke-linecap=\"round\" style=\"stroke:red;stroke-width:3\"/><line x1=\"480.0\" y1=\"105.0\" x2=\"480.0\" y2=\"90.0\" stroke-linecap=\"round\" style=\"stroke:red;stroke-width:3\"/><line x1=\"480.0\" y1=\"90.0\" x2=\"495.0\" y2=\"90.0\" stroke-linecap=\"round\" style=\"stroke:red;stroke-width:3\"/><line x1=\"495.0\" y1=\"90.0\" x2=\"510.0\" y2=\"90.0\" stroke-linecap=\"round\" style=\"stroke:red;stroke-width:3\"/><line x1=\"510.0\" y1=\"90.0\" x2=\"525.0\" y2=\"90.0\" stroke-linecap=\"round\" style=\"stroke:red;stroke-width:3\"/><line x1=\"525.0\" y1=\"90.0\" x2=\"525.0\" y2=\"75.0\" stroke-linecap=\"round\" style=\"stroke:red;stroke-width:3\"/><line x1=\"525.0\" y1=\"75.0\" x2=\"525.0\" y2=\"90.0\" stroke-linecap=\"round\" style=\"stroke:red;stroke-width:3\"/><line x1=\"525.0\" y1=\"90.0\" x2=\"525.0\" y2=\"105.0\" stroke-linecap=\"round\" style=\"stroke:red;stroke-width:3\"/><line x1=\"525.0\" y1=\"105.0\" x2=\"525.0\" y2=\"90.0\" stroke-linecap=\"round\" style=\"stroke:red;stroke-width:3\"/><line x1=\"525.0\" y1=\"90.0\" x2=\"540.0\" y2=\"90.0\" stroke-linecap=\"round\" style=\"stroke:red;stroke-width:3\"/><line x1=\"540.0\" y1=\"90.0\" x2=\"540.0\" y2=\"75.0\" stroke-linecap=\"round\" style=\"stroke:red;stroke-width:3\"/><line x1=\"540.0\" y1=\"75.0\" x2=\"540.0\" y2=\"90.0\" stroke-linecap=\"round\" style=\"stroke:red;stroke-width:3\"/><line x1=\"540.0\" y1=\"90.0\" x2=\"540.0\" y2=\"75.0\" stroke-linecap=\"round\" style=\"stroke:red;stroke-width:3\"/><line x1=\"540.0\" y1=\"75.0\" x2=\"525.0\" y2=\"75.0\" stroke-linecap=\"round\" style=\"stroke:red;stroke-width:3\"/><line x1=\"525.0\" y1=\"75.0\" x2=\"510.0\" y2=\"75.0\" stroke-linecap=\"round\" style=\"stroke:red;stroke-width:3\"/><line x1=\"510.0\" y1=\"75.0\" x2=\"525.0\" y2=\"75.0\" stroke-linecap=\"round\" style=\"stroke:red;stroke-width:3\"/><line x1=\"525.0\" y1=\"75.0\" x2=\"525.0\" y2=\"60.0\" stroke-linecap=\"round\" style=\"stroke:red;stroke-width:3\"/><line x1=\"525.0\" y1=\"60.0\" x2=\"525.0\" y2=\"75.0\" stroke-linecap=\"round\" style=\"stroke:red;stroke-width:3\"/><line x1=\"525.0\" y1=\"75.0\" x2=\"525.0\" y2=\"60.0\" stroke-linecap=\"round\" style=\"stroke:red;stroke-width:3\"/><line x1=\"525.0\" y1=\"60.0\" x2=\"525.0\" y2=\"45.0\" stroke-linecap=\"round\" style=\"stroke:red;stroke-width:3\"/><line x1=\"525.0\" y1=\"45.0\" x2=\"540.0\" y2=\"45.0\" stroke-linecap=\"round\" style=\"stroke:red;stroke-width:3\"/><line x1=\"540.0\" y1=\"45.0\" x2=\"540.0\" y2=\"60.0\" stroke-linecap=\"round\" style=\"stroke:red;stroke-width:3\"/><line x1=\"540.0\" y1=\"60.0\" x2=\"540.0\" y2=\"75.0\" stroke-linecap=\"round\" style=\"stroke:red;stroke-width:3\"/><line x1=\"540.0\" y1=\"75.0\" x2=\"525.0\" y2=\"75.0\" stroke-linecap=\"round\" style=\"stroke:red;stroke-width:3\"/><line x1=\"525.0\" y1=\"75.0\" x2=\"510.0\" y2=\"75.0\" stroke-linecap=\"round\" style=\"stroke:red;stroke-width:3\"/><line x1=\"510.0\" y1=\"75.0\" x2=\"495.0\" y2=\"75.0\" stroke-linecap=\"round\" style=\"stroke:red;stroke-width:3\"/><line x1=\"495.0\" y1=\"75.0\" x2=\"510.0\" y2=\"75.0\" stroke-linecap=\"round\" style=\"stroke:red;stroke-width:3\"/><line x1=\"510.0\" y1=\"75.0\" x2=\"525.0\" y2=\"75.0\" stroke-linecap=\"round\" style=\"stroke:red;stroke-width:3\"/><line x1=\"525.0\" y1=\"75.0\" x2=\"525.0\" y2=\"90.0\" stroke-linecap=\"round\" style=\"stroke:red;stroke-width:3\"/><line x1=\"525.0\" y1=\"90.0\" x2=\"525.0\" y2=\"105.0\" stroke-linecap=\"round\" style=\"stroke:red;stroke-width:3\"/><line x1=\"525.0\" y1=\"105.0\" x2=\"525.0\" y2=\"90.0\" stroke-linecap=\"round\" style=\"stroke:red;stroke-width:3\"/><line x1=\"525.0\" y1=\"90.0\" x2=\"540.0\" y2=\"90.0\" stroke-linecap=\"round\" style=\"stroke:red;stroke-width:3\"/><line x1=\"540.0\" y1=\"90.0\" x2=\"525.0\" y2=\"90.0\" stroke-linecap=\"round\" style=\"stroke:red;stroke-width:3\"/><line x1=\"525.0\" y1=\"90.0\" x2=\"510.0\" y2=\"90.0\" stroke-linecap=\"round\" style=\"stroke:red;stroke-width:3\"/><line x1=\"510.0\" y1=\"90.0\" x2=\"510.0\" y2=\"105.0\" stroke-linecap=\"round\" style=\"stroke:red;stroke-width:3\"/><line x1=\"510.0\" y1=\"105.0\" x2=\"525.0\" y2=\"105.0\" stroke-linecap=\"round\" style=\"stroke:red;stroke-width:3\"/><line x1=\"525.0\" y1=\"105.0\" x2=\"525.0\" y2=\"90.0\" stroke-linecap=\"round\" style=\"stroke:red;stroke-width:3\"/><line x1=\"525.0\" y1=\"90.0\" x2=\"525.0\" y2=\"75.0\" stroke-linecap=\"round\" style=\"stroke:red;stroke-width:3\"/><line x1=\"525.0\" y1=\"75.0\" x2=\"525.0\" y2=\"90.0\" stroke-linecap=\"round\" style=\"stroke:red;stroke-width:3\"/><line x1=\"525.0\" y1=\"90.0\" x2=\"540.0\" y2=\"90.0\" stroke-linecap=\"round\" style=\"stroke:red;stroke-width:3\"/><line x1=\"540.0\" y1=\"90.0\" x2=\"525.0\" y2=\"90.0\" stroke-linecap=\"round\" style=\"stroke:red;stroke-width:3\"/><line x1=\"525.0\" y1=\"90.0\" x2=\"540.0\" y2=\"90.0\" stroke-linecap=\"round\" style=\"stroke:red;stroke-width:3\"/><line x1=\"540.0\" y1=\"90.0\" x2=\"525.0\" y2=\"90.0\" stroke-linecap=\"round\" style=\"stroke:red;stroke-width:3\"/><line x1=\"525.0\" y1=\"90.0\" x2=\"510.0\" y2=\"90.0\" stroke-linecap=\"round\" style=\"stroke:red;stroke-width:3\"/><line x1=\"510.0\" y1=\"90.0\" x2=\"495.0\" y2=\"90.0\" stroke-linecap=\"round\" style=\"stroke:red;stroke-width:3\"/><line x1=\"495.0\" y1=\"90.0\" x2=\"495.0\" y2=\"75.0\" stroke-linecap=\"round\" style=\"stroke:red;stroke-width:3\"/><line x1=\"495.0\" y1=\"75.0\" x2=\"510.0\" y2=\"75.0\" stroke-linecap=\"round\" style=\"stroke:red;stroke-width:3\"/><line x1=\"510.0\" y1=\"75.0\" x2=\"525.0\" y2=\"75.0\" stroke-linecap=\"round\" style=\"stroke:red;stroke-width:3\"/><line x1=\"525.0\" y1=\"75.0\" x2=\"540.0\" y2=\"75.0\" stroke-linecap=\"round\" style=\"stroke:red;stroke-width:3\"/><line x1=\"540.0\" y1=\"75.0\" x2=\"540.0\" y2=\"90.0\" stroke-linecap=\"round\" style=\"stroke:red;stroke-width:3\"/><line x1=\"540.0\" y1=\"90.0\" x2=\"540.0\" y2=\"75.0\" stroke-linecap=\"round\" style=\"stroke:red;stroke-width:3\"/><line x1=\"540.0\" y1=\"75.0\" x2=\"540.0\" y2=\"90.0\" stroke-linecap=\"round\" style=\"stroke:red;stroke-width:3\"/><line x1=\"540.0\" y1=\"90.0\" x2=\"555.0\" y2=\"90.0\" stroke-linecap=\"round\" style=\"stroke:red;stroke-width:3\"/><line x1=\"555.0\" y1=\"90.0\" x2=\"555.0\" y2=\"75.0\" stroke-linecap=\"round\" style=\"stroke:red;stroke-width:3\"/><line x1=\"555.0\" y1=\"75.0\" x2=\"540.0\" y2=\"75.0\" stroke-linecap=\"round\" style=\"stroke:red;stroke-width:3\"/><line x1=\"540.0\" y1=\"75.0\" x2=\"540.0\" y2=\"90.0\" stroke-linecap=\"round\" style=\"stroke:red;stroke-width:3\"/><line x1=\"540.0\" y1=\"90.0\" x2=\"525.0\" y2=\"90.0\" stroke-linecap=\"round\" style=\"stroke:red;stroke-width:3\"/><line x1=\"525.0\" y1=\"90.0\" x2=\"540.0\" y2=\"90.0\" stroke-linecap=\"round\" style=\"stroke:red;stroke-width:3\"/><line x1=\"540.0\" y1=\"90.0\" x2=\"540.0\" y2=\"75.0\" stroke-linecap=\"round\" style=\"stroke:red;stroke-width:3\"/><line x1=\"540.0\" y1=\"75.0\" x2=\"525.0\" y2=\"75.0\" stroke-linecap=\"round\" style=\"stroke:red;stroke-width:3\"/><line x1=\"525.0\" y1=\"75.0\" x2=\"540.0\" y2=\"75.0\" stroke-linecap=\"round\" style=\"stroke:red;stroke-width:3\"/><line x1=\"540.0\" y1=\"75.0\" x2=\"525.0\" y2=\"75.0\" stroke-linecap=\"round\" style=\"stroke:red;stroke-width:3\"/><line x1=\"525.0\" y1=\"75.0\" x2=\"525.0\" y2=\"60.0\" stroke-linecap=\"round\" style=\"stroke:red;stroke-width:3\"/><line x1=\"525.0\" y1=\"60.0\" x2=\"540.0\" y2=\"60.0\" stroke-linecap=\"round\" style=\"stroke:red;stroke-width:3\"/><line x1=\"540.0\" y1=\"60.0\" x2=\"525.0\" y2=\"60.0\" stroke-linecap=\"round\" style=\"stroke:red;stroke-width:3\"/><line x1=\"525.0\" y1=\"60.0\" x2=\"540.0\" y2=\"60.0\" stroke-linecap=\"round\" style=\"stroke:red;stroke-width:3\"/><line x1=\"540.0\" y1=\"60.0\" x2=\"540.0\" y2=\"75.0\" stroke-linecap=\"round\" style=\"stroke:red;stroke-width:3\"/><line x1=\"540.0\" y1=\"75.0\" x2=\"540.0\" y2=\"90.0\" stroke-linecap=\"round\" style=\"stroke:red;stroke-width:3\"/><line x1=\"540.0\" y1=\"90.0\" x2=\"540.0\" y2=\"105.0\" stroke-linecap=\"round\" style=\"stroke:red;stroke-width:3\"/><line x1=\"540.0\" y1=\"105.0\" x2=\"555.0\" y2=\"105.0\" stroke-linecap=\"round\" style=\"stroke:red;stroke-width:3\"/><line x1=\"555.0\" y1=\"105.0\" x2=\"570.0\" y2=\"105.0\" stroke-linecap=\"round\" style=\"stroke:red;stroke-width:3\"/><line x1=\"570.0\" y1=\"105.0\" x2=\"570.0\" y2=\"120.0\" stroke-linecap=\"round\" style=\"stroke:red;stroke-width:3\"/><line x1=\"570.0\" y1=\"120.0\" x2=\"570.0\" y2=\"105.0\" stroke-linecap=\"round\" style=\"stroke:red;stroke-width:3\"/><line x1=\"570.0\" y1=\"105.0\" x2=\"570.0\" y2=\"120.0\" stroke-linecap=\"round\" style=\"stroke:red;stroke-width:3\"/><line x1=\"570.0\" y1=\"120.0\" x2=\"585.0\" y2=\"120.0\" stroke-linecap=\"round\" style=\"stroke:red;stroke-width:3\"/><line x1=\"585.0\" y1=\"120.0\" x2=\"600.0\" y2=\"120.0\" stroke-linecap=\"round\" style=\"stroke:red;stroke-width:3\"/><line x1=\"600.0\" y1=\"120.0\" x2=\"600.0\" y2=\"105.0\" stroke-linecap=\"round\" style=\"stroke:red;stroke-width:3\"/><line x1=\"600.0\" y1=\"105.0\" x2=\"600.0\" y2=\"120.0\" stroke-linecap=\"round\" style=\"stroke:red;stroke-width:3\"/><line x1=\"600.0\" y1=\"120.0\" x2=\"600.0\" y2=\"135.0\" stroke-linecap=\"round\" style=\"stroke:red;stroke-width:3\"/><line x1=\"600.0\" y1=\"135.0\" x2=\"615.0\" y2=\"135.0\" stroke-linecap=\"round\" style=\"stroke:red;stroke-width:3\"/><line x1=\"615.0\" y1=\"135.0\" x2=\"630.0\" y2=\"135.0\" stroke-linecap=\"round\" style=\"stroke:red;stroke-width:3\"/><line x1=\"630.0\" y1=\"135.0\" x2=\"630.0\" y2=\"150.0\" stroke-linecap=\"round\" style=\"stroke:red;stroke-width:3\"/><line x1=\"630.0\" y1=\"150.0\" x2=\"630.0\" y2=\"165.0\" stroke-linecap=\"round\" style=\"stroke:red;stroke-width:3\"/><line x1=\"630.0\" y1=\"165.0\" x2=\"630.0\" y2=\"180.0\" stroke-linecap=\"round\" style=\"stroke:red;stroke-width:3\"/><line x1=\"630.0\" y1=\"180.0\" x2=\"630.0\" y2=\"195.0\" stroke-linecap=\"round\" style=\"stroke:red;stroke-width:3\"/><line x1=\"630.0\" y1=\"195.0\" x2=\"630.0\" y2=\"210.0\" stroke-linecap=\"round\" style=\"stroke:red;stroke-width:3\"/><line x1=\"630.0\" y1=\"210.0\" x2=\"645.0\" y2=\"210.0\" stroke-linecap=\"round\" style=\"stroke:red;stroke-width:3\"/><line x1=\"645.0\" y1=\"210.0\" x2=\"645.0\" y2=\"225.0\" stroke-linecap=\"round\" style=\"stroke:red;stroke-width:3\"/><line x1=\"645.0\" y1=\"225.0\" x2=\"645.0\" y2=\"210.0\" stroke-linecap=\"round\" style=\"stroke:red;stroke-width:3\"/><line x1=\"645.0\" y1=\"210.0\" x2=\"645.0\" y2=\"225.0\" stroke-linecap=\"round\" style=\"stroke:red;stroke-width:3\"/><line x1=\"645.0\" y1=\"225.0\" x2=\"660.0\" y2=\"225.0\" stroke-linecap=\"round\" style=\"stroke:red;stroke-width:3\"/><line x1=\"660.0\" y1=\"225.0\" x2=\"675.0\" y2=\"225.0\" stroke-linecap=\"round\" style=\"stroke:red;stroke-width:3\"/><line x1=\"675.0\" y1=\"225.0\" x2=\"675.0\" y2=\"210.0\" stroke-linecap=\"round\" style=\"stroke:red;stroke-width:3\"/><line x1=\"675.0\" y1=\"210.0\" x2=\"660.0\" y2=\"210.0\" stroke-linecap=\"round\" style=\"stroke:red;stroke-width:3\"/><line x1=\"660.0\" y1=\"210.0\" x2=\"660.0\" y2=\"195.0\" stroke-linecap=\"round\" style=\"stroke:red;stroke-width:3\"/><line x1=\"660.0\" y1=\"195.0\" x2=\"675.0\" y2=\"195.0\" stroke-linecap=\"round\" style=\"stroke:red;stroke-width:3\"/><line x1=\"675.0\" y1=\"195.0\" x2=\"675.0\" y2=\"180.0\" stroke-linecap=\"round\" style=\"stroke:red;stroke-width:3\"/><line x1=\"675.0\" y1=\"180.0\" x2=\"690.0\" y2=\"180.0\" stroke-linecap=\"round\" style=\"stroke:red;stroke-width:3\"/><line x1=\"690.0\" y1=\"180.0\" x2=\"705.0\" y2=\"180.0\" stroke-linecap=\"round\" style=\"stroke:red;stroke-width:3\"/><line x1=\"705.0\" y1=\"180.0\" x2=\"705.0\" y2=\"165.0\" stroke-linecap=\"round\" style=\"stroke:red;stroke-width:3\"/><line x1=\"705.0\" y1=\"165.0\" x2=\"690.0\" y2=\"165.0\" stroke-linecap=\"round\" style=\"stroke:red;stroke-width:3\"/><line x1=\"690.0\" y1=\"165.0\" x2=\"690.0\" y2=\"180.0\" stroke-linecap=\"round\" style=\"stroke:red;stroke-width:3\"/><line x1=\"690.0\" y1=\"180.0\" x2=\"690.0\" y2=\"195.0\" stroke-linecap=\"round\" style=\"stroke:red;stroke-width:3\"/><line x1=\"690.0\" y1=\"195.0\" x2=\"690.0\" y2=\"180.0\" stroke-linecap=\"round\" style=\"stroke:red;stroke-width:3\"/><line x1=\"690.0\" y1=\"180.0\" x2=\"675.0\" y2=\"180.0\" stroke-linecap=\"round\" style=\"stroke:red;stroke-width:3\"/><line x1=\"675.0\" y1=\"180.0\" x2=\"660.0\" y2=\"180.0\" stroke-linecap=\"round\" style=\"stroke:red;stroke-width:3\"/><line x1=\"660.0\" y1=\"180.0\" x2=\"645.0\" y2=\"180.0\" stroke-linecap=\"round\" style=\"stroke:red;stroke-width:3\"/><line x1=\"645.0\" y1=\"180.0\" x2=\"645.0\" y2=\"165.0\" stroke-linecap=\"round\" style=\"stroke:red;stroke-width:3\"/><line x1=\"645.0\" y1=\"165.0\" x2=\"645.0\" y2=\"150.0\" stroke-linecap=\"round\" style=\"stroke:red;stroke-width:3\"/><line x1=\"645.0\" y1=\"150.0\" x2=\"660.0\" y2=\"150.0\" stroke-linecap=\"round\" style=\"stroke:red;stroke-width:3\"/><line x1=\"660.0\" y1=\"150.0\" x2=\"660.0\" y2=\"135.0\" stroke-linecap=\"round\" style=\"stroke:red;stroke-width:3\"/><line x1=\"660.0\" y1=\"135.0\" x2=\"645.0\" y2=\"135.0\" stroke-linecap=\"round\" style=\"stroke:red;stroke-width:3\"/><line x1=\"645.0\" y1=\"135.0\" x2=\"660.0\" y2=\"135.0\" stroke-linecap=\"round\" style=\"stroke:red;stroke-width:3\"/><line x1=\"660.0\" y1=\"135.0\" x2=\"660.0\" y2=\"150.0\" stroke-linecap=\"round\" style=\"stroke:red;stroke-width:3\"/><line x1=\"660.0\" y1=\"150.0\" x2=\"660.0\" y2=\"165.0\" stroke-linecap=\"round\" style=\"stroke:red;stroke-width:3\"/><line x1=\"660.0\" y1=\"165.0\" x2=\"660.0\" y2=\"150.0\" stroke-linecap=\"round\" style=\"stroke:red;stroke-width:3\"/><line x1=\"660.0\" y1=\"150.0\" x2=\"660.0\" y2=\"135.0\" stroke-linecap=\"round\" style=\"stroke:red;stroke-width:3\"/><line x1=\"660.0\" y1=\"135.0\" x2=\"660.0\" y2=\"150.0\" stroke-linecap=\"round\" style=\"stroke:red;stroke-width:3\"/><line x1=\"660.0\" y1=\"150.0\" x2=\"645.0\" y2=\"150.0\" stroke-linecap=\"round\" style=\"stroke:red;stroke-width:3\"/><line x1=\"645.0\" y1=\"150.0\" x2=\"660.0\" y2=\"150.0\" stroke-linecap=\"round\" style=\"stroke:red;stroke-width:3\"/><line x1=\"660.0\" y1=\"150.0\" x2=\"645.0\" y2=\"150.0\" stroke-linecap=\"round\" style=\"stroke:red;stroke-width:3\"/><line x1=\"645.0\" y1=\"150.0\" x2=\"645.0\" y2=\"135.0\" stroke-linecap=\"round\" style=\"stroke:red;stroke-width:3\"/><line x1=\"645.0\" y1=\"135.0\" x2=\"645.0\" y2=\"150.0\" stroke-linecap=\"round\" style=\"stroke:red;stroke-width:3\"/><line x1=\"645.0\" y1=\"150.0\" x2=\"645.0\" y2=\"135.0\" stroke-linecap=\"round\" style=\"stroke:red;stroke-width:3\"/><line x1=\"645.0\" y1=\"135.0\" x2=\"645.0\" y2=\"120.0\" stroke-linecap=\"round\" style=\"stroke:red;stroke-width:3\"/><line x1=\"645.0\" y1=\"120.0\" x2=\"630.0\" y2=\"120.0\" stroke-linecap=\"round\" style=\"stroke:red;stroke-width:3\"/><line x1=\"630.0\" y1=\"120.0\" x2=\"615.0\" y2=\"120.0\" stroke-linecap=\"round\" style=\"stroke:red;stroke-width:3\"/><line x1=\"615.0\" y1=\"120.0\" x2=\"615.0\" y2=\"105.0\" stroke-linecap=\"round\" style=\"stroke:red;stroke-width:3\"/><line x1=\"615.0\" y1=\"105.0\" x2=\"615.0\" y2=\"120.0\" stroke-linecap=\"round\" style=\"stroke:red;stroke-width:3\"/><line x1=\"615.0\" y1=\"120.0\" x2=\"600.0\" y2=\"120.0\" stroke-linecap=\"round\" style=\"stroke:red;stroke-width:3\"/><line x1=\"600.0\" y1=\"120.0\" x2=\"615.0\" y2=\"120.0\" stroke-linecap=\"round\" style=\"stroke:red;stroke-width:3\"/><line x1=\"615.0\" y1=\"120.0\" x2=\"615.0\" y2=\"135.0\" stroke-linecap=\"round\" style=\"stroke:red;stroke-width:3\"/><line x1=\"615.0\" y1=\"135.0\" x2=\"615.0\" y2=\"150.0\" stroke-linecap=\"round\" style=\"stroke:red;stroke-width:3\"/><line x1=\"615.0\" y1=\"150.0\" x2=\"615.0\" y2=\"135.0\" stroke-linecap=\"round\" style=\"stroke:red;stroke-width:3\"/><line x1=\"615.0\" y1=\"135.0\" x2=\"615.0\" y2=\"150.0\" stroke-linecap=\"round\" style=\"stroke:red;stroke-width:3\"/><line x1=\"615.0\" y1=\"150.0\" x2=\"600.0\" y2=\"150.0\" stroke-linecap=\"round\" style=\"stroke:red;stroke-width:3\"/><line x1=\"600.0\" y1=\"150.0\" x2=\"600.0\" y2=\"135.0\" stroke-linecap=\"round\" style=\"stroke:red;stroke-width:3\"/><line x1=\"600.0\" y1=\"135.0\" x2=\"600.0\" y2=\"120.0\" stroke-linecap=\"round\" style=\"stroke:red;stroke-width:3\"/><line x1=\"600.0\" y1=\"120.0\" x2=\"615.0\" y2=\"120.0\" stroke-linecap=\"round\" style=\"stroke:red;stroke-width:3\"/><line x1=\"615.0\" y1=\"120.0\" x2=\"630.0\" y2=\"120.0\" stroke-linecap=\"round\" style=\"stroke:red;stroke-width:3\"/><line x1=\"630.0\" y1=\"120.0\" x2=\"630.0\" y2=\"105.0\" stroke-linecap=\"round\" style=\"stroke:red;stroke-width:3\"/><line x1=\"630.0\" y1=\"105.0\" x2=\"645.0\" y2=\"105.0\" stroke-linecap=\"round\" style=\"stroke:red;stroke-width:3\"/><line x1=\"645.0\" y1=\"105.0\" x2=\"660.0\" y2=\"105.0\" stroke-linecap=\"round\" style=\"stroke:red;stroke-width:3\"/><line x1=\"660.0\" y1=\"105.0\" x2=\"675.0\" y2=\"105.0\" stroke-linecap=\"round\" style=\"stroke:red;stroke-width:3\"/><line x1=\"675.0\" y1=\"105.0\" x2=\"675.0\" y2=\"90.0\" stroke-linecap=\"round\" style=\"stroke:red;stroke-width:3\"/><line x1=\"675.0\" y1=\"90.0\" x2=\"675.0\" y2=\"75.0\" stroke-linecap=\"round\" style=\"stroke:red;stroke-width:3\"/><line x1=\"675.0\" y1=\"75.0\" x2=\"675.0\" y2=\"60.0\" stroke-linecap=\"round\" style=\"stroke:red;stroke-width:3\"/><line x1=\"675.0\" y1=\"60.0\" x2=\"675.0\" y2=\"75.0\" stroke-linecap=\"round\" style=\"stroke:red;stroke-width:3\"/><line x1=\"675.0\" y1=\"75.0\" x2=\"660.0\" y2=\"75.0\" stroke-linecap=\"round\" style=\"stroke:red;stroke-width:3\"/><line x1=\"660.0\" y1=\"75.0\" x2=\"645.0\" y2=\"75.0\" stroke-linecap=\"round\" style=\"stroke:red;stroke-width:3\"/><line x1=\"645.0\" y1=\"75.0\" x2=\"660.0\" y2=\"75.0\" stroke-linecap=\"round\" style=\"stroke:red;stroke-width:3\"/><line x1=\"660.0\" y1=\"75.0\" x2=\"660.0\" y2=\"90.0\" stroke-linecap=\"round\" style=\"stroke:red;stroke-width:3\"/><line x1=\"660.0\" y1=\"90.0\" x2=\"660.0\" y2=\"105.0\" stroke-linecap=\"round\" style=\"stroke:red;stroke-width:3\"/><line x1=\"660.0\" y1=\"105.0\" x2=\"660.0\" y2=\"90.0\" stroke-linecap=\"round\" style=\"stroke:red;stroke-width:3\"/><line x1=\"660.0\" y1=\"90.0\" x2=\"660.0\" y2=\"75.0\" stroke-linecap=\"round\" style=\"stroke:red;stroke-width:3\"/><line x1=\"660.0\" y1=\"75.0\" x2=\"660.0\" y2=\"90.0\" stroke-linecap=\"round\" style=\"stroke:red;stroke-width:3\"/><line x1=\"660.0\" y1=\"90.0\" x2=\"675.0\" y2=\"90.0\" stroke-linecap=\"round\" style=\"stroke:red;stroke-width:3\"/><line x1=\"675.0\" y1=\"90.0\" x2=\"675.0\" y2=\"75.0\" stroke-linecap=\"round\" style=\"stroke:red;stroke-width:3\"/><line x1=\"675.0\" y1=\"75.0\" x2=\"675.0\" y2=\"90.0\" stroke-linecap=\"round\" style=\"stroke:red;stroke-width:3\"/><line x1=\"675.0\" y1=\"90.0\" x2=\"690.0\" y2=\"90.0\" stroke-linecap=\"round\" style=\"stroke:red;stroke-width:3\"/><line x1=\"690.0\" y1=\"90.0\" x2=\"690.0\" y2=\"105.0\" stroke-linecap=\"round\" style=\"stroke:red;stroke-width:3\"/><line x1=\"690.0\" y1=\"105.0\" x2=\"690.0\" y2=\"90.0\" stroke-linecap=\"round\" style=\"stroke:red;stroke-width:3\"/><line x1=\"690.0\" y1=\"90.0\" x2=\"690.0\" y2=\"75.0\" stroke-linecap=\"round\" style=\"stroke:red;stroke-width:3\"/><line x1=\"690.0\" y1=\"75.0\" x2=\"705.0\" y2=\"75.0\" stroke-linecap=\"round\" style=\"stroke:red;stroke-width:3\"/><line x1=\"705.0\" y1=\"75.0\" x2=\"705.0\" y2=\"60.0\" stroke-linecap=\"round\" style=\"stroke:red;stroke-width:3\"/><line x1=\"705.0\" y1=\"60.0\" x2=\"705.0\" y2=\"45.0\" stroke-linecap=\"round\" style=\"stroke:red;stroke-width:3\"/><line x1=\"705.0\" y1=\"45.0\" x2=\"705.0\" y2=\"30.0\" stroke-linecap=\"round\" style=\"stroke:red;stroke-width:3\"/><line x1=\"705.0\" y1=\"30.0\" x2=\"705.0\" y2=\"45.0\" stroke-linecap=\"round\" style=\"stroke:red;stroke-width:3\"/><line x1=\"705.0\" y1=\"45.0\" x2=\"705.0\" y2=\"30.0\" stroke-linecap=\"round\" style=\"stroke:red;stroke-width:3\"/><line x1=\"705.0\" y1=\"30.0\" x2=\"720.0\" y2=\"30.0\" stroke-linecap=\"round\" style=\"stroke:red;stroke-width:3\"/><line x1=\"720.0\" y1=\"30.0\" x2=\"705.0\" y2=\"30.0\" stroke-linecap=\"round\" style=\"stroke:red;stroke-width:3\"/><line x1=\"705.0\" y1=\"30.0\" x2=\"720.0\" y2=\"30.0\" stroke-linecap=\"round\" style=\"stroke:red;stroke-width:3\"/><line x1=\"720.0\" y1=\"30.0\" x2=\"735.0\" y2=\"30.0\" stroke-linecap=\"round\" style=\"stroke:red;stroke-width:3\"/><line x1=\"735.0\" y1=\"30.0\" x2=\"735.0\" y2=\"15.0\" stroke-linecap=\"round\" style=\"stroke:red;stroke-width:3\"/><line x1=\"735.0\" y1=\"15.0\" x2=\"735.0\" y2=\"0.0\" stroke-linecap=\"round\" style=\"stroke:red;stroke-width:3\"/>\n",
              "        <g visibility=visible transform=\"rotate(360,735.0,0.0) translate(717.0, -18.0)\">\n",
              "<path style=\" stroke:none;fill-rule:evenodd;fill:red;fill-opacity:1;\" d=\"M 18.214844 0.632812 C 16.109375 1.800781 15.011719 4.074219 15.074219 7.132812 L 15.085938 7.652344 L 14.785156 7.496094 C 13.476562 6.824219 11.957031 6.671875 10.40625 7.066406 C 8.46875 7.550781 6.515625 9.15625 4.394531 11.992188 C 3.0625 13.777344 2.679688 14.636719 3.042969 15.027344 L 3.15625 15.152344 L 3.519531 15.152344 C 4.238281 15.152344 4.828125 14.886719 8.1875 13.039062 C 9.386719 12.378906 10.371094 11.839844 10.378906 11.839844 C 10.386719 11.839844 10.355469 11.929688 10.304688 12.035156 C 9.832031 13.09375 9.257812 14.820312 8.96875 16.078125 C 7.914062 20.652344 8.617188 24.53125 11.070312 27.660156 C 11.351562 28.015625 11.363281 27.914062 10.972656 28.382812 C 8.925781 30.84375 7.945312 33.28125 8.238281 35.1875 C 8.289062 35.527344 8.28125 35.523438 8.917969 35.523438 C 10.941406 35.523438 13.074219 34.207031 15.136719 31.6875 C 15.359375 31.417969 15.328125 31.425781 15.5625 31.574219 C 16.292969 32.042969 18.023438 32.964844 18.175781 32.964844 C 18.335938 32.964844 19.941406 32.210938 20.828125 31.71875 C 20.996094 31.625 21.136719 31.554688 21.136719 31.558594 C 21.203125 31.664062 21.898438 32.414062 22.222656 32.730469 C 23.835938 34.300781 25.5625 35.132812 27.582031 35.300781 C 27.90625 35.328125 27.9375 35.308594 28.007812 34.984375 C 28.382812 33.242188 27.625 30.925781 25.863281 28.425781 L 25.542969 27.96875 L 25.699219 27.785156 C 28.945312 23.960938 29.132812 18.699219 26.257812 11.96875 L 26.207031 11.84375 L 27.945312 12.703125 C 31.53125 14.476562 32.316406 14.800781 33.03125 14.800781 C 33.976562 14.800781 33.78125 13.9375 32.472656 12.292969 C 28.519531 7.355469 25.394531 5.925781 21.921875 7.472656 L 21.558594 7.636719 L 21.578125 7.542969 C 21.699219 6.992188 21.761719 5.742188 21.699219 5.164062 C 21.496094 3.296875 20.664062 1.964844 19.003906 0.855469 C 18.480469 0.503906 18.457031 0.5 18.214844 0.632812\"/>\n",
              "</g>\n",
              "      </svg>\n",
              "    "
            ],
            "text/plain": [
              "<IPython.core.display.HTML object>"
            ]
          },
          "metadata": {
            "tags": []
          }
        }
      ]
    },
    {
      "cell_type": "code",
      "metadata": {
        "colab": {
          "base_uri": "https://localhost:8080/"
        },
        "id": "fTmG0woi3a2L",
        "outputId": "593bd3d7-a5b1-4a92-edff-427d47bf890c"
      },
      "source": [
        "def divisores(a):\n",
        "    return [d for d in range(1, a+1) if a % d == 0]\n",
        "\n",
        "\n",
        "def perfectos(n: int) -> list:\n",
        "  # post:  devuelve la lista de enteros perfectos hasta n\n",
        "  perfectos = []\n",
        "  for i in range(1, n + 1):\n",
        "    div_i = divisores(i)\n",
        "    div_i.sort() # ordenamos div_i\n",
        "    suma = 0\n",
        "    for k in range(len(div_i) - 1):\n",
        "      suma = suma + div_i[k]\n",
        "    # suma = sumatoria de todos los divisores propios de i\n",
        "    if suma == i:\n",
        "      perfectos.append(i)\n",
        "  return perfectos\n",
        "\n",
        "print(perfectos(10000))"
      ],
      "execution_count": null,
      "outputs": [
        {
          "output_type": "stream",
          "text": [
            "[6, 28, 496, 8128]\n"
          ],
          "name": "stdout"
        }
      ]
    },
    {
      "cell_type": "code",
      "metadata": {
        "colab": {
          "base_uri": "https://localhost:8080/"
        },
        "id": "MnGP3R7-4CQm",
        "outputId": "d762ec7d-d634-4f9a-d092-c293e1bbbceb"
      },
      "source": [
        "def es_primo(n):\n",
        "  # pre: n entero positivo\n",
        "  # post:  devuelve True si es primo, si no devuelve False\n",
        "  div_n = divisores(n)\n",
        "  return len(div_n) == 2 # n es primo <=> tiene exactamente dos divisores positivos \n",
        "\n",
        "def numeros_perfectos_pares(n):\n",
        "  # pre: n entero positivo\n",
        "  # post: devuelve la lista de numeros perfectos pares <= n\n",
        "  perfectos = []\n",
        "  p = 1\n",
        "  candidato =  2**(p-1)*(2**p -1)\n",
        "  while candidato <= n:\n",
        "    #print(candidato,(2**p -1), [d for d in range(1, 2**p) if n % d == 0]) )\n",
        "    if es_primo(2**p-1):\n",
        "      perfectos.append(candidato)\n",
        "    p = p + 1\n",
        "    candidato = 2**(p-1)*(2**p -1)\n",
        "  return perfectos\n",
        "\n",
        "# Este algoritmo nos permite encontrar más números perfectos que el anterior.\n",
        "print(numeros_perfectos_pares(10**12))"
      ],
      "execution_count": null,
      "outputs": [
        {
          "output_type": "stream",
          "text": [
            "[6, 28, 496, 8128, 33550336, 8589869056, 137438691328]\n"
          ],
          "name": "stdout"
        }
      ]
    },
    {
      "cell_type": "code",
      "metadata": {
        "colab": {
          "base_uri": "https://localhost:8080/"
        },
        "id": "LZPGML8YG2uX",
        "outputId": "d3306620-3df1-4a07-ffc8-82fdbe9684db"
      },
      "source": [
        "import math \n",
        "\n",
        "def fila_triangulo_Pascal(n: int) -> list:\n",
        "  # pre: n entero >= 0\n",
        "  # post: devuelve la lista con los números combinatorios (n i) en el lugar i\n",
        "  lista = [] # Debemos obtener lista[i] = (n i)\n",
        "  for i in range(n+1):\n",
        "    lista.append( math.factorial(n) // (math.factorial(n-i)*math.factorial(i)))\n",
        "    # lista[i] = math.factorial(n) // (math.factorial(n-i)* math.factorial(i))\n",
        "  return lista\n",
        "\n",
        "print(fila_triangulo_Pascal(10))\n",
        "\n",
        "\n",
        "def sumar_pascal(lista: list) -> list:\n",
        "  # Pre: lista es lista de enteros\n",
        "  ret = [1]\n",
        "  for i in range(len(lista) - 1):\n",
        "    ret.append(lista[i] + lista[i+1])\n",
        "  ret.append(1)\n",
        "  return ret\n",
        "\n",
        "print(sumar_pascal(fila_triangulo_Pascal(10)))\n",
        "\n",
        "\n",
        "def triangulo_Pascal_op3(n: int):\n",
        "  fila = [1]\n",
        "  for _ in range(n):\n",
        "    print(fila)\n",
        "    fila = sumar_pascal(fila)\n",
        "  print(fila)\n",
        "\n",
        "triangulo_Pascal_op3(10)"
      ],
      "execution_count": null,
      "outputs": [
        {
          "output_type": "stream",
          "text": [
            "[1, 10, 45, 120, 210, 252, 210, 120, 45, 10, 1]\n",
            "[1, 11, 55, 165, 330, 462, 462, 330, 165, 55, 11, 1]\n",
            "[1]\n",
            "[1, 1]\n",
            "[1, 2, 1]\n",
            "[1, 3, 3, 1]\n",
            "[1, 4, 6, 4, 1]\n",
            "[1, 5, 10, 10, 5, 1]\n",
            "[1, 6, 15, 20, 15, 6, 1]\n",
            "[1, 7, 21, 35, 35, 21, 7, 1]\n",
            "[1, 8, 28, 56, 70, 56, 28, 8, 1]\n",
            "[1, 9, 36, 84, 126, 126, 84, 36, 9, 1]\n",
            "[1, 10, 45, 120, 210, 252, 210, 120, 45, 10, 1]\n"
          ],
          "name": "stdout"
        }
      ]
    },
    {
      "cell_type": "code",
      "metadata": {
        "colab": {
          "base_uri": "https://localhost:8080/"
        },
        "id": "r-MWSAPKXnxb",
        "outputId": "586cec2e-31ed-46b8-82af-09742d428d55"
      },
      "source": [
        "def factorial(n: int) -> int:\n",
        "    # pre: n >= 0\n",
        "    # post: devuelve el valor de 1 * 2 * 3 * ... * (n-1) * n\n",
        "    if n == 0:\n",
        "        return 1\n",
        "    else:\n",
        "        return n * factorial(n - 1)\n",
        "\n",
        "factorial(10)"
      ],
      "execution_count": null,
      "outputs": [
        {
          "output_type": "execute_result",
          "data": {
            "text/plain": [
              "3628800"
            ]
          },
          "metadata": {
            "tags": []
          },
          "execution_count": 2
        }
      ]
    },
    {
      "cell_type": "code",
      "metadata": {
        "colab": {
          "base_uri": "https://localhost:8080/"
        },
        "id": "J0phQ-s7XtHy",
        "outputId": "db953bc2-2151-4263-d00c-4ef9845e2462"
      },
      "source": [
        "def factorial2(n: int) -> int:\n",
        "    # pre: n >= 0\n",
        "    # post: devuelve el valor de 1 * 2 * 3 * ... * (n-1) * n\n",
        "    if n == 0:\n",
        "        dev = 1\n",
        "    else:\n",
        "        dev = n * factorial(n - 1)\n",
        "    return dev\n",
        "\n",
        "factorial2(10)"
      ],
      "execution_count": null,
      "outputs": [
        {
          "output_type": "execute_result",
          "data": {
            "text/plain": [
              "3628800"
            ]
          },
          "metadata": {
            "tags": []
          },
          "execution_count": 3
        }
      ]
    },
    {
      "cell_type": "code",
      "metadata": {
        "colab": {
          "base_uri": "https://localhost:8080/"
        },
        "id": "IZf1NHP1YDO9",
        "outputId": "8dee491d-2e86-43a6-b903-63b65dd1efae"
      },
      "source": [
        "def factorial3(n: int) -> int:\n",
        "    # pre: n >= 0\n",
        "    # post: devuelve el valor de 1 * 2 * 3 * ... * (n-1) * n\n",
        "    if n <= 1:\n",
        "        res = 1\n",
        "    else:\n",
        "        res = n * factorial(n - 1)\n",
        "    return res\n",
        "\n",
        "factorial3(10)"
      ],
      "execution_count": null,
      "outputs": [
        {
          "output_type": "execute_result",
          "data": {
            "text/plain": [
              "3628800"
            ]
          },
          "metadata": {
            "tags": []
          },
          "execution_count": 23
        }
      ]
    },
    {
      "cell_type": "code",
      "metadata": {
        "colab": {
          "base_uri": "https://localhost:8080/"
        },
        "id": "06_3VvyOaeqV",
        "outputId": "5f9d512a-f10e-4e6b-8cc9-14269d3b93f3"
      },
      "source": [
        "def potencia(a, n: int) -> int:\n",
        "    # pre: n >= 0\n",
        "    # post: devuelve el valor de a * a * a * ... * a * a , n veces\n",
        "    if n == 0:\n",
        "        res = 1\n",
        "    else:\n",
        "        res = a * potencia(a, n-1)\n",
        "    return res\n",
        "\n",
        "potencia(10, 3)"
      ],
      "execution_count": null,
      "outputs": [
        {
          "output_type": "execute_result",
          "data": {
            "text/plain": [
              "1000"
            ]
          },
          "metadata": {
            "tags": []
          },
          "execution_count": 25
        }
      ]
    },
    {
      "cell_type": "code",
      "metadata": {
        "colab": {
          "base_uri": "https://localhost:8080/"
        },
        "id": "yS-q0ifZlmQX",
        "outputId": "566953e6-0762-4b01-82b5-dd3f00c2d8bd"
      },
      "source": [
        "from random import choices, randint\n",
        "\n",
        "LETRAS = 'a b c d e f g h i j k l m n o p q r s t u v w x y z'.split(' ')\n",
        "MAX_PALABRA = 10\n",
        "\n",
        "def palabras_aleatorias(n: int) -> list:\n",
        "    # pre: n >= 0\n",
        "    # post: devuelve una lista aleatoriamente generada de n palabras de longitud 1 a MAX_PALABRA\n",
        "    res = []\n",
        "    for _ in range(n):\n",
        "        longitud = randint(4, MAX_PALABRA)\n",
        "        lista_letras = choices(LETRAS, k = longitud)\n",
        "        palabra = ''.join(lista_letras)\n",
        "        res.append(palabra)\n",
        "    return res\n",
        "  \n",
        "palabras = palabras_aleatorias(10)\n",
        "print(palabras)"
      ],
      "execution_count": null,
      "outputs": [
        {
          "output_type": "stream",
          "text": [
            "['iqkavcdy', 'ecdzd', 'rasrii', 'irniwefd', 'dvyqfxktg', 'yfrvl', 'sxmq', 'qjdxth', 'dvsmvfx', 'gowiqwq']\n"
          ],
          "name": "stdout"
        }
      ]
    },
    {
      "cell_type": "code",
      "metadata": {
        "colab": {
          "base_uri": "https://localhost:8080/"
        },
        "id": "sR4usVtu8iUd",
        "outputId": "0192a91b-cfe5-4cc8-e480-1f28b079de76"
      },
      "source": [
        "def busqueda_lineal(lista: list, item: str) -> int:\n",
        "    # pre: lista es una lista de cadenas e item es una cadena\n",
        "    # post: devuelve 0 <= i < len(lista) tal que lista[i] == item o -1 si item no en lista\n",
        "    i = 0\n",
        "    while i < len(lista) and lista[i] != item:\n",
        "        i = i + 1\n",
        "    return i if i < len(lista) else -1\n",
        "\n",
        "busqueda_lineal(palabras, \"rasrii\")"
      ],
      "execution_count": null,
      "outputs": [
        {
          "output_type": "execute_result",
          "data": {
            "text/plain": [
              "2"
            ]
          },
          "metadata": {
            "tags": []
          },
          "execution_count": 13
        }
      ]
    },
    {
      "cell_type": "code",
      "metadata": {
        "colab": {
          "base_uri": "https://localhost:8080/"
        },
        "id": "49ZLhlgK9LKR",
        "outputId": "aff0c144-9a71-4e04-bc4c-3b2509c1db7f"
      },
      "source": [
        "[busqueda_lineal(palabras, p) for p in palabras]"
      ],
      "execution_count": null,
      "outputs": [
        {
          "output_type": "execute_result",
          "data": {
            "text/plain": [
              "[0, 1, 2, 3, 4, 5, 6, 7, 8, 9]"
            ]
          },
          "metadata": {
            "tags": []
          },
          "execution_count": 6
        }
      ]
    },
    {
      "cell_type": "code",
      "metadata": {
        "id": "-3k0rSh1iRhG"
      },
      "source": [
        "def swap(lista, n, m):\n",
        "    lista[n], lista[m] = lista[m], lista[n]\n",
        "\n",
        "def separar(lista: list, desde, hasta: int) -> int:\n",
        "    pivote = lista[desde]\n",
        "    i, j = desde + 1, hasta\n",
        "    while i <= j:\n",
        "        if lista[i] <= pivote:\n",
        "            i = i + 1\n",
        "        elif lista[j] > pivote:\n",
        "            j = j - 1\n",
        "        else:\n",
        "            swap(lista, i, j)\n",
        "            i = i + 1\n",
        "            j = j - 1\n",
        "    swap(lista, desde, j)\n",
        "    return j\n",
        "\n",
        "def ordenacion_rapida_rec(lista: list, desde, hasta: int):\n",
        "    # pre: 0 <= desde < len(lista) and 0 <= hasta < len(lista)\n",
        "    if desde < hasta:\n",
        "        i_pivote = separar(lista, desde, hasta)\n",
        "        ordenacion_rapida_rec(lista, desde, i_pivote - 1)\n",
        "        ordenacion_rapida_rec(lista, i_pivote + 1, hasta)\n",
        "\n",
        "def ordenacion_rapida(lista: list):\n",
        "    ordenacion_rapida_rec(lista, 0, len(lista) - 1)"
      ],
      "execution_count": null,
      "outputs": []
    },
    {
      "cell_type": "code",
      "metadata": {
        "id": "MjVPMVOTid5g"
      },
      "source": [
        "lista = [1, 2, 5, 7, 3, 8, 23, 10, 0, 103, 304, 3, 2]\n",
        "ordenacion_rapida(lista)\n"
      ],
      "execution_count": null,
      "outputs": []
    },
    {
      "cell_type": "code",
      "metadata": {
        "colab": {
          "base_uri": "https://localhost:8080/"
        },
        "id": "cqWjbfjqi4aB",
        "outputId": "3823cf3b-f2fe-4dc6-a111-7765f6143d45"
      },
      "source": [
        "print(lista)"
      ],
      "execution_count": null,
      "outputs": [
        {
          "output_type": "stream",
          "text": [
            "[0, 1, 2, 2, 3, 3, 5, 7, 8, 10, 23, 103, 304]\n"
          ],
          "name": "stdout"
        }
      ]
    },
    {
      "cell_type": "code",
      "metadata": {
        "colab": {
          "base_uri": "https://localhost:8080/"
        },
        "id": "9gw7i8ep0VU4",
        "outputId": "b07d8ce4-44c2-43e0-965d-b071caa3df42"
      },
      "source": [
        "from random import randint\n",
        "\n",
        "def qsort(lista: list) -> list:\n",
        "  if lista == []:\n",
        "    lista_ord = []\n",
        "  else:\n",
        "    lst_1 = [x for x in lista[1:] if x <= lista[0]] # lst_1 = todos los elemtos de lista <= lista[0]\n",
        "    lst_2 = [x for x in lista[1:] if x > lista[0]]  # lst_2 = todos los elemtos de lista > lista[0]\n",
        "    lista_ord = lista_ord = qsort(lst_1) + lista[0:1] + qsort(lst_2)\n",
        "  return lista_ord\n",
        "\n",
        "\n",
        "lista_2 = [randint(1,10**8) for i in range(10**5)]\n",
        "# print(lista_2)\n",
        "print(qsort(lista_2)[5000:5020])"
      ],
      "execution_count": null,
      "outputs": [
        {
          "output_type": "stream",
          "text": [
            "[5105266, 5106281, 5106683, 5107172, 5107640, 5107757, 5108766, 5109016, 5109237, 5109864, 5109941, 5111368, 5112715, 5112758, 5113746, 5114425, 5115306, 5115685, 5118073, 5119245]\n"
          ],
          "name": "stdout"
        }
      ]
    }
  ]
}