{
  "nbformat": 4,
  "nbformat_minor": 0,
  "metadata": {
    "colab": {
      "provenance": [],
      "include_colab_link": true
    },
    "kernelspec": {
      "name": "python3",
      "display_name": "Python 3"
    },
    "language_info": {
      "name": "python"
    }
  },
  "cells": [
    {
      "cell_type": "markdown",
      "metadata": {
        "id": "view-in-github",
        "colab_type": "text"
      },
      "source": [
        "<a href=\"https://colab.research.google.com/github/JazminCaruso/AyP-Python/blob/main/Jazm%C3%ADn_Caruso_Rojo_Tarea10.ipynb\" target=\"_parent\"><img src=\"https://colab.research.google.com/assets/colab-badge.svg\" alt=\"Open In Colab\"/></a>"
      ]
    },
    {
      "cell_type": "markdown",
      "metadata": {
        "id": "03RUOLOIpWZS"
      },
      "source": [
        "### **TAREA 10**\n",
        "\n",
        "El propósito de esta tarea es ejercitar listas de listas, dicionarios de listas, etc. También el manejo de archivos y algunos rudimentos del análisis de tdatos.  \n",
        "\n",
        "**IMPORTANTE**\n",
        "- La tarea debe entregarse en este archivo, completando las celdas de código correspondientes.\n",
        "- El código que incorpores *debe* poder ejecutarse en *este* Colab, en caso contrario el ejercicio ***será inválido***. Por favor,  verificá que el código se ejecute sin errores (aún en el caso en que la solución no sea del todo correcta).\n",
        "- Al clicar \"Ejecutar celda\" (el triangulito blanco) en las celdas donde están los test deberían devolverse los resultados correctos.\n",
        "- En estos ejercicios **no está permitido** importar ninguna biblioteca.\n",
        "\n",
        "**IMPORTANTE 2**\n",
        "- Escribí las pre y post condiciones.\n",
        "- Incluí `assert` para comprobar el buen tipado del argumento y el cumplimiento de la precondición.\n",
        "- No olvides organizar tu programa incluyendo comentarios, espacios y sangrías de manera adecuada. \n",
        "- Seguí las convenciones respecto de nombres de variables, funciones y constantes.\n",
        "- Evitar la utilización de funciones sofisticadas de Python."
      ]
    },
    {
      "cell_type": "markdown",
      "metadata": {
        "id": "Pkt0r3z5qGk5"
      },
      "source": [
        "##Introducción\n",
        "Trabajaremos con datos bajados de la web https://www.tutiempo.net . Las primeras celdas de código introducen el código necesario para poder obtener los datos que deseamos en forma estructurada (lista de listas o diccionario de diccionarios). \n",
        "\n",
        "Los datos que nos interesan es la información del clima horaria de un cierto lugar en un cierto día. "
      ]
    },
    {
      "cell_type": "code",
      "metadata": {
        "id": "11b-TKZti04h"
      },
      "source": [
        "# pip install beautifulsoup4\n",
        "# pip install lxml\n",
        "# Ya están instalados en Colab. En un entorno propio deben instalarse\n",
        "import requests\n",
        "from bs4 import BeautifulSoup"
      ],
      "execution_count": null,
      "outputs": []
    },
    {
      "cell_type": "markdown",
      "metadata": {
        "id": "J9tYqKk1rITf"
      },
      "source": [
        "- Con `requests` podemos bajar una página web.\n",
        "- Con `BeautifulSoup` extraemos información estructurada de la página."
      ]
    },
    {
      "cell_type": "code",
      "metadata": {
        "id": "Hg2okpn-z2o_",
        "colab": {
          "base_uri": "https://localhost:8080/"
        },
        "outputId": "7e0a781c-55f1-4828-e6d5-5c2e9907bad9"
      },
      "source": [
        "# Basado en: 1) https://stackoverflow.com/questions/17196018/extracting-table-contents-from-html-with-python-and-beautifulsoup\n",
        "# 2) https://www.kite.com/python/examples/4420/beautifulsoup-parse-an-html-table-and-write-to-a-csv\n",
        "\n",
        "# La información la extraemos de la estación metereológica SACO, correspondiente al Aeropuerto de Córdoba. \n",
        "\n",
        "def registro_fila_tabla(fila_tabla) -> list: # procesa una fila de la tabla, devuelve la lista con las mediciones registradas en esa fila\n",
        "    celdas_fila = fila_tabla.findAll('td')\n",
        "    registro = []\n",
        "    for celda in celdas_fila:                # recorre las celdas de la fila correspondiente a una toma de mediciones\n",
        "        registro.append(celda.text)\n",
        "    return registro\n",
        "\n",
        "def registros_tabla(tabla) -> list: # procesa una tabla, devuelve la lista de registros contenidos en esa tabla\n",
        "    registros = []\n",
        "    for fila_tabla in tabla.findAll('tr'):\n",
        "        registro = registro_fila_tabla(fila_tabla)\n",
        "        if len(registro) != 0:\n",
        "            registros.append(registro)\n",
        "    return registros\n",
        "\n",
        "def registros_dia(dia, mes, año) -> list:\n",
        "    nombre_fecha = str(dia) + '-' + mes + '-' + str(año)\n",
        "    contenido_url = requests.get('https://www.tutiempo.net/registros/saco/' + nombre_fecha + '.html')\n",
        "    contenido_estructurado = BeautifulSoup(contenido_url.text, 'lxml') # parsea la página \n",
        "    tabla_dia = contenido_estructurado.find('table', {'style': 'width: 100%'}) # extrae la tabla (es la única con style=\"width: 100%\")\n",
        "    \n",
        "    return registros_tabla(tabla_dia)\n",
        "\n",
        "\n",
        "# Ejemplo \n",
        "fecha_proc = registros_dia(29, 'mayo', 2021) \n",
        "\n",
        "for w in fecha_proc:\n",
        "    print(w)"
      ],
      "execution_count": null,
      "outputs": [
        {
          "output_type": "stream",
          "text": [
            "['00:00', 'Despejado', '10°', '11 km/h', '62%', '1015 hPa']\n",
            "['01:00', 'Despejado', '9°', '13 km/h', '61%', '1015 hPa']\n",
            "['02:00', 'Despejado', '8°', '9 km/h', '61%', '1016 hPa']\n",
            "['03:00', 'Despejado', '7°', '11 km/h', '66%', '1016 hPa']\n",
            "['04:00', 'Despejado', '7°', '13 km/h', '70%', '1016 hPa']\n",
            "['05:00', 'Despejado', '9°', '13 km/h', '66%', '1016 hPa']\n",
            "['06:00', 'Despejado', '9°', '11 km/h', '66%', '1016 hPa']\n",
            "['07:00', 'Despejado', '10°', '7 km/h', '62%', '1017 hPa']\n",
            "['08:00', 'Despejado', '8°', '11 km/h', '71%', '1018 hPa']\n",
            "['09:00', 'Despejado', '10°', '6 km/h', '62%', '1019 hPa']\n",
            "['10:00', 'Despejado', '14°', '15 km/h', '44%', '1020 hPa']\n",
            "['11:00', 'Despejado', '15°', '22 km/h', '39%', '1021 hPa']\n",
            "['12:00', 'Despejado', '16°', '24 km/h', '34%', '1021 hPa']\n",
            "['13:00', 'Despejado', '17°', '17 km/h', '29%', '1021 hPa']\n",
            "['14:00', 'Despejado', '17°', '11 km/h', '29%', '1020 hPa']\n",
            "['15:00', 'Despejado', '17°', '11 km/h', '29%', '1019 hPa']\n",
            "['16:00', 'Despejado', '17°', '11 km/h', '27%', '1019 hPa']\n",
            "['17:00', 'Despejado', '16°', '13 km/h', '25%', '1019 hPa']\n",
            "['18:00', 'Despejado', '14°', '9 km/h', '28%', '1019 hPa']\n",
            "['19:00', 'Despejado', '7°', '7 km/h', '49%', '1019 hPa']\n",
            "['20:00', 'Despejado', '5°', '11 km/h', '60%', '1020 hPa']\n",
            "['21:00', 'Despejado', '6°', '11 km/h', '61%', '1021 hPa']\n",
            "['22:00', 'Despejado', '6°', '7 km/h', '65%', '1021 hPa']\n",
            "['23:00', 'Despejado', '6°', '15 km/h', '65%', '1021 hPa']\n"
          ],
          "name": "stdout"
        }
      ]
    },
    {
      "cell_type": "markdown",
      "metadata": {
        "id": "Kp36GUxsr9uS"
      },
      "source": [
        "También podemos hacer, de forma análoga, un diccionario de diccionarios, como hacemos en la siguiente celda de código. "
      ]
    },
    {
      "cell_type": "code",
      "metadata": {
        "id": "WvOf70mi2A9s",
        "colab": {
          "base_uri": "https://localhost:8080/"
        },
        "outputId": "0dd657da-eb22-45e3-97ae-1663fe24d05f"
      },
      "source": [
        "CLAVES = ['hora', 'desc', 'temp', 'vel', 'hum', 'pres'] \n",
        "\n",
        "def registro_fila_tabla(fila_tabla) -> dict: # procesa una fila de la tabla, devuelve un diccionario con las mediciones registradas en esa fila\n",
        "    celdas_fila = fila_tabla.findAll('td')\n",
        "    registro = {}\n",
        "    i = 0\n",
        "    for celda in celdas_fila:                # recorre las celdas de la fila correspondiente a una toma de mediciones\n",
        "        registro[CLAVES[i]] = celda.text\n",
        "        i = i + 1\n",
        "    return registro\n",
        "\n",
        "def registros_tabla(tabla) -> dict:          # procesa una tabla, devuelve un diccionario de registros contenidos en esa tabla\n",
        "    registros = {}\n",
        "    for fila_tabla in tabla.findAll('tr'):\n",
        "        registro = registro_fila_tabla(fila_tabla)\n",
        "        if len(registro) != 0:\n",
        "            hora = registro.pop('hora')\n",
        "            hh = int(hora[:2])\n",
        "            registros[hh] = registro\n",
        "    return registros\n",
        "\n",
        "# Devuelve un diccionario de diccionarios\n",
        "def registros_dia(dia, mes, año) -> dict:\n",
        "    nombre_fecha = str(dia) + '-' + mes + '-' + str(año)\n",
        "    contenido_url = requests.get('https://www.tutiempo.net/registros/saco/' + nombre_fecha + '.html')\n",
        "    contenido_estructurado = BeautifulSoup(contenido_url.text, 'lxml') # parsea la página \n",
        "    tabla_dia = contenido_estructurado.find('table', {'style': 'width: 100%'}) # extrae la tabla (es la única con style=\"width: 100%\")\n",
        "    \n",
        "    return registros_tabla(tabla_dia)\n",
        "\n",
        "# Ejemplo\n",
        "fecha_dic = registros_dia('25','noviembre', 2018)\n",
        "print(fecha_dic)\n",
        "print(fecha_dic[3]['temp'])\n",
        "print(fecha_dic[3]['desc'])"
      ],
      "execution_count": null,
      "outputs": [
        {
          "output_type": "stream",
          "text": [
            "{0: {'desc': 'Despejado', 'temp': '15°', 'vel': '11 km/h', 'hum': '72%', 'pres': '1017 hPa'}, 1: {'desc': 'Despejado', 'temp': '14°', 'vel': '6 km/h', 'hum': '82%', 'pres': '1016 hPa'}, 2: {'desc': 'Despejado', 'temp': '14°', 'vel': '9 km/h', 'hum': '82%', 'pres': '1016 hPa'}, 3: {'desc': 'Despejado', 'temp': '13°', 'vel': '7 km/h', 'hum': '82%', 'pres': '1015 hPa'}, 4: {'desc': 'Despejado', 'temp': '13°', 'vel': '11 km/h', 'hum': '88%', 'pres': '1015 hPa'}, 5: {'desc': 'Despejado', 'temp': '13°', 'vel': '7 km/h', 'hum': '88%', 'pres': '1015 hPa'}, 6: {'desc': 'Despejado', 'temp': '14°', 'vel': '4 km/h', 'hum': '88%', 'pres': '1015 hPa'}, 7: {'desc': 'Despejado', 'temp': '16°', 'vel': '4 km/h', 'hum': '82%', 'pres': '1016 hPa'}, 8: {'desc': 'Despejado', 'temp': '19°', 'vel': '15 km/h', 'hum': '68%', 'pres': '1016 hPa'}, 9: {'desc': 'Despejado', 'temp': '21°', 'vel': '17 km/h', 'hum': '64%', 'pres': '1017 hPa'}, 10: {'desc': 'Parcialmente cubierto', 'temp': '22°', 'vel': '13 km/h', 'hum': '57%', 'pres': '1016 hPa'}, 11: {'desc': 'Parcialmente cubierto', 'temp': '24°', 'vel': '19 km/h', 'hum': '47%', 'pres': '1016 hPa'}, 12: {'desc': 'Parcialmente cubierto', 'temp': '25°', 'vel': '22 km/h', 'hum': '47%', 'pres': '1016 hPa'}, 13: {'desc': 'Parcialmente cubierto', 'temp': '27°', 'vel': '22 km/h', 'hum': '42%', 'pres': '1014 hPa'}, 14: {'desc': 'Parcialmente cubierto', 'temp': '28°', 'vel': '26 km/h', 'hum': '37%', 'pres': '1014 hPa'}, 15: {'desc': 'Parcialmente cubierto', 'temp': '28°', 'vel': '26 km/h', 'hum': '40%', 'pres': '1013 hPa'}, 16: {'desc': 'Parcialmente cubierto', 'temp': '28°', 'vel': '22 km/h', 'hum': '40%', 'pres': '1012 hPa'}, 17: {'desc': 'Nubes dispersas', 'temp': '27°', 'vel': '30 km/h', 'hum': '45%', 'pres': '1011 hPa'}, 18: {'desc': 'Parcialmente cubierto', 'temp': '26°', 'vel': '26 km/h', 'hum': '48%', 'pres': '1011 hPa'}, 19: {'desc': 'Parcialmente cubierto', 'temp': '25°', 'vel': '32 km/h', 'hum': '54%', 'pres': '1011 hPa'}, 20: {'desc': 'Parcialmente cubierto', 'temp': '23°', 'vel': '33 km/h', 'hum': '61%', 'pres': '1012 hPa'}, 21: {'desc': 'Despejado', 'temp': '23°', 'vel': '24 km/h', 'hum': '65%', 'pres': '1014 hPa'}, 22: {'desc': 'Despejado', 'temp': '22°', 'vel': '24 km/h', 'hum': '69%', 'pres': '1015 hPa'}, 23: {'desc': 'Llovizna', 'temp': '20°', 'vel': '20 km/h', 'hum': '83%', 'pres': '1015 hPa'}}\n",
            "13°\n",
            "Despejado\n"
          ],
          "name": "stdout"
        }
      ]
    },
    {
      "cell_type": "markdown",
      "metadata": {
        "id": "Op3FY8jAsiaR"
      },
      "source": [
        "El código anterior recupera todos los valores de la tabla elegida. Sin embargo, hay un dato, la dirección del viento, que no es un valor de una celda de la tabla sino un atributo de una celda. Por lo tanto, debemos modificar un poco el código para obtener lo que deseamos."
      ]
    },
    {
      "cell_type": "code",
      "metadata": {
        "id": "XaTAaUjdshfl",
        "colab": {
          "base_uri": "https://localhost:8080/"
        },
        "outputId": "b67dffa6-9282-4a6a-f628-b5fe3af9039d"
      },
      "source": [
        "CLAVES = ['hora', 'desc', 'temp', 'dir', 'vel', 'hum', 'pres'] \n",
        "\n",
        "def registro_fila_tabla(fila_tabla) -> dict: # procesa una fila de la tabla, devuelve un diccionario con las mediciones registradas en esa fila\n",
        "    celdas_fila = fila_tabla.findAll('td')\n",
        "    registro = {}\n",
        "    i = 0\n",
        "    for celda in celdas_fila:                # recorre las celdas de la fila correspondiente a una toma de mediciones\n",
        "        if celda.img != None: # si existe el tag 'img'\n",
        "            input_tag = celda.img['title'] # recupera en el tag 'img' el valor del atributo 'title'\n",
        "            registro[CLAVES[i]] = input_tag # dirección del viento\n",
        "            i = i + 1\n",
        "        registro[CLAVES[i]] = celda.text\n",
        "        i = i + 1\n",
        "    return registro\n",
        "\n",
        "def registros_tabla(tabla) -> dict:          # procesa una tabla, devuelve un diccionario de registros contenidos en esa tabla\n",
        "    registros = {}\n",
        "    for fila_tabla in tabla.findAll('tr'):\n",
        "        registro = registro_fila_tabla(fila_tabla)\n",
        "        if len(registro) != 0:\n",
        "            hora = registro.pop('hora')\n",
        "            hh = int(hora[:2])\n",
        "            registros[hh] = registro\n",
        "    return registros\n",
        "\n",
        "# Devuelve un diccionario de diccionarios\n",
        "def registros_dia(dia, mes, año) -> dict:\n",
        "    nombre_fecha = str(dia) + '-' + mes + '-' + str(año)\n",
        "    contenido_url = requests.get('https://www.tutiempo.net/registros/saco/' + nombre_fecha + '.html')\n",
        "    contenido_estructurado = BeautifulSoup(contenido_url.text, 'lxml') # parsea la página \n",
        "    tabla_dia = contenido_estructurado.find('table', {'style': 'width: 100%'}) # extrae la tabla (es la única con style=\"width: 100%\")\n",
        "    \n",
        "    return registros_tabla(tabla_dia)\n",
        "\n",
        "# Ejemplo\n",
        "fecha_dic = registros_dia('25','noviembre', 2018)\n",
        "print(fecha_dic)\n",
        "print(fecha_dic[3]['temp'])\n",
        "print(fecha_dic[3]['desc'])"
      ],
      "execution_count": null,
      "outputs": [
        {
          "output_type": "stream",
          "text": [
            "{0: {'desc': 'Despejado', 'temp': '15°', 'dir': 'Norte', 'vel': '11 km/h', 'hum': '72%', 'pres': '1017 hPa'}, 1: {'desc': 'Despejado', 'temp': '14°', 'dir': 'Noroeste', 'vel': '6 km/h', 'hum': '82%', 'pres': '1016 hPa'}, 2: {'desc': 'Despejado', 'temp': '14°', 'dir': 'Noroeste', 'vel': '9 km/h', 'hum': '82%', 'pres': '1016 hPa'}, 3: {'desc': 'Despejado', 'temp': '13°', 'dir': 'Noroeste', 'vel': '7 km/h', 'hum': '82%', 'pres': '1015 hPa'}, 4: {'desc': 'Despejado', 'temp': '13°', 'dir': 'Noroeste', 'vel': '11 km/h', 'hum': '88%', 'pres': '1015 hPa'}, 5: {'desc': 'Despejado', 'temp': '13°', 'dir': 'Noroeste', 'vel': '7 km/h', 'hum': '88%', 'pres': '1015 hPa'}, 6: {'desc': 'Despejado', 'temp': '14°', 'dir': 'Norte', 'vel': '4 km/h', 'hum': '88%', 'pres': '1015 hPa'}, 7: {'desc': 'Despejado', 'temp': '16°', 'dir': 'Noroeste', 'vel': '4 km/h', 'hum': '82%', 'pres': '1016 hPa'}, 8: {'desc': 'Despejado', 'temp': '19°', 'dir': 'Nordeste', 'vel': '15 km/h', 'hum': '68%', 'pres': '1016 hPa'}, 9: {'desc': 'Despejado', 'temp': '21°', 'dir': 'Nordeste', 'vel': '17 km/h', 'hum': '64%', 'pres': '1017 hPa'}, 10: {'desc': 'Parcialmente cubierto', 'temp': '22°', 'dir': 'Nordeste', 'vel': '13 km/h', 'hum': '57%', 'pres': '1016 hPa'}, 11: {'desc': 'Parcialmente cubierto', 'temp': '24°', 'dir': 'Nordeste', 'vel': '19 km/h', 'hum': '47%', 'pres': '1016 hPa'}, 12: {'desc': 'Parcialmente cubierto', 'temp': '25°', 'dir': 'Nordeste', 'vel': '22 km/h', 'hum': '47%', 'pres': '1016 hPa'}, 13: {'desc': 'Parcialmente cubierto', 'temp': '27°', 'dir': 'Nordeste', 'vel': '22 km/h', 'hum': '42%', 'pres': '1014 hPa'}, 14: {'desc': 'Parcialmente cubierto', 'temp': '28°', 'dir': 'Nordeste', 'vel': '26 km/h', 'hum': '37%', 'pres': '1014 hPa'}, 15: {'desc': 'Parcialmente cubierto', 'temp': '28°', 'dir': 'Nordeste', 'vel': '26 km/h', 'hum': '40%', 'pres': '1013 hPa'}, 16: {'desc': 'Parcialmente cubierto', 'temp': '28°', 'dir': 'Nordeste', 'vel': '22 km/h', 'hum': '40%', 'pres': '1012 hPa'}, 17: {'desc': 'Nubes dispersas', 'temp': '27°', 'dir': 'Nordeste', 'vel': '30 km/h', 'hum': '45%', 'pres': '1011 hPa'}, 18: {'desc': 'Parcialmente cubierto', 'temp': '26°', 'dir': 'Nordeste', 'vel': '26 km/h', 'hum': '48%', 'pres': '1011 hPa'}, 19: {'desc': 'Parcialmente cubierto', 'temp': '25°', 'dir': 'Nordeste', 'vel': '32 km/h', 'hum': '54%', 'pres': '1011 hPa'}, 20: {'desc': 'Parcialmente cubierto', 'temp': '23°', 'dir': 'Nordeste', 'vel': '33 km/h', 'hum': '61%', 'pres': '1012 hPa'}, 21: {'desc': 'Despejado', 'temp': '23°', 'dir': 'Nordeste', 'vel': '24 km/h', 'hum': '65%', 'pres': '1014 hPa'}, 22: {'desc': 'Despejado', 'temp': '22°', 'dir': 'Nordeste', 'vel': '24 km/h', 'hum': '69%', 'pres': '1015 hPa'}, 23: {'desc': 'Llovizna', 'temp': '20°', 'dir': 'Nordeste', 'vel': '20 km/h', 'hum': '83%', 'pres': '1015 hPa'}}\n",
            "13°\n",
            "Despejado\n"
          ],
          "name": "stdout"
        }
      ]
    },
    {
      "cell_type": "markdown",
      "metadata": {
        "id": "249QMH25uKGz"
      },
      "source": [
        "*Ejercicio 1.*  Escribir una nueva versión de `registros_dia()` que tenga como argumentos la fecha en  formato `AAAAMMDD` y devuelva el diccionario sin las unidades. Por ejemplo, si \n",
        "```\n",
        "dic_clima = registros_dia('20180523')\n",
        "```\n",
        "entonces (por ejemplo), \n",
        "```\n",
        "dic_clima[8] = {'desc': 'Despejado', 'temp': 19, 'dir': 'Nordeste', 'vel': 15, 'hum': 68, 'pres': 1016}\n",
        "```\n",
        "y \n",
        "\n",
        "```\n",
        "dic_clima[8]['pres'] = 1016\n",
        "``` \n",
        "Observar  que debemos eliminar las unidades y convertir (donde se pueda) la cadena a `int`. \n",
        "\n",
        "\n",
        "La forma más sencilla de hacer esto es con funciones auxiliares. En el código escrito más abajo se proponen 2 funciones auxiliares\n",
        "1. `formatear_fecha(fecha: str) -> str` que cambia un formato de fecha `AAAAMMDD` a un formato que entienda 'Tu tiempo'. Por ejemplo `formatear_fecha('20160611)` devuelve `'11-junio-2016'`. \n",
        "2. `eliminar_unidades(tiempo_hora: dict) -> dict` que elimina las unidades que vienen en 'Tu tiempo'. Por ejemplo,  cambia \n",
        "        {'desc': 'Despejado', 'temp': '13°', 'dir': 'Noroeste', 'vel': '7 km/h', 'hum': '88%', 'pres': '1015 hPa'}\n",
        "a \n",
        "        {'desc': 'Despejado', 'temp': 13, 'dir': 'Noroeste', 'vel': 7, 'hum': 88, 'pres': 1015}\n",
        "Esta es una función delicada porque la regla general que uno pensaría utilizar para cada tipo de dato no se aplica siempre  y eso ocurre porque a veces vienen datos no esperados. Por  ejemplo, puede ocurrir que el valor de `vel` en 'Tu tiempo' sea `- km/h`. En  esos casos,  es conveniente usar un valor testigo de que el dato no está bien, por ejemplo el `None` de Python.     \n",
        "\n",
        "\n",
        "\n"
      ]
    },
    {
      "cell_type": "code",
      "metadata": {
        "id": "8s9nhXLgxd8q"
      },
      "source": [
        "CLAVES = ['hora', 'desc', 'temp', 'dir', 'vel', 'hum', 'pres'] \n",
        "\n",
        "def registros_dia(fecha: str) -> dict:\n",
        "    tablas = {}\n",
        "    nombre_fecha = formatear_fecha(fecha)\n",
        "    contenido_url = requests.get('https://www.tutiempo.net/registros/saco/' + nombre_fecha + '.html')\n",
        "    contenido_estructurado = BeautifulSoup(contenido_url.text, 'lxml')                                   \n",
        "    tabla_dia = contenido_estructurado.find('table', {'style': 'width: 100%'})\n",
        "    horas = registros_tabla(tabla_dia).keys()\n",
        "    for i in horas:\n",
        "      tabla_dia_sin_unidades = eliminar_unidades(registros_tabla(tabla_dia)[i])\n",
        "      tablas[i] = tabla_dia_sin_unidades\n",
        "    return tablas\n",
        "\n",
        "def formatear_fecha(fecha: str) -> str:\n",
        "    # pre:  fecha es una fecha en el formato 'AAAAMMDD'\n",
        "    # post: devuelve la fecha  en el foma dia-nombre del mes-año\n",
        "    meses = {1:'enero', 2:'febrero', 3:'marzo', 4:'abril', 5:'mayo', 6:'junio', 7:'julio', 8:'agosto', 9:'septiembre', 10:'octubre', 11:'noviembre', 12:'diciembre'}\n",
        "    fecha_int = int(fecha)\n",
        "    dia = fecha_int % 100\n",
        "    mes = ((fecha_int % 10000) - dia) // 100\n",
        "    anho = (fecha_int - mes - dia) // 10000\n",
        "    mes_str = meses[mes]\n",
        "    return str(dia) + '-' + mes_str + '-' + str(anho)\n",
        "\n",
        "def eliminar_unidades(registro: dict):\n",
        "    # pre:  recibe un diccionario tipo  {'desc': 'Despejado', 'temp': '13°', 'dir': 'Noroeste', 'vel': '7 km/h', 'hum': '88%', 'pres': '1015 hPa'}\n",
        "    # post: modifica el propio diccionario tipo   {'desc': 'Despejado', 'temp': 13, 'dir': 'Noroeste', 'vel': 7, 'hum': 88, 'pres': 1015}\n",
        "    unidades = {'temp': '°', 'vel': 'km/h', 'hum': '%', 'pres': 'hPa'}\n",
        "    claves = unidades.keys()\n",
        "    registro2 = registro\n",
        "    for parametro in claves:\n",
        "      updater = list(registro2[parametro])\n",
        "      unidad = list(unidades[parametro])\n",
        "      for caracter in unidad:\n",
        "        updater.remove(caracter)\n",
        "      updater = ''.join(updater)\n",
        "      registro2.update({parametro: int(updater)})\n",
        "    return registro2\n",
        "\n"
      ],
      "execution_count": null,
      "outputs": []
    },
    {
      "cell_type": "code",
      "metadata": {
        "id": "twUKQA0QZLuT",
        "colab": {
          "base_uri": "https://localhost:8080/"
        },
        "outputId": "245a88f7-627c-44dc-97b7-73a4b04044e7"
      },
      "source": [
        "#Tests \n",
        "\n",
        "formateada = formatear_fecha('20181125')\n",
        "print(formateada)\n",
        "\n",
        "dato = {'hora': '05:00', 'desc': 'Despejado', 'temp': '13°', 'dir': 'Noroeste', 'vel': '7 km/h', 'hum': '88%', 'pres': '1015 hPa'}\n",
        "dato_n = eliminar_unidades(dato)\n",
        "print(dato_n)\n",
        "\n",
        "fecha_dic = registros_dia('20181125')\n",
        "print(fecha_dic)\n",
        "\n",
        "# Descomentar las 2 lineas siguientes después de implementar\n",
        "print(fecha_dic[3]['temp'])\n",
        "print(fecha_dic[3]['desc'])"
      ],
      "execution_count": null,
      "outputs": [
        {
          "output_type": "stream",
          "text": [
            "25-noviembre-2018\n",
            "{'hora': '05:00', 'desc': 'Despejado', 'temp': 13, 'dir': 'Noroeste', 'vel': 7, 'hum': 88, 'pres': 1015}\n",
            "{0: {'desc': 'Despejado', 'temp': 15, 'dir': 'Norte', 'vel': 11, 'hum': 72, 'pres': 1017}, 1: {'desc': 'Despejado', 'temp': 14, 'dir': 'Noroeste', 'vel': 6, 'hum': 82, 'pres': 1016}, 2: {'desc': 'Despejado', 'temp': 14, 'dir': 'Noroeste', 'vel': 9, 'hum': 82, 'pres': 1016}, 3: {'desc': 'Despejado', 'temp': 13, 'dir': 'Noroeste', 'vel': 7, 'hum': 82, 'pres': 1015}, 4: {'desc': 'Despejado', 'temp': 13, 'dir': 'Noroeste', 'vel': 11, 'hum': 88, 'pres': 1015}, 5: {'desc': 'Despejado', 'temp': 13, 'dir': 'Noroeste', 'vel': 7, 'hum': 88, 'pres': 1015}, 6: {'desc': 'Despejado', 'temp': 14, 'dir': 'Norte', 'vel': 4, 'hum': 88, 'pres': 1015}, 7: {'desc': 'Despejado', 'temp': 16, 'dir': 'Noroeste', 'vel': 4, 'hum': 82, 'pres': 1016}, 8: {'desc': 'Despejado', 'temp': 19, 'dir': 'Nordeste', 'vel': 15, 'hum': 68, 'pres': 1016}, 9: {'desc': 'Despejado', 'temp': 21, 'dir': 'Nordeste', 'vel': 17, 'hum': 64, 'pres': 1017}, 10: {'desc': 'Parcialmente cubierto', 'temp': 22, 'dir': 'Nordeste', 'vel': 13, 'hum': 57, 'pres': 1016}, 11: {'desc': 'Parcialmente cubierto', 'temp': 24, 'dir': 'Nordeste', 'vel': 19, 'hum': 47, 'pres': 1016}, 12: {'desc': 'Parcialmente cubierto', 'temp': 25, 'dir': 'Nordeste', 'vel': 22, 'hum': 47, 'pres': 1016}, 13: {'desc': 'Parcialmente cubierto', 'temp': 27, 'dir': 'Nordeste', 'vel': 22, 'hum': 42, 'pres': 1014}, 14: {'desc': 'Parcialmente cubierto', 'temp': 28, 'dir': 'Nordeste', 'vel': 26, 'hum': 37, 'pres': 1014}, 15: {'desc': 'Parcialmente cubierto', 'temp': 28, 'dir': 'Nordeste', 'vel': 26, 'hum': 40, 'pres': 1013}, 16: {'desc': 'Parcialmente cubierto', 'temp': 28, 'dir': 'Nordeste', 'vel': 22, 'hum': 40, 'pres': 1012}, 17: {'desc': 'Nubes dispersas', 'temp': 27, 'dir': 'Nordeste', 'vel': 30, 'hum': 45, 'pres': 1011}, 18: {'desc': 'Parcialmente cubierto', 'temp': 26, 'dir': 'Nordeste', 'vel': 26, 'hum': 48, 'pres': 1011}, 19: {'desc': 'Parcialmente cubierto', 'temp': 25, 'dir': 'Nordeste', 'vel': 32, 'hum': 54, 'pres': 1011}, 20: {'desc': 'Parcialmente cubierto', 'temp': 23, 'dir': 'Nordeste', 'vel': 33, 'hum': 61, 'pres': 1012}, 21: {'desc': 'Despejado', 'temp': 23, 'dir': 'Nordeste', 'vel': 24, 'hum': 65, 'pres': 1014}, 22: {'desc': 'Despejado', 'temp': 22, 'dir': 'Nordeste', 'vel': 24, 'hum': 69, 'pres': 1015}, 23: {'desc': 'Llovizna', 'temp': 20, 'dir': 'Nordeste', 'vel': 20, 'hum': 83, 'pres': 1015}}\n",
            "13\n",
            "Despejado\n"
          ],
          "name": "stdout"
        }
      ]
    },
    {
      "cell_type": "markdown",
      "metadata": {
        "id": "_d6ZXX0KY86e"
      },
      "source": [
        "*Ejercicio 2.* Hacer una función \n",
        "```\n",
        "clima_anho(anho: str, mes_ini: int, mes_fin: int)\n",
        "```\n",
        "que recibe una string `'AAAA'` y  dos enteros entre 1 y 12 tal que `mes_ini <= mes_fin` y guarda en el archivo 'AAAA.txt', en cada renglón, los datos del clima de cada día en Córdoba desde `mes_ini` hasta el `mes_fin`. Cada renglón es un diccionario (guardado  como texto) con clave  `AAAAMMDD` y con valor el día obtenido por la función `registros_dia(estacion, 'AAAAMMDD')`. "
      ]
    },
    {
      "cell_type": "code",
      "metadata": {
        "id": "peesc35fZEqf"
      },
      "source": [
        "import json\n",
        "\n",
        "# diccionarios auxiliares\n",
        "dias_meses = {1: '32' , 2: '29' , 3: '32', 4: '31' , 5: '32', 6: '31' ,7: '32', 8: '32', 9: '31', 10: '32', 11: '31', 12: '32'} # un día de más para que el for corra hasta el anterior\n",
        "nombre_meses = {1: 'enero', 2: 'febrero', 3: 'marzo', 4: 'abril', 5: 'mayo', 6: 'junio', 7: 'julio', 8: 'agosto', 9: 'septiembre', 10: 'octubre', 11: 'noviembre', 12: 'diciembre'}\n",
        "# función auxiliar\n",
        "def anho_bisiesto(anho: int) -> bool:\n",
        "    dev = anho % 4 == 0 and anho % 100 != 0 or anho % 400 == 0\n",
        "    return dev\n",
        "\n",
        "# definiciónn de la función\n",
        "def clima_anho(anho: str, mes_ini: int, mes_fin: int):\n",
        "\n",
        "    archivo = open(anho + \".txt\", \"w\")                                          # abre el archivo\n",
        "    if anho_bisiesto(int(anho)):                                                # si el año es bisiesto se le agrega un día a febrero\n",
        "      dias_meses[2] = '30'\n",
        "\n",
        "    mes_inicio = mes_ini                                                        # llama al argumento mes_ini como mes_inicio\n",
        "\n",
        "    while mes_inicio <= mes_fin:                                                # recorre los meses solicitados en el argumento\n",
        "      for i in range(1, int(dias_meses[mes_inicio])):                           # recorre los días del mes que recorre el while\n",
        "        nombre_fecha = str(i) + '-' + nombre_meses[mes_inicio] + '-' + anho                             # fecha formateada\n",
        "        url = requests.get('https://www.tutiempo.net/registros/saco/' + nombre_fecha + '.html')         # descarga de datos\n",
        "        # guardo la fecha en formato AAAAMMDD en la variable fech\n",
        "        if i < 10:\n",
        "          if mes_inicio < 10:\n",
        "              fech = anho + '0' + str(mes_inicio) + '0' + str(i)\n",
        "          else:\n",
        "              fech = anho + str(mes_inicio) + '0' + str(i)\n",
        "        else:\n",
        "          if mes_inicio < 10:\n",
        "              fech = anho + '0' + str(mes_inicio) + str(i)\n",
        "          else: \n",
        "              fech = anho + str(mes_inicio) + str(i)\n",
        "        contenido = BeautifulSoup(url.text, 'lxml')                             # analiza la página, saca atributos\n",
        "        tabla_del_dia = contenido.find('table', {'style': 'width: 100%'})       # extrae lo solicitado\n",
        "        clima = {fech: registros_tabla(tabla_del_dia)}                          # diccionario con clave = fech (AAAMMDD) y valor = datos del día     \n",
        "        fech = json.dumps(clima)\n",
        "        archivo.write(fech + '\\n')                                              # al archivo le agrega el diccionario creado\n",
        "      mes_inicio = mes_inicio + 1                                               # para que finalice el while, suma 1 a mes_inicio\n",
        "\n",
        "    archivo.close()                                                             # cierra el archivo\n",
        "\n"
      ],
      "execution_count": null,
      "outputs": []
    },
    {
      "cell_type": "code",
      "metadata": {
        "id": "2ClN9IBR5W37"
      },
      "source": [
        "# Tests\n",
        "\n",
        "clima_anho('2018',1,1) # Ver si se generó el archivo correctamente del primer mes del año 2018"
      ],
      "execution_count": null,
      "outputs": []
    },
    {
      "cell_type": "markdown",
      "metadata": {
        "id": "CeMwEy1Q7ovr"
      },
      "source": [
        "**Ejercicio 3.** En este ejercicio vamos a analizar datos del clima que podemos obtener con las funciones implementadas en los ejercicio 1 y 2.\n",
        "\n",
        "Primero elegí una ciudad o estación meteorológica que no sea de Argentina, arbitraria, pero que tenga suficientes datos para analizar.  Podés saber la sigla de la estación yendo al pronóstico de la ciudad y clickeando 'Ver  registros'. \n",
        "\n",
        "1. Obtener las temperaturas máximas y mínimas de cada mes del año 2018 de la ciudad elegida.\n",
        "2. Calcular el promedio de temperaturas máximas diarias durante la primavera del año 2018 en la ciudad elegida. \n",
        "3. Calcular la dirección del viento predominante durante la primavera del año 2018 en la ciudad elegida.    \n",
        "\n",
        "Para podes hacer esto debés abrir el archivo `2018.txt` y  a partir de los datos de cada renglón (que son cadenas de caracteres) hacer un diccionario o una lista. Para ello puede ayudar la biblioteca `json` y  el método `json.loads()`, pero hay formas alternativas de hacerlo. \n",
        " \n",
        "\n"
      ]
    },
    {
      "cell_type": "markdown",
      "metadata": {
        "id": "_7MDP0o4LpGJ"
      },
      "source": [
        "Para conseguir los datos de una ciudad que no sea Córdoba se debe modificar la función desarrollada en el ejercicio 1 `registros_dia()` y la desarrollada en el ejercicio 2, `clima_anho()`:"
      ]
    },
    {
      "cell_type": "code",
      "metadata": {
        "id": "mha-RDRmMMtN"
      },
      "source": [
        "# redefinir \n",
        "\n",
        "def registros_dia2(estacion: str, fecha: str) -> dict:\n",
        "    tablas = {}\n",
        "    nombre_fecha = formatear_fecha(fecha)\n",
        "    contenido_url = requests.get('https://www.tutiempo.net/registros/' + estacion + '/' + nombre_fecha + '.html')\n",
        "    contenido_estructurado = BeautifulSoup(contenido_url.text, 'lxml') # parsea la página \n",
        "    tabla_dia = contenido_estructurado.find('table', {'style': 'width: 100%'})\n",
        "    horas = registros_tabla(tabla_dia).keys()\n",
        "    for i in horas:\n",
        "      tabla_dia_sin_unidades = eliminar_unidades(registros_tabla(tabla_dia)[i])\n",
        "      tablas[i] = tabla_dia_sin_unidades\n",
        "    return tablas\n",
        "\n",
        "def clima_anho2(estacion: str, anho: str, mes_ini: int, mes_fin: int):\n",
        "    archivo = open(anho + '.' + estacion + \".txt\", \"w\")\n",
        "    if anho_bisiesto(int(anho)):\n",
        "      dias_meses[2] = '30'\n",
        "    mes_inicio = mes_ini\n",
        "    while mes_inicio <= mes_fin:\n",
        "      for i in range(1, int(dias_meses[mes_inicio])):\n",
        "        nombre_fecha = str(i) + '-' + nombre_meses[mes_inicio] + '-' + anho\n",
        "        url = requests.get('https://www.tutiempo.net/registros/' + estacion + '/' + nombre_fecha + '.html')\n",
        "        if i < 10:\n",
        "          if mes_inicio < 10:\n",
        "              month = anho + '0' + str(mes_inicio) + '0' + str(i)\n",
        "          else:\n",
        "              month = anho + str(mes_inicio) + '0' + str(i)\n",
        "        else:\n",
        "          if mes_inicio < 10:\n",
        "              month = anho + '0' + str(mes_inicio) + str(i)\n",
        "          else: \n",
        "              month = anho + str(mes_inicio) + str(i)\n",
        "        contenido = BeautifulSoup(url.text, 'lxml')\n",
        "        tabla_del_dia = contenido.find('table', {'style': 'width: 100%'})\n",
        "        clima = {month: registros_tabla(tabla_del_dia)}\n",
        "        month = json.dumps(clima)\n",
        "        archivo.write(month + '\\n')\n",
        "      mes_inicio = mes_inicio + 1\n",
        "    archivo.close()"
      ],
      "execution_count": null,
      "outputs": []
    },
    {
      "cell_type": "markdown",
      "metadata": {
        "id": "7bzbwG5VMqch"
      },
      "source": [
        "A partir de las funciones definidas previamente y de estas dos funciones,  se deberán definir tres funciones que devuelven los resultados deseados  en el formato que les resulte más conveniente."
      ]
    },
    {
      "cell_type": "code",
      "metadata": {
        "id": "_x_RSS-Df_hW"
      },
      "source": [
        "# estación meteorológica: MMUN, de Cancún, México.\n",
        "clima_anho2('mmun', '2018', 1, 12)   \n",
        "\n",
        "# diccionarios auxiliares\n",
        "nombre_meses = {1: 'enero', 2: 'febrero', 3: 'marzo', 4: 'abril', 5: 'mayo', 6: 'junio', 7: 'julio', 8: 'agosto', 9: 'septiembre', 10: 'octubre', 11: 'noviembre', 12: 'diciembre'}\n",
        "meses = {1: [], 2: [], 3: [], 4: [], 5: [], 6: [], 7: [], 8: [], 9: [], 10: [], 11: [], 12: []}\n",
        "meses_no_unid = {1: [], 2: [], 3: [], 4: [], 5: [], 6: [], 7: [], 8: [], 9: [], 10: [], 11: [], 12: []}\n",
        "\n",
        "# funciones auxiliares\n",
        "def el_mes(fecha: str) -> int:\n",
        "  fecha_int = int(fecha)\n",
        "  dia = fecha_int % 100\n",
        "  mes = ((fecha_int % 10000) - dia) // 100\n",
        "  return mes\n",
        "\n",
        "def el_dia(fecha:str) -> int:\n",
        "  fecha_int = int(fecha)\n",
        "  dia = fecha_int % 100\n",
        "  return dia\n",
        "\n",
        "\n",
        "# funciones del ejercicio 3\n",
        "\n",
        "def temp_min_max(estacion, anho):\n",
        "  # pre: obtiene una estación y un año\n",
        "  # post: devuelve las temperaturas mínimas y máximas de cada mes del año solicitado de la estación elegida\n",
        "  \n",
        "  archivo = open(anho + '.' + estacion + '.txt', 'r')                           # abre el archivo\n",
        "  t_dias = []\n",
        "\n",
        "  for linea in archivo:                                                         # recorre las lineas del archivo y las guarda\n",
        "    linea_dic = json.loads(linea)\n",
        "    t_dias.append(linea_dic)\n",
        "\n",
        "  for i in range(len(t_dias)):                                                  # recorre la lista que tiene los dic\n",
        "    for fecha in t_dias[i].keys():                                              # recorre día por día\n",
        "      horas = t_dias[i][fecha]                                                  # dic que contiene las horas \n",
        "      mes = el_mes(fecha)                                                       # le asigna el mes que es\n",
        "      for hora in horas.keys():                                                 # recorre c/hora\n",
        "        temperatura = horas[hora]['temp']                                       # toma la temp de c/hora\n",
        "        meses[mes].append(temperatura)                                          # guarda cada temp por hora del mes\n",
        "\n",
        "  for h in meses.keys():                                                        # cambia la unidad de grado (x°) a un entero\n",
        "    for j in range(len(meses[h])):\n",
        "      temp_a = meses[h][j]\n",
        "      temp_b = temp_a.split('°')\n",
        "      temp_b.pop()\n",
        "      if temp_b[0] != 'N/D':\n",
        "        temp_no_unid = int(temp_b[0])\n",
        "        meses_no_unid[h].append(temp_no_unid)\n",
        "                                                        \n",
        "  for i in range(1, 12 + 1):                                                    # averigua máximos y mínimos\n",
        "    if len(meses_no_unid[i]) != 0: \n",
        "      maximo = max(meses_no_unid[i])\n",
        "      minimo = min(meses_no_unid[i])\n",
        "      print('La temperatura máxima del mes ' + str(i) + ' fue ' + str(maximo) + '°')            # imprime los resultados\n",
        "      print('La temperatura minima del mes ' + str(i) + ' fue ' + str(minimo) + '°') \n",
        "      print('\\n')\n",
        "     \n",
        "  archivo.close()                                                               # cierra el archivo\n",
        "\n",
        "\n",
        "\n",
        "def temp_max(estacion, mes_ini, mes_fin):\n",
        "  # pre: recibe una estación meteorológica y un mes de inicio y de fin\n",
        "  # post: devuelve el promedio de temperaturas máximas diarias durante la primavera del año 2018 en la ciudad elegida.\n",
        "\n",
        "  archivo = open('2018' + '.' + estacion + '.txt', 'r')                         # abre el archivo\n",
        "  t_dias = []                      \n",
        "  \n",
        "  for linea in archivo:                                                         # recorre las lineas del archivo y las guarda\n",
        "    linea_dic = json.loads(linea)\n",
        "    t_dias.append(linea_dic)\n",
        "  \n",
        "  dias = {}                                                                     # para guardar las temp de c/ mes\n",
        "  for i in range(len(t_dias)):                                                  # recorre la lista que tiene los dic\n",
        "    for fecha in t_dias[i].keys():                                              # recorre c/ dia\n",
        "      horas = t_dias[i][fecha]                                                  # dic que contiene las horas\n",
        "      mes = el_mes(fecha)                                                       # le asigna el mes que es\n",
        "      dia = el_dia(fecha)                                                       # le asigna el día que es\n",
        "      dias[fecha] = []\n",
        "      primavera_cond = (mes == 3 and dia >= 20) or mes == 4 or mes == 5 or (mes == 6 and dia <= 21)     \n",
        "      if primavera_cond:                                                        # implementa la condición de que fecha sea primavera\n",
        "        for hora in horas.keys():                                               # recorre c/ hora\n",
        "          temp = horas[hora]['temp'] \n",
        "          dias[fecha].append(temp)                                              # guarda las temp en c/ mes\n",
        "      else:\n",
        "        del dias[fecha]                                                         # elimina los dias que no cumplen la condición\n",
        "        \n",
        "  dias_no_unid = {}                                                             # dic vacio con clave = dia y valor = lista de temp del día\n",
        "  for fechas in dias.keys():\n",
        "    dias_no_unid[fechas] = []                                                   # lista para guardar temp    \n",
        "    for h in dias[fechas]:                                                      # recorre y saca unidades\n",
        "      temp_a = h\n",
        "      temp_b = temp_a.split('°')\n",
        "      temp_b.pop()\n",
        "      if temp_b[0] != 'N/D':\n",
        "         temp_no_unid = int(temp_b[0])\n",
        "         dias_no_unid[fechas].append(temp_no_unid)\n",
        "  \n",
        "  dias = 0 \n",
        "  max_total = 0 \n",
        "  for dia in dias_no_unid.keys():                                               # recorre c/dia y averigua el max\n",
        "      max_dia = max(dias_no_unid[dia])\n",
        "      max_total = max_total + max_dia \n",
        "      dias = dias + 1\n",
        "  \n",
        "  max_prom = max_total // dias                                                  # saca el prom\n",
        "  \n",
        "  print('La temperatura máxima promedio diaria de la primavera fue ' + str(max_prom) + '°')     # imprime el resultado\n",
        "\n",
        "  archivo.close()                                                               # cierra el archivo\n",
        "\n",
        "\n",
        "\n",
        "def dir_viento(estacion, mes_ini, mes_fin):\n",
        "  # pre: recibe una estación meteorológica y un mes de inicio y de fin\n",
        "  # post: devuelve la dirección del viento predominante durante la primavera del año 2018 en la ciudad elegida.\n",
        "\n",
        "  archivo = open('2018' + '.' + estacion + '.txt', 'r')                         # abre el archivo\n",
        "  t_dias = []     \n",
        "\n",
        "  for linea in archivo:                                                         # recorre las lineas del archivo y las guarda\n",
        "    linea_dic = json.loads(linea)\n",
        "    t_dias.append(linea_dic)    \n",
        "    \n",
        "  dias_direc = {}                                                               # para guardar las direc de c/ mes\n",
        "  for i in range(len(t_dias)):                                                  # recorre la lista que tiene los dic\n",
        "    for fecha in t_dias[i].keys():                                              # recorre c/ dia\n",
        "      horas = t_dias[i][fecha]                                                  # dic de c/ hora\n",
        "      mes = el_mes(fecha)                                                       # asigna el mes que es\n",
        "      dia = el_dia(fecha)                                                       # asigna el día que es\n",
        "      dias_direc[fecha] = []  \n",
        "      condicion = (mes == 3 and dia >= 20) or mes == 4 or mes == 5 or (mes == 6 and dia <= 21)       \n",
        "      if condicion:                                                             # implementa la condición de que fecha sea primavera\n",
        "        for hora in horas.keys():                                               # recorre c/ hora\n",
        "         direccion = horas[hora]['dir'] \n",
        "         dias_direc[fecha].append(direccion)                                    # guarda las direc de c/mes\n",
        "      else:\n",
        "        del dias_direc[fecha]                                                   # elimina los dias que no cumplen la condición\n",
        "                                                  \n",
        "  vientos_cant = []                                                             # para guardar las rep de vientos en el día\n",
        "  for dia in dias_direc.keys():\n",
        "    for _ in dias_direc[dia]:\n",
        "      vientos_cant = vientos_cant + dias_direc[dia]     \n",
        "\n",
        "  vientos = []                                                                  # para guardar las rep de c/ viento\n",
        "  rep = []          \n",
        "  for viento in vientos_cant:\n",
        "    if viento not in rep:\n",
        "      rep.append(viento)                                                        # guarda la direc\n",
        "      repeticion = vientos_cant.count(viento)                                   # cant de veces que se rep la direc\n",
        "      vientos.append(repeticion)   \n",
        "\n",
        "  rep_viento_pred = max(vientos) \n",
        "  viento_predominante = rep[vientos.index(rep_viento_pred)]                     # averigua el viento predominante\n",
        "  print('La dirección del viento predominante durante la primavera del año 2018 en la ciudad elegida fue ' + viento_predominante)    # resultado\n",
        "\n",
        "  archivo.close()                                                               # cierra el archivo"
      ],
      "execution_count": null,
      "outputs": []
    },
    {
      "cell_type": "markdown",
      "metadata": {
        "id": "11ZdPCjBPpjK"
      },
      "source": [
        "Finalemente, deberán ejecutar las funciones y mostrar los resultados obtenidos."
      ]
    },
    {
      "cell_type": "code",
      "metadata": {
        "id": "8kmaUbVaNBYk",
        "colab": {
          "base_uri": "https://localhost:8080/"
        },
        "outputId": "d783ecb4-2eba-4b9c-b274-c7b44e5e71ba"
      },
      "source": [
        "# Resultados\n",
        "temp_min_max('mmun', '2018')\n",
        "temp_max('mmun', 3, 5)\n",
        "dir_viento('mmun', 3, 5)"
      ],
      "execution_count": null,
      "outputs": [
        {
          "output_type": "stream",
          "text": [
            "La temperatura máxima del mes 1 fue 28°\n",
            "La temperatura minima del mes 1 fue 12°\n",
            "\n",
            "\n",
            "La temperatura máxima del mes 2 fue 30°\n",
            "La temperatura minima del mes 2 fue 14°\n",
            "\n",
            "\n",
            "La temperatura máxima del mes 3 fue 30°\n",
            "La temperatura minima del mes 3 fue 15°\n",
            "\n",
            "\n",
            "La temperatura máxima del mes 4 fue 31°\n",
            "La temperatura minima del mes 4 fue 16°\n",
            "\n",
            "\n",
            "La temperatura máxima del mes 5 fue 31°\n",
            "La temperatura minima del mes 5 fue 19°\n",
            "\n",
            "\n",
            "La temperatura máxima del mes 6 fue 31°\n",
            "La temperatura minima del mes 6 fue 23°\n",
            "\n",
            "\n",
            "La temperatura máxima del mes 7 fue 33°\n",
            "La temperatura minima del mes 7 fue 23°\n",
            "\n",
            "\n",
            "La temperatura máxima del mes 8 fue 33°\n",
            "La temperatura minima del mes 8 fue 23°\n",
            "\n",
            "\n",
            "La temperatura máxima del mes 9 fue 32°\n",
            "La temperatura minima del mes 9 fue 23°\n",
            "\n",
            "\n",
            "La temperatura máxima del mes 10 fue 31°\n",
            "La temperatura minima del mes 10 fue 20°\n",
            "\n",
            "\n",
            "La temperatura máxima del mes 11 fue 30°\n",
            "La temperatura minima del mes 11 fue 18°\n",
            "\n",
            "\n",
            "La temperatura máxima del mes 12 fue 30°\n",
            "La temperatura minima del mes 12 fue 13°\n",
            "\n",
            "\n",
            "La temperatura máxima promedio diaria de la primavera fue 29°\n",
            "La dirección del viento predominante durante la primavera del año 2018 en la ciudad elegida fue Sureste\n"
          ],
          "name": "stdout"
        }
      ]
    }
  ]
}